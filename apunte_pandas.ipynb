{
  "nbformat": 4,
  "nbformat_minor": 0,
  "metadata": {
    "colab": {
      "name": "apunte_pandas.ipynb",
      "provenance": [],
      "collapsed_sections": [
        "XcLpumuDIbE0",
        "hi7nLukCIa3N",
        "RbYwomLmpiS7",
        "PPS0WGL2uwIU"
      ],
      "authorship_tag": "ABX9TyM7omtu6j0Bw4R41V+yuK4T",
      "include_colab_link": true
    },
    "kernelspec": {
      "name": "python3",
      "display_name": "Python 3"
    },
    "language_info": {
      "name": "python"
    }
  },
  "cells": [
    {
      "cell_type": "markdown",
      "metadata": {
        "id": "view-in-github",
        "colab_type": "text"
      },
      "source": [
        "<a href=\"https://colab.research.google.com/github/Nacho2904/orga_de_datos/blob/main/apunte_pandas.ipynb\" target=\"_parent\"><img src=\"https://colab.research.google.com/assets/colab-badge.svg\" alt=\"Open In Colab\"/></a>"
      ]
    },
    {
      "cell_type": "code",
      "source": [
        "import pandas as pd\n",
        "url = \"https://raw.githubusercontent.com/lrargerich/7506/master/Notebooks/Encuestas/encuesta.csv\""
      ],
      "metadata": {
        "id": "maWM_-BqKQ0f"
      },
      "execution_count": null,
      "outputs": []
    },
    {
      "cell_type": "markdown",
      "source": [
        "# Apunte de Pandas\n"
      ],
      "metadata": {
        "id": "0ueU1k4eIbMt"
      }
    },
    {
      "cell_type": "markdown",
      "source": [
        "## Estructuras de datos, métodos esenciales"
      ],
      "metadata": {
        "id": "mPTQDFhvIbKS"
      }
    },
    {
      "cell_type": "markdown",
      "source": [
        "### DataFrames"
      ],
      "metadata": {
        "id": "XcLpumuDIbE0"
      }
    },
    {
      "cell_type": "markdown",
      "source": [
        "Los dataframes son estructuras de datos utilizadas para representar datasets de corto o mediano volumen en formato tabular, pudiendo por ejemplo ser importados de un csv o de una base de datos SQL."
      ],
      "metadata": {
        "id": "8UqsHMGaIbCI"
      }
    },
    {
      "cell_type": "markdown",
      "source": [
        "Cada fila tiene un index, y las columnas representan los distintos **features** de nuestro dataset."
      ],
      "metadata": {
        "id": "h2um9pzxIa80"
      }
    },
    {
      "cell_type": "markdown",
      "source": [
        "Procedemos a importar datos de las encuestas del departamento de computación:"
      ],
      "metadata": {
        "id": "29tKac0KLjrd"
      }
    },
    {
      "cell_type": "code",
      "source": [
        "df = pd.read_csv(url)\n",
        "df.info()"
      ],
      "metadata": {
        "colab": {
          "base_uri": "https://localhost:8080/"
        },
        "id": "Uo0X8fUALu0F",
        "outputId": "8996e80f-251a-41a0-ba28-0b2cb9b85436"
      },
      "execution_count": null,
      "outputs": [
        {
          "output_type": "stream",
          "name": "stdout",
          "text": [
            "<class 'pandas.core.frame.DataFrame'>\n",
            "RangeIndex: 666 entries, 0 to 665\n",
            "Data columns (total 12 columns):\n",
            " #   Column                                        Non-Null Count  Dtype \n",
            "---  ------                                        --------------  ----- \n",
            " 0   Marca temporal                                666 non-null    object\n",
            " 1   Curso                                         666 non-null    object\n",
            " 2   Opinión General Sobre el Curso                666 non-null    object\n",
            " 3   ¿Aprobó la Cursada?                           666 non-null    object\n",
            " 4   ¿Cómo te Resultaron los Temas de la Materia?  666 non-null    object\n",
            " 5   ¿Los Temas de la Materia Están Actualizados?  666 non-null    object\n",
            " 6   Nivel de las Clases Teóricas del Curso        666 non-null    object\n",
            " 7   Nivel de las Clases Prácticas del Curso       666 non-null    object\n",
            " 8   Dificultad del Curso                          666 non-null    object\n",
            " 9   Dificultad del TP                             666 non-null    object\n",
            " 10  Comentarios Sobre el Curso                    347 non-null    object\n",
            " 11  ¿El email puede ser mostrado al docente?      336 non-null    object\n",
            "dtypes: object(12)\n",
            "memory usage: 62.6+ KB\n"
          ]
        }
      ]
    },
    {
      "cell_type": "markdown",
      "source": [
        "Vemos que tirándole el método *info()* al dataframe nos da información básica sobre cada feature (conteo de no NULL, tipo de dato que contiene, nombre del feature, índice de la columna), además de describirnos la estructura del dataframe."
      ],
      "metadata": {
        "id": "I3PWOXrCOdLp"
      }
    },
    {
      "cell_type": "markdown",
      "source": [
        "Utilizando el método *head()*, obtenemos las primeras filas del dataframe, para poder echar un vistazo a su estructura de forma directa"
      ],
      "metadata": {
        "id": "YqygjEeJPCXv"
      }
    },
    {
      "cell_type": "code",
      "source": [
        "df.head()"
      ],
      "metadata": {
        "colab": {
          "base_uri": "https://localhost:8080/",
          "height": 511
        },
        "id": "nkFkQRJhPwTn",
        "outputId": "5ef82e0b-a2ff-4f49-9d8d-e726866e6b0d"
      },
      "execution_count": null,
      "outputs": [
        {
          "output_type": "execute_result",
          "data": {
            "text/plain": [
              "       Marca temporal                                   Curso  \\\n",
              "0  1/19/2020 10:09:49  75.01-95.01-Computación - 1 - Strobino   \n",
              "1  2/14/2020 11:02:35    75.01-95.01-Computación - 11 - Calvo   \n",
              "2  2/14/2020 11:02:52    75.01-95.01-Computación - 11 - Calvo   \n",
              "3  2/14/2020 11:07:41    75.01-95.01-Computación - 11 - Calvo   \n",
              "4  2/14/2020 11:08:37    75.01-95.01-Computación - 11 - Calvo   \n",
              "\n",
              "  Opinión General Sobre el Curso ¿Aprobó la Cursada?  \\\n",
              "0                      Excelente                  Sí   \n",
              "1                      Excelente                  Sí   \n",
              "2                      Muy Bueno                  Sí   \n",
              "3                      Muy Bueno                  Sí   \n",
              "4                      Muy Bueno                  Sí   \n",
              "\n",
              "  ¿Cómo te Resultaron los Temas de la Materia?  \\\n",
              "0                                 Interesantes   \n",
              "1                                 Interesantes   \n",
              "2                             Muy Interesantes   \n",
              "3                                 Interesantes   \n",
              "4                                 Interesantes   \n",
              "\n",
              "  ¿Los Temas de la Materia Están Actualizados?  \\\n",
              "0                                           Sí   \n",
              "1                                           Sí   \n",
              "2                                           Sí   \n",
              "3                                           Sí   \n",
              "4                                           Sí   \n",
              "\n",
              "  Nivel de las Clases Teóricas del Curso  \\\n",
              "0                             Excelentes   \n",
              "1                             Excelentes   \n",
              "2                             Muy Buenas   \n",
              "3                             Muy Buenas   \n",
              "4                                 Buenas   \n",
              "\n",
              "  Nivel de las Clases Prácticas del Curso Dificultad del Curso  \\\n",
              "0                                  Buenas               Normal   \n",
              "1                              Excelentes               Normal   \n",
              "2                              Muy Buenas               Normal   \n",
              "3                              Excelentes              Dificil   \n",
              "4                              Muy Buenas               Normal   \n",
              "\n",
              "  Dificultad del TP                         Comentarios Sobre el Curso  \\\n",
              "0            Normal  La primera parte del curso fue más bueno que e...   \n",
              "1            Normal                                                NaN   \n",
              "2            Normal                                                NaN   \n",
              "3            Normal                                                NaN   \n",
              "4            Normal                                                NaN   \n",
              "\n",
              "  ¿El email puede ser mostrado al docente?  \n",
              "0                                       Si  \n",
              "1                                       Si  \n",
              "2                                       Si  \n",
              "3                                       Si  \n",
              "4                                       No  "
            ],
            "text/html": [
              "\n",
              "  <div id=\"df-e95666e2-4841-49ec-8719-fa8f2b714b60\">\n",
              "    <div class=\"colab-df-container\">\n",
              "      <div>\n",
              "<style scoped>\n",
              "    .dataframe tbody tr th:only-of-type {\n",
              "        vertical-align: middle;\n",
              "    }\n",
              "\n",
              "    .dataframe tbody tr th {\n",
              "        vertical-align: top;\n",
              "    }\n",
              "\n",
              "    .dataframe thead th {\n",
              "        text-align: right;\n",
              "    }\n",
              "</style>\n",
              "<table border=\"1\" class=\"dataframe\">\n",
              "  <thead>\n",
              "    <tr style=\"text-align: right;\">\n",
              "      <th></th>\n",
              "      <th>Marca temporal</th>\n",
              "      <th>Curso</th>\n",
              "      <th>Opinión General Sobre el Curso</th>\n",
              "      <th>¿Aprobó la Cursada?</th>\n",
              "      <th>¿Cómo te Resultaron los Temas de la Materia?</th>\n",
              "      <th>¿Los Temas de la Materia Están Actualizados?</th>\n",
              "      <th>Nivel de las Clases Teóricas del Curso</th>\n",
              "      <th>Nivel de las Clases Prácticas del Curso</th>\n",
              "      <th>Dificultad del Curso</th>\n",
              "      <th>Dificultad del TP</th>\n",
              "      <th>Comentarios Sobre el Curso</th>\n",
              "      <th>¿El email puede ser mostrado al docente?</th>\n",
              "    </tr>\n",
              "  </thead>\n",
              "  <tbody>\n",
              "    <tr>\n",
              "      <th>0</th>\n",
              "      <td>1/19/2020 10:09:49</td>\n",
              "      <td>75.01-95.01-Computación - 1 - Strobino</td>\n",
              "      <td>Excelente</td>\n",
              "      <td>Sí</td>\n",
              "      <td>Interesantes</td>\n",
              "      <td>Sí</td>\n",
              "      <td>Excelentes</td>\n",
              "      <td>Buenas</td>\n",
              "      <td>Normal</td>\n",
              "      <td>Normal</td>\n",
              "      <td>La primera parte del curso fue más bueno que e...</td>\n",
              "      <td>Si</td>\n",
              "    </tr>\n",
              "    <tr>\n",
              "      <th>1</th>\n",
              "      <td>2/14/2020 11:02:35</td>\n",
              "      <td>75.01-95.01-Computación - 11 - Calvo</td>\n",
              "      <td>Excelente</td>\n",
              "      <td>Sí</td>\n",
              "      <td>Interesantes</td>\n",
              "      <td>Sí</td>\n",
              "      <td>Excelentes</td>\n",
              "      <td>Excelentes</td>\n",
              "      <td>Normal</td>\n",
              "      <td>Normal</td>\n",
              "      <td>NaN</td>\n",
              "      <td>Si</td>\n",
              "    </tr>\n",
              "    <tr>\n",
              "      <th>2</th>\n",
              "      <td>2/14/2020 11:02:52</td>\n",
              "      <td>75.01-95.01-Computación - 11 - Calvo</td>\n",
              "      <td>Muy Bueno</td>\n",
              "      <td>Sí</td>\n",
              "      <td>Muy Interesantes</td>\n",
              "      <td>Sí</td>\n",
              "      <td>Muy Buenas</td>\n",
              "      <td>Muy Buenas</td>\n",
              "      <td>Normal</td>\n",
              "      <td>Normal</td>\n",
              "      <td>NaN</td>\n",
              "      <td>Si</td>\n",
              "    </tr>\n",
              "    <tr>\n",
              "      <th>3</th>\n",
              "      <td>2/14/2020 11:07:41</td>\n",
              "      <td>75.01-95.01-Computación - 11 - Calvo</td>\n",
              "      <td>Muy Bueno</td>\n",
              "      <td>Sí</td>\n",
              "      <td>Interesantes</td>\n",
              "      <td>Sí</td>\n",
              "      <td>Muy Buenas</td>\n",
              "      <td>Excelentes</td>\n",
              "      <td>Dificil</td>\n",
              "      <td>Normal</td>\n",
              "      <td>NaN</td>\n",
              "      <td>Si</td>\n",
              "    </tr>\n",
              "    <tr>\n",
              "      <th>4</th>\n",
              "      <td>2/14/2020 11:08:37</td>\n",
              "      <td>75.01-95.01-Computación - 11 - Calvo</td>\n",
              "      <td>Muy Bueno</td>\n",
              "      <td>Sí</td>\n",
              "      <td>Interesantes</td>\n",
              "      <td>Sí</td>\n",
              "      <td>Buenas</td>\n",
              "      <td>Muy Buenas</td>\n",
              "      <td>Normal</td>\n",
              "      <td>Normal</td>\n",
              "      <td>NaN</td>\n",
              "      <td>No</td>\n",
              "    </tr>\n",
              "  </tbody>\n",
              "</table>\n",
              "</div>\n",
              "      <button class=\"colab-df-convert\" onclick=\"convertToInteractive('df-e95666e2-4841-49ec-8719-fa8f2b714b60')\"\n",
              "              title=\"Convert this dataframe to an interactive table.\"\n",
              "              style=\"display:none;\">\n",
              "        \n",
              "  <svg xmlns=\"http://www.w3.org/2000/svg\" height=\"24px\"viewBox=\"0 0 24 24\"\n",
              "       width=\"24px\">\n",
              "    <path d=\"M0 0h24v24H0V0z\" fill=\"none\"/>\n",
              "    <path d=\"M18.56 5.44l.94 2.06.94-2.06 2.06-.94-2.06-.94-.94-2.06-.94 2.06-2.06.94zm-11 1L8.5 8.5l.94-2.06 2.06-.94-2.06-.94L8.5 2.5l-.94 2.06-2.06.94zm10 10l.94 2.06.94-2.06 2.06-.94-2.06-.94-.94-2.06-.94 2.06-2.06.94z\"/><path d=\"M17.41 7.96l-1.37-1.37c-.4-.4-.92-.59-1.43-.59-.52 0-1.04.2-1.43.59L10.3 9.45l-7.72 7.72c-.78.78-.78 2.05 0 2.83L4 21.41c.39.39.9.59 1.41.59.51 0 1.02-.2 1.41-.59l7.78-7.78 2.81-2.81c.8-.78.8-2.07 0-2.86zM5.41 20L4 18.59l7.72-7.72 1.47 1.35L5.41 20z\"/>\n",
              "  </svg>\n",
              "      </button>\n",
              "      \n",
              "  <style>\n",
              "    .colab-df-container {\n",
              "      display:flex;\n",
              "      flex-wrap:wrap;\n",
              "      gap: 12px;\n",
              "    }\n",
              "\n",
              "    .colab-df-convert {\n",
              "      background-color: #E8F0FE;\n",
              "      border: none;\n",
              "      border-radius: 50%;\n",
              "      cursor: pointer;\n",
              "      display: none;\n",
              "      fill: #1967D2;\n",
              "      height: 32px;\n",
              "      padding: 0 0 0 0;\n",
              "      width: 32px;\n",
              "    }\n",
              "\n",
              "    .colab-df-convert:hover {\n",
              "      background-color: #E2EBFA;\n",
              "      box-shadow: 0px 1px 2px rgba(60, 64, 67, 0.3), 0px 1px 3px 1px rgba(60, 64, 67, 0.15);\n",
              "      fill: #174EA6;\n",
              "    }\n",
              "\n",
              "    [theme=dark] .colab-df-convert {\n",
              "      background-color: #3B4455;\n",
              "      fill: #D2E3FC;\n",
              "    }\n",
              "\n",
              "    [theme=dark] .colab-df-convert:hover {\n",
              "      background-color: #434B5C;\n",
              "      box-shadow: 0px 1px 3px 1px rgba(0, 0, 0, 0.15);\n",
              "      filter: drop-shadow(0px 1px 2px rgba(0, 0, 0, 0.3));\n",
              "      fill: #FFFFFF;\n",
              "    }\n",
              "  </style>\n",
              "\n",
              "      <script>\n",
              "        const buttonEl =\n",
              "          document.querySelector('#df-e95666e2-4841-49ec-8719-fa8f2b714b60 button.colab-df-convert');\n",
              "        buttonEl.style.display =\n",
              "          google.colab.kernel.accessAllowed ? 'block' : 'none';\n",
              "\n",
              "        async function convertToInteractive(key) {\n",
              "          const element = document.querySelector('#df-e95666e2-4841-49ec-8719-fa8f2b714b60');\n",
              "          const dataTable =\n",
              "            await google.colab.kernel.invokeFunction('convertToInteractive',\n",
              "                                                     [key], {});\n",
              "          if (!dataTable) return;\n",
              "\n",
              "          const docLinkHtml = 'Like what you see? Visit the ' +\n",
              "            '<a target=\"_blank\" href=https://colab.research.google.com/notebooks/data_table.ipynb>data table notebook</a>'\n",
              "            + ' to learn more about interactive tables.';\n",
              "          element.innerHTML = '';\n",
              "          dataTable['output_type'] = 'display_data';\n",
              "          await google.colab.output.renderOutput(dataTable, element);\n",
              "          const docLink = document.createElement('div');\n",
              "          docLink.innerHTML = docLinkHtml;\n",
              "          element.appendChild(docLink);\n",
              "        }\n",
              "      </script>\n",
              "    </div>\n",
              "  </div>\n",
              "  "
            ]
          },
          "metadata": {},
          "execution_count": 3
        }
      ]
    },
    {
      "cell_type": "markdown",
      "source": [
        "Para acceder a una columna en particular, utilizamos la sintaxis *df[\"nombre_de_columna\"]*. Por ejemplo, podemos acceder al nombre del curso:"
      ],
      "metadata": {
        "id": "gw-WULU8PyyY"
      }
    },
    {
      "cell_type": "code",
      "source": [
        "cursos = df[\"Curso\"]\n",
        "cursos"
      ],
      "metadata": {
        "colab": {
          "base_uri": "https://localhost:8080/"
        },
        "id": "4u0AZvuAPzRu",
        "outputId": "313b3d0f-05ec-4895-d051-07b10ccc05f2"
      },
      "execution_count": null,
      "outputs": [
        {
          "output_type": "execute_result",
          "data": {
            "text/plain": [
              "0                 75.01-95.01-Computación - 1 - Strobino\n",
              "1                   75.01-95.01-Computación - 11 - Calvo\n",
              "2                   75.01-95.01-Computación - 11 - Calvo\n",
              "3                   75.01-95.01-Computación - 11 - Calvo\n",
              "4                   75.01-95.01-Computación - 11 - Calvo\n",
              "                             ...                        \n",
              "661    95.13-Métodos Matemáticos y Numéricos - Cavaliere\n",
              "662    95.13-Métodos Matemáticos y Numéricos - Cavaliere\n",
              "663    95.59-Diseño, Operación y Gestión de Servicios...\n",
              "664    95.59-Diseño, Operación y Gestión de Servicios...\n",
              "665    95.59-Diseño, Operación y Gestión de Servicios...\n",
              "Name: Curso, Length: 666, dtype: object"
            ]
          },
          "metadata": {},
          "execution_count": 4
        }
      ]
    },
    {
      "cell_type": "markdown",
      "source": [
        "Notamos un detalle: tanto cuando pedimos información, como cuando pedimos la columna en sí, el tipo del curso, a pesar de que evidentemente es una string, es interpretado por Pandas como *object*."
      ],
      "metadata": {
        "id": "-eg76HLnQSFn"
      }
    },
    {
      "cell_type": "code",
      "source": [
        "type(cursos)"
      ],
      "metadata": {
        "colab": {
          "base_uri": "https://localhost:8080/"
        },
        "id": "PvXuPubRRDAn",
        "outputId": "105efe28-ee1c-4c26-b858-e33646160323"
      },
      "execution_count": null,
      "outputs": [
        {
          "output_type": "execute_result",
          "data": {
            "text/plain": [
              "pandas.core.series.Series"
            ]
          },
          "metadata": {},
          "execution_count": 5
        }
      ]
    },
    {
      "cell_type": "markdown",
      "source": [
        "Notamos que el tipo de la variable *cursos* recién creada ya no es un dataframe, si no que es una **serie**. Más abajo las definimos y explicamos"
      ],
      "metadata": {
        "id": "0ku0kZs7RF8o"
      }
    },
    {
      "cell_type": "markdown",
      "source": [
        "Para acceder a un índice específico usamos notación matricial:"
      ],
      "metadata": {
        "id": "v1g9hkFmQgns"
      }
    },
    {
      "cell_type": "code",
      "source": [
        "df[\"Curso\"][57]"
      ],
      "metadata": {
        "id": "sKZpWHMsQheC",
        "colab": {
          "base_uri": "https://localhost:8080/",
          "height": 35
        },
        "outputId": "d193ac35-0f3c-4d7b-db21-a4a32c2150f3"
      },
      "execution_count": null,
      "outputs": [
        {
          "output_type": "execute_result",
          "data": {
            "text/plain": [
              "'75.01-95.01-Computación - 3 y 10 - Perez Berro'"
            ],
            "application/vnd.google.colaboratory.intrinsic+json": {
              "type": "string"
            }
          },
          "metadata": {},
          "execution_count": 6
        }
      ]
    },
    {
      "cell_type": "markdown",
      "source": [
        "Para poder aplicar una transformación a cada elemento de la serie, o cada columna del dataframe, podemos aplicar el método *map*."
      ],
      "metadata": {
        "id": "L4mThDTuQ97k"
      }
    },
    {
      "cell_type": "code",
      "source": [
        "cursos.map(lambda string: string.split())[0:5]"
      ],
      "metadata": {
        "colab": {
          "base_uri": "https://localhost:8080/"
        },
        "id": "5srszAbzQ4HY",
        "outputId": "a7df794b-4347-46d7-cfb0-8aa1a3356ca8"
      },
      "execution_count": null,
      "outputs": [
        {
          "output_type": "execute_result",
          "data": {
            "text/plain": [
              "0    [75.01-95.01-Computación, -, 1, -, Strobino]\n",
              "1      [75.01-95.01-Computación, -, 11, -, Calvo]\n",
              "2      [75.01-95.01-Computación, -, 11, -, Calvo]\n",
              "3      [75.01-95.01-Computación, -, 11, -, Calvo]\n",
              "4      [75.01-95.01-Computación, -, 11, -, Calvo]\n",
              "Name: Curso, dtype: object"
            ]
          },
          "metadata": {},
          "execution_count": 7
        }
      ]
    },
    {
      "cell_type": "markdown",
      "source": [
        "Mediante el método *unique* podemos obtener los valores únicos que tiene una serie."
      ],
      "metadata": {
        "id": "GmCOegSnQ4dz"
      }
    },
    {
      "cell_type": "code",
      "source": [
        "len(cursos.unique())"
      ],
      "metadata": {
        "colab": {
          "base_uri": "https://localhost:8080/"
        },
        "id": "rt85tHpSTDPU",
        "outputId": "94e1710f-eed4-43ba-e948-344a396ee42d"
      },
      "execution_count": null,
      "outputs": [
        {
          "output_type": "execute_result",
          "data": {
            "text/plain": [
              "56"
            ]
          },
          "metadata": {},
          "execution_count": 8
        }
      ]
    },
    {
      "cell_type": "markdown",
      "source": [
        "Podemos observar que hay un total de 56 cursos diferentes dictados por el Departamento de Computación."
      ],
      "metadata": {
        "id": "f8kF2vHeTD3J"
      }
    },
    {
      "cell_type": "markdown",
      "source": [
        "Podemos filtrar las columnas que queremos de un dataframe con la sintaxis *df[[columna_1, columna_2, ..., columna_n]]*"
      ],
      "metadata": {
        "id": "1YulC7wcQ4uR"
      }
    },
    {
      "cell_type": "code",
      "source": [
        "df_filtrado = df[[\"Curso\", \"Opinión General Sobre el Curso\"]]\n",
        "df_filtrado.head()"
      ],
      "metadata": {
        "colab": {
          "base_uri": "https://localhost:8080/",
          "height": 206
        },
        "id": "y-DLt2z4eXPE",
        "outputId": "296fa942-5f8c-450a-a097-e6f7a9f6cef2"
      },
      "execution_count": null,
      "outputs": [
        {
          "output_type": "execute_result",
          "data": {
            "text/plain": [
              "                                    Curso Opinión General Sobre el Curso\n",
              "0  75.01-95.01-Computación - 1 - Strobino                      Excelente\n",
              "1    75.01-95.01-Computación - 11 - Calvo                      Excelente\n",
              "2    75.01-95.01-Computación - 11 - Calvo                      Muy Bueno\n",
              "3    75.01-95.01-Computación - 11 - Calvo                      Muy Bueno\n",
              "4    75.01-95.01-Computación - 11 - Calvo                      Muy Bueno"
            ],
            "text/html": [
              "\n",
              "  <div id=\"df-7de966ca-0a16-4868-9797-5052411fb138\">\n",
              "    <div class=\"colab-df-container\">\n",
              "      <div>\n",
              "<style scoped>\n",
              "    .dataframe tbody tr th:only-of-type {\n",
              "        vertical-align: middle;\n",
              "    }\n",
              "\n",
              "    .dataframe tbody tr th {\n",
              "        vertical-align: top;\n",
              "    }\n",
              "\n",
              "    .dataframe thead th {\n",
              "        text-align: right;\n",
              "    }\n",
              "</style>\n",
              "<table border=\"1\" class=\"dataframe\">\n",
              "  <thead>\n",
              "    <tr style=\"text-align: right;\">\n",
              "      <th></th>\n",
              "      <th>Curso</th>\n",
              "      <th>Opinión General Sobre el Curso</th>\n",
              "    </tr>\n",
              "  </thead>\n",
              "  <tbody>\n",
              "    <tr>\n",
              "      <th>0</th>\n",
              "      <td>75.01-95.01-Computación - 1 - Strobino</td>\n",
              "      <td>Excelente</td>\n",
              "    </tr>\n",
              "    <tr>\n",
              "      <th>1</th>\n",
              "      <td>75.01-95.01-Computación - 11 - Calvo</td>\n",
              "      <td>Excelente</td>\n",
              "    </tr>\n",
              "    <tr>\n",
              "      <th>2</th>\n",
              "      <td>75.01-95.01-Computación - 11 - Calvo</td>\n",
              "      <td>Muy Bueno</td>\n",
              "    </tr>\n",
              "    <tr>\n",
              "      <th>3</th>\n",
              "      <td>75.01-95.01-Computación - 11 - Calvo</td>\n",
              "      <td>Muy Bueno</td>\n",
              "    </tr>\n",
              "    <tr>\n",
              "      <th>4</th>\n",
              "      <td>75.01-95.01-Computación - 11 - Calvo</td>\n",
              "      <td>Muy Bueno</td>\n",
              "    </tr>\n",
              "  </tbody>\n",
              "</table>\n",
              "</div>\n",
              "      <button class=\"colab-df-convert\" onclick=\"convertToInteractive('df-7de966ca-0a16-4868-9797-5052411fb138')\"\n",
              "              title=\"Convert this dataframe to an interactive table.\"\n",
              "              style=\"display:none;\">\n",
              "        \n",
              "  <svg xmlns=\"http://www.w3.org/2000/svg\" height=\"24px\"viewBox=\"0 0 24 24\"\n",
              "       width=\"24px\">\n",
              "    <path d=\"M0 0h24v24H0V0z\" fill=\"none\"/>\n",
              "    <path d=\"M18.56 5.44l.94 2.06.94-2.06 2.06-.94-2.06-.94-.94-2.06-.94 2.06-2.06.94zm-11 1L8.5 8.5l.94-2.06 2.06-.94-2.06-.94L8.5 2.5l-.94 2.06-2.06.94zm10 10l.94 2.06.94-2.06 2.06-.94-2.06-.94-.94-2.06-.94 2.06-2.06.94z\"/><path d=\"M17.41 7.96l-1.37-1.37c-.4-.4-.92-.59-1.43-.59-.52 0-1.04.2-1.43.59L10.3 9.45l-7.72 7.72c-.78.78-.78 2.05 0 2.83L4 21.41c.39.39.9.59 1.41.59.51 0 1.02-.2 1.41-.59l7.78-7.78 2.81-2.81c.8-.78.8-2.07 0-2.86zM5.41 20L4 18.59l7.72-7.72 1.47 1.35L5.41 20z\"/>\n",
              "  </svg>\n",
              "      </button>\n",
              "      \n",
              "  <style>\n",
              "    .colab-df-container {\n",
              "      display:flex;\n",
              "      flex-wrap:wrap;\n",
              "      gap: 12px;\n",
              "    }\n",
              "\n",
              "    .colab-df-convert {\n",
              "      background-color: #E8F0FE;\n",
              "      border: none;\n",
              "      border-radius: 50%;\n",
              "      cursor: pointer;\n",
              "      display: none;\n",
              "      fill: #1967D2;\n",
              "      height: 32px;\n",
              "      padding: 0 0 0 0;\n",
              "      width: 32px;\n",
              "    }\n",
              "\n",
              "    .colab-df-convert:hover {\n",
              "      background-color: #E2EBFA;\n",
              "      box-shadow: 0px 1px 2px rgba(60, 64, 67, 0.3), 0px 1px 3px 1px rgba(60, 64, 67, 0.15);\n",
              "      fill: #174EA6;\n",
              "    }\n",
              "\n",
              "    [theme=dark] .colab-df-convert {\n",
              "      background-color: #3B4455;\n",
              "      fill: #D2E3FC;\n",
              "    }\n",
              "\n",
              "    [theme=dark] .colab-df-convert:hover {\n",
              "      background-color: #434B5C;\n",
              "      box-shadow: 0px 1px 3px 1px rgba(0, 0, 0, 0.15);\n",
              "      filter: drop-shadow(0px 1px 2px rgba(0, 0, 0, 0.3));\n",
              "      fill: #FFFFFF;\n",
              "    }\n",
              "  </style>\n",
              "\n",
              "      <script>\n",
              "        const buttonEl =\n",
              "          document.querySelector('#df-7de966ca-0a16-4868-9797-5052411fb138 button.colab-df-convert');\n",
              "        buttonEl.style.display =\n",
              "          google.colab.kernel.accessAllowed ? 'block' : 'none';\n",
              "\n",
              "        async function convertToInteractive(key) {\n",
              "          const element = document.querySelector('#df-7de966ca-0a16-4868-9797-5052411fb138');\n",
              "          const dataTable =\n",
              "            await google.colab.kernel.invokeFunction('convertToInteractive',\n",
              "                                                     [key], {});\n",
              "          if (!dataTable) return;\n",
              "\n",
              "          const docLinkHtml = 'Like what you see? Visit the ' +\n",
              "            '<a target=\"_blank\" href=https://colab.research.google.com/notebooks/data_table.ipynb>data table notebook</a>'\n",
              "            + ' to learn more about interactive tables.';\n",
              "          element.innerHTML = '';\n",
              "          dataTable['output_type'] = 'display_data';\n",
              "          await google.colab.output.renderOutput(dataTable, element);\n",
              "          const docLink = document.createElement('div');\n",
              "          docLink.innerHTML = docLinkHtml;\n",
              "          element.appendChild(docLink);\n",
              "        }\n",
              "      </script>\n",
              "    </div>\n",
              "  </div>\n",
              "  "
            ]
          },
          "metadata": {},
          "execution_count": 9
        }
      ]
    },
    {
      "cell_type": "code",
      "source": [
        "df_filtrado[\"Opinión General Sobre el Curso\"].unique()"
      ],
      "metadata": {
        "colab": {
          "base_uri": "https://localhost:8080/"
        },
        "id": "HyHcZiLBgyvM",
        "outputId": "9a422763-274f-433e-fdb1-abe57be3b4a8"
      },
      "execution_count": null,
      "outputs": [
        {
          "output_type": "execute_result",
          "data": {
            "text/plain": [
              "array(['Excelente', 'Muy Bueno', 'Bueno', 'Regular', 'Malo'], dtype=object)"
            ]
          },
          "metadata": {},
          "execution_count": 10
        }
      ]
    },
    {
      "cell_type": "markdown",
      "source": [
        "Añadir una columna funciona de forma muy intuitiva"
      ],
      "metadata": {
        "id": "zF7pvgMJeXbi"
      }
    },
    {
      "cell_type": "code",
      "source": [
        "def convertir_opinion_a_numerico(opinion: str) -> int:\n",
        "  valores_correspondientes = {\n",
        "      \"Excelente\":5,\n",
        "      \"Muy Bueno\":4,\n",
        "      \"Bueno\":3,\n",
        "      \"Regular\":2,\n",
        "      \"Malo\":1\n",
        "  }\n",
        "  return valores_correspondientes[opinion]\n",
        "\n",
        "df_filtrado[\"nota\"] = df_filtrado[\"Opinión General Sobre el Curso\"].map(convertir_opinion_a_numerico)\n",
        "df_filtrado.head()"
      ],
      "metadata": {
        "id": "6vhn-wUoeXiH",
        "colab": {
          "base_uri": "https://localhost:8080/",
          "height": 310
        },
        "outputId": "4e56b7ba-fcb6-4213-a86e-99d96fc20e52"
      },
      "execution_count": null,
      "outputs": [
        {
          "output_type": "stream",
          "name": "stderr",
          "text": [
            "/usr/local/lib/python3.7/dist-packages/ipykernel_launcher.py:11: SettingWithCopyWarning: \n",
            "A value is trying to be set on a copy of a slice from a DataFrame.\n",
            "Try using .loc[row_indexer,col_indexer] = value instead\n",
            "\n",
            "See the caveats in the documentation: https://pandas.pydata.org/pandas-docs/stable/user_guide/indexing.html#returning-a-view-versus-a-copy\n",
            "  # This is added back by InteractiveShellApp.init_path()\n"
          ]
        },
        {
          "output_type": "execute_result",
          "data": {
            "text/plain": [
              "                                    Curso Opinión General Sobre el Curso  nota\n",
              "0  75.01-95.01-Computación - 1 - Strobino                      Excelente     5\n",
              "1    75.01-95.01-Computación - 11 - Calvo                      Excelente     5\n",
              "2    75.01-95.01-Computación - 11 - Calvo                      Muy Bueno     4\n",
              "3    75.01-95.01-Computación - 11 - Calvo                      Muy Bueno     4\n",
              "4    75.01-95.01-Computación - 11 - Calvo                      Muy Bueno     4"
            ],
            "text/html": [
              "\n",
              "  <div id=\"df-33b8f57e-172e-4916-8f43-dfe52a3039bb\">\n",
              "    <div class=\"colab-df-container\">\n",
              "      <div>\n",
              "<style scoped>\n",
              "    .dataframe tbody tr th:only-of-type {\n",
              "        vertical-align: middle;\n",
              "    }\n",
              "\n",
              "    .dataframe tbody tr th {\n",
              "        vertical-align: top;\n",
              "    }\n",
              "\n",
              "    .dataframe thead th {\n",
              "        text-align: right;\n",
              "    }\n",
              "</style>\n",
              "<table border=\"1\" class=\"dataframe\">\n",
              "  <thead>\n",
              "    <tr style=\"text-align: right;\">\n",
              "      <th></th>\n",
              "      <th>Curso</th>\n",
              "      <th>Opinión General Sobre el Curso</th>\n",
              "      <th>nota</th>\n",
              "    </tr>\n",
              "  </thead>\n",
              "  <tbody>\n",
              "    <tr>\n",
              "      <th>0</th>\n",
              "      <td>75.01-95.01-Computación - 1 - Strobino</td>\n",
              "      <td>Excelente</td>\n",
              "      <td>5</td>\n",
              "    </tr>\n",
              "    <tr>\n",
              "      <th>1</th>\n",
              "      <td>75.01-95.01-Computación - 11 - Calvo</td>\n",
              "      <td>Excelente</td>\n",
              "      <td>5</td>\n",
              "    </tr>\n",
              "    <tr>\n",
              "      <th>2</th>\n",
              "      <td>75.01-95.01-Computación - 11 - Calvo</td>\n",
              "      <td>Muy Bueno</td>\n",
              "      <td>4</td>\n",
              "    </tr>\n",
              "    <tr>\n",
              "      <th>3</th>\n",
              "      <td>75.01-95.01-Computación - 11 - Calvo</td>\n",
              "      <td>Muy Bueno</td>\n",
              "      <td>4</td>\n",
              "    </tr>\n",
              "    <tr>\n",
              "      <th>4</th>\n",
              "      <td>75.01-95.01-Computación - 11 - Calvo</td>\n",
              "      <td>Muy Bueno</td>\n",
              "      <td>4</td>\n",
              "    </tr>\n",
              "  </tbody>\n",
              "</table>\n",
              "</div>\n",
              "      <button class=\"colab-df-convert\" onclick=\"convertToInteractive('df-33b8f57e-172e-4916-8f43-dfe52a3039bb')\"\n",
              "              title=\"Convert this dataframe to an interactive table.\"\n",
              "              style=\"display:none;\">\n",
              "        \n",
              "  <svg xmlns=\"http://www.w3.org/2000/svg\" height=\"24px\"viewBox=\"0 0 24 24\"\n",
              "       width=\"24px\">\n",
              "    <path d=\"M0 0h24v24H0V0z\" fill=\"none\"/>\n",
              "    <path d=\"M18.56 5.44l.94 2.06.94-2.06 2.06-.94-2.06-.94-.94-2.06-.94 2.06-2.06.94zm-11 1L8.5 8.5l.94-2.06 2.06-.94-2.06-.94L8.5 2.5l-.94 2.06-2.06.94zm10 10l.94 2.06.94-2.06 2.06-.94-2.06-.94-.94-2.06-.94 2.06-2.06.94z\"/><path d=\"M17.41 7.96l-1.37-1.37c-.4-.4-.92-.59-1.43-.59-.52 0-1.04.2-1.43.59L10.3 9.45l-7.72 7.72c-.78.78-.78 2.05 0 2.83L4 21.41c.39.39.9.59 1.41.59.51 0 1.02-.2 1.41-.59l7.78-7.78 2.81-2.81c.8-.78.8-2.07 0-2.86zM5.41 20L4 18.59l7.72-7.72 1.47 1.35L5.41 20z\"/>\n",
              "  </svg>\n",
              "      </button>\n",
              "      \n",
              "  <style>\n",
              "    .colab-df-container {\n",
              "      display:flex;\n",
              "      flex-wrap:wrap;\n",
              "      gap: 12px;\n",
              "    }\n",
              "\n",
              "    .colab-df-convert {\n",
              "      background-color: #E8F0FE;\n",
              "      border: none;\n",
              "      border-radius: 50%;\n",
              "      cursor: pointer;\n",
              "      display: none;\n",
              "      fill: #1967D2;\n",
              "      height: 32px;\n",
              "      padding: 0 0 0 0;\n",
              "      width: 32px;\n",
              "    }\n",
              "\n",
              "    .colab-df-convert:hover {\n",
              "      background-color: #E2EBFA;\n",
              "      box-shadow: 0px 1px 2px rgba(60, 64, 67, 0.3), 0px 1px 3px 1px rgba(60, 64, 67, 0.15);\n",
              "      fill: #174EA6;\n",
              "    }\n",
              "\n",
              "    [theme=dark] .colab-df-convert {\n",
              "      background-color: #3B4455;\n",
              "      fill: #D2E3FC;\n",
              "    }\n",
              "\n",
              "    [theme=dark] .colab-df-convert:hover {\n",
              "      background-color: #434B5C;\n",
              "      box-shadow: 0px 1px 3px 1px rgba(0, 0, 0, 0.15);\n",
              "      filter: drop-shadow(0px 1px 2px rgba(0, 0, 0, 0.3));\n",
              "      fill: #FFFFFF;\n",
              "    }\n",
              "  </style>\n",
              "\n",
              "      <script>\n",
              "        const buttonEl =\n",
              "          document.querySelector('#df-33b8f57e-172e-4916-8f43-dfe52a3039bb button.colab-df-convert');\n",
              "        buttonEl.style.display =\n",
              "          google.colab.kernel.accessAllowed ? 'block' : 'none';\n",
              "\n",
              "        async function convertToInteractive(key) {\n",
              "          const element = document.querySelector('#df-33b8f57e-172e-4916-8f43-dfe52a3039bb');\n",
              "          const dataTable =\n",
              "            await google.colab.kernel.invokeFunction('convertToInteractive',\n",
              "                                                     [key], {});\n",
              "          if (!dataTable) return;\n",
              "\n",
              "          const docLinkHtml = 'Like what you see? Visit the ' +\n",
              "            '<a target=\"_blank\" href=https://colab.research.google.com/notebooks/data_table.ipynb>data table notebook</a>'\n",
              "            + ' to learn more about interactive tables.';\n",
              "          element.innerHTML = '';\n",
              "          dataTable['output_type'] = 'display_data';\n",
              "          await google.colab.output.renderOutput(dataTable, element);\n",
              "          const docLink = document.createElement('div');\n",
              "          docLink.innerHTML = docLinkHtml;\n",
              "          element.appendChild(docLink);\n",
              "        }\n",
              "      </script>\n",
              "    </div>\n",
              "  </div>\n",
              "  "
            ]
          },
          "metadata": {},
          "execution_count": 11
        }
      ]
    },
    {
      "cell_type": "markdown",
      "source": [
        "Para poder resumir variables mediante momentos estadísticos podemos aplicar el método *describe*"
      ],
      "metadata": {
        "id": "nh-ZA2z3eXnU"
      }
    },
    {
      "cell_type": "code",
      "source": [
        "df_filtrado.describe()"
      ],
      "metadata": {
        "colab": {
          "base_uri": "https://localhost:8080/",
          "height": 300
        },
        "id": "vZrY8q_keXsV",
        "outputId": "f1db9da6-276f-4e05-8943-13050570e691"
      },
      "execution_count": null,
      "outputs": [
        {
          "output_type": "execute_result",
          "data": {
            "text/plain": [
              "             nota\n",
              "count  666.000000\n",
              "mean     3.789790\n",
              "std      1.193069\n",
              "min      1.000000\n",
              "25%      3.000000\n",
              "50%      4.000000\n",
              "75%      5.000000\n",
              "max      5.000000"
            ],
            "text/html": [
              "\n",
              "  <div id=\"df-e8bf791e-461b-41ea-a068-57f4c4f16479\">\n",
              "    <div class=\"colab-df-container\">\n",
              "      <div>\n",
              "<style scoped>\n",
              "    .dataframe tbody tr th:only-of-type {\n",
              "        vertical-align: middle;\n",
              "    }\n",
              "\n",
              "    .dataframe tbody tr th {\n",
              "        vertical-align: top;\n",
              "    }\n",
              "\n",
              "    .dataframe thead th {\n",
              "        text-align: right;\n",
              "    }\n",
              "</style>\n",
              "<table border=\"1\" class=\"dataframe\">\n",
              "  <thead>\n",
              "    <tr style=\"text-align: right;\">\n",
              "      <th></th>\n",
              "      <th>nota</th>\n",
              "    </tr>\n",
              "  </thead>\n",
              "  <tbody>\n",
              "    <tr>\n",
              "      <th>count</th>\n",
              "      <td>666.000000</td>\n",
              "    </tr>\n",
              "    <tr>\n",
              "      <th>mean</th>\n",
              "      <td>3.789790</td>\n",
              "    </tr>\n",
              "    <tr>\n",
              "      <th>std</th>\n",
              "      <td>1.193069</td>\n",
              "    </tr>\n",
              "    <tr>\n",
              "      <th>min</th>\n",
              "      <td>1.000000</td>\n",
              "    </tr>\n",
              "    <tr>\n",
              "      <th>25%</th>\n",
              "      <td>3.000000</td>\n",
              "    </tr>\n",
              "    <tr>\n",
              "      <th>50%</th>\n",
              "      <td>4.000000</td>\n",
              "    </tr>\n",
              "    <tr>\n",
              "      <th>75%</th>\n",
              "      <td>5.000000</td>\n",
              "    </tr>\n",
              "    <tr>\n",
              "      <th>max</th>\n",
              "      <td>5.000000</td>\n",
              "    </tr>\n",
              "  </tbody>\n",
              "</table>\n",
              "</div>\n",
              "      <button class=\"colab-df-convert\" onclick=\"convertToInteractive('df-e8bf791e-461b-41ea-a068-57f4c4f16479')\"\n",
              "              title=\"Convert this dataframe to an interactive table.\"\n",
              "              style=\"display:none;\">\n",
              "        \n",
              "  <svg xmlns=\"http://www.w3.org/2000/svg\" height=\"24px\"viewBox=\"0 0 24 24\"\n",
              "       width=\"24px\">\n",
              "    <path d=\"M0 0h24v24H0V0z\" fill=\"none\"/>\n",
              "    <path d=\"M18.56 5.44l.94 2.06.94-2.06 2.06-.94-2.06-.94-.94-2.06-.94 2.06-2.06.94zm-11 1L8.5 8.5l.94-2.06 2.06-.94-2.06-.94L8.5 2.5l-.94 2.06-2.06.94zm10 10l.94 2.06.94-2.06 2.06-.94-2.06-.94-.94-2.06-.94 2.06-2.06.94z\"/><path d=\"M17.41 7.96l-1.37-1.37c-.4-.4-.92-.59-1.43-.59-.52 0-1.04.2-1.43.59L10.3 9.45l-7.72 7.72c-.78.78-.78 2.05 0 2.83L4 21.41c.39.39.9.59 1.41.59.51 0 1.02-.2 1.41-.59l7.78-7.78 2.81-2.81c.8-.78.8-2.07 0-2.86zM5.41 20L4 18.59l7.72-7.72 1.47 1.35L5.41 20z\"/>\n",
              "  </svg>\n",
              "      </button>\n",
              "      \n",
              "  <style>\n",
              "    .colab-df-container {\n",
              "      display:flex;\n",
              "      flex-wrap:wrap;\n",
              "      gap: 12px;\n",
              "    }\n",
              "\n",
              "    .colab-df-convert {\n",
              "      background-color: #E8F0FE;\n",
              "      border: none;\n",
              "      border-radius: 50%;\n",
              "      cursor: pointer;\n",
              "      display: none;\n",
              "      fill: #1967D2;\n",
              "      height: 32px;\n",
              "      padding: 0 0 0 0;\n",
              "      width: 32px;\n",
              "    }\n",
              "\n",
              "    .colab-df-convert:hover {\n",
              "      background-color: #E2EBFA;\n",
              "      box-shadow: 0px 1px 2px rgba(60, 64, 67, 0.3), 0px 1px 3px 1px rgba(60, 64, 67, 0.15);\n",
              "      fill: #174EA6;\n",
              "    }\n",
              "\n",
              "    [theme=dark] .colab-df-convert {\n",
              "      background-color: #3B4455;\n",
              "      fill: #D2E3FC;\n",
              "    }\n",
              "\n",
              "    [theme=dark] .colab-df-convert:hover {\n",
              "      background-color: #434B5C;\n",
              "      box-shadow: 0px 1px 3px 1px rgba(0, 0, 0, 0.15);\n",
              "      filter: drop-shadow(0px 1px 2px rgba(0, 0, 0, 0.3));\n",
              "      fill: #FFFFFF;\n",
              "    }\n",
              "  </style>\n",
              "\n",
              "      <script>\n",
              "        const buttonEl =\n",
              "          document.querySelector('#df-e8bf791e-461b-41ea-a068-57f4c4f16479 button.colab-df-convert');\n",
              "        buttonEl.style.display =\n",
              "          google.colab.kernel.accessAllowed ? 'block' : 'none';\n",
              "\n",
              "        async function convertToInteractive(key) {\n",
              "          const element = document.querySelector('#df-e8bf791e-461b-41ea-a068-57f4c4f16479');\n",
              "          const dataTable =\n",
              "            await google.colab.kernel.invokeFunction('convertToInteractive',\n",
              "                                                     [key], {});\n",
              "          if (!dataTable) return;\n",
              "\n",
              "          const docLinkHtml = 'Like what you see? Visit the ' +\n",
              "            '<a target=\"_blank\" href=https://colab.research.google.com/notebooks/data_table.ipynb>data table notebook</a>'\n",
              "            + ' to learn more about interactive tables.';\n",
              "          element.innerHTML = '';\n",
              "          dataTable['output_type'] = 'display_data';\n",
              "          await google.colab.output.renderOutput(dataTable, element);\n",
              "          const docLink = document.createElement('div');\n",
              "          docLink.innerHTML = docLinkHtml;\n",
              "          element.appendChild(docLink);\n",
              "        }\n",
              "      </script>\n",
              "    </div>\n",
              "  </div>\n",
              "  "
            ]
          },
          "metadata": {},
          "execution_count": 12
        }
      ]
    },
    {
      "cell_type": "markdown",
      "source": [
        "Estamos en condición para, por ejemplo, buscar qué cursos han tenido en algún punto una opinión muy mala"
      ],
      "metadata": {
        "id": "9cN9sdvmjgfT"
      }
    },
    {
      "cell_type": "code",
      "source": [
        "(df_filtrado[df_filtrado[\"nota\"] == 1])[\"Curso\"].unique()"
      ],
      "metadata": {
        "id": "ouDT9hNCh8hZ",
        "colab": {
          "base_uri": "https://localhost:8080/"
        },
        "outputId": "4d370918-4d66-4b4f-9927-9f4199a7e166"
      },
      "execution_count": null,
      "outputs": [
        {
          "output_type": "execute_result",
          "data": {
            "text/plain": [
              "array(['75.01-95.01-Computación - 5 - Arriazu',\n",
              "       '75.01-95.01-Computación - 6 y 9 - Jimenez Rey',\n",
              "       '75.01-95.01-Computación - 7 - Cabrera',\n",
              "       '75.02-95.11-Algoritmos y Programación I (Electrónica) - 1 - Cardozo',\n",
              "       '75.03-95.57-Organización del Computador - 2 - Moreno',\n",
              "       '75.06-95.58-Organización de Datos - Argerich',\n",
              "       '75.07-95.02-Algoritmos y Programación III - Suarez',\n",
              "       '75.09-95.20-Análisis de la Información / Métodos y Modelos de la Ing. del Software I - 1 - Villagra',\n",
              "       '75.46-Administración y Control de Proyectos Informáticos II - Alvaro',\n",
              "       '75.48-Calidad en el Desarrollo del Sistemas - Pantaleo',\n",
              "       '75.69-Sistemas Automáticos de Diagnóstico y Detección de Fallas II - Merlino',\n",
              "       '75.71-75.72-95.68-Seminario de Ingeniería Informática I y II/Desarrollo Con Nuevas Tecnologías - 1 - Cosso',\n",
              "       '95.59-Diseño, Operación y Gestión de Servicios Informáticos'],\n",
              "      dtype=object)"
            ]
          },
          "metadata": {},
          "execution_count": 13
        }
      ]
    },
    {
      "cell_type": "markdown",
      "source": [
        "En vez de utilizar directamente *describe*, podemos usar cada estadística por separado mediante métodos como *mean*, *median*, *count*, etc"
      ],
      "metadata": {
        "id": "e1GzHXoXh85y"
      }
    },
    {
      "cell_type": "code",
      "source": [
        "df_filtrado[\"nota\"].median()"
      ],
      "metadata": {
        "colab": {
          "base_uri": "https://localhost:8080/"
        },
        "id": "DfmO9W18kOxT",
        "outputId": "fae3a32c-c54a-45ea-d484-dd284791eeb9"
      },
      "execution_count": null,
      "outputs": [
        {
          "output_type": "execute_result",
          "data": {
            "text/plain": [
              "4.0"
            ]
          },
          "metadata": {},
          "execution_count": 14
        }
      ]
    },
    {
      "cell_type": "markdown",
      "source": [
        "### Series"
      ],
      "metadata": {
        "id": "hi7nLukCIa3N"
      }
    },
    {
      "cell_type": "markdown",
      "source": [
        "Las series, en esencia, son listas indexadas de forma que cada elemento de dicha lista puede ser accedido rápidamente. Podemos pensar a cada columna o fila del dataframe como una serie."
      ],
      "metadata": {
        "id": "5P7wrlZlIaVv"
      }
    },
    {
      "cell_type": "markdown",
      "source": [
        "## Agrupaciones (GROUP BY)"
      ],
      "metadata": {
        "id": "RbYwomLmpiS7"
      }
    },
    {
      "cell_type": "markdown",
      "source": [
        "Las agrupaciones son el equivalente del GROUP BY clause de SQL. Sirven para resumir features en base a ciertos grupos de otras features, como por ejemplo sacar el promedio de calificación por curso, sacar el porcentaje de aprobación por curso, etc."
      ],
      "metadata": {
        "id": "SRA2MKwaprKr"
      }
    },
    {
      "cell_type": "code",
      "source": [
        "df_filtrado.groupby(\"Curso\")"
      ],
      "metadata": {
        "colab": {
          "base_uri": "https://localhost:8080/"
        },
        "id": "vMkZqjHhprjw",
        "outputId": "0aec91ca-590a-42e6-f721-01baa590ddb3"
      },
      "execution_count": null,
      "outputs": [
        {
          "output_type": "execute_result",
          "data": {
            "text/plain": [
              "<pandas.core.groupby.generic.DataFrameGroupBy object at 0x7f5828822050>"
            ]
          },
          "metadata": {},
          "execution_count": 15
        }
      ]
    },
    {
      "cell_type": "markdown",
      "source": [
        "Notamos que, tras agrupar el dataframe por curso, Pandas crea un objeto que **no es un dataframe**, si no un objeto **GroupBy**. Con dicho tipo de objeto no se puede operar. Para efectivamente utilizar nuestro groupby, necesitamos aplicar también una **función de agregación** (tal y como hacemos en SQL)."
      ],
      "metadata": {
        "id": "Fjs99C3jqyul"
      }
    },
    {
      "cell_type": "code",
      "source": [
        "notas_por_curso = df_filtrado.groupby(\"Curso\").mean()\n",
        "notas_por_curso[0:5]"
      ],
      "metadata": {
        "colab": {
          "base_uri": "https://localhost:8080/",
          "height": 238
        },
        "id": "wppvbGMlprpa",
        "outputId": "a19b900c-e8ea-4959-97dc-70f29c635dd9"
      },
      "execution_count": null,
      "outputs": [
        {
          "output_type": "execute_result",
          "data": {
            "text/plain": [
              "                                                    nota\n",
              "Curso                                                   \n",
              "75.01-95.01-Computación - 1 - Strobino          5.000000\n",
              "75.01-95.01-Computación - 11 - Calvo            4.235294\n",
              "75.01-95.01-Computación - 2 - Burin             3.529412\n",
              "75.01-95.01-Computación - 3 y 10 - Perez Berro  4.586207\n",
              "75.01-95.01-Computación - 5 - Arriazu           3.916667"
            ],
            "text/html": [
              "\n",
              "  <div id=\"df-7bafc004-c9fe-4276-b965-88c0376b977f\">\n",
              "    <div class=\"colab-df-container\">\n",
              "      <div>\n",
              "<style scoped>\n",
              "    .dataframe tbody tr th:only-of-type {\n",
              "        vertical-align: middle;\n",
              "    }\n",
              "\n",
              "    .dataframe tbody tr th {\n",
              "        vertical-align: top;\n",
              "    }\n",
              "\n",
              "    .dataframe thead th {\n",
              "        text-align: right;\n",
              "    }\n",
              "</style>\n",
              "<table border=\"1\" class=\"dataframe\">\n",
              "  <thead>\n",
              "    <tr style=\"text-align: right;\">\n",
              "      <th></th>\n",
              "      <th>nota</th>\n",
              "    </tr>\n",
              "    <tr>\n",
              "      <th>Curso</th>\n",
              "      <th></th>\n",
              "    </tr>\n",
              "  </thead>\n",
              "  <tbody>\n",
              "    <tr>\n",
              "      <th>75.01-95.01-Computación - 1 - Strobino</th>\n",
              "      <td>5.000000</td>\n",
              "    </tr>\n",
              "    <tr>\n",
              "      <th>75.01-95.01-Computación - 11 - Calvo</th>\n",
              "      <td>4.235294</td>\n",
              "    </tr>\n",
              "    <tr>\n",
              "      <th>75.01-95.01-Computación - 2 - Burin</th>\n",
              "      <td>3.529412</td>\n",
              "    </tr>\n",
              "    <tr>\n",
              "      <th>75.01-95.01-Computación - 3 y 10 - Perez Berro</th>\n",
              "      <td>4.586207</td>\n",
              "    </tr>\n",
              "    <tr>\n",
              "      <th>75.01-95.01-Computación - 5 - Arriazu</th>\n",
              "      <td>3.916667</td>\n",
              "    </tr>\n",
              "  </tbody>\n",
              "</table>\n",
              "</div>\n",
              "      <button class=\"colab-df-convert\" onclick=\"convertToInteractive('df-7bafc004-c9fe-4276-b965-88c0376b977f')\"\n",
              "              title=\"Convert this dataframe to an interactive table.\"\n",
              "              style=\"display:none;\">\n",
              "        \n",
              "  <svg xmlns=\"http://www.w3.org/2000/svg\" height=\"24px\"viewBox=\"0 0 24 24\"\n",
              "       width=\"24px\">\n",
              "    <path d=\"M0 0h24v24H0V0z\" fill=\"none\"/>\n",
              "    <path d=\"M18.56 5.44l.94 2.06.94-2.06 2.06-.94-2.06-.94-.94-2.06-.94 2.06-2.06.94zm-11 1L8.5 8.5l.94-2.06 2.06-.94-2.06-.94L8.5 2.5l-.94 2.06-2.06.94zm10 10l.94 2.06.94-2.06 2.06-.94-2.06-.94-.94-2.06-.94 2.06-2.06.94z\"/><path d=\"M17.41 7.96l-1.37-1.37c-.4-.4-.92-.59-1.43-.59-.52 0-1.04.2-1.43.59L10.3 9.45l-7.72 7.72c-.78.78-.78 2.05 0 2.83L4 21.41c.39.39.9.59 1.41.59.51 0 1.02-.2 1.41-.59l7.78-7.78 2.81-2.81c.8-.78.8-2.07 0-2.86zM5.41 20L4 18.59l7.72-7.72 1.47 1.35L5.41 20z\"/>\n",
              "  </svg>\n",
              "      </button>\n",
              "      \n",
              "  <style>\n",
              "    .colab-df-container {\n",
              "      display:flex;\n",
              "      flex-wrap:wrap;\n",
              "      gap: 12px;\n",
              "    }\n",
              "\n",
              "    .colab-df-convert {\n",
              "      background-color: #E8F0FE;\n",
              "      border: none;\n",
              "      border-radius: 50%;\n",
              "      cursor: pointer;\n",
              "      display: none;\n",
              "      fill: #1967D2;\n",
              "      height: 32px;\n",
              "      padding: 0 0 0 0;\n",
              "      width: 32px;\n",
              "    }\n",
              "\n",
              "    .colab-df-convert:hover {\n",
              "      background-color: #E2EBFA;\n",
              "      box-shadow: 0px 1px 2px rgba(60, 64, 67, 0.3), 0px 1px 3px 1px rgba(60, 64, 67, 0.15);\n",
              "      fill: #174EA6;\n",
              "    }\n",
              "\n",
              "    [theme=dark] .colab-df-convert {\n",
              "      background-color: #3B4455;\n",
              "      fill: #D2E3FC;\n",
              "    }\n",
              "\n",
              "    [theme=dark] .colab-df-convert:hover {\n",
              "      background-color: #434B5C;\n",
              "      box-shadow: 0px 1px 3px 1px rgba(0, 0, 0, 0.15);\n",
              "      filter: drop-shadow(0px 1px 2px rgba(0, 0, 0, 0.3));\n",
              "      fill: #FFFFFF;\n",
              "    }\n",
              "  </style>\n",
              "\n",
              "      <script>\n",
              "        const buttonEl =\n",
              "          document.querySelector('#df-7bafc004-c9fe-4276-b965-88c0376b977f button.colab-df-convert');\n",
              "        buttonEl.style.display =\n",
              "          google.colab.kernel.accessAllowed ? 'block' : 'none';\n",
              "\n",
              "        async function convertToInteractive(key) {\n",
              "          const element = document.querySelector('#df-7bafc004-c9fe-4276-b965-88c0376b977f');\n",
              "          const dataTable =\n",
              "            await google.colab.kernel.invokeFunction('convertToInteractive',\n",
              "                                                     [key], {});\n",
              "          if (!dataTable) return;\n",
              "\n",
              "          const docLinkHtml = 'Like what you see? Visit the ' +\n",
              "            '<a target=\"_blank\" href=https://colab.research.google.com/notebooks/data_table.ipynb>data table notebook</a>'\n",
              "            + ' to learn more about interactive tables.';\n",
              "          element.innerHTML = '';\n",
              "          dataTable['output_type'] = 'display_data';\n",
              "          await google.colab.output.renderOutput(dataTable, element);\n",
              "          const docLink = document.createElement('div');\n",
              "          docLink.innerHTML = docLinkHtml;\n",
              "          element.appendChild(docLink);\n",
              "        }\n",
              "      </script>\n",
              "    </div>\n",
              "  </div>\n",
              "  "
            ]
          },
          "metadata": {},
          "execution_count": 16
        }
      ]
    },
    {
      "cell_type": "markdown",
      "source": [
        "Aprovechamos para introducir el muy útil método *sort*"
      ],
      "metadata": {
        "id": "b3UMQhhmprvY"
      }
    },
    {
      "cell_type": "code",
      "source": [
        "notas_por_curso.sort_values(by=\"nota\", ascending = False)[:10]"
      ],
      "metadata": {
        "colab": {
          "base_uri": "https://localhost:8080/",
          "height": 394
        },
        "id": "7NHNSY6-pr2D",
        "outputId": "e4641a77-7155-4af9-c369-dbf37446aa63"
      },
      "execution_count": null,
      "outputs": [
        {
          "output_type": "execute_result",
          "data": {
            "text/plain": [
              "                                                        nota\n",
              "Curso                                                       \n",
              "75.01-95.01-Computación - 1 - Strobino              5.000000\n",
              "75.42-Taller de Programación I - 2 - Azcurra        5.000000\n",
              "75.15-75.28-95.05-Base de Datos - 1 - Beiro         4.777778\n",
              "75.40-95.14-Algoritmos y Programación I - 3 - M...  4.725000\n",
              "75.12-95.04-95.13-Análisis Numérico I/Métodos M...  4.714286\n",
              "75.40-95.14-Algoritmos y Programación I - 4 - E...  4.681818\n",
              "75.01-95.01-Computación - 3 y 10 - Perez Berro      4.586207\n",
              "75.42-95.08-Taller de Programación I - 1 -Veiga     4.500000\n",
              "75.33-75.43-95.60-Introducción a los Sistemas D...  4.461538\n",
              "75.41-95.15-Algoritmos y Programación II - 4 - ...  4.400000"
            ],
            "text/html": [
              "\n",
              "  <div id=\"df-80da5e96-3853-4b01-b80b-a4929d240594\">\n",
              "    <div class=\"colab-df-container\">\n",
              "      <div>\n",
              "<style scoped>\n",
              "    .dataframe tbody tr th:only-of-type {\n",
              "        vertical-align: middle;\n",
              "    }\n",
              "\n",
              "    .dataframe tbody tr th {\n",
              "        vertical-align: top;\n",
              "    }\n",
              "\n",
              "    .dataframe thead th {\n",
              "        text-align: right;\n",
              "    }\n",
              "</style>\n",
              "<table border=\"1\" class=\"dataframe\">\n",
              "  <thead>\n",
              "    <tr style=\"text-align: right;\">\n",
              "      <th></th>\n",
              "      <th>nota</th>\n",
              "    </tr>\n",
              "    <tr>\n",
              "      <th>Curso</th>\n",
              "      <th></th>\n",
              "    </tr>\n",
              "  </thead>\n",
              "  <tbody>\n",
              "    <tr>\n",
              "      <th>75.01-95.01-Computación - 1 - Strobino</th>\n",
              "      <td>5.000000</td>\n",
              "    </tr>\n",
              "    <tr>\n",
              "      <th>75.42-Taller de Programación I - 2 - Azcurra</th>\n",
              "      <td>5.000000</td>\n",
              "    </tr>\n",
              "    <tr>\n",
              "      <th>75.15-75.28-95.05-Base de Datos - 1 - Beiro</th>\n",
              "      <td>4.777778</td>\n",
              "    </tr>\n",
              "    <tr>\n",
              "      <th>75.40-95.14-Algoritmos y Programación I - 3 - Mendez</th>\n",
              "      <td>4.725000</td>\n",
              "    </tr>\n",
              "    <tr>\n",
              "      <th>75.12-95.04-95.13-Análisis Numérico I/Métodos Matemáticos y Numéricos - 2 - Tarela</th>\n",
              "      <td>4.714286</td>\n",
              "    </tr>\n",
              "    <tr>\n",
              "      <th>75.40-95.14-Algoritmos y Programación I - 4 - Essaya</th>\n",
              "      <td>4.681818</td>\n",
              "    </tr>\n",
              "    <tr>\n",
              "      <th>75.01-95.01-Computación - 3 y 10 - Perez Berro</th>\n",
              "      <td>4.586207</td>\n",
              "    </tr>\n",
              "    <tr>\n",
              "      <th>75.42-95.08-Taller de Programación I - 1 -Veiga</th>\n",
              "      <td>4.500000</td>\n",
              "    </tr>\n",
              "    <tr>\n",
              "      <th>75.33-75.43-95.60-Introducción a los Sistemas Distribuidos  - Carísimo</th>\n",
              "      <td>4.461538</td>\n",
              "    </tr>\n",
              "    <tr>\n",
              "      <th>75.41-95.15-Algoritmos y Programación II - 4 - Mendez</th>\n",
              "      <td>4.400000</td>\n",
              "    </tr>\n",
              "  </tbody>\n",
              "</table>\n",
              "</div>\n",
              "      <button class=\"colab-df-convert\" onclick=\"convertToInteractive('df-80da5e96-3853-4b01-b80b-a4929d240594')\"\n",
              "              title=\"Convert this dataframe to an interactive table.\"\n",
              "              style=\"display:none;\">\n",
              "        \n",
              "  <svg xmlns=\"http://www.w3.org/2000/svg\" height=\"24px\"viewBox=\"0 0 24 24\"\n",
              "       width=\"24px\">\n",
              "    <path d=\"M0 0h24v24H0V0z\" fill=\"none\"/>\n",
              "    <path d=\"M18.56 5.44l.94 2.06.94-2.06 2.06-.94-2.06-.94-.94-2.06-.94 2.06-2.06.94zm-11 1L8.5 8.5l.94-2.06 2.06-.94-2.06-.94L8.5 2.5l-.94 2.06-2.06.94zm10 10l.94 2.06.94-2.06 2.06-.94-2.06-.94-.94-2.06-.94 2.06-2.06.94z\"/><path d=\"M17.41 7.96l-1.37-1.37c-.4-.4-.92-.59-1.43-.59-.52 0-1.04.2-1.43.59L10.3 9.45l-7.72 7.72c-.78.78-.78 2.05 0 2.83L4 21.41c.39.39.9.59 1.41.59.51 0 1.02-.2 1.41-.59l7.78-7.78 2.81-2.81c.8-.78.8-2.07 0-2.86zM5.41 20L4 18.59l7.72-7.72 1.47 1.35L5.41 20z\"/>\n",
              "  </svg>\n",
              "      </button>\n",
              "      \n",
              "  <style>\n",
              "    .colab-df-container {\n",
              "      display:flex;\n",
              "      flex-wrap:wrap;\n",
              "      gap: 12px;\n",
              "    }\n",
              "\n",
              "    .colab-df-convert {\n",
              "      background-color: #E8F0FE;\n",
              "      border: none;\n",
              "      border-radius: 50%;\n",
              "      cursor: pointer;\n",
              "      display: none;\n",
              "      fill: #1967D2;\n",
              "      height: 32px;\n",
              "      padding: 0 0 0 0;\n",
              "      width: 32px;\n",
              "    }\n",
              "\n",
              "    .colab-df-convert:hover {\n",
              "      background-color: #E2EBFA;\n",
              "      box-shadow: 0px 1px 2px rgba(60, 64, 67, 0.3), 0px 1px 3px 1px rgba(60, 64, 67, 0.15);\n",
              "      fill: #174EA6;\n",
              "    }\n",
              "\n",
              "    [theme=dark] .colab-df-convert {\n",
              "      background-color: #3B4455;\n",
              "      fill: #D2E3FC;\n",
              "    }\n",
              "\n",
              "    [theme=dark] .colab-df-convert:hover {\n",
              "      background-color: #434B5C;\n",
              "      box-shadow: 0px 1px 3px 1px rgba(0, 0, 0, 0.15);\n",
              "      filter: drop-shadow(0px 1px 2px rgba(0, 0, 0, 0.3));\n",
              "      fill: #FFFFFF;\n",
              "    }\n",
              "  </style>\n",
              "\n",
              "      <script>\n",
              "        const buttonEl =\n",
              "          document.querySelector('#df-80da5e96-3853-4b01-b80b-a4929d240594 button.colab-df-convert');\n",
              "        buttonEl.style.display =\n",
              "          google.colab.kernel.accessAllowed ? 'block' : 'none';\n",
              "\n",
              "        async function convertToInteractive(key) {\n",
              "          const element = document.querySelector('#df-80da5e96-3853-4b01-b80b-a4929d240594');\n",
              "          const dataTable =\n",
              "            await google.colab.kernel.invokeFunction('convertToInteractive',\n",
              "                                                     [key], {});\n",
              "          if (!dataTable) return;\n",
              "\n",
              "          const docLinkHtml = 'Like what you see? Visit the ' +\n",
              "            '<a target=\"_blank\" href=https://colab.research.google.com/notebooks/data_table.ipynb>data table notebook</a>'\n",
              "            + ' to learn more about interactive tables.';\n",
              "          element.innerHTML = '';\n",
              "          dataTable['output_type'] = 'display_data';\n",
              "          await google.colab.output.renderOutput(dataTable, element);\n",
              "          const docLink = document.createElement('div');\n",
              "          docLink.innerHTML = docLinkHtml;\n",
              "          element.appendChild(docLink);\n",
              "        }\n",
              "      </script>\n",
              "    </div>\n",
              "  </div>\n",
              "  "
            ]
          },
          "metadata": {},
          "execution_count": 17
        }
      ]
    },
    {
      "cell_type": "code",
      "source": [
        "notas_por_curso.sort_values(by=\"nota\")[:10]"
      ],
      "metadata": {
        "colab": {
          "base_uri": "https://localhost:8080/",
          "height": 394
        },
        "id": "mdg1AiQ_pr8K",
        "outputId": "ae88f8bd-833e-4c86-ad57-31fcdacac55e"
      },
      "execution_count": null,
      "outputs": [
        {
          "output_type": "execute_result",
          "data": {
            "text/plain": [
              "                                                        nota\n",
              "Curso                                                       \n",
              "75.71-75.72-95.68-Seminario de Ingeniería Infor...  1.000000\n",
              "75.69-Sistemas Automáticos de Diagnóstico y Det...  1.000000\n",
              "75.01-95.01-Computación - 7 - Cabrera               1.000000\n",
              "75.48-Calidad en el Desarrollo del Sistemas - P...  1.000000\n",
              "75.09-95.20-Análisis de la Información / Método...  1.588235\n",
              "95.59-Diseño, Operación y Gestión de Servicios ...  1.666667\n",
              "75.12-95.04-95.13-Análisis Numérico I/Métodos M...  2.000000\n",
              "75.03-95.57-Organización del Computador - 1 - B...  2.000000\n",
              "75.07-95.02-Algoritmos y Programación III - Suarez  2.291667\n",
              "95.13-Métodos Matemáticos y Numéricos - Cavaliere   2.875000"
            ],
            "text/html": [
              "\n",
              "  <div id=\"df-69e347fb-0b7c-4060-8447-ba1873c25ddc\">\n",
              "    <div class=\"colab-df-container\">\n",
              "      <div>\n",
              "<style scoped>\n",
              "    .dataframe tbody tr th:only-of-type {\n",
              "        vertical-align: middle;\n",
              "    }\n",
              "\n",
              "    .dataframe tbody tr th {\n",
              "        vertical-align: top;\n",
              "    }\n",
              "\n",
              "    .dataframe thead th {\n",
              "        text-align: right;\n",
              "    }\n",
              "</style>\n",
              "<table border=\"1\" class=\"dataframe\">\n",
              "  <thead>\n",
              "    <tr style=\"text-align: right;\">\n",
              "      <th></th>\n",
              "      <th>nota</th>\n",
              "    </tr>\n",
              "    <tr>\n",
              "      <th>Curso</th>\n",
              "      <th></th>\n",
              "    </tr>\n",
              "  </thead>\n",
              "  <tbody>\n",
              "    <tr>\n",
              "      <th>75.71-75.72-95.68-Seminario de Ingeniería Informática I y II/Desarrollo Con Nuevas Tecnologías - 1 - Cosso</th>\n",
              "      <td>1.000000</td>\n",
              "    </tr>\n",
              "    <tr>\n",
              "      <th>75.69-Sistemas Automáticos de Diagnóstico y Detección de Fallas II - Merlino</th>\n",
              "      <td>1.000000</td>\n",
              "    </tr>\n",
              "    <tr>\n",
              "      <th>75.01-95.01-Computación - 7 - Cabrera</th>\n",
              "      <td>1.000000</td>\n",
              "    </tr>\n",
              "    <tr>\n",
              "      <th>75.48-Calidad en el Desarrollo del Sistemas - Pantaleo</th>\n",
              "      <td>1.000000</td>\n",
              "    </tr>\n",
              "    <tr>\n",
              "      <th>75.09-95.20-Análisis de la Información / Métodos y Modelos de la Ing. del Software I - 1 - Villagra</th>\n",
              "      <td>1.588235</td>\n",
              "    </tr>\n",
              "    <tr>\n",
              "      <th>95.59-Diseño, Operación y Gestión de Servicios Informáticos</th>\n",
              "      <td>1.666667</td>\n",
              "    </tr>\n",
              "    <tr>\n",
              "      <th>75.12-95.04-95.13-Análisis Numérico I/Métodos Matemáticos y Numéricos - 3 - Griggio</th>\n",
              "      <td>2.000000</td>\n",
              "    </tr>\n",
              "    <tr>\n",
              "      <th>75.03-95.57-Organización del Computador - 1 - Benitez</th>\n",
              "      <td>2.000000</td>\n",
              "    </tr>\n",
              "    <tr>\n",
              "      <th>75.07-95.02-Algoritmos y Programación III - Suarez</th>\n",
              "      <td>2.291667</td>\n",
              "    </tr>\n",
              "    <tr>\n",
              "      <th>95.13-Métodos Matemáticos y Numéricos - Cavaliere</th>\n",
              "      <td>2.875000</td>\n",
              "    </tr>\n",
              "  </tbody>\n",
              "</table>\n",
              "</div>\n",
              "      <button class=\"colab-df-convert\" onclick=\"convertToInteractive('df-69e347fb-0b7c-4060-8447-ba1873c25ddc')\"\n",
              "              title=\"Convert this dataframe to an interactive table.\"\n",
              "              style=\"display:none;\">\n",
              "        \n",
              "  <svg xmlns=\"http://www.w3.org/2000/svg\" height=\"24px\"viewBox=\"0 0 24 24\"\n",
              "       width=\"24px\">\n",
              "    <path d=\"M0 0h24v24H0V0z\" fill=\"none\"/>\n",
              "    <path d=\"M18.56 5.44l.94 2.06.94-2.06 2.06-.94-2.06-.94-.94-2.06-.94 2.06-2.06.94zm-11 1L8.5 8.5l.94-2.06 2.06-.94-2.06-.94L8.5 2.5l-.94 2.06-2.06.94zm10 10l.94 2.06.94-2.06 2.06-.94-2.06-.94-.94-2.06-.94 2.06-2.06.94z\"/><path d=\"M17.41 7.96l-1.37-1.37c-.4-.4-.92-.59-1.43-.59-.52 0-1.04.2-1.43.59L10.3 9.45l-7.72 7.72c-.78.78-.78 2.05 0 2.83L4 21.41c.39.39.9.59 1.41.59.51 0 1.02-.2 1.41-.59l7.78-7.78 2.81-2.81c.8-.78.8-2.07 0-2.86zM5.41 20L4 18.59l7.72-7.72 1.47 1.35L5.41 20z\"/>\n",
              "  </svg>\n",
              "      </button>\n",
              "      \n",
              "  <style>\n",
              "    .colab-df-container {\n",
              "      display:flex;\n",
              "      flex-wrap:wrap;\n",
              "      gap: 12px;\n",
              "    }\n",
              "\n",
              "    .colab-df-convert {\n",
              "      background-color: #E8F0FE;\n",
              "      border: none;\n",
              "      border-radius: 50%;\n",
              "      cursor: pointer;\n",
              "      display: none;\n",
              "      fill: #1967D2;\n",
              "      height: 32px;\n",
              "      padding: 0 0 0 0;\n",
              "      width: 32px;\n",
              "    }\n",
              "\n",
              "    .colab-df-convert:hover {\n",
              "      background-color: #E2EBFA;\n",
              "      box-shadow: 0px 1px 2px rgba(60, 64, 67, 0.3), 0px 1px 3px 1px rgba(60, 64, 67, 0.15);\n",
              "      fill: #174EA6;\n",
              "    }\n",
              "\n",
              "    [theme=dark] .colab-df-convert {\n",
              "      background-color: #3B4455;\n",
              "      fill: #D2E3FC;\n",
              "    }\n",
              "\n",
              "    [theme=dark] .colab-df-convert:hover {\n",
              "      background-color: #434B5C;\n",
              "      box-shadow: 0px 1px 3px 1px rgba(0, 0, 0, 0.15);\n",
              "      filter: drop-shadow(0px 1px 2px rgba(0, 0, 0, 0.3));\n",
              "      fill: #FFFFFF;\n",
              "    }\n",
              "  </style>\n",
              "\n",
              "      <script>\n",
              "        const buttonEl =\n",
              "          document.querySelector('#df-69e347fb-0b7c-4060-8447-ba1873c25ddc button.colab-df-convert');\n",
              "        buttonEl.style.display =\n",
              "          google.colab.kernel.accessAllowed ? 'block' : 'none';\n",
              "\n",
              "        async function convertToInteractive(key) {\n",
              "          const element = document.querySelector('#df-69e347fb-0b7c-4060-8447-ba1873c25ddc');\n",
              "          const dataTable =\n",
              "            await google.colab.kernel.invokeFunction('convertToInteractive',\n",
              "                                                     [key], {});\n",
              "          if (!dataTable) return;\n",
              "\n",
              "          const docLinkHtml = 'Like what you see? Visit the ' +\n",
              "            '<a target=\"_blank\" href=https://colab.research.google.com/notebooks/data_table.ipynb>data table notebook</a>'\n",
              "            + ' to learn more about interactive tables.';\n",
              "          element.innerHTML = '';\n",
              "          dataTable['output_type'] = 'display_data';\n",
              "          await google.colab.output.renderOutput(dataTable, element);\n",
              "          const docLink = document.createElement('div');\n",
              "          docLink.innerHTML = docLinkHtml;\n",
              "          element.appendChild(docLink);\n",
              "        }\n",
              "      </script>\n",
              "    </div>\n",
              "  </div>\n",
              "  "
            ]
          },
          "metadata": {},
          "execution_count": 18
        }
      ]
    },
    {
      "cell_type": "markdown",
      "source": [
        "Y de esa manera hemos obtenido un listado de los 10 cursos mejores valorados, y de los 10 cursos peores valorados"
      ],
      "metadata": {
        "id": "zqdMWx-gpsCB"
      }
    },
    {
      "cell_type": "markdown",
      "source": [
        "Mediante el operador *loc* podemos usar el nombre del curso como índice, y mediante *iloc* podemos utilizar el índice numérico"
      ],
      "metadata": {
        "id": "8w0MWvt5tRrv"
      }
    },
    {
      "cell_type": "code",
      "source": [
        "notas_por_curso.loc[\"75.41-95.15-Algoritmos y Programación II - 4 - Mendez\"], notas_por_curso.iloc[21]"
      ],
      "metadata": {
        "colab": {
          "base_uri": "https://localhost:8080/"
        },
        "id": "_HUthfF2tSEL",
        "outputId": "c40368e4-22d3-4880-b5d7-52ed81c0c467"
      },
      "execution_count": null,
      "outputs": [
        {
          "output_type": "execute_result",
          "data": {
            "text/plain": [
              "(nota    4.4\n",
              " Name: 75.41-95.15-Algoritmos y Programación II - 4 - Mendez, dtype: float64,\n",
              " nota    4.714286\n",
              " Name: 75.12-95.04-95.13-Análisis Numérico I/Métodos Matemáticos y Numéricos - 2 - Tarela, dtype: float64)"
            ]
          },
          "metadata": {},
          "execution_count": 19
        }
      ]
    },
    {
      "cell_type": "markdown",
      "source": [
        "Mediante *aggregate* podemos aplicar múltiples agregaciones al mismo tiempo"
      ],
      "metadata": {
        "id": "D3hW7OldtSMH"
      }
    },
    {
      "cell_type": "code",
      "source": [
        "promedio_y_mediana_por_curso = df_filtrado.groupby(\"Curso\").agg(promedio=(\"nota\", \"mean\"), mediana=(\"nota\", \"median\"))\n",
        "promedio_y_mediana_por_curso[:10]"
      ],
      "metadata": {
        "id": "KwLnJaDftSTR",
        "colab": {
          "base_uri": "https://localhost:8080/",
          "height": 394
        },
        "outputId": "aa3c14f9-c959-44ed-f978-0174e46d6056"
      },
      "execution_count": null,
      "outputs": [
        {
          "output_type": "execute_result",
          "data": {
            "text/plain": [
              "                                                    promedio  mediana\n",
              "Curso                                                                \n",
              "75.01-95.01-Computación - 1 - Strobino              5.000000      5.0\n",
              "75.01-95.01-Computación - 11 - Calvo                4.235294      4.0\n",
              "75.01-95.01-Computación - 2 - Burin                 3.529412      4.0\n",
              "75.01-95.01-Computación - 3 y 10 - Perez Berro      4.586207      5.0\n",
              "75.01-95.01-Computación - 5 - Arriazu               3.916667      4.0\n",
              "75.01-95.01-Computación - 6 y 9 - Jimenez Rey       4.268293      4.0\n",
              "75.01-95.01-Computación - 7 - Cabrera               1.000000      1.0\n",
              "75.01-95.01-Computación - 8 - Lage                  3.333333      3.0\n",
              "75.02-95.11-Algoritmos y Programación I (Electr...  3.250000      3.5\n",
              "75.02-95.11-Algoritmos y Programación I (Electr...  4.160000      4.0"
            ],
            "text/html": [
              "\n",
              "  <div id=\"df-d39249d9-c5e2-494c-a859-5fcec296874a\">\n",
              "    <div class=\"colab-df-container\">\n",
              "      <div>\n",
              "<style scoped>\n",
              "    .dataframe tbody tr th:only-of-type {\n",
              "        vertical-align: middle;\n",
              "    }\n",
              "\n",
              "    .dataframe tbody tr th {\n",
              "        vertical-align: top;\n",
              "    }\n",
              "\n",
              "    .dataframe thead th {\n",
              "        text-align: right;\n",
              "    }\n",
              "</style>\n",
              "<table border=\"1\" class=\"dataframe\">\n",
              "  <thead>\n",
              "    <tr style=\"text-align: right;\">\n",
              "      <th></th>\n",
              "      <th>promedio</th>\n",
              "      <th>mediana</th>\n",
              "    </tr>\n",
              "    <tr>\n",
              "      <th>Curso</th>\n",
              "      <th></th>\n",
              "      <th></th>\n",
              "    </tr>\n",
              "  </thead>\n",
              "  <tbody>\n",
              "    <tr>\n",
              "      <th>75.01-95.01-Computación - 1 - Strobino</th>\n",
              "      <td>5.000000</td>\n",
              "      <td>5.0</td>\n",
              "    </tr>\n",
              "    <tr>\n",
              "      <th>75.01-95.01-Computación - 11 - Calvo</th>\n",
              "      <td>4.235294</td>\n",
              "      <td>4.0</td>\n",
              "    </tr>\n",
              "    <tr>\n",
              "      <th>75.01-95.01-Computación - 2 - Burin</th>\n",
              "      <td>3.529412</td>\n",
              "      <td>4.0</td>\n",
              "    </tr>\n",
              "    <tr>\n",
              "      <th>75.01-95.01-Computación - 3 y 10 - Perez Berro</th>\n",
              "      <td>4.586207</td>\n",
              "      <td>5.0</td>\n",
              "    </tr>\n",
              "    <tr>\n",
              "      <th>75.01-95.01-Computación - 5 - Arriazu</th>\n",
              "      <td>3.916667</td>\n",
              "      <td>4.0</td>\n",
              "    </tr>\n",
              "    <tr>\n",
              "      <th>75.01-95.01-Computación - 6 y 9 - Jimenez Rey</th>\n",
              "      <td>4.268293</td>\n",
              "      <td>4.0</td>\n",
              "    </tr>\n",
              "    <tr>\n",
              "      <th>75.01-95.01-Computación - 7 - Cabrera</th>\n",
              "      <td>1.000000</td>\n",
              "      <td>1.0</td>\n",
              "    </tr>\n",
              "    <tr>\n",
              "      <th>75.01-95.01-Computación - 8 - Lage</th>\n",
              "      <td>3.333333</td>\n",
              "      <td>3.0</td>\n",
              "    </tr>\n",
              "    <tr>\n",
              "      <th>75.02-95.11-Algoritmos y Programación I (Electrónica) - 1 - Cardozo</th>\n",
              "      <td>3.250000</td>\n",
              "      <td>3.5</td>\n",
              "    </tr>\n",
              "    <tr>\n",
              "      <th>75.02-95.11-Algoritmos y Programación I (Electrónica) - 2 - Kuhn/Essaya</th>\n",
              "      <td>4.160000</td>\n",
              "      <td>4.0</td>\n",
              "    </tr>\n",
              "  </tbody>\n",
              "</table>\n",
              "</div>\n",
              "      <button class=\"colab-df-convert\" onclick=\"convertToInteractive('df-d39249d9-c5e2-494c-a859-5fcec296874a')\"\n",
              "              title=\"Convert this dataframe to an interactive table.\"\n",
              "              style=\"display:none;\">\n",
              "        \n",
              "  <svg xmlns=\"http://www.w3.org/2000/svg\" height=\"24px\"viewBox=\"0 0 24 24\"\n",
              "       width=\"24px\">\n",
              "    <path d=\"M0 0h24v24H0V0z\" fill=\"none\"/>\n",
              "    <path d=\"M18.56 5.44l.94 2.06.94-2.06 2.06-.94-2.06-.94-.94-2.06-.94 2.06-2.06.94zm-11 1L8.5 8.5l.94-2.06 2.06-.94-2.06-.94L8.5 2.5l-.94 2.06-2.06.94zm10 10l.94 2.06.94-2.06 2.06-.94-2.06-.94-.94-2.06-.94 2.06-2.06.94z\"/><path d=\"M17.41 7.96l-1.37-1.37c-.4-.4-.92-.59-1.43-.59-.52 0-1.04.2-1.43.59L10.3 9.45l-7.72 7.72c-.78.78-.78 2.05 0 2.83L4 21.41c.39.39.9.59 1.41.59.51 0 1.02-.2 1.41-.59l7.78-7.78 2.81-2.81c.8-.78.8-2.07 0-2.86zM5.41 20L4 18.59l7.72-7.72 1.47 1.35L5.41 20z\"/>\n",
              "  </svg>\n",
              "      </button>\n",
              "      \n",
              "  <style>\n",
              "    .colab-df-container {\n",
              "      display:flex;\n",
              "      flex-wrap:wrap;\n",
              "      gap: 12px;\n",
              "    }\n",
              "\n",
              "    .colab-df-convert {\n",
              "      background-color: #E8F0FE;\n",
              "      border: none;\n",
              "      border-radius: 50%;\n",
              "      cursor: pointer;\n",
              "      display: none;\n",
              "      fill: #1967D2;\n",
              "      height: 32px;\n",
              "      padding: 0 0 0 0;\n",
              "      width: 32px;\n",
              "    }\n",
              "\n",
              "    .colab-df-convert:hover {\n",
              "      background-color: #E2EBFA;\n",
              "      box-shadow: 0px 1px 2px rgba(60, 64, 67, 0.3), 0px 1px 3px 1px rgba(60, 64, 67, 0.15);\n",
              "      fill: #174EA6;\n",
              "    }\n",
              "\n",
              "    [theme=dark] .colab-df-convert {\n",
              "      background-color: #3B4455;\n",
              "      fill: #D2E3FC;\n",
              "    }\n",
              "\n",
              "    [theme=dark] .colab-df-convert:hover {\n",
              "      background-color: #434B5C;\n",
              "      box-shadow: 0px 1px 3px 1px rgba(0, 0, 0, 0.15);\n",
              "      filter: drop-shadow(0px 1px 2px rgba(0, 0, 0, 0.3));\n",
              "      fill: #FFFFFF;\n",
              "    }\n",
              "  </style>\n",
              "\n",
              "      <script>\n",
              "        const buttonEl =\n",
              "          document.querySelector('#df-d39249d9-c5e2-494c-a859-5fcec296874a button.colab-df-convert');\n",
              "        buttonEl.style.display =\n",
              "          google.colab.kernel.accessAllowed ? 'block' : 'none';\n",
              "\n",
              "        async function convertToInteractive(key) {\n",
              "          const element = document.querySelector('#df-d39249d9-c5e2-494c-a859-5fcec296874a');\n",
              "          const dataTable =\n",
              "            await google.colab.kernel.invokeFunction('convertToInteractive',\n",
              "                                                     [key], {});\n",
              "          if (!dataTable) return;\n",
              "\n",
              "          const docLinkHtml = 'Like what you see? Visit the ' +\n",
              "            '<a target=\"_blank\" href=https://colab.research.google.com/notebooks/data_table.ipynb>data table notebook</a>'\n",
              "            + ' to learn more about interactive tables.';\n",
              "          element.innerHTML = '';\n",
              "          dataTable['output_type'] = 'display_data';\n",
              "          await google.colab.output.renderOutput(dataTable, element);\n",
              "          const docLink = document.createElement('div');\n",
              "          docLink.innerHTML = docLinkHtml;\n",
              "          element.appendChild(docLink);\n",
              "        }\n",
              "      </script>\n",
              "    </div>\n",
              "  </div>\n",
              "  "
            ]
          },
          "metadata": {},
          "execution_count": 20
        }
      ]
    },
    {
      "cell_type": "markdown",
      "source": [],
      "metadata": {
        "id": "OZteWoJitSZl"
      }
    },
    {
      "cell_type": "markdown",
      "source": [
        "## Manejo básico de indexes"
      ],
      "metadata": {
        "id": "PPS0WGL2uwIU"
      }
    },
    {
      "cell_type": "code",
      "source": [
        "df_copia = df\n",
        "df_copia.head()"
      ],
      "metadata": {
        "id": "6peZB7C0wOfV",
        "colab": {
          "base_uri": "https://localhost:8080/",
          "height": 511
        },
        "outputId": "392d4cb3-9606-47cb-fcf9-4d948ccbdc33"
      },
      "execution_count": null,
      "outputs": [
        {
          "output_type": "execute_result",
          "data": {
            "text/plain": [
              "       Marca temporal                                   Curso  \\\n",
              "0  1/19/2020 10:09:49  75.01-95.01-Computación - 1 - Strobino   \n",
              "1  2/14/2020 11:02:35    75.01-95.01-Computación - 11 - Calvo   \n",
              "2  2/14/2020 11:02:52    75.01-95.01-Computación - 11 - Calvo   \n",
              "3  2/14/2020 11:07:41    75.01-95.01-Computación - 11 - Calvo   \n",
              "4  2/14/2020 11:08:37    75.01-95.01-Computación - 11 - Calvo   \n",
              "\n",
              "  Opinión General Sobre el Curso ¿Aprobó la Cursada?  \\\n",
              "0                      Excelente                  Sí   \n",
              "1                      Excelente                  Sí   \n",
              "2                      Muy Bueno                  Sí   \n",
              "3                      Muy Bueno                  Sí   \n",
              "4                      Muy Bueno                  Sí   \n",
              "\n",
              "  ¿Cómo te Resultaron los Temas de la Materia?  \\\n",
              "0                                 Interesantes   \n",
              "1                                 Interesantes   \n",
              "2                             Muy Interesantes   \n",
              "3                                 Interesantes   \n",
              "4                                 Interesantes   \n",
              "\n",
              "  ¿Los Temas de la Materia Están Actualizados?  \\\n",
              "0                                           Sí   \n",
              "1                                           Sí   \n",
              "2                                           Sí   \n",
              "3                                           Sí   \n",
              "4                                           Sí   \n",
              "\n",
              "  Nivel de las Clases Teóricas del Curso  \\\n",
              "0                             Excelentes   \n",
              "1                             Excelentes   \n",
              "2                             Muy Buenas   \n",
              "3                             Muy Buenas   \n",
              "4                                 Buenas   \n",
              "\n",
              "  Nivel de las Clases Prácticas del Curso Dificultad del Curso  \\\n",
              "0                                  Buenas               Normal   \n",
              "1                              Excelentes               Normal   \n",
              "2                              Muy Buenas               Normal   \n",
              "3                              Excelentes              Dificil   \n",
              "4                              Muy Buenas               Normal   \n",
              "\n",
              "  Dificultad del TP                         Comentarios Sobre el Curso  \\\n",
              "0            Normal  La primera parte del curso fue más bueno que e...   \n",
              "1            Normal                                                NaN   \n",
              "2            Normal                                                NaN   \n",
              "3            Normal                                                NaN   \n",
              "4            Normal                                                NaN   \n",
              "\n",
              "  ¿El email puede ser mostrado al docente?  \n",
              "0                                       Si  \n",
              "1                                       Si  \n",
              "2                                       Si  \n",
              "3                                       Si  \n",
              "4                                       No  "
            ],
            "text/html": [
              "\n",
              "  <div id=\"df-b78727c2-c570-44eb-bf8d-34a37b329737\">\n",
              "    <div class=\"colab-df-container\">\n",
              "      <div>\n",
              "<style scoped>\n",
              "    .dataframe tbody tr th:only-of-type {\n",
              "        vertical-align: middle;\n",
              "    }\n",
              "\n",
              "    .dataframe tbody tr th {\n",
              "        vertical-align: top;\n",
              "    }\n",
              "\n",
              "    .dataframe thead th {\n",
              "        text-align: right;\n",
              "    }\n",
              "</style>\n",
              "<table border=\"1\" class=\"dataframe\">\n",
              "  <thead>\n",
              "    <tr style=\"text-align: right;\">\n",
              "      <th></th>\n",
              "      <th>Marca temporal</th>\n",
              "      <th>Curso</th>\n",
              "      <th>Opinión General Sobre el Curso</th>\n",
              "      <th>¿Aprobó la Cursada?</th>\n",
              "      <th>¿Cómo te Resultaron los Temas de la Materia?</th>\n",
              "      <th>¿Los Temas de la Materia Están Actualizados?</th>\n",
              "      <th>Nivel de las Clases Teóricas del Curso</th>\n",
              "      <th>Nivel de las Clases Prácticas del Curso</th>\n",
              "      <th>Dificultad del Curso</th>\n",
              "      <th>Dificultad del TP</th>\n",
              "      <th>Comentarios Sobre el Curso</th>\n",
              "      <th>¿El email puede ser mostrado al docente?</th>\n",
              "    </tr>\n",
              "  </thead>\n",
              "  <tbody>\n",
              "    <tr>\n",
              "      <th>0</th>\n",
              "      <td>1/19/2020 10:09:49</td>\n",
              "      <td>75.01-95.01-Computación - 1 - Strobino</td>\n",
              "      <td>Excelente</td>\n",
              "      <td>Sí</td>\n",
              "      <td>Interesantes</td>\n",
              "      <td>Sí</td>\n",
              "      <td>Excelentes</td>\n",
              "      <td>Buenas</td>\n",
              "      <td>Normal</td>\n",
              "      <td>Normal</td>\n",
              "      <td>La primera parte del curso fue más bueno que e...</td>\n",
              "      <td>Si</td>\n",
              "    </tr>\n",
              "    <tr>\n",
              "      <th>1</th>\n",
              "      <td>2/14/2020 11:02:35</td>\n",
              "      <td>75.01-95.01-Computación - 11 - Calvo</td>\n",
              "      <td>Excelente</td>\n",
              "      <td>Sí</td>\n",
              "      <td>Interesantes</td>\n",
              "      <td>Sí</td>\n",
              "      <td>Excelentes</td>\n",
              "      <td>Excelentes</td>\n",
              "      <td>Normal</td>\n",
              "      <td>Normal</td>\n",
              "      <td>NaN</td>\n",
              "      <td>Si</td>\n",
              "    </tr>\n",
              "    <tr>\n",
              "      <th>2</th>\n",
              "      <td>2/14/2020 11:02:52</td>\n",
              "      <td>75.01-95.01-Computación - 11 - Calvo</td>\n",
              "      <td>Muy Bueno</td>\n",
              "      <td>Sí</td>\n",
              "      <td>Muy Interesantes</td>\n",
              "      <td>Sí</td>\n",
              "      <td>Muy Buenas</td>\n",
              "      <td>Muy Buenas</td>\n",
              "      <td>Normal</td>\n",
              "      <td>Normal</td>\n",
              "      <td>NaN</td>\n",
              "      <td>Si</td>\n",
              "    </tr>\n",
              "    <tr>\n",
              "      <th>3</th>\n",
              "      <td>2/14/2020 11:07:41</td>\n",
              "      <td>75.01-95.01-Computación - 11 - Calvo</td>\n",
              "      <td>Muy Bueno</td>\n",
              "      <td>Sí</td>\n",
              "      <td>Interesantes</td>\n",
              "      <td>Sí</td>\n",
              "      <td>Muy Buenas</td>\n",
              "      <td>Excelentes</td>\n",
              "      <td>Dificil</td>\n",
              "      <td>Normal</td>\n",
              "      <td>NaN</td>\n",
              "      <td>Si</td>\n",
              "    </tr>\n",
              "    <tr>\n",
              "      <th>4</th>\n",
              "      <td>2/14/2020 11:08:37</td>\n",
              "      <td>75.01-95.01-Computación - 11 - Calvo</td>\n",
              "      <td>Muy Bueno</td>\n",
              "      <td>Sí</td>\n",
              "      <td>Interesantes</td>\n",
              "      <td>Sí</td>\n",
              "      <td>Buenas</td>\n",
              "      <td>Muy Buenas</td>\n",
              "      <td>Normal</td>\n",
              "      <td>Normal</td>\n",
              "      <td>NaN</td>\n",
              "      <td>No</td>\n",
              "    </tr>\n",
              "  </tbody>\n",
              "</table>\n",
              "</div>\n",
              "      <button class=\"colab-df-convert\" onclick=\"convertToInteractive('df-b78727c2-c570-44eb-bf8d-34a37b329737')\"\n",
              "              title=\"Convert this dataframe to an interactive table.\"\n",
              "              style=\"display:none;\">\n",
              "        \n",
              "  <svg xmlns=\"http://www.w3.org/2000/svg\" height=\"24px\"viewBox=\"0 0 24 24\"\n",
              "       width=\"24px\">\n",
              "    <path d=\"M0 0h24v24H0V0z\" fill=\"none\"/>\n",
              "    <path d=\"M18.56 5.44l.94 2.06.94-2.06 2.06-.94-2.06-.94-.94-2.06-.94 2.06-2.06.94zm-11 1L8.5 8.5l.94-2.06 2.06-.94-2.06-.94L8.5 2.5l-.94 2.06-2.06.94zm10 10l.94 2.06.94-2.06 2.06-.94-2.06-.94-.94-2.06-.94 2.06-2.06.94z\"/><path d=\"M17.41 7.96l-1.37-1.37c-.4-.4-.92-.59-1.43-.59-.52 0-1.04.2-1.43.59L10.3 9.45l-7.72 7.72c-.78.78-.78 2.05 0 2.83L4 21.41c.39.39.9.59 1.41.59.51 0 1.02-.2 1.41-.59l7.78-7.78 2.81-2.81c.8-.78.8-2.07 0-2.86zM5.41 20L4 18.59l7.72-7.72 1.47 1.35L5.41 20z\"/>\n",
              "  </svg>\n",
              "      </button>\n",
              "      \n",
              "  <style>\n",
              "    .colab-df-container {\n",
              "      display:flex;\n",
              "      flex-wrap:wrap;\n",
              "      gap: 12px;\n",
              "    }\n",
              "\n",
              "    .colab-df-convert {\n",
              "      background-color: #E8F0FE;\n",
              "      border: none;\n",
              "      border-radius: 50%;\n",
              "      cursor: pointer;\n",
              "      display: none;\n",
              "      fill: #1967D2;\n",
              "      height: 32px;\n",
              "      padding: 0 0 0 0;\n",
              "      width: 32px;\n",
              "    }\n",
              "\n",
              "    .colab-df-convert:hover {\n",
              "      background-color: #E2EBFA;\n",
              "      box-shadow: 0px 1px 2px rgba(60, 64, 67, 0.3), 0px 1px 3px 1px rgba(60, 64, 67, 0.15);\n",
              "      fill: #174EA6;\n",
              "    }\n",
              "\n",
              "    [theme=dark] .colab-df-convert {\n",
              "      background-color: #3B4455;\n",
              "      fill: #D2E3FC;\n",
              "    }\n",
              "\n",
              "    [theme=dark] .colab-df-convert:hover {\n",
              "      background-color: #434B5C;\n",
              "      box-shadow: 0px 1px 3px 1px rgba(0, 0, 0, 0.15);\n",
              "      filter: drop-shadow(0px 1px 2px rgba(0, 0, 0, 0.3));\n",
              "      fill: #FFFFFF;\n",
              "    }\n",
              "  </style>\n",
              "\n",
              "      <script>\n",
              "        const buttonEl =\n",
              "          document.querySelector('#df-b78727c2-c570-44eb-bf8d-34a37b329737 button.colab-df-convert');\n",
              "        buttonEl.style.display =\n",
              "          google.colab.kernel.accessAllowed ? 'block' : 'none';\n",
              "\n",
              "        async function convertToInteractive(key) {\n",
              "          const element = document.querySelector('#df-b78727c2-c570-44eb-bf8d-34a37b329737');\n",
              "          const dataTable =\n",
              "            await google.colab.kernel.invokeFunction('convertToInteractive',\n",
              "                                                     [key], {});\n",
              "          if (!dataTable) return;\n",
              "\n",
              "          const docLinkHtml = 'Like what you see? Visit the ' +\n",
              "            '<a target=\"_blank\" href=https://colab.research.google.com/notebooks/data_table.ipynb>data table notebook</a>'\n",
              "            + ' to learn more about interactive tables.';\n",
              "          element.innerHTML = '';\n",
              "          dataTable['output_type'] = 'display_data';\n",
              "          await google.colab.output.renderOutput(dataTable, element);\n",
              "          const docLink = document.createElement('div');\n",
              "          docLink.innerHTML = docLinkHtml;\n",
              "          element.appendChild(docLink);\n",
              "        }\n",
              "      </script>\n",
              "    </div>\n",
              "  </div>\n",
              "  "
            ]
          },
          "metadata": {},
          "execution_count": 21
        }
      ]
    },
    {
      "cell_type": "markdown",
      "source": [
        "Para ver los índices de las columnas le pedimos al dataframe su colaborador *columns*"
      ],
      "metadata": {
        "id": "1tAxzyqIwOxA"
      }
    },
    {
      "cell_type": "code",
      "source": [
        "df_copia.columns"
      ],
      "metadata": {
        "colab": {
          "base_uri": "https://localhost:8080/"
        },
        "id": "ItkZXkB0wO3U",
        "outputId": "774e79e5-03db-4faa-9f9e-87514454f53c"
      },
      "execution_count": null,
      "outputs": [
        {
          "output_type": "execute_result",
          "data": {
            "text/plain": [
              "Index(['Marca temporal', 'Curso', 'Opinión General Sobre el Curso',\n",
              "       '¿Aprobó la Cursada?', '¿Cómo te Resultaron los Temas de la Materia?',\n",
              "       '¿Los Temas de la Materia Están Actualizados?',\n",
              "       'Nivel de las Clases Teóricas del Curso',\n",
              "       'Nivel de las Clases Prácticas del Curso', 'Dificultad del Curso',\n",
              "       'Dificultad del TP', 'Comentarios Sobre el Curso',\n",
              "       '¿El email puede ser mostrado al docente?'],\n",
              "      dtype='object')"
            ]
          },
          "metadata": {},
          "execution_count": 22
        }
      ]
    },
    {
      "cell_type": "markdown",
      "source": [
        "Mediante el método *rename* podemos cambiar el nombre de una columna específica"
      ],
      "metadata": {
        "id": "NMXofoc4wO9b"
      }
    },
    {
      "cell_type": "code",
      "source": [
        "df_copia = df_copia.rename(columns = {\"Marca temporal\":\"Fecha y hora\"})\n",
        "df_copia.columns"
      ],
      "metadata": {
        "colab": {
          "base_uri": "https://localhost:8080/"
        },
        "id": "o0L87DICw18P",
        "outputId": "25ebfa6c-93a0-4456-8a6f-7bd46270f820"
      },
      "execution_count": null,
      "outputs": [
        {
          "output_type": "execute_result",
          "data": {
            "text/plain": [
              "Index(['Fecha y hora', 'Curso', 'Opinión General Sobre el Curso',\n",
              "       '¿Aprobó la Cursada?', '¿Cómo te Resultaron los Temas de la Materia?',\n",
              "       '¿Los Temas de la Materia Están Actualizados?',\n",
              "       'Nivel de las Clases Teóricas del Curso',\n",
              "       'Nivel de las Clases Prácticas del Curso', 'Dificultad del Curso',\n",
              "       'Dificultad del TP', 'Comentarios Sobre el Curso',\n",
              "       '¿El email puede ser mostrado al docente?'],\n",
              "      dtype='object')"
            ]
          },
          "metadata": {},
          "execution_count": 23
        }
      ]
    }
  ]
}