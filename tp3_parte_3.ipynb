{
  "nbformat": 4,
  "nbformat_minor": 0,
  "metadata": {
    "colab": {
      "provenance": [],
      "authorship_tag": "ABX9TyNYc9j6WFDNZqjBa2Dhjc/m",
      "include_colab_link": true
    },
    "kernelspec": {
      "name": "python3",
      "display_name": "Python 3"
    },
    "language_info": {
      "name": "python"
    }
  },
  "cells": [
    {
      "cell_type": "markdown",
      "metadata": {
        "id": "view-in-github",
        "colab_type": "text"
      },
      "source": [
        "<a href=\"https://colab.research.google.com/github/Nacho2904/orga_de_datos/blob/main/tp3_parte_3.ipynb\" target=\"_parent\"><img src=\"https://colab.research.google.com/assets/colab-badge.svg\" alt=\"Open In Colab\"/></a>"
      ]
    },
    {
      "cell_type": "code",
      "execution_count": 1,
      "metadata": {
        "colab": {
          "base_uri": "https://localhost:8080/"
        },
        "id": "7-7fkwozC3D3",
        "outputId": "e85962be-1ddf-422a-8d4a-517c3238a002"
      },
      "outputs": [
        {
          "output_type": "stream",
          "name": "stdout",
          "text": [
            "Mounted at /content/gdrive\n"
          ]
        }
      ],
      "source": [
        "import pandas as pd\n",
        "import numpy as np\n",
        "import matplotlib.pyplot as plt\n",
        "from sklearn import preprocessing\n",
        "from sklearn.pipeline import Pipeline\n",
        "from sklearn.feature_extraction.text import TfidfVectorizer\n",
        "from sklearn.metrics import top_k_accuracy_score\n",
        "from sklearn.metrics import accuracy_score\n",
        "from sklearn.metrics import confusion_matrix\n",
        "from google.colab import drive \n",
        "import nltk\n",
        "import functools\n",
        "import xgboost as xgb\n",
        "\n",
        "drive.mount('/content/gdrive')\n",
        "path_a_training_set = 'gdrive/MyDrive/TP3 dataset music/train.parquet'\n",
        "path_a_test_set = 'gdrive/MyDrive/TP3 dataset music/test.parquet'\n",
        "\n",
        "\n",
        "df_music_train = pd.read_parquet(path_a_training_set).fillna(\"\")\n",
        "df_music_test = pd.read_parquet(path_a_test_set).fillna(\"\")"
      ]
    },
    {
      "cell_type": "markdown",
      "source": [
        "## Preprocessing"
      ],
      "metadata": {
        "id": "fwptY_P6y2pm"
      }
    },
    {
      "cell_type": "code",
      "source": [
        "nltk.download('stopwords')\n",
        "nltk.download('punkt')\n",
        "\n",
        "genres = list(df_music_train[\"genre\"].unique())\n",
        "def get_vectorizers_by_genre(df_music: pd.DataFrame) -> dict:\n",
        "  df_music_lyric_tokenized = df_music.copy().fillna(\"\")\n",
        "  df_music_lyric_tokenized[\"lyric\"] = df_music_lyric_tokenized[\"lyric\"].map(lambda lyric: set(nltk.word_tokenize(lyric)))\n",
        "  df_music_grouped_by_genre = df_music_lyric_tokenized[[\"genre\", \"lyric\"]].groupby('genre').agg(lambda x: functools.reduce(set.union, x)).reset_index()\n",
        "  vocabs = dict(zip(df_music_grouped_by_genre.genre.to_list(), df_music_grouped_by_genre.lyric.to_list()))\n",
        "  stopwords = set(nltk.corpus.stopwords.words(\"english\")).union(set(nltk.corpus.stopwords.words(\"spanish\"))).union(set(nltk.corpus.stopwords.words(\"french\")))\n",
        "  vectorizers = {genre: TfidfVectorizer(input = \"content\", stop_words = stopwords, vocabulary = vocabs[genre]) for genre in genres}\n",
        "  for genre in genres:\n",
        "    vectorizers[genre].fit(df_music[df_music[\"genre\"] == genre][\"genre\"])\n",
        "  return vectorizers\n",
        "\n",
        "vectorizers = get_vectorizers_by_genre(df_music_train)"
      ],
      "metadata": {
        "id": "seazRU21KuOZ",
        "colab": {
          "base_uri": "https://localhost:8080/"
        },
        "outputId": "9061a5f9-9159-427f-8640-74c6eb26b4d3"
      },
      "execution_count": 2,
      "outputs": [
        {
          "output_type": "stream",
          "name": "stderr",
          "text": [
            "[nltk_data] Downloading package stopwords to /root/nltk_data...\n",
            "[nltk_data]   Unzipping corpora/stopwords.zip.\n",
            "[nltk_data] Downloading package punkt to /root/nltk_data...\n",
            "[nltk_data]   Unzipping tokenizers/punkt.zip.\n",
            "/usr/local/lib/python3.7/dist-packages/sklearn/feature_extraction/text.py:1323: UserWarning: Upper case characters found in vocabulary while 'lowercase' is True. These entries will not be matched with any documents\n",
            "  \"Upper case characters found in\"\n"
          ]
        }
      ]
    },
    {
      "cell_type": "code",
      "source": [
        "def get_sum_tfidf_from_lyrics(df_music: pd.DataFrame) -> pd.DataFrame:\n",
        "  df_music = df_music.fillna(\"\")\n",
        "  column_names = [\"sum_tfidf_for_\" + genre.lower() for genre in genres]\n",
        "  for i in range(0, len(genres)):\n",
        "    df_music[column_names[i]] = np.sum(vectorizers[genres[i]].transform(df_music[\"lyric\"]), axis = 1)\n",
        "  return df_music[column_names]\n",
        "\n",
        "get_sum_tfidf_from_lyrics(df_music_train).columns"
      ],
      "metadata": {
        "colab": {
          "base_uri": "https://localhost:8080/"
        },
        "id": "Hn7ojEFq-YXi",
        "outputId": "b36a10e1-ed38-4309-8dae-d0708d4ab2b9"
      },
      "execution_count": 3,
      "outputs": [
        {
          "output_type": "execute_result",
          "data": {
            "text/plain": [
              "Index(['sum_tfidf_for_dance', 'sum_tfidf_for_pop', 'sum_tfidf_for_r&b',\n",
              "       'sum_tfidf_for_hip-hop', 'sum_tfidf_for_rap', 'sum_tfidf_for_soul',\n",
              "       'sum_tfidf_for_rock', 'sum_tfidf_for_blues', 'sum_tfidf_for_folk',\n",
              "       'sum_tfidf_for_jazz', 'sum_tfidf_for_country',\n",
              "       'sum_tfidf_for_alternative', 'sum_tfidf_for_children’s music',\n",
              "       'sum_tfidf_for_indie', 'sum_tfidf_for_electronic',\n",
              "       'sum_tfidf_for_classical', 'sum_tfidf_for_opera', 'sum_tfidf_for_world',\n",
              "       'sum_tfidf_for_ska', 'sum_tfidf_for_comedy', 'sum_tfidf_for_reggae',\n",
              "       'sum_tfidf_for_reggaeton', 'sum_tfidf_for_children's music',\n",
              "       'sum_tfidf_for_soundtrack', 'sum_tfidf_for_anime',\n",
              "       'sum_tfidf_for_movie'],\n",
              "      dtype='object')"
            ]
          },
          "metadata": {},
          "execution_count": 3
        }
      ]
    },
    {
      "cell_type": "code",
      "source": [
        "def eliminate_genres_without_enough_observations(df_music: pd.DataFrame) -> pd.DataFrame:\n",
        "  df_music_recuento_filas_por_genero = df_music.groupby(\"genre\").count().reset_index()[[\"genre\", \"track_name\"]].rename(\n",
        "    columns = {\"track_name\": \"rowCount\"}).sort_values(\"rowCount\")\n",
        "  problematic_genres = list(df_music_recuento_filas_por_genero[df_music_recuento_filas_por_genero[\"rowCount\"] < 50].genre)[1:]\n",
        "  return df_music[~df_music[\"genre\"].isin(problematic_genres)]"
      ],
      "metadata": {
        "id": "TQCnc16lQAxu"
      },
      "execution_count": 4,
      "outputs": []
    },
    {
      "cell_type": "code",
      "source": [
        "nltk.download('punkt')\n",
        "def get_length_transforms_for_text(df_music: pd.DataFrame) -> pd.DataFrame:\n",
        "  df_music[\"number_of_lines\"] = df_music[\"lyric\"].map(lambda lyric: len(lyric.split(\"\\n\")))\n",
        "  df_music[\"number_of_tokens\"] = df_music[\"lyric\"].map(lambda lyric: len(nltk.word_tokenize(lyric)))\n",
        "  df_music[\"length_lyrics\"] = df_music[\"lyric\"].map(lambda lyric: len(lyric))\n",
        "  return df_music[[\"length_lyrics\", \"number_of_lines\", \"number_of_tokens\"]]"
      ],
      "metadata": {
        "colab": {
          "base_uri": "https://localhost:8080/"
        },
        "id": "T1QqQUHIEHzj",
        "outputId": "08ab5c3b-a14e-411e-d1ab-dfb9f7004389"
      },
      "execution_count": 5,
      "outputs": [
        {
          "output_type": "stream",
          "name": "stderr",
          "text": [
            "[nltk_data] Downloading package punkt to /root/nltk_data...\n",
            "[nltk_data]   Package punkt is already up-to-date!\n"
          ]
        }
      ]
    },
    {
      "cell_type": "code",
      "source": [
        "nltk.download('averaged_perceptron_tagger')\n",
        "\n",
        "def get_POS_vector_from_lyric_POS(lyric_POS):\n",
        "  useful_pos_tags = [\"FW\", \"JJR\", \"NN\", \"NNS\", \"NNP\", \"PDT\", \"PRP\", \"RB\", \"RBR\",\n",
        "                   \"UH\", \"VB\", \"VBG\", \"VBD\", \"VBN\", \"VBP\", \"VBZ\"]\n",
        "  POS_dictionary = {pos_tag:0 for pos_tag in useful_pos_tags}\n",
        "  POS_dictionary.update({\"other\":0})\n",
        "\n",
        "  for token in lyric_POS:\n",
        "    if token[1] in useful_pos_tags:\n",
        "      POS_dictionary[token[1]] += 1\n",
        "    else:\n",
        "      POS_dictionary[\"other\"] += 1\n",
        "\n",
        "  return [POS_dictionary[pos_tag] for pos_tag in POS_dictionary]\n",
        "  \n",
        "\n",
        "def get_POS_chunk_taggin_counts_for_text(df_music: pd.DataFrame) -> pd.DataFrame:\n",
        "  df_music[\"lyric_POS\"] = df_music[\"lyric\"].map(lambda lyric: nltk.pos_tag(nltk.word_tokenize(lyric)))\n",
        "  df_music[\"lyric_POS\"] = df_music[\"lyric_POS\"].map(lambda lyric_pos: get_POS_vector_from_lyric_POS(lyric_pos))\n",
        "  return pd.DataFrame(df_music[\"lyric_POS\"].to_list())\n"
      ],
      "metadata": {
        "id": "LOEyM2E-Ny6P",
        "outputId": "d733f71c-1257-4cbd-b16d-fc5940f31600",
        "colab": {
          "base_uri": "https://localhost:8080/"
        }
      },
      "execution_count": 6,
      "outputs": [
        {
          "output_type": "stream",
          "name": "stderr",
          "text": [
            "[nltk_data] Downloading package averaged_perceptron_tagger to\n",
            "[nltk_data]     /root/nltk_data...\n",
            "[nltk_data]   Unzipping taggers/averaged_perceptron_tagger.zip.\n"
          ]
        }
      ]
    },
    {
      "cell_type": "code",
      "source": [
        "df_music_filtered_genres = eliminate_genres_without_enough_observations(df_music_train)\n",
        "artists = list(df_music_filtered_genres[\"artist\"].unique())\n",
        "train_artists = set(artists[:int(0.9*len(artists))])\n",
        "validation_artists = set(artists[int(0.9*len(artists)):])\n",
        "train_set = df_music_filtered_genres[df_music_filtered_genres[\"artist\"].isin(train_artists)]\n",
        "validation_set = df_music_filtered_genres[df_music_filtered_genres[\"artist\"].isin(validation_artists)]"
      ],
      "metadata": {
        "id": "0WXfDLhA174X"
      },
      "execution_count": 7,
      "outputs": []
    },
    {
      "cell_type": "code",
      "source": [
        "def mean_hot_encoder(df_music: pd.DataFrame, df_training: pd.DataFrame) -> pd.DataFrame:\n",
        "  df_training_grouped_by_lang = df_training.groupby(\"language\").mean().reset_index()[[\"language\", \"popularity\"]]\n",
        "  df_new_columns = df_music.merge(df_training_grouped_by_lang, on = \"language\", how = \"left\")\n",
        "  return df_new_columns[[\"popularity_y\"]].fillna(0)\n",
        "\n",
        "mean_hot_encoder_using_training_set = lambda df_to_encode: mean_hot_encoder(df_to_encode, df_music_train) "
      ],
      "metadata": {
        "id": "wG1TiABKECHD"
      },
      "execution_count": 8,
      "outputs": []
    },
    {
      "cell_type": "code",
      "source": [
        "from sklearn.compose import ColumnTransformer\n",
        "from sklearn.linear_model import LogisticRegression\n",
        "from sklearn.impute import SimpleImputer\n",
        "\n",
        "text_features = [\"track_name\", \"lyric\", \"artist\"]\n",
        "\n",
        "numerical_features = [\"a_songs\", \"a_popularity\", \"popularity\", \"acousticness\", \"danceability\", \"duration_ms\",\n",
        "                   \"energy\", \"instrumentalness\", \"liveness\", \"loudness\", \"speechiness\", \"tempo\", \"valence\"]\n",
        "\n",
        "ordinal_features = [\"key\"]\n",
        "\n",
        "one_hot_features = [\"mode\"]\n",
        "\n",
        "mean_enc_features = [\"language\"]\n",
        "\n",
        "artist_genres = [\"a_genres\", \"genre\"]\n",
        "\n",
        "label = [\"genre\"]\n",
        "\n",
        "identity_transformer = preprocessing.FunctionTransformer(None)\n",
        "\n",
        "label_encoder = preprocessing.LabelEncoder()\n",
        "label_encoder.fit(df_music_train[\"genre\"])\n",
        "\n",
        "full_processor = ColumnTransformer(transformers=[\n",
        "    ('text_tf_idf', preprocessing.FunctionTransformer(get_sum_tfidf_from_lyrics), text_features),\n",
        "    ('text_simple_transforms', preprocessing.FunctionTransformer(get_length_transforms_for_text), text_features),\n",
        "    ('text_POS_count', preprocessing.FunctionTransformer(get_POS_chunk_taggin_counts_for_text), text_features),\n",
        "    ('mean_encoding', preprocessing.FunctionTransformer(mean_hot_encoder_using_training_set), list(df_music_train.columns)),\n",
        "    ('one_hot_encoding', preprocessing.OneHotEncoder(), one_hot_features),\n",
        "    ('numerical', identity_transformer, numerical_features),\n",
        "    ('ordinal', preprocessing.OrdinalEncoder(categories = [['C', 'C#', 'D', 'D#', 'E', 'F', 'F#', 'G', 'G#', 'A', 'A#', 'B']]), ordinal_features)])\n",
        "\n",
        "logistic_regression_pipeline = Pipeline(steps = [\n",
        "    ('preprocess_X', full_processor),\n",
        "    ('model', LogisticRegression(penalty='l2', C = 1, solver = \"liblinear\", max_iter = 500, fit_intercept = True))\n",
        "])\n"
      ],
      "metadata": {
        "id": "ApBgPVOuocwU"
      },
      "execution_count": 9,
      "outputs": []
    },
    {
      "cell_type": "code",
      "source": [
        "X_train = full_processor.fit_transform(train_set)\n",
        "y_train = label_encoder.transform(train_set.genre)\n",
        "X_validation = full_processor.transform(validation_set)\n",
        "y_validation = label_encoder.transform(validation_set.genre)"
      ],
      "metadata": {
        "id": "-FqONIT2z8xf"
      },
      "execution_count": 10,
      "outputs": []
    },
    {
      "cell_type": "markdown",
      "source": [
        "## XGBoost"
      ],
      "metadata": {
        "id": "Lq8nOqHE69hQ"
      }
    },
    {
      "cell_type": "code",
      "source": [
        "modelo_xgb = xgb.XGBClassifier(enable_categorical = True, booster = \"gbtree\")\n",
        "modelo_xgb.fit(X_train, y_train)"
      ],
      "metadata": {
        "id": "VlmT_qgyUqV2",
        "outputId": "4ba9ca59-1b73-4c5c-c5be-2c42b71a9f42",
        "colab": {
          "base_uri": "https://localhost:8080/"
        }
      },
      "execution_count": null,
      "outputs": [
        {
          "output_type": "execute_result",
          "data": {
            "text/plain": [
              "XGBClassifier(enable_categorical=True, objective='multi:softprob')"
            ]
          },
          "metadata": {},
          "execution_count": 19
        }
      ]
    },
    {
      "cell_type": "code",
      "source": [
        "preds = modelo_xgb.predict_proba(X_validation)\n",
        "top_k_accuracy_score(y_validation, preds, labels = modelo_xgb.classes_), accuracy_score(y_validation, modelo_xgb.predict(X_validation))"
      ],
      "metadata": {
        "id": "WnmQfNbiX_Yq",
        "outputId": "bb334106-1f9e-4956-9edd-cae5b823e445",
        "colab": {
          "base_uri": "https://localhost:8080/"
        }
      },
      "execution_count": null,
      "outputs": [
        {
          "output_type": "execute_result",
          "data": {
            "text/plain": [
              "(0.5312090790048014, 0.33347883020515057)"
            ]
          },
          "metadata": {},
          "execution_count": 22
        }
      ]
    },
    {
      "cell_type": "code",
      "source": [
        "from hyperopt import STATUS_OK, Trials, fmin, hp, tpe\n",
        "\n",
        "space={'max_depth': hp.quniform(\"max_depth\", 1, 200, 1),\n",
        "        'gamma': hp.uniform ('gamma', 0.1,6),\n",
        "        'colsample_bytree' : hp.uniform('colsample_bytree', 0.1,1),\n",
        "        'min_child_weight' : hp.quniform('min_child_weight', 0, 100, 1),\n",
        "        'n_estimators': hp.quniform(\"n_estimators\", 3, 350,1),\n",
        "        'learning_rate': hp.uniform('learning_rate', 0.1,10),\n",
        "        'reg_alpha': hp.uniform('reg_alpha', 0.1,10),\n",
        "        'reg_lambda': hp.uniform('reg_lambda', 0.1,10),\n",
        "        \"scale_pos_weight\": hp.quniform(\"scale_pos_weight\", 1, 200, 1),\n",
        "        'seed': 1}\n",
        "\n",
        "def objective(space):\n",
        "\n",
        "  evaluation = [( X_train, y_train), ( X_validation, y_validation)]\n",
        "\n",
        "  classifier = xgb.XGBClassifier(n_estimators =int(space['n_estimators']), max_depth = int(space['max_depth']), gamma = space['gamma'],\n",
        "                                  min_child_weight=space['min_child_weight'],\n",
        "                                  colsample_bytree=space['colsample_bytree'], objective = \"multi:softprob\", booster = \"gbtree\",\n",
        "                                  learning_rate = space[\"learning_rate\"], reg_alpha = space['reg_alpha'],\n",
        "                                  reg_lambda = space['reg_lambda'],\n",
        "                                  scale_pos_weight=space[\"scale_pos_weight\"])\n",
        "  \n",
        "  classifier.fit(X_train, y_train, verbose=False, early_stopping_rounds = 3,\n",
        "                 eval_set=evaluation, eval_metric=\"merror\")\n",
        "\n",
        "  preds = classifier.predict_proba(X_validation)\n",
        "  accuracy = top_k_accuracy_score(y_validation, preds, labels = classifier.classes_)\n",
        "  \n",
        "  print (\"top_k_accuracy_score:\", accuracy)\n",
        "  print(classifier.get_params())\n",
        "\n",
        "  return {'loss': -accuracy, 'status': STATUS_OK }\n",
        "  \n",
        "trials = Trials()\n",
        "\n",
        "best_hyperparams = fmin(fn = objective,\n",
        "                        space = space,\n",
        "                        algo = tpe.suggest,\n",
        "                        max_evals = 30,\n",
        "                        trials = trials)"
      ],
      "metadata": {
        "id": "8aVIplOjZd8L",
        "colab": {
          "base_uri": "https://localhost:8080/"
        },
        "outputId": "e6891bfb-8489-408b-a7fb-45370709fbd6"
      },
      "execution_count": 16,
      "outputs": [
        {
          "output_type": "stream",
          "name": "stdout",
          "text": [
            "top_k_accuracy_score:\n",
            "0.381492797904845\n",
            "{'base_score': 0.5, 'booster': 'gbtree', 'colsample_bylevel': 1, 'colsample_bynode': 1, 'colsample_bytree': 0.13930863057272616, 'gamma': 0.6393862755719381, 'learning_rate': 8.711161003507586, 'max_delta_step': 0, 'max_depth': 89, 'min_child_weight': 10.0, 'missing': None, 'n_estimators': 279, 'n_jobs': 1, 'nthread': None, 'objective': 'multi:softprob', 'random_state': 0, 'reg_alpha': 6.58476333812884, 'reg_lambda': 3.5423029655336054, 'scale_pos_weight': 90.0, 'seed': None, 'silent': None, 'subsample': 1, 'verbosity': 1}\n",
            "top_k_accuracy_score:\n",
            "0.3701440419030991\n",
            "{'base_score': 0.5, 'booster': 'gbtree', 'colsample_bylevel': 1, 'colsample_bynode': 1, 'colsample_bytree': 0.3633251863264566, 'gamma': 1.6099781054681195, 'learning_rate': 8.050435235929438, 'max_delta_step': 0, 'max_depth': 134, 'min_child_weight': 33.0, 'missing': None, 'n_estimators': 302, 'n_jobs': 1, 'nthread': None, 'objective': 'multi:softprob', 'random_state': 0, 'reg_alpha': 0.9785382446614761, 'reg_lambda': 9.250934130905124, 'scale_pos_weight': 196.0, 'seed': None, 'silent': None, 'subsample': 1, 'verbosity': 1}\n",
            "top_k_accuracy_score:\n",
            "0.4233958969882147\n",
            "{'base_score': 0.5, 'booster': 'gbtree', 'colsample_bylevel': 1, 'colsample_bynode': 1, 'colsample_bytree': 0.6958925484161267, 'gamma': 2.5269255982104593, 'learning_rate': 4.27303172062082, 'max_delta_step': 0, 'max_depth': 93, 'min_child_weight': 57.0, 'missing': None, 'n_estimators': 253, 'n_jobs': 1, 'nthread': None, 'objective': 'multi:softprob', 'random_state': 0, 'reg_alpha': 2.9139215313043505, 'reg_lambda': 7.7933868295553745, 'scale_pos_weight': 181.0, 'seed': None, 'silent': None, 'subsample': 1, 'verbosity': 1}\n",
            "top_k_accuracy_score:\n",
            "0.44914884329986904\n",
            "{'base_score': 0.5, 'booster': 'gbtree', 'colsample_bylevel': 1, 'colsample_bynode': 1, 'colsample_bytree': 0.44548568416822476, 'gamma': 0.9567184801704516, 'learning_rate': 0.9852849709066176, 'max_delta_step': 0, 'max_depth': 171, 'min_child_weight': 67.0, 'missing': None, 'n_estimators': 52, 'n_jobs': 1, 'nthread': None, 'objective': 'multi:softprob', 'random_state': 0, 'reg_alpha': 2.4259489102527176, 'reg_lambda': 8.586074600774618, 'scale_pos_weight': 187.0, 'seed': None, 'silent': None, 'subsample': 1, 'verbosity': 1}\n",
            "top_k_accuracy_score:\n",
            "0.39633347883020514\n",
            "{'base_score': 0.5, 'booster': 'gbtree', 'colsample_bylevel': 1, 'colsample_bynode': 1, 'colsample_bytree': 0.4449088783450892, 'gamma': 2.554856422065863, 'learning_rate': 3.7669554961725877, 'max_delta_step': 0, 'max_depth': 122, 'min_child_weight': 89.0, 'missing': None, 'n_estimators': 208, 'n_jobs': 1, 'nthread': None, 'objective': 'multi:softprob', 'random_state': 0, 'reg_alpha': 9.971942181041761, 'reg_lambda': 0.7829162499299818, 'scale_pos_weight': 87.0, 'seed': None, 'silent': None, 'subsample': 1, 'verbosity': 1}\n",
            "top_k_accuracy_score:\n",
            "0.3766914011348756\n",
            "{'base_score': 0.5, 'booster': 'gbtree', 'colsample_bylevel': 1, 'colsample_bynode': 1, 'colsample_bytree': 0.29453029823990473, 'gamma': 5.839133283987029, 'learning_rate': 7.232913040329567, 'max_delta_step': 0, 'max_depth': 80, 'min_child_weight': 77.0, 'missing': None, 'n_estimators': 264, 'n_jobs': 1, 'nthread': None, 'objective': 'multi:softprob', 'random_state': 0, 'reg_alpha': 5.015352174767255, 'reg_lambda': 0.967747449991156, 'scale_pos_weight': 113.0, 'seed': None, 'silent': None, 'subsample': 1, 'verbosity': 1}\n",
            "top_k_accuracy_score:\n",
            "0.45875163683980796\n",
            "{'base_score': 0.5, 'booster': 'gbtree', 'colsample_bylevel': 1, 'colsample_bynode': 1, 'colsample_bytree': 0.26053461358129903, 'gamma': 1.2538845386065651, 'learning_rate': 0.8768009225884217, 'max_delta_step': 0, 'max_depth': 99, 'min_child_weight': 71.0, 'missing': None, 'n_estimators': 166, 'n_jobs': 1, 'nthread': None, 'objective': 'multi:softprob', 'random_state': 0, 'reg_alpha': 9.949197354359656, 'reg_lambda': 7.188702556269595, 'scale_pos_weight': 119.0, 'seed': None, 'silent': None, 'subsample': 1, 'verbosity': 1}\n",
            "top_k_accuracy_score:\n",
            "0.48843299869052814\n",
            "{'base_score': 0.5, 'booster': 'gbtree', 'colsample_bylevel': 1, 'colsample_bynode': 1, 'colsample_bytree': 0.8583125044804641, 'gamma': 3.096644536947461, 'learning_rate': 5.649157712186656, 'max_delta_step': 0, 'max_depth': 111, 'min_child_weight': 28.0, 'missing': None, 'n_estimators': 48, 'n_jobs': 1, 'nthread': None, 'objective': 'multi:softprob', 'random_state': 0, 'reg_alpha': 5.627660192634788, 'reg_lambda': 5.932931185847986, 'scale_pos_weight': 61.0, 'seed': None, 'silent': None, 'subsample': 1, 'verbosity': 1}\n",
            "top_k_accuracy_score:\n",
            "0.3614142295940637\n",
            "{'base_score': 0.5, 'booster': 'gbtree', 'colsample_bylevel': 1, 'colsample_bynode': 1, 'colsample_bytree': 0.2815613962322721, 'gamma': 0.8984195435540329, 'learning_rate': 6.295642994851242, 'max_delta_step': 0, 'max_depth': 143, 'min_child_weight': 32.0, 'missing': None, 'n_estimators': 39, 'n_jobs': 1, 'nthread': None, 'objective': 'multi:softprob', 'random_state': 0, 'reg_alpha': 5.844842732481191, 'reg_lambda': 2.5763696632760835, 'scale_pos_weight': 69.0, 'seed': None, 'silent': None, 'subsample': 1, 'verbosity': 1}\n",
            "top_k_accuracy_score:\n",
            "0.39109559144478395\n",
            "{'base_score': 0.5, 'booster': 'gbtree', 'colsample_bylevel': 1, 'colsample_bynode': 1, 'colsample_bytree': 0.4452330251891857, 'gamma': 3.9796370702655968, 'learning_rate': 4.5901713260100765, 'max_delta_step': 0, 'max_depth': 23, 'min_child_weight': 72.0, 'missing': None, 'n_estimators': 233, 'n_jobs': 1, 'nthread': None, 'objective': 'multi:softprob', 'random_state': 0, 'reg_alpha': 6.731417351159751, 'reg_lambda': 6.113166757050268, 'scale_pos_weight': 43.0, 'seed': None, 'silent': None, 'subsample': 1, 'verbosity': 1}\n",
            "top_k_accuracy_score:\n",
            "0.3731994762112615\n",
            "{'base_score': 0.5, 'booster': 'gbtree', 'colsample_bylevel': 1, 'colsample_bynode': 1, 'colsample_bytree': 0.1833518231428541, 'gamma': 0.894035876153951, 'learning_rate': 4.834603337284829, 'max_delta_step': 0, 'max_depth': 142, 'min_child_weight': 21.0, 'missing': None, 'n_estimators': 284, 'n_jobs': 1, 'nthread': None, 'objective': 'multi:softprob', 'random_state': 0, 'reg_alpha': 7.399969195959854, 'reg_lambda': 6.710953849963178, 'scale_pos_weight': 130.0, 'seed': None, 'silent': None, 'subsample': 1, 'verbosity': 1}\n",
            "top_k_accuracy_score:\n",
            "0.4159755565255347\n",
            "{'base_score': 0.5, 'booster': 'gbtree', 'colsample_bylevel': 1, 'colsample_bynode': 1, 'colsample_bytree': 0.4381440747481412, 'gamma': 4.3703415022444245, 'learning_rate': 9.191864016319082, 'max_delta_step': 0, 'max_depth': 77, 'min_child_weight': 96.0, 'missing': None, 'n_estimators': 218, 'n_jobs': 1, 'nthread': None, 'objective': 'multi:softprob', 'random_state': 0, 'reg_alpha': 6.252442488646644, 'reg_lambda': 4.257807733200725, 'scale_pos_weight': 57.0, 'seed': None, 'silent': None, 'subsample': 1, 'verbosity': 1}\n",
            "top_k_accuracy_score:\n",
            "0.42645133129637713\n",
            "{'base_score': 0.5, 'booster': 'gbtree', 'colsample_bylevel': 1, 'colsample_bynode': 1, 'colsample_bytree': 0.7585185231052503, 'gamma': 5.9550381613994965, 'learning_rate': 4.360045470125488, 'max_delta_step': 0, 'max_depth': 185, 'min_child_weight': 92.0, 'missing': None, 'n_estimators': 340, 'n_jobs': 1, 'nthread': None, 'objective': 'multi:softprob', 'random_state': 0, 'reg_alpha': 2.2309515319844295, 'reg_lambda': 8.082541552792259, 'scale_pos_weight': 155.0, 'seed': None, 'silent': None, 'subsample': 1, 'verbosity': 1}\n",
            "top_k_accuracy_score:\n",
            "0.3889131383675251\n",
            "{'base_score': 0.5, 'booster': 'gbtree', 'colsample_bylevel': 1, 'colsample_bynode': 1, 'colsample_bytree': 0.4848033985466479, 'gamma': 1.9203386804153781, 'learning_rate': 4.884737354258218, 'max_delta_step': 0, 'max_depth': 102, 'min_child_weight': 68.0, 'missing': None, 'n_estimators': 255, 'n_jobs': 1, 'nthread': None, 'objective': 'multi:softprob', 'random_state': 0, 'reg_alpha': 1.160235118942497, 'reg_lambda': 2.5521108156981684, 'scale_pos_weight': 82.0, 'seed': None, 'silent': None, 'subsample': 1, 'verbosity': 1}\n",
            "top_k_accuracy_score:\n",
            "0.40375381929288523\n",
            "{'base_score': 0.5, 'booster': 'gbtree', 'colsample_bylevel': 1, 'colsample_bynode': 1, 'colsample_bytree': 0.13987287959012426, 'gamma': 4.699021528485374, 'learning_rate': 0.6098984715649753, 'max_delta_step': 0, 'max_depth': 11, 'min_child_weight': 74.0, 'missing': None, 'n_estimators': 181, 'n_jobs': 1, 'nthread': None, 'objective': 'multi:softprob', 'random_state': 0, 'reg_alpha': 1.3162535354141869, 'reg_lambda': 7.053415020651484, 'scale_pos_weight': 79.0, 'seed': None, 'silent': None, 'subsample': 1, 'verbosity': 1}\n",
            "top_k_accuracy_score:\n",
            "0.4225229157573112\n",
            "{'base_score': 0.5, 'booster': 'gbtree', 'colsample_bylevel': 1, 'colsample_bynode': 1, 'colsample_bytree': 0.7289968143794721, 'gamma': 4.761356046810312, 'learning_rate': 7.929282011523013, 'max_delta_step': 0, 'max_depth': 35, 'min_child_weight': 84.0, 'missing': None, 'n_estimators': 149, 'n_jobs': 1, 'nthread': None, 'objective': 'multi:softprob', 'random_state': 0, 'reg_alpha': 0.6809303241250483, 'reg_lambda': 1.4275670060250896, 'scale_pos_weight': 62.0, 'seed': None, 'silent': None, 'subsample': 1, 'verbosity': 1}\n",
            "top_k_accuracy_score:\n",
            "0.4919249236141423\n",
            "{'base_score': 0.5, 'booster': 'gbtree', 'colsample_bylevel': 1, 'colsample_bynode': 1, 'colsample_bytree': 0.9748515111332641, 'gamma': 3.6662464245652253, 'learning_rate': 7.87592211411246, 'max_delta_step': 0, 'max_depth': 147, 'min_child_weight': 36.0, 'missing': None, 'n_estimators': 197, 'n_jobs': 1, 'nthread': None, 'objective': 'multi:softprob', 'random_state': 0, 'reg_alpha': 3.111250029918193, 'reg_lambda': 5.995791060833491, 'scale_pos_weight': 45.0, 'seed': None, 'silent': None, 'subsample': 1, 'verbosity': 1}\n",
            "top_k_accuracy_score:\n",
            "0.5207333042339589\n",
            "{'base_score': 0.5, 'booster': 'gbtree', 'colsample_bylevel': 1, 'colsample_bynode': 1, 'colsample_bytree': 0.8194124489987997, 'gamma': 4.829537041540472, 'learning_rate': 0.16409226302940008, 'max_delta_step': 0, 'max_depth': 41, 'min_child_weight': 16.0, 'missing': None, 'n_estimators': 132, 'n_jobs': 1, 'nthread': None, 'objective': 'multi:softprob', 'random_state': 0, 'reg_alpha': 8.119013042968653, 'reg_lambda': 8.464891646365215, 'scale_pos_weight': 186.0, 'seed': None, 'silent': None, 'subsample': 1, 'verbosity': 1}\n",
            "top_k_accuracy_score:\n",
            "0.38367525098210387\n",
            "{'base_score': 0.5, 'booster': 'gbtree', 'colsample_bylevel': 1, 'colsample_bynode': 1, 'colsample_bytree': 0.31320050400734434, 'gamma': 0.8957560064165475, 'learning_rate': 6.821475018355923, 'max_delta_step': 0, 'max_depth': 100, 'min_child_weight': 40.0, 'missing': None, 'n_estimators': 15, 'n_jobs': 1, 'nthread': None, 'objective': 'multi:softprob', 'random_state': 0, 'reg_alpha': 6.3876827077879925, 'reg_lambda': 9.893612232745761, 'scale_pos_weight': 111.0, 'seed': None, 'silent': None, 'subsample': 1, 'verbosity': 1}\n",
            "top_k_accuracy_score:\n",
            "0.39371453513749455\n",
            "{'base_score': 0.5, 'booster': 'gbtree', 'colsample_bylevel': 1, 'colsample_bynode': 1, 'colsample_bytree': 0.17988610447862413, 'gamma': 5.014832396316528, 'learning_rate': 1.8435793771914255, 'max_delta_step': 0, 'max_depth': 148, 'min_child_weight': 37.0, 'missing': None, 'n_estimators': 4, 'n_jobs': 1, 'nthread': None, 'objective': 'multi:softprob', 'random_state': 0, 'reg_alpha': 9.552297689593864, 'reg_lambda': 1.9313066614329457, 'scale_pos_weight': 169.0, 'seed': None, 'silent': None, 'subsample': 1, 'verbosity': 1}\n",
            "top_k_accuracy_score:\n",
            "0.48057616761239635\n",
            "{'base_score': 0.5, 'booster': 'gbtree', 'colsample_bylevel': 1, 'colsample_bynode': 1, 'colsample_bytree': 0.998092677752485, 'gamma': 3.7755788140662103, 'learning_rate': 2.710590534676458, 'max_delta_step': 0, 'max_depth': 52, 'min_child_weight': 10.0, 'missing': None, 'n_estimators': 123, 'n_jobs': 1, 'nthread': None, 'objective': 'multi:softprob', 'random_state': 0, 'reg_alpha': 4.28159769605981, 'reg_lambda': 5.079862286037454, 'scale_pos_weight': 29.0, 'seed': None, 'silent': None, 'subsample': 1, 'verbosity': 1}\n",
            "top_k_accuracy_score:\n",
            "0.48013967699694454\n",
            "{'base_score': 0.5, 'booster': 'gbtree', 'colsample_bylevel': 1, 'colsample_bynode': 1, 'colsample_bytree': 0.9985548074255194, 'gamma': 5.5649808483693235, 'learning_rate': 9.906999074285274, 'max_delta_step': 0, 'max_depth': 58, 'min_child_weight': 3.0, 'missing': None, 'n_estimators': 108, 'n_jobs': 1, 'nthread': None, 'objective': 'multi:softprob', 'random_state': 0, 'reg_alpha': 8.09888261164635, 'reg_lambda': 9.902031415168544, 'scale_pos_weight': 1.0, 'seed': None, 'silent': None, 'subsample': 1, 'verbosity': 1}\n",
            "top_k_accuracy_score:\n",
            "0.48756001745962463\n",
            "{'base_score': 0.5, 'booster': 'gbtree', 'colsample_bylevel': 1, 'colsample_bynode': 1, 'colsample_bytree': 0.8987867927275934, 'gamma': 3.3236993678977993, 'learning_rate': 3.059061489080794, 'max_delta_step': 0, 'max_depth': 163, 'min_child_weight': 49.0, 'missing': None, 'n_estimators': 91, 'n_jobs': 1, 'nthread': None, 'objective': 'multi:softprob', 'random_state': 0, 'reg_alpha': 3.824976982055478, 'reg_lambda': 5.047229079801839, 'scale_pos_weight': 18.0, 'seed': None, 'silent': None, 'subsample': 1, 'verbosity': 1}\n",
            "top_k_accuracy_score:\n",
            "0.4089917066783064\n",
            "{'base_score': 0.5, 'booster': 'gbtree', 'colsample_bylevel': 1, 'colsample_bynode': 1, 'colsample_bytree': 0.6403574729111824, 'gamma': 5.3169618912616095, 'learning_rate': 5.945528261566084, 'max_delta_step': 0, 'max_depth': 199, 'min_child_weight': 20.0, 'missing': None, 'n_estimators': 142, 'n_jobs': 1, 'nthread': None, 'objective': 'multi:softprob', 'random_state': 0, 'reg_alpha': 7.9911142304003135, 'reg_lambda': 8.828859288316101, 'scale_pos_weight': 4.0, 'seed': None, 'silent': None, 'subsample': 1, 'verbosity': 1}\n",
            "top_k_accuracy_score:\n",
            "0.49410737669140115\n",
            "{'base_score': 0.5, 'booster': 'gbtree', 'colsample_bylevel': 1, 'colsample_bynode': 1, 'colsample_bytree': 0.897719314420247, 'gamma': 0.10977737527889664, 'learning_rate': 9.716457209950145, 'max_delta_step': 0, 'max_depth': 65, 'min_child_weight': 46.0, 'missing': None, 'n_estimators': 198, 'n_jobs': 1, 'nthread': None, 'objective': 'multi:softprob', 'random_state': 0, 'reg_alpha': 9.060024446718302, 'reg_lambda': 5.7576589900029544, 'scale_pos_weight': 156.0, 'seed': None, 'silent': None, 'subsample': 1, 'verbosity': 1}\n",
            "top_k_accuracy_score:\n",
            "0.46268005237887383\n",
            "{'base_score': 0.5, 'booster': 'gbtree', 'colsample_bylevel': 1, 'colsample_bynode': 1, 'colsample_bytree': 0.8330890690294783, 'gamma': 0.18467552452812325, 'learning_rate': 9.866762591221953, 'max_delta_step': 0, 'max_depth': 2, 'min_child_weight': 48.0, 'missing': None, 'n_estimators': 92, 'n_jobs': 1, 'nthread': None, 'objective': 'multi:softprob', 'random_state': 0, 'reg_alpha': 9.011797518384737, 'reg_lambda': 4.078169767072916, 'scale_pos_weight': 148.0, 'seed': None, 'silent': None, 'subsample': 1, 'verbosity': 1}\n",
            "top_k_accuracy_score:\n",
            "0.501964207769533\n",
            "{'base_score': 0.5, 'booster': 'gbtree', 'colsample_bylevel': 1, 'colsample_bynode': 1, 'colsample_bytree': 0.6328642539382109, 'gamma': 2.1307436122804075, 'learning_rate': 0.10292380366336892, 'max_delta_step': 0, 'max_depth': 57, 'min_child_weight': 58.0, 'missing': None, 'n_estimators': 339, 'n_jobs': 1, 'nthread': None, 'objective': 'multi:softprob', 'random_state': 0, 'reg_alpha': 8.8690831668115, 'reg_lambda': 7.648729915931407, 'scale_pos_weight': 141.0, 'seed': None, 'silent': None, 'subsample': 1, 'verbosity': 1}\n",
            "top_k_accuracy_score:\n",
            "0.5133129637712789\n",
            "{'base_score': 0.5, 'booster': 'gbtree', 'colsample_bylevel': 1, 'colsample_bynode': 1, 'colsample_bytree': 0.6084289271710468, 'gamma': 2.5260516008606175, 'learning_rate': 0.12880470284538695, 'max_delta_step': 0, 'max_depth': 40, 'min_child_weight': 59.0, 'missing': None, 'n_estimators': 336, 'n_jobs': 1, 'nthread': None, 'objective': 'multi:softprob', 'random_state': 0, 'reg_alpha': 8.317100484686287, 'reg_lambda': 9.342268972263456, 'scale_pos_weight': 137.0, 'seed': None, 'silent': None, 'subsample': 1, 'verbosity': 1}\n",
            "top_k_accuracy_score:\n",
            "0.4351811436054125\n",
            "{'base_score': 0.5, 'booster': 'gbtree', 'colsample_bylevel': 1, 'colsample_bynode': 1, 'colsample_bytree': 0.5969971769805634, 'gamma': 2.670451686367776, 'learning_rate': 2.1720889998831496, 'max_delta_step': 0, 'max_depth': 43, 'min_child_weight': 58.0, 'missing': None, 'n_estimators': 313, 'n_jobs': 1, 'nthread': None, 'objective': 'multi:softprob', 'random_state': 0, 'reg_alpha': 7.523715326849275, 'reg_lambda': 9.5506476929838, 'scale_pos_weight': 200.0, 'seed': None, 'silent': None, 'subsample': 1, 'verbosity': 1}\n",
            "top_k_accuracy_score:\n",
            "0.40288083806198166\n",
            "{'base_score': 0.5, 'booster': 'gbtree', 'colsample_bylevel': 1, 'colsample_bynode': 1, 'colsample_bytree': 0.533508642560377, 'gamma': 4.266720020200904, 'learning_rate': 1.6285237715633234, 'max_delta_step': 0, 'max_depth': 24, 'min_child_weight': 1.0, 'missing': None, 'n_estimators': 75, 'n_jobs': 1, 'nthread': None, 'objective': 'multi:softprob', 'random_state': 0, 'reg_alpha': 8.258772726520741, 'reg_lambda': 8.493658058324796, 'scale_pos_weight': 167.0, 'seed': None, 'silent': None, 'subsample': 1, 'verbosity': 1}\n",
            "100%|██████████| 30/30 [06:50<00:00, 13.68s/it, best loss: -0.5207333042339589]\n"
          ]
        }
      ]
    },
    {
      "cell_type": "code",
      "source": [
        "import pickle\n",
        "pickle.dump(trials, open(\"myfile.p\", \"wb\"))"
      ],
      "metadata": {
        "id": "L3M2MGr0hsda"
      },
      "execution_count": 19,
      "outputs": []
    },
    {
      "cell_type": "code",
      "source": [
        "trials = pickle.load(open(\"myfile.p\", \"rb\"))\n",
        "\n",
        "best = fmin(objective,\n",
        "    space=space,\n",
        "    algo=tpe.suggest,\n",
        "    trials=trials,\n",
        "    max_evals=100)"
      ],
      "metadata": {
        "id": "DR-BlXGBRs_x",
        "outputId": "db1dab2c-997c-44e8-eb79-0db44b03b5ca",
        "colab": {
          "base_uri": "https://localhost:8080/"
        }
      },
      "execution_count": 22,
      "outputs": [
        {
          "output_type": "stream",
          "name": "stdout",
          "text": [
            "top_k_accuracy_score:\n",
            "0.40026189436927107\n",
            "{'base_score': 0.5, 'booster': 'gbtree', 'colsample_bylevel': 1, 'colsample_bynode': 1, 'colsample_bytree': 0.6613408025462236, 'gamma': 4.089203065325756, 'learning_rate': 1.8151366593197429, 'max_delta_step': 0, 'max_depth': 45, 'min_child_weight': 18.0, 'missing': None, 'n_estimators': 41, 'n_jobs': 1, 'nthread': None, 'objective': 'multi:softprob', 'random_state': 0, 'reg_alpha': 2.6291568810387487, 'reg_lambda': 3.3449559835394416, 'scale_pos_weight': 158.0, 'seed': None, 'silent': None, 'subsample': 1, 'verbosity': 1}\n",
            "top_k_accuracy_score:\n",
            "0.3714535137494544\n",
            "{'base_score': 0.5, 'booster': 'gbtree', 'colsample_bylevel': 1, 'colsample_bynode': 1, 'colsample_bytree': 0.4802568090254981, 'gamma': 5.951719194186701, 'learning_rate': 6.683386726830195, 'max_delta_step': 0, 'max_depth': 131, 'min_child_weight': 13.0, 'missing': None, 'n_estimators': 163, 'n_jobs': 1, 'nthread': None, 'objective': 'multi:softprob', 'random_state': 0, 'reg_alpha': 4.880515900928275, 'reg_lambda': 4.580719379529488, 'scale_pos_weight': 63.0, 'seed': None, 'silent': None, 'subsample': 1, 'verbosity': 1}\n",
            "top_k_accuracy_score:\n",
            "0.49148843299869055\n",
            "{'base_score': 0.5, 'booster': 'gbtree', 'colsample_bylevel': 1, 'colsample_bynode': 1, 'colsample_bytree': 0.9351235930736359, 'gamma': 3.7160772777630724, 'learning_rate': 5.162024888979246, 'max_delta_step': 0, 'max_depth': 20, 'min_child_weight': 24.0, 'missing': None, 'n_estimators': 140, 'n_jobs': 1, 'nthread': None, 'objective': 'multi:softprob', 'random_state': 0, 'reg_alpha': 7.225363980087785, 'reg_lambda': 9.544211175227806, 'scale_pos_weight': 147.0, 'seed': None, 'silent': None, 'subsample': 1, 'verbosity': 1}\n",
            "top_k_accuracy_score:\n",
            "0.4936708860759494\n",
            "{'base_score': 0.5, 'booster': 'gbtree', 'colsample_bylevel': 1, 'colsample_bynode': 1, 'colsample_bytree': 0.8637390889391714, 'gamma': 1.0789777307254, 'learning_rate': 0.7762664445385865, 'max_delta_step': 0, 'max_depth': 162, 'min_child_weight': 37.0, 'missing': None, 'n_estimators': 85, 'n_jobs': 1, 'nthread': None, 'objective': 'multi:softprob', 'random_state': 0, 'reg_alpha': 8.634929835173418, 'reg_lambda': 2.607441155474957, 'scale_pos_weight': 178.0, 'seed': None, 'silent': None, 'subsample': 1, 'verbosity': 1}\n",
            "top_k_accuracy_score:\n",
            "0.4679179397642951\n",
            "{'base_score': 0.5, 'booster': 'gbtree', 'colsample_bylevel': 1, 'colsample_bynode': 1, 'colsample_bytree': 0.5250465546182822, 'gamma': 3.0446834606051896, 'learning_rate': 1.065788305629476, 'max_delta_step': 0, 'max_depth': 57, 'min_child_weight': 8.0, 'missing': None, 'n_estimators': 175, 'n_jobs': 1, 'nthread': None, 'objective': 'multi:softprob', 'random_state': 0, 'reg_alpha': 4.227682756118104, 'reg_lambda': 8.938946144857663, 'scale_pos_weight': 97.0, 'seed': None, 'silent': None, 'subsample': 1, 'verbosity': 1}\n",
            "top_k_accuracy_score:\n",
            "0.38542121344391095\n",
            "{'base_score': 0.5, 'booster': 'gbtree', 'colsample_bylevel': 1, 'colsample_bynode': 1, 'colsample_bytree': 0.23519570814428942, 'gamma': 3.9726416968357214, 'learning_rate': 3.474136616503071, 'max_delta_step': 0, 'max_depth': 38, 'min_child_weight': 5.0, 'missing': None, 'n_estimators': 283, 'n_jobs': 1, 'nthread': None, 'objective': 'multi:softprob', 'random_state': 0, 'reg_alpha': 6.116055803475861, 'reg_lambda': 5.744381543468178, 'scale_pos_weight': 9.0, 'seed': None, 'silent': None, 'subsample': 1, 'verbosity': 1}\n",
            "top_k_accuracy_score:\n",
            "0.3697075512876473\n",
            "{'base_score': 0.5, 'booster': 'gbtree', 'colsample_bylevel': 1, 'colsample_bynode': 1, 'colsample_bytree': 0.5659197765724332, 'gamma': 5.160825863913801, 'learning_rate': 8.278354359741778, 'max_delta_step': 0, 'max_depth': 93, 'min_child_weight': 12.0, 'missing': None, 'n_estimators': 204, 'n_jobs': 1, 'nthread': None, 'objective': 'multi:softprob', 'random_state': 0, 'reg_alpha': 9.3440894953819, 'reg_lambda': 3.694689541172213, 'scale_pos_weight': 53.0, 'seed': None, 'silent': None, 'subsample': 1, 'verbosity': 1}\n",
            "top_k_accuracy_score:\n",
            "0.49498035792230466\n",
            "{'base_score': 0.5, 'booster': 'gbtree', 'colsample_bylevel': 1, 'colsample_bynode': 1, 'colsample_bytree': 0.7465482488032057, 'gamma': 4.544743530464826, 'learning_rate': 0.29059350809751994, 'max_delta_step': 0, 'max_depth': 196, 'min_child_weight': 62.0, 'missing': None, 'n_estimators': 229, 'n_jobs': 1, 'nthread': None, 'objective': 'multi:softprob', 'random_state': 0, 'reg_alpha': 7.774460755271539, 'reg_lambda': 6.271566141879431, 'scale_pos_weight': 113.0, 'seed': None, 'silent': None, 'subsample': 1, 'verbosity': 1}\n",
            "top_k_accuracy_score:\n",
            "0.4770842426887822\n",
            "{'base_score': 0.5, 'booster': 'gbtree', 'colsample_bylevel': 1, 'colsample_bynode': 1, 'colsample_bytree': 0.9683295960348526, 'gamma': 4.842138647528191, 'learning_rate': 6.040188020351054, 'max_delta_step': 0, 'max_depth': 50, 'min_child_weight': 99.0, 'missing': None, 'n_estimators': 113, 'n_jobs': 1, 'nthread': None, 'objective': 'multi:softprob', 'random_state': 0, 'reg_alpha': 6.940576617778027, 'reg_lambda': 9.709185117077006, 'scale_pos_weight': 135.0, 'seed': None, 'silent': None, 'subsample': 1, 'verbosity': 1}\n",
            "top_k_accuracy_score:\n",
            "0.48843299869052814\n",
            "{'base_score': 0.5, 'booster': 'gbtree', 'colsample_bylevel': 1, 'colsample_bynode': 1, 'colsample_bytree': 0.8853655088389012, 'gamma': 0.7346731804911366, 'learning_rate': 4.141560265456226, 'max_delta_step': 0, 'max_depth': 110, 'min_child_weight': 24.0, 'missing': None, 'n_estimators': 51, 'n_jobs': 1, 'nthread': None, 'objective': 'multi:softprob', 'random_state': 0, 'reg_alpha': 9.95621642847962, 'reg_lambda': 6.872669445025073, 'scale_pos_weight': 34.0, 'seed': None, 'silent': None, 'subsample': 1, 'verbosity': 1}\n",
            "top_k_accuracy_score:\n",
            "0.3849847228284592\n",
            "{'base_score': 0.5, 'booster': 'gbtree', 'colsample_bylevel': 1, 'colsample_bynode': 1, 'colsample_bytree': 0.4209592390515183, 'gamma': 2.8531086643363013, 'learning_rate': 1.6727446027776847, 'max_delta_step': 0, 'max_depth': 82, 'min_child_weight': 30.0, 'missing': None, 'n_estimators': 136, 'n_jobs': 1, 'nthread': None, 'objective': 'multi:softprob', 'random_state': 0, 'reg_alpha': 2.6679511775163567, 'reg_lambda': 8.257847131064722, 'scale_pos_weight': 20.0, 'seed': None, 'silent': None, 'subsample': 1, 'verbosity': 1}\n",
            "top_k_accuracy_score:\n",
            "0.4295067656045395\n",
            "{'base_score': 0.5, 'booster': 'gbtree', 'colsample_bylevel': 1, 'colsample_bynode': 1, 'colsample_bytree': 0.6539647147526306, 'gamma': 3.4461405847836044, 'learning_rate': 4.636311110507166, 'max_delta_step': 0, 'max_depth': 122, 'min_child_weight': 35.0, 'missing': None, 'n_estimators': 7, 'n_jobs': 1, 'nthread': None, 'objective': 'multi:softprob', 'random_state': 0, 'reg_alpha': 5.564345913924941, 'reg_lambda': 7.353087065419133, 'scale_pos_weight': 119.0, 'seed': None, 'silent': None, 'subsample': 1, 'verbosity': 1}\n",
            "top_k_accuracy_score:\n",
            "0.45875163683980796\n",
            "{'base_score': 0.5, 'booster': 'gbtree', 'colsample_bylevel': 1, 'colsample_bynode': 1, 'colsample_bytree': 0.8173883498487098, 'gamma': 1.8600043905005534, 'learning_rate': 2.8275562384310793, 'max_delta_step': 0, 'max_depth': 63, 'min_child_weight': 44.0, 'missing': None, 'n_estimators': 152, 'n_jobs': 1, 'nthread': None, 'objective': 'multi:softprob', 'random_state': 0, 'reg_alpha': 1.46341828280084, 'reg_lambda': 7.665727980796035, 'scale_pos_weight': 77.0, 'seed': None, 'silent': None, 'subsample': 1, 'verbosity': 1}\n",
            "top_k_accuracy_score:\n",
            "0.49105194238323874\n",
            "{'base_score': 0.5, 'booster': 'gbtree', 'colsample_bylevel': 1, 'colsample_bynode': 1, 'colsample_bytree': 0.914690240895148, 'gamma': 0.34284303270705196, 'learning_rate': 1.4964009040344477, 'max_delta_step': 0, 'max_depth': 6, 'min_child_weight': 52.0, 'missing': None, 'n_estimators': 256, 'n_jobs': 1, 'nthread': None, 'objective': 'multi:softprob', 'random_state': 0, 'reg_alpha': 6.448216284623091, 'reg_lambda': 1.45765764493688, 'scale_pos_weight': 66.0, 'seed': None, 'silent': None, 'subsample': 1, 'verbosity': 1}\n",
            "top_k_accuracy_score:\n",
            "0.3998254037538193\n",
            "{'base_score': 0.5, 'booster': 'gbtree', 'colsample_bylevel': 1, 'colsample_bynode': 1, 'colsample_bytree': 0.3107518534790128, 'gamma': 1.5627764771533565, 'learning_rate': 2.2441416838460913, 'max_delta_step': 0, 'max_depth': 26, 'min_child_weight': 91.0, 'missing': None, 'n_estimators': 27, 'n_jobs': 1, 'nthread': None, 'objective': 'multi:softprob', 'random_state': 0, 'reg_alpha': 8.490803431097364, 'reg_lambda': 8.918026825378009, 'scale_pos_weight': 85.0, 'seed': None, 'silent': None, 'subsample': 1, 'verbosity': 1}\n",
            "top_k_accuracy_score:\n",
            "0.4932343954604976\n",
            "{'base_score': 0.5, 'booster': 'gbtree', 'colsample_bylevel': 1, 'colsample_bynode': 1, 'colsample_bytree': 0.8404042351313675, 'gamma': 1.6946160826580334, 'learning_rate': 0.21516515500011701, 'max_delta_step': 0, 'max_depth': 26, 'min_child_weight': 18.0, 'missing': None, 'n_estimators': 313, 'n_jobs': 1, 'nthread': None, 'objective': 'multi:softprob', 'random_state': 0, 'reg_alpha': 5.138831646780916, 'reg_lambda': 7.929624095328144, 'scale_pos_weight': 163.0, 'seed': None, 'silent': None, 'subsample': 1, 'verbosity': 1}\n",
            "top_k_accuracy_score:\n",
            "0.5154954168485377\n",
            "{'base_score': 0.5, 'booster': 'gbtree', 'colsample_bylevel': 1, 'colsample_bynode': 1, 'colsample_bytree': 0.7796428147911971, 'gamma': 2.5201502303473236, 'learning_rate': 0.5140404239724763, 'max_delta_step': 0, 'max_depth': 17, 'min_child_weight': 10.0, 'missing': None, 'n_estimators': 326, 'n_jobs': 1, 'nthread': None, 'objective': 'multi:softprob', 'random_state': 0, 'reg_alpha': 4.901611813346567, 'reg_lambda': 8.125045633244378, 'scale_pos_weight': 132.0, 'seed': None, 'silent': None, 'subsample': 1, 'verbosity': 1}\n",
            "top_k_accuracy_score:\n",
            "0.46137058053251856\n",
            "{'base_score': 0.5, 'booster': 'gbtree', 'colsample_bylevel': 1, 'colsample_bynode': 1, 'colsample_bytree': 0.6220431565149201, 'gamma': 1.4293999806808457, 'learning_rate': 1.0746327384360153, 'max_delta_step': 0, 'max_depth': 29, 'min_child_weight': 5.0, 'missing': None, 'n_estimators': 297, 'n_jobs': 1, 'nthread': None, 'objective': 'multi:softprob', 'random_state': 0, 'reg_alpha': 3.434009692622017, 'reg_lambda': 9.438056588598526, 'scale_pos_weight': 144.0, 'seed': None, 'silent': None, 'subsample': 1, 'verbosity': 1}\n",
            "top_k_accuracy_score:\n",
            "0.47752073330423395\n",
            "{'base_score': 0.5, 'booster': 'gbtree', 'colsample_bylevel': 1, 'colsample_bynode': 1, 'colsample_bytree': 0.7708568050830319, 'gamma': 2.174124226884501, 'learning_rate': 0.88699889126243, 'max_delta_step': 0, 'max_depth': 42, 'min_child_weight': 7.0, 'missing': None, 'n_estimators': 188, 'n_jobs': 1, 'nthread': None, 'objective': 'multi:softprob', 'random_state': 0, 'reg_alpha': 4.035106194745701, 'reg_lambda': 6.94493069902369, 'scale_pos_weight': 152.0, 'seed': None, 'silent': None, 'subsample': 1, 'verbosity': 1}\n",
            "top_k_accuracy_score:\n",
            "0.5242252291575731\n",
            "{'base_score': 0.5, 'booster': 'gbtree', 'colsample_bylevel': 1, 'colsample_bynode': 1, 'colsample_bytree': 0.7211872917819773, 'gamma': 1.0426571979381807, 'learning_rate': 0.10470618726476039, 'max_delta_step': 0, 'max_depth': 8, 'min_child_weight': 22.0, 'missing': None, 'n_estimators': 220, 'n_jobs': 1, 'nthread': None, 'objective': 'multi:softprob', 'random_state': 0, 'reg_alpha': 6.754360332077338, 'reg_lambda': 7.841000259352536, 'scale_pos_weight': 107.0, 'seed': None, 'silent': None, 'subsample': 1, 'verbosity': 1}\n",
            "top_k_accuracy_score:\n",
            "0.4177215189873418\n",
            "{'base_score': 0.5, 'booster': 'gbtree', 'colsample_bylevel': 1, 'colsample_bynode': 1, 'colsample_bytree': 0.7158404288482554, 'gamma': 0.9846807270883652, 'learning_rate': 1.9511222204941352, 'max_delta_step': 0, 'max_depth': 12, 'min_child_weight': 0.0, 'missing': None, 'n_estimators': 221, 'n_jobs': 1, 'nthread': None, 'objective': 'multi:softprob', 'random_state': 0, 'reg_alpha': 7.9369467437174706, 'reg_lambda': 6.43748790415029, 'scale_pos_weight': 105.0, 'seed': None, 'silent': None, 'subsample': 1, 'verbosity': 1}\n",
            "top_k_accuracy_score:\n",
            "0.5115670013094719\n",
            "{'base_score': 0.5, 'booster': 'gbtree', 'colsample_bylevel': 1, 'colsample_bynode': 1, 'colsample_bytree': 0.5759321930726491, 'gamma': 0.7454872165722595, 'learning_rate': 0.6295936017702317, 'max_delta_step': 0, 'max_depth': 56, 'min_child_weight': 27.0, 'missing': None, 'n_estimators': 176, 'n_jobs': 1, 'nthread': None, 'objective': 'multi:softprob', 'random_state': 0, 'reg_alpha': 5.829177137075369, 'reg_lambda': 9.987695273624418, 'scale_pos_weight': 199.0, 'seed': None, 'silent': None, 'subsample': 1, 'verbosity': 1}\n",
            "top_k_accuracy_score:\n",
            "0.441728502837189\n",
            "{'base_score': 0.5, 'booster': 'gbtree', 'colsample_bylevel': 1, 'colsample_bynode': 1, 'colsample_bytree': 0.8024454682226385, 'gamma': 0.345271482803014, 'learning_rate': 2.570361200715703, 'max_delta_step': 0, 'max_depth': 69, 'min_child_weight': 17.0, 'missing': None, 'n_estimators': 270, 'n_jobs': 1, 'nthread': None, 'objective': 'multi:softprob', 'random_state': 0, 'reg_alpha': 6.914333104504326, 'reg_lambda': 8.73360957246483, 'scale_pos_weight': 92.0, 'seed': None, 'silent': None, 'subsample': 1, 'verbosity': 1}\n",
            "top_k_accuracy_score:\n",
            "0.49410737669140115\n",
            "{'base_score': 0.5, 'booster': 'gbtree', 'colsample_bylevel': 1, 'colsample_bynode': 1, 'colsample_bytree': 0.8484399697614026, 'gamma': 1.1341847525519624, 'learning_rate': 1.496097949203722, 'max_delta_step': 0, 'max_depth': 45, 'min_child_weight': 21.0, 'missing': None, 'n_estimators': 242, 'n_jobs': 1, 'nthread': None, 'objective': 'multi:softprob', 'random_state': 0, 'reg_alpha': 8.728520816379884, 'reg_lambda': 7.768347178230363, 'scale_pos_weight': 175.0, 'seed': None, 'silent': None, 'subsample': 1, 'verbosity': 1}\n",
            "top_k_accuracy_score:\n",
            "0.4487123526844173\n",
            "{'base_score': 0.5, 'booster': 'gbtree', 'colsample_bylevel': 1, 'colsample_bynode': 1, 'colsample_bytree': 0.7323366464117518, 'gamma': 2.0559626410060656, 'learning_rate': 3.5836423120087266, 'max_delta_step': 0, 'max_depth': 6, 'min_child_weight': 12.0, 'missing': None, 'n_estimators': 210, 'n_jobs': 1, 'nthread': None, 'objective': 'multi:softprob', 'random_state': 0, 'reg_alpha': 7.28646393109352, 'reg_lambda': 5.645974198398748, 'scale_pos_weight': 185.0, 'seed': None, 'silent': None, 'subsample': 1, 'verbosity': 1}\n",
            "top_k_accuracy_score:\n",
            "0.41030117852466175\n",
            "{'base_score': 0.5, 'booster': 'gbtree', 'colsample_bylevel': 1, 'colsample_bynode': 1, 'colsample_bytree': 0.679222607565902, 'gamma': 0.10788438779800025, 'learning_rate': 3.078337791130112, 'max_delta_step': 0, 'max_depth': 35, 'min_child_weight': 2.0, 'missing': None, 'n_estimators': 160, 'n_jobs': 1, 'nthread': None, 'objective': 'multi:softprob', 'random_state': 0, 'reg_alpha': 4.6268342472515, 'reg_lambda': 7.361818404100988, 'scale_pos_weight': 139.0, 'seed': None, 'silent': None, 'subsample': 1, 'verbosity': 1}\n",
            "top_k_accuracy_score:\n",
            "0.47228284591881275\n",
            "{'base_score': 0.5, 'booster': 'gbtree', 'colsample_bylevel': 1, 'colsample_bynode': 1, 'colsample_bytree': 0.9686365373482377, 'gamma': 0.5663662277519799, 'learning_rate': 1.2525133898178102, 'max_delta_step': 0, 'max_depth': 16, 'min_child_weight': 39.0, 'missing': None, 'n_estimators': 201, 'n_jobs': 1, 'nthread': None, 'objective': 'multi:softprob', 'random_state': 0, 'reg_alpha': 7.599359622552906, 'reg_lambda': 9.132206079856598, 'scale_pos_weight': 109.0, 'seed': None, 'silent': None, 'subsample': 1, 'verbosity': 1}\n",
            "top_k_accuracy_score:\n",
            "0.5176778699257966\n",
            "{'base_score': 0.5, 'booster': 'gbtree', 'colsample_bylevel': 1, 'colsample_bynode': 1, 'colsample_bytree': 0.6500571799217795, 'gamma': 3.218072779943504, 'learning_rate': 0.18664500381063823, 'max_delta_step': 0, 'max_depth': 74, 'min_child_weight': 33.0, 'missing': None, 'n_estimators': 101, 'n_jobs': 1, 'nthread': None, 'objective': 'multi:softprob', 'random_state': 0, 'reg_alpha': 9.077791160302878, 'reg_lambda': 9.73594412365642, 'scale_pos_weight': 125.0, 'seed': None, 'silent': None, 'subsample': 1, 'verbosity': 1}\n",
            "top_k_accuracy_score:\n",
            "0.4281972937581842\n",
            "{'base_score': 0.5, 'booster': 'gbtree', 'colsample_bylevel': 1, 'colsample_bynode': 1, 'colsample_bytree': 0.7531129045339282, 'gamma': 2.375248296906882, 'learning_rate': 9.483176322074229, 'max_delta_step': 0, 'max_depth': 102, 'min_child_weight': 25.0, 'missing': None, 'n_estimators': 131, 'n_jobs': 1, 'nthread': None, 'objective': 'multi:softprob', 'random_state': 0, 'reg_alpha': 6.767064900376048, 'reg_lambda': 5.91652433077509, 'scale_pos_weight': 54.0, 'seed': None, 'silent': None, 'subsample': 1, 'verbosity': 1}\n",
            "top_k_accuracy_score:\n",
            "0.47402880838061984\n",
            "{'base_score': 0.5, 'booster': 'gbtree', 'colsample_bylevel': 1, 'colsample_bynode': 1, 'colsample_bytree': 0.49975667228132303, 'gamma': 1.3717245947351786, 'learning_rate': 0.9493114582788615, 'max_delta_step': 0, 'max_depth': 22, 'min_child_weight': 21.0, 'missing': None, 'n_estimators': 150, 'n_jobs': 1, 'nthread': None, 'objective': 'multi:softprob', 'random_state': 0, 'reg_alpha': 9.299022033402595, 'reg_lambda': 4.9411629439617055, 'scale_pos_weight': 38.0, 'seed': None, 'silent': None, 'subsample': 1, 'verbosity': 1}\n",
            "top_k_accuracy_score:\n",
            "0.5045831514622435\n",
            "{'base_score': 0.5, 'booster': 'gbtree', 'colsample_bylevel': 1, 'colsample_bynode': 1, 'colsample_bytree': 0.6216205923253701, 'gamma': 2.7819749271436587, 'learning_rate': 0.10071065139182737, 'max_delta_step': 0, 'max_depth': 7, 'min_child_weight': 30.0, 'missing': None, 'n_estimators': 250, 'n_jobs': 1, 'nthread': None, 'objective': 'multi:softprob', 'random_state': 0, 'reg_alpha': 6.616656075027532, 'reg_lambda': 8.55775294380681, 'scale_pos_weight': 47.0, 'seed': None, 'silent': None, 'subsample': 1, 'verbosity': 1}\n",
            "top_k_accuracy_score:\n",
            "0.4810126582278481\n",
            "{'base_score': 0.5, 'booster': 'gbtree', 'colsample_bylevel': 1, 'colsample_bynode': 1, 'colsample_bytree': 0.9042509011779402, 'gamma': 3.5845003077277715, 'learning_rate': 1.9668625530917732, 'max_delta_step': 0, 'max_depth': 50, 'min_child_weight': 69.0, 'missing': None, 'n_estimators': 117, 'n_jobs': 1, 'nthread': None, 'objective': 'multi:softprob', 'random_state': 0, 'reg_alpha': 6.347951462925181, 'reg_lambda': 7.238498864088391, 'scale_pos_weight': 76.0, 'seed': None, 'silent': None, 'subsample': 1, 'verbosity': 1}\n",
            "top_k_accuracy_score:\n",
            "0.3924050632911392\n",
            "{'base_score': 0.5, 'booster': 'gbtree', 'colsample_bylevel': 1, 'colsample_bynode': 1, 'colsample_bytree': 0.4634018413554968, 'gamma': 0.8158872553524208, 'learning_rate': 6.9584905965811785, 'max_delta_step': 0, 'max_depth': 178, 'min_child_weight': 47.0, 'missing': None, 'n_estimators': 77, 'n_jobs': 1, 'nthread': None, 'objective': 'multi:softprob', 'random_state': 0, 'reg_alpha': 8.209153002792005, 'reg_lambda': 6.745542656347803, 'scale_pos_weight': 59.0, 'seed': None, 'silent': None, 'subsample': 1, 'verbosity': 1}\n",
            "top_k_accuracy_score:\n",
            "0.5024006983849847\n",
            "{'base_score': 0.5, 'booster': 'gbtree', 'colsample_bylevel': 1, 'colsample_bynode': 1, 'colsample_bytree': 0.8035406468364953, 'gamma': 1.9115738667683078, 'learning_rate': 0.44473492269322723, 'max_delta_step': 0, 'max_depth': 32, 'min_child_weight': 19.0, 'missing': None, 'n_estimators': 234, 'n_jobs': 1, 'nthread': None, 'objective': 'multi:softprob', 'random_state': 0, 'reg_alpha': 6.037771528353761, 'reg_lambda': 6.129063574959835, 'scale_pos_weight': 118.0, 'seed': None, 'silent': None, 'subsample': 1, 'verbosity': 1}\n",
            "top_k_accuracy_score:\n",
            "0.4216499345264077\n",
            "{'base_score': 0.5, 'booster': 'gbtree', 'colsample_bylevel': 1, 'colsample_bynode': 1, 'colsample_bytree': 0.7258024582290352, 'gamma': 1.0293507869739469, 'learning_rate': 5.210315821285252, 'max_delta_step': 0, 'max_depth': 54, 'min_child_weight': 15.0, 'missing': None, 'n_estimators': 172, 'n_jobs': 1, 'nthread': None, 'objective': 'multi:softprob', 'random_state': 0, 'reg_alpha': 5.39854486623331, 'reg_lambda': 8.155890105910773, 'scale_pos_weight': 85.0, 'seed': None, 'silent': None, 'subsample': 1, 'verbosity': 1}\n",
            "top_k_accuracy_score:\n",
            "0.4762112614578787\n",
            "{'base_score': 0.5, 'booster': 'gbtree', 'colsample_bylevel': 1, 'colsample_bynode': 1, 'colsample_bytree': 0.880694027926186, 'gamma': 2.673661772825302, 'learning_rate': 2.1840617998092915, 'max_delta_step': 0, 'max_depth': 61, 'min_child_weight': 75.0, 'missing': None, 'n_estimators': 192, 'n_jobs': 1, 'nthread': None, 'objective': 'multi:softprob', 'random_state': 0, 'reg_alpha': 5.624088374072798, 'reg_lambda': 5.411899526002104, 'scale_pos_weight': 22.0, 'seed': None, 'silent': None, 'subsample': 1, 'verbosity': 1}\n",
            "top_k_accuracy_score:\n",
            "0.40375381929288523\n",
            "{'base_score': 0.5, 'booster': 'gbtree', 'colsample_bylevel': 1, 'colsample_bynode': 1, 'colsample_bytree': 0.5928168742463344, 'gamma': 3.902454404624078, 'learning_rate': 3.90883617159075, 'max_delta_step': 0, 'max_depth': 39, 'min_child_weight': 35.0, 'missing': None, 'n_estimators': 181, 'n_jobs': 1, 'nthread': None, 'objective': 'multi:softprob', 'random_state': 0, 'reg_alpha': 8.389238582890933, 'reg_lambda': 9.302999464194198, 'scale_pos_weight': 97.0, 'seed': None, 'silent': None, 'subsample': 1, 'verbosity': 1}\n",
            "top_k_accuracy_score:\n",
            "0.5050196420776953\n",
            "{'base_score': 0.5, 'booster': 'gbtree', 'colsample_bylevel': 1, 'colsample_bynode': 1, 'colsample_bytree': 0.9902948006767558, 'gamma': 5.739968789232379, 'learning_rate': 0.6356960273936791, 'max_delta_step': 0, 'max_depth': 2, 'min_child_weight': 11.0, 'missing': None, 'n_estimators': 157, 'n_jobs': 1, 'nthread': None, 'objective': 'multi:softprob', 'random_state': 0, 'reg_alpha': 9.798639938274736, 'reg_lambda': 9.042164405539971, 'scale_pos_weight': 159.0, 'seed': None, 'silent': None, 'subsample': 1, 'verbosity': 1}\n",
            "top_k_accuracy_score:\n",
            "0.441728502837189\n",
            "{'base_score': 0.5, 'booster': 'gbtree', 'colsample_bylevel': 1, 'colsample_bynode': 1, 'colsample_bytree': 0.6714110829066178, 'gamma': 1.5596709507055164, 'learning_rate': 1.7995899077281639, 'max_delta_step': 0, 'max_depth': 9, 'min_child_weight': 3.0, 'missing': None, 'n_estimators': 291, 'n_jobs': 1, 'nthread': None, 'objective': 'multi:softprob', 'random_state': 0, 'reg_alpha': 8.000715213795338, 'reg_lambda': 7.580282374663337, 'scale_pos_weight': 109.0, 'seed': None, 'silent': None, 'subsample': 1, 'verbosity': 1}\n",
            "top_k_accuracy_score:\n",
            "0.4033173286774334\n",
            "{'base_score': 0.5, 'booster': 'gbtree', 'colsample_bylevel': 1, 'colsample_bynode': 1, 'colsample_bytree': 0.5427834871947398, 'gamma': 5.297611108929182, 'learning_rate': 6.3726658770389015, 'max_delta_step': 0, 'max_depth': 68, 'min_child_weight': 39.0, 'missing': None, 'n_estimators': 216, 'n_jobs': 1, 'nthread': None, 'objective': 'multi:softprob', 'random_state': 0, 'reg_alpha': 7.464046670506222, 'reg_lambda': 4.822868725222595, 'scale_pos_weight': 67.0, 'seed': None, 'silent': None, 'subsample': 1, 'verbosity': 1}\n",
            "top_k_accuracy_score:\n",
            "0.43823657791357484\n",
            "{'base_score': 0.5, 'booster': 'gbtree', 'colsample_bylevel': 1, 'colsample_bynode': 1, 'colsample_bytree': 0.6924816831684192, 'gamma': 0.530262744614542, 'learning_rate': 2.8664449220183172, 'max_delta_step': 0, 'max_depth': 90, 'min_child_weight': 44.0, 'missing': None, 'n_estimators': 59, 'n_jobs': 1, 'nthread': None, 'objective': 'multi:softprob', 'random_state': 0, 'reg_alpha': 4.412322891558134, 'reg_lambda': 4.131276700405511, 'scale_pos_weight': 127.0, 'seed': None, 'silent': None, 'subsample': 1, 'verbosity': 1}\n",
            "top_k_accuracy_score:\n",
            "0.46486250545613267\n",
            "{'base_score': 0.5, 'booster': 'gbtree', 'colsample_bylevel': 1, 'colsample_bynode': 1, 'colsample_bytree': 0.5129597444571641, 'gamma': 1.2773771954183932, 'learning_rate': 1.3530798303959153, 'max_delta_step': 0, 'max_depth': 138, 'min_child_weight': 22.0, 'missing': None, 'n_estimators': 105, 'n_jobs': 1, 'nthread': None, 'objective': 'multi:softprob', 'random_state': 0, 'reg_alpha': 7.791026828403142, 'reg_lambda': 7.159833048937286, 'scale_pos_weight': 190.0, 'seed': None, 'silent': None, 'subsample': 1, 'verbosity': 1}\n",
            "top_k_accuracy_score:\n",
            "0.48406809253601046\n",
            "{'base_score': 0.5, 'booster': 'gbtree', 'colsample_bylevel': 1, 'colsample_bynode': 1, 'colsample_bytree': 0.9230039531345072, 'gamma': 2.3115704038955562, 'learning_rate': 3.2642585308553995, 'max_delta_step': 0, 'max_depth': 46, 'min_child_weight': 56.0, 'missing': None, 'n_estimators': 263, 'n_jobs': 1, 'nthread': None, 'objective': 'multi:softprob', 'random_state': 0, 'reg_alpha': 7.119257795176964, 'reg_lambda': 9.791325223147442, 'scale_pos_weight': 151.0, 'seed': None, 'silent': None, 'subsample': 1, 'verbosity': 1}\n",
            "top_k_accuracy_score:\n",
            "0.48013967699694454\n",
            "{'base_score': 0.5, 'booster': 'gbtree', 'colsample_bylevel': 1, 'colsample_bynode': 1, 'colsample_bytree': 0.9526134824624488, 'gamma': 3.1591311495450367, 'learning_rate': 2.446952612149674, 'max_delta_step': 0, 'max_depth': 151, 'min_child_weight': 6.0, 'missing': None, 'n_estimators': 94, 'n_jobs': 1, 'nthread': None, 'objective': 'multi:softprob', 'random_state': 0, 'reg_alpha': 6.185014148665227, 'reg_lambda': 7.83931752149856, 'scale_pos_weight': 89.0, 'seed': None, 'silent': None, 'subsample': 1, 'verbosity': 1}\n",
            "top_k_accuracy_score:\n",
            "0.44914884329986904\n",
            "{'base_score': 0.5, 'booster': 'gbtree', 'colsample_bylevel': 1, 'colsample_bynode': 1, 'colsample_bytree': 0.7640933750736917, 'gamma': 4.128487780989321, 'learning_rate': 5.666857078710367, 'max_delta_step': 0, 'max_depth': 15, 'min_child_weight': 42.0, 'missing': None, 'n_estimators': 118, 'n_jobs': 1, 'nthread': None, 'objective': 'multi:softprob', 'random_state': 0, 'reg_alpha': 5.1950062024840955, 'reg_lambda': 8.495130481390355, 'scale_pos_weight': 7.0, 'seed': None, 'silent': None, 'subsample': 1, 'verbosity': 1}\n",
            "top_k_accuracy_score:\n",
            "0.37756438236577916\n",
            "{'base_score': 0.5, 'booster': 'gbtree', 'colsample_bylevel': 1, 'colsample_bynode': 1, 'colsample_bytree': 0.5729456768186383, 'gamma': 1.8198802377687082, 'learning_rate': 8.366133899356395, 'max_delta_step': 0, 'max_depth': 115, 'min_child_weight': 26.0, 'missing': None, 'n_estimators': 229, 'n_jobs': 1, 'nthread': None, 'objective': 'multi:softprob', 'random_state': 0, 'reg_alpha': 3.363457990801523, 'reg_lambda': 6.455408489276641, 'scale_pos_weight': 71.0, 'seed': None, 'silent': None, 'subsample': 1, 'verbosity': 1}\n",
            "top_k_accuracy_score:\n",
            "0.3806198166739415\n",
            "{'base_score': 0.5, 'booster': 'gbtree', 'colsample_bylevel': 1, 'colsample_bynode': 1, 'colsample_bytree': 0.13081181082460408, 'gamma': 3.5205655492151795, 'learning_rate': 4.47158711215415, 'max_delta_step': 0, 'max_depth': 83, 'min_child_weight': 86.0, 'missing': None, 'n_estimators': 136, 'n_jobs': 1, 'nthread': None, 'objective': 'multi:softprob', 'random_state': 0, 'reg_alpha': 4.673608537785778, 'reg_lambda': 8.814688218633432, 'scale_pos_weight': 14.0, 'seed': None, 'silent': None, 'subsample': 1, 'verbosity': 1}\n",
            "top_k_accuracy_score:\n",
            "0.473592317765168\n",
            "{'base_score': 0.5, 'booster': 'gbtree', 'colsample_bylevel': 1, 'colsample_bynode': 1, 'colsample_bytree': 0.63363039715979, 'gamma': 4.529557277264723, 'learning_rate': 1.0926393789003161, 'max_delta_step': 0, 'max_depth': 98, 'min_child_weight': 29.0, 'missing': None, 'n_estimators': 168, 'n_jobs': 1, 'nthread': None, 'objective': 'multi:softprob', 'random_state': 0, 'reg_alpha': 4.842951367955908, 'reg_lambda': 2.751117527403185, 'scale_pos_weight': 173.0, 'seed': None, 'silent': None, 'subsample': 1, 'verbosity': 1}\n",
            "top_k_accuracy_score:\n",
            "0.4779572239196857\n",
            "{'base_score': 0.5, 'booster': 'gbtree', 'colsample_bylevel': 1, 'colsample_bynode': 1, 'colsample_bytree': 0.8576846743991842, 'gamma': 0.18941454253496603, 'learning_rate': 7.504806442785797, 'max_delta_step': 0, 'max_depth': 76, 'min_child_weight': 50.0, 'missing': None, 'n_estimators': 82, 'n_jobs': 1, 'nthread': None, 'objective': 'multi:softprob', 'random_state': 0, 'reg_alpha': 9.49773506595593, 'reg_lambda': 7.001735341890845, 'scale_pos_weight': 166.0, 'seed': None, 'silent': None, 'subsample': 1, 'verbosity': 1}\n",
            "top_k_accuracy_score:\n",
            "0.5185508511567001\n",
            "{'base_score': 0.5, 'booster': 'gbtree', 'colsample_bylevel': 1, 'colsample_bynode': 1, 'colsample_bytree': 0.8083993535123789, 'gamma': 5.99986265640291, 'learning_rate': 0.3589637394003332, 'max_delta_step': 0, 'max_depth': 106, 'min_child_weight': 14.0, 'missing': None, 'n_estimators': 142, 'n_jobs': 1, 'nthread': None, 'objective': 'multi:softprob', 'random_state': 0, 'reg_alpha': 5.78795390258025, 'reg_lambda': 9.355251324283799, 'scale_pos_weight': 81.0, 'seed': None, 'silent': None, 'subsample': 1, 'verbosity': 1}\n",
            "100%|██████████| 50/50 [18:29<00:00, 22.20s/it, best loss: -0.5242252291575731]\n"
          ]
        }
      ]
    },
    {
      "cell_type": "code",
      "source": [
        "best_hyperparams"
      ],
      "metadata": {
        "colab": {
          "base_uri": "https://localhost:8080/"
        },
        "id": "Miv5X30VfUKm",
        "outputId": "a1fa4adc-f28a-47a0-9402-879e0530d7ef"
      },
      "execution_count": 23,
      "outputs": [
        {
          "output_type": "execute_result",
          "data": {
            "text/plain": [
              "{'colsample_bytree': 0.8194124489987997,\n",
              " 'gamma': 4.829537041540472,\n",
              " 'learning_rate': 0.16409226302940008,\n",
              " 'max_depth': 41.0,\n",
              " 'min_child_weight': 16.0,\n",
              " 'n_estimators': 132.0,\n",
              " 'reg_alpha': 8.119013042968653,\n",
              " 'reg_lambda': 8.464891646365215,\n",
              " 'scale_pos_weight': 186.0}"
            ]
          },
          "metadata": {},
          "execution_count": 23
        }
      ]
    },
    {
      "cell_type": "code",
      "source": [
        "best_hyperparams = {'colsample_bytree': 0.8194124489987997,\n",
        " 'gamma': 4.829537041540472,\n",
        " 'learning_rate': 0.16409226302940008,\n",
        " 'max_depth': 41.0,\n",
        " 'min_child_weight': 16.0,\n",
        " 'n_estimators': 132.0,\n",
        " 'reg_alpha': 8.119013042968653,\n",
        " 'reg_lambda': 8.464891646365215,\n",
        " 'scale_pos_weight': 186.0}"
      ],
      "metadata": {
        "id": "AwdgJXmd8IIL"
      },
      "execution_count": null,
      "outputs": []
    },
    {
      "cell_type": "code",
      "source": [
        "modelo_xgb = xgb.XGBClassifier(n_estimators =int(best_hyperparams['n_estimators']), max_depth = int(best_hyperparams['max_depth']),\n",
        "                               gamma = best_hyperparams['gamma'], min_child_weight=best_hyperparams['min_child_weight'],\n",
        "                               colsample_bytree=best_hyperparams['colsample_bytree'], objective = \"multi:softprob\",\n",
        "                               booster = \"gbtree\", scale_pos_weight = best_hyperparams[\"scale_pos_weight\"])\n",
        "\n",
        "modelo_xgb.fit(X_train, y_train)"
      ],
      "metadata": {
        "colab": {
          "base_uri": "https://localhost:8080/"
        },
        "id": "eXeub0wMfuuD",
        "outputId": "d16a9faa-ac6e-465a-d677-3cc9cffbebed"
      },
      "execution_count": 24,
      "outputs": [
        {
          "output_type": "execute_result",
          "data": {
            "text/plain": [
              "XGBClassifier(colsample_bytree=0.8194124489987997, gamma=4.829537041540472,\n",
              "              max_depth=41, min_child_weight=16.0, n_estimators=132,\n",
              "              objective='multi:softprob', scale_pos_weight=186.0)"
            ]
          },
          "metadata": {},
          "execution_count": 24
        }
      ]
    },
    {
      "cell_type": "code",
      "source": [
        "preds = modelo_xgb.predict_proba(X_validation)\n",
        "preds_training = modelo_xgb.predict_proba(X_train)\n",
        "[top_k_accuracy_score(y_validation, preds, labels = modelo_xgb.classes_), accuracy_score(y_validation, modelo_xgb.predict(X_validation)),\n",
        "top_k_accuracy_score(y_train, preds_training, labels = modelo_xgb.classes_), accuracy_score(y_train, modelo_xgb.predict(X_train))]"
      ],
      "metadata": {
        "colab": {
          "base_uri": "https://localhost:8080/"
        },
        "id": "-sc81VB6gOb8",
        "outputId": "69771b01-6c34-452e-afa5-70c05c2920d8"
      },
      "execution_count": 25,
      "outputs": [
        {
          "output_type": "execute_result",
          "data": {
            "text/plain": [
              "[0.5181143605412484,\n",
              " 0.33435181143605414,\n",
              " 0.8088001657802031,\n",
              " 0.5756026801132832]"
            ]
          },
          "metadata": {},
          "execution_count": 25
        }
      ]
    },
    {
      "cell_type": "code",
      "source": [
        "modelo_xgb.save_model(\"XGBClassificator.json\")"
      ],
      "metadata": {
        "id": "CRXbjj1tk_uW"
      },
      "execution_count": null,
      "outputs": []
    },
    {
      "cell_type": "code",
      "source": [
        "xgb.plot_importance(modelo_xgb,  max_num_features=15)"
      ],
      "metadata": {
        "colab": {
          "base_uri": "https://localhost:8080/",
          "height": 312
        },
        "id": "mqZszsEZlPLQ",
        "outputId": "05c22a8b-c506-4777-f4ad-25e4004d2cac"
      },
      "execution_count": 26,
      "outputs": [
        {
          "output_type": "execute_result",
          "data": {
            "text/plain": [
              "<matplotlib.axes._subplots.AxesSubplot at 0x7ff15b666710>"
            ]
          },
          "metadata": {},
          "execution_count": 26
        },
        {
          "output_type": "display_data",
          "data": {
            "text/plain": [
              "<Figure size 432x288 with 1 Axes>"
            ],
            "image/png": "[encoded data removed]"
          },
          "metadata": {
            "needs_background": "light"
          }
        }
      ]
    },
    {
      "cell_type": "code",
      "source": [
        "columns =['sum_tfidf_for_dance', 'sum_tfidf_for_pop', 'sum_tfidf_for_r&b',\n",
        "       'sum_tfidf_for_hip-hop', 'sum_tfidf_for_rap', 'sum_tfidf_for_soul',\n",
        "       'sum_tfidf_for_rock', 'sum_tfidf_for_blues', 'sum_tfidf_for_folk',\n",
        "       'sum_tfidf_for_jazz', 'sum_tfidf_for_country',\n",
        "       'sum_tfidf_for_alternative', 'sum_tfidf_for_children’s music',\n",
        "       'sum_tfidf_for_indie', 'sum_tfidf_for_electronic',\n",
        "       'sum_tfidf_for_classical', 'sum_tfidf_for_opera', 'sum_tfidf_for_world',\n",
        "       'sum_tfidf_for_ska', 'sum_tfidf_for_comedy', 'sum_tfidf_for_reggae',\n",
        "       'sum_tfidf_for_reggaeton', \"sum_tfidf_for_children's music\",\n",
        "       'sum_tfidf_for_soundtrack', 'sum_tfidf_for_anime',\n",
        "       'sum_tfidf_for_movie'] + \\\n",
        "                  [\"length_lyrics\", \"number_of_lines\", \"number_of_tokens\"] + \\\n",
        "                  [\"FW\", \"JJR\", \"NN\", \"NNS\", \"NNP\", \"PDT\", \"PRP\", \"RB\", \"RBR\",\n",
        "                   \"UH\", \"VB\", \"VBG\", \"VBD\", \"VBN\", \"VBP\", \"VBZ\"] + \\\n",
        "                  [\"Minus\", \"Major\"] + \\\n",
        "                  [\"popularity_by_lang\", \"loudness_by_lang\"] + numerical_features + ordinal_features\n"
      ],
      "metadata": {
        "id": "hgEH2APon8eQ"
      },
      "execution_count": null,
      "outputs": []
    },
    {
      "cell_type": "code",
      "source": [
        "columns[50:60]"
      ],
      "metadata": {
        "colab": {
          "base_uri": "https://localhost:8080/"
        },
        "id": "MgCNcBG0n9mM",
        "outputId": "f14e7adb-fb08-4371-ce33-6baf36c42d07"
      },
      "execution_count": null,
      "outputs": [
        {
          "output_type": "execute_result",
          "data": {
            "text/plain": [
              "['a_popularity',\n",
              " 'popularity',\n",
              " 'acousticness',\n",
              " 'danceability',\n",
              " 'duration_ms',\n",
              " 'energy',\n",
              " 'instrumentalness',\n",
              " 'liveness',\n",
              " 'loudness',\n",
              " 'speechiness']"
            ]
          },
          "metadata": {},
          "execution_count": 90
        }
      ]
    },
    {
      "cell_type": "markdown",
      "source": [
        "Vemos que las features más importantes àra el XGBoost son las features numéricas originales."
      ],
      "metadata": {
        "id": "gxra5X4YojUz"
      }
    },
    {
      "cell_type": "markdown",
      "source": [
        "## Naive Bayes"
      ],
      "metadata": {
        "id": "ymL6A-7Gz_ux"
      }
    },
    {
      "cell_type": "code",
      "source": [
        "from sklearn import naive_bayes\n",
        "model_MNNB = naive_bayes.MultinomialNB()"
      ],
      "metadata": {
        "id": "SgClYAvd26qA"
      },
      "execution_count": 29,
      "outputs": []
    },
    {
      "cell_type": "markdown",
      "source": [
        "Nota muy importante: Sé que Naive Bayes es totalmente invariante a las escalas de los features, pero igual lo escalo porque MultinomialNB no acepta features con valores negativos. No por ninguna otra razón."
      ],
      "metadata": {
        "id": "eYfNNCTYk79D"
      }
    },
    {
      "cell_type": "code",
      "source": [
        "X_train_scaled = preprocessing.MinMaxScaler().fit_transform(X_train)\n",
        "X_validation_scaled = preprocessing.MinMaxScaler().fit_transform(X_validation)"
      ],
      "metadata": {
        "id": "JQGfDj9rko9_"
      },
      "execution_count": 36,
      "outputs": []
    },
    {
      "cell_type": "code",
      "source": [
        "model_MNNB.fit(X_train_scaled, y_train)"
      ],
      "metadata": {
        "colab": {
          "base_uri": "https://localhost:8080/"
        },
        "id": "wDlD-S4WlMOw",
        "outputId": "d20314bb-5725-40b5-c577-eab820111d7c"
      },
      "execution_count": 37,
      "outputs": [
        {
          "output_type": "execute_result",
          "data": {
            "text/plain": [
              "MultinomialNB()"
            ]
          },
          "metadata": {},
          "execution_count": 37
        }
      ]
    },
    {
      "cell_type": "code",
      "source": [
        "preds = model_MNNB.predict_proba(X_validation_scaled)\n",
        "top_k_accuracy_score(y_validation, preds, labels = model_MNNB.classes_)"
      ],
      "metadata": {
        "colab": {
          "base_uri": "https://localhost:8080/"
        },
        "id": "QSi9OjlMlRih",
        "outputId": "9f0c50f0-d7d2-474f-e788-4357b092e8a3"
      },
      "execution_count": 38,
      "outputs": [
        {
          "output_type": "execute_result",
          "data": {
            "text/plain": [
              "0.16324749017896115"
            ]
          },
          "metadata": {},
          "execution_count": 38
        }
      ]
    },
    {
      "cell_type": "code",
      "source": [
        "from hyperopt import STATUS_OK, Trials, fmin, hp, tpe\n",
        "\n",
        "space={'model': hp.choice(\"model\", [naive_bayes.MultinomialNB, naive_bayes.ComplementNB, naive_bayes.GaussianNB,\n",
        "                 naive_bayes.BernoulliNB]),\n",
        "       'alpha': hp.uniform ('alpha', 0,1),\n",
        "       'seed': 1}\n",
        "\n",
        "def objective(space):\n",
        "\n",
        "  if space[\"model\"] == naive_bayes.GaussianNB:\n",
        "    classifier = space[\"model\"]()\n",
        "  else:\n",
        "    classifier = space[\"model\"](alpha = space[\"alpha\"])\n",
        "\n",
        "  classifier.fit(X_train_scaled, y_train)\n",
        "  preds = classifier.predict_proba(X_validation_scaled)\n",
        "  accuracy = top_k_accuracy_score(y_validation, preds, labels = classifier.classes_)\n",
        "  \n",
        "  print (\"top_k_accuracy_score:\", accuracy)\n",
        "  print(classifier.get_params())\n",
        "\n",
        "  return {'loss': -accuracy, 'status': STATUS_OK }\n",
        "  \n",
        "trials = Trials()\n",
        "\n",
        "best_hyperparams = fmin(fn = objective,\n",
        "                        space = space,\n",
        "                        algo = tpe.suggest,\n",
        "                        max_evals = 100,\n",
        "                        trials = trials)"
      ],
      "metadata": {
        "id": "-FljnUVqlxPn"
      },
      "execution_count": null,
      "outputs": []
    },
    {
      "cell_type": "code",
      "source": [],
      "metadata": {
        "id": "vU9b_p2got1w"
      },
      "execution_count": null,
      "outputs": []
    }
  ]
}