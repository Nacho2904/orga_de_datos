{
  "nbformat": 4,
  "nbformat_minor": 0,
  "metadata": {
    "colab": {
      "provenance": [],
      "authorship_tag": "ABX9TyMB+LeH23HCOHZ9UdgbV9xn",
      "include_colab_link": true
    },
    "kernelspec": {
      "name": "python3",
      "display_name": "Python 3"
    },
    "language_info": {
      "name": "python"
    }
  },
  "cells": [
    {
      "cell_type": "markdown",
      "metadata": {
        "id": "view-in-github",
        "colab_type": "text"
      },
      "source": [
        "<a href=\"https://colab.research.google.com/github/Nacho2904/orga_de_datos/blob/main/tp3_parte_3.ipynb\" target=\"_parent\"><img src=\"https://colab.research.google.com/assets/colab-badge.svg\" alt=\"Open In Colab\"/></a>"
      ]
    },
    {
      "cell_type": "code",
      "execution_count": 1,
      "metadata": {
        "colab": {
          "base_uri": "https://localhost:8080/"
        },
        "id": "7-7fkwozC3D3",
        "outputId": "06226199-0929-4721-a994-cbef694cf614"
      },
      "outputs": [
        {
          "output_type": "stream",
          "name": "stdout",
          "text": [
            "Mounted at /content/gdrive\n"
          ]
        }
      ],
      "source": [
        "import pandas as pd\n",
        "import numpy as np\n",
        "import matplotlib.pyplot as plt\n",
        "from sklearn import preprocessing\n",
        "from sklearn.pipeline import Pipeline\n",
        "from sklearn.feature_extraction.text import TfidfVectorizer\n",
        "from sklearn.metrics import top_k_accuracy_score\n",
        "from sklearn.metrics import accuracy_score\n",
        "from sklearn.metrics import confusion_matrix\n",
        "from google.colab import drive \n",
        "import nltk\n",
        "import functools\n",
        "import xgboost as xgb\n",
        "\n",
        "drive.mount('/content/gdrive')\n",
        "path_a_training_set = 'gdrive/MyDrive/TP3 dataset music/train.parquet'\n",
        "path_a_test_set = 'gdrive/MyDrive/TP3 dataset music/test.parquet'\n",
        "\n",
        "\n",
        "df_music_train = pd.read_parquet(path_a_training_set).fillna(\"\")\n",
        "df_music_test = pd.read_parquet(path_a_test_set).fillna(\"\")"
      ]
    },
    {
      "cell_type": "markdown",
      "source": [
        "## Preprocessing"
      ],
      "metadata": {
        "id": "fwptY_P6y2pm"
      }
    },
    {
      "cell_type": "code",
      "source": [
        "nltk.download('stopwords')\n",
        "nltk.download('punkt')\n",
        "\n",
        "genres = list(df_music_train[\"genre\"].unique())\n",
        "def get_vectorizers_by_genre(df_music: pd.DataFrame) -> dict:\n",
        "  df_music_lyric_tokenized = df_music.copy().fillna(\"\")\n",
        "  df_music_lyric_tokenized[\"lyric\"] = df_music_lyric_tokenized[\"lyric\"].map(lambda lyric: set(nltk.word_tokenize(lyric)))\n",
        "  df_music_grouped_by_genre = df_music_lyric_tokenized[[\"genre\", \"lyric\"]].groupby('genre').agg(lambda x: functools.reduce(set.union, x)).reset_index()\n",
        "  vocabs = dict(zip(df_music_grouped_by_genre.genre.to_list(), df_music_grouped_by_genre.lyric.to_list()))\n",
        "  stopwords = set(nltk.corpus.stopwords.words(\"english\")).union(set(nltk.corpus.stopwords.words(\"spanish\"))).union(set(nltk.corpus.stopwords.words(\"french\")))\n",
        "  vectorizers = {genre: TfidfVectorizer(input = \"content\", stop_words = stopwords, vocabulary = vocabs[genre]) for genre in genres}\n",
        "  for genre in genres:\n",
        "    vectorizers[genre].fit(df_music[df_music[\"genre\"] == genre][\"genre\"])\n",
        "  return vectorizers\n",
        "\n",
        "vectorizers = get_vectorizers_by_genre(df_music_train)"
      ],
      "metadata": {
        "id": "seazRU21KuOZ",
        "colab": {
          "base_uri": "https://localhost:8080/"
        },
        "outputId": "38b51dfb-3964-44dc-caa5-2d3f8f40c43c"
      },
      "execution_count": 2,
      "outputs": [
        {
          "output_type": "stream",
          "name": "stderr",
          "text": [
            "[nltk_data] Downloading package stopwords to /root/nltk_data...\n",
            "[nltk_data]   Unzipping corpora/stopwords.zip.\n",
            "[nltk_data] Downloading package punkt to /root/nltk_data...\n",
            "[nltk_data]   Unzipping tokenizers/punkt.zip.\n",
            "/usr/local/lib/python3.7/dist-packages/sklearn/feature_extraction/text.py:1323: UserWarning: Upper case characters found in vocabulary while 'lowercase' is True. These entries will not be matched with any documents\n",
            "  \"Upper case characters found in\"\n"
          ]
        }
      ]
    },
    {
      "cell_type": "code",
      "source": [
        "def get_sum_tfidf_from_lyrics(df_music: pd.DataFrame) -> pd.DataFrame:\n",
        "  df_music = df_music.fillna(\"\")\n",
        "  column_names = [\"sum_tfidf_for_\" + genre.lower() for genre in genres]\n",
        "  for i in range(0, len(genres)):\n",
        "    df_music[column_names[i]] = np.sum(vectorizers[genres[i]].transform(df_music[\"lyric\"]), axis = 1)\n",
        "  return df_music[column_names]\n",
        "\n",
        "get_sum_tfidf_from_lyrics(df_music_train).columns"
      ],
      "metadata": {
        "colab": {
          "base_uri": "https://localhost:8080/"
        },
        "id": "Hn7ojEFq-YXi",
        "outputId": "49acd8b2-d130-4727-f292-44b6056ce13f"
      },
      "execution_count": 3,
      "outputs": [
        {
          "output_type": "execute_result",
          "data": {
            "text/plain": [
              "Index(['sum_tfidf_for_dance', 'sum_tfidf_for_pop', 'sum_tfidf_for_r&b',\n",
              "       'sum_tfidf_for_hip-hop', 'sum_tfidf_for_rap', 'sum_tfidf_for_soul',\n",
              "       'sum_tfidf_for_rock', 'sum_tfidf_for_blues', 'sum_tfidf_for_folk',\n",
              "       'sum_tfidf_for_jazz', 'sum_tfidf_for_country',\n",
              "       'sum_tfidf_for_alternative', 'sum_tfidf_for_children’s music',\n",
              "       'sum_tfidf_for_indie', 'sum_tfidf_for_electronic',\n",
              "       'sum_tfidf_for_classical', 'sum_tfidf_for_opera', 'sum_tfidf_for_world',\n",
              "       'sum_tfidf_for_ska', 'sum_tfidf_for_comedy', 'sum_tfidf_for_reggae',\n",
              "       'sum_tfidf_for_reggaeton', 'sum_tfidf_for_children's music',\n",
              "       'sum_tfidf_for_soundtrack', 'sum_tfidf_for_anime',\n",
              "       'sum_tfidf_for_movie'],\n",
              "      dtype='object')"
            ]
          },
          "metadata": {},
          "execution_count": 3
        }
      ]
    },
    {
      "cell_type": "code",
      "source": [
        "def eliminate_genres_without_enough_observations(df_music: pd.DataFrame) -> pd.DataFrame:\n",
        "  df_music_recuento_filas_por_genero = df_music.groupby(\"genre\").count().reset_index()[[\"genre\", \"track_name\"]].rename(\n",
        "    columns = {\"track_name\": \"rowCount\"}).sort_values(\"rowCount\")\n",
        "  problematic_genres = list(df_music_recuento_filas_por_genero[df_music_recuento_filas_por_genero[\"rowCount\"] < 50].genre)[1:]\n",
        "  return df_music[~df_music[\"genre\"].isin(problematic_genres)]"
      ],
      "metadata": {
        "id": "TQCnc16lQAxu"
      },
      "execution_count": 4,
      "outputs": []
    },
    {
      "cell_type": "code",
      "source": [
        "nltk.download('punkt')\n",
        "def get_length_transforms_for_text(df_music: pd.DataFrame) -> pd.DataFrame:\n",
        "  df_music[\"number_of_lines\"] = df_music[\"lyric\"].map(lambda lyric: len(lyric.split(\"\\n\")))\n",
        "  df_music[\"number_of_tokens\"] = df_music[\"lyric\"].map(lambda lyric: len(nltk.word_tokenize(lyric)))\n",
        "  df_music[\"length_lyrics\"] = df_music[\"lyric\"].map(lambda lyric: len(lyric))\n",
        "  return df_music[[\"length_lyrics\", \"number_of_lines\", \"number_of_tokens\"]]"
      ],
      "metadata": {
        "colab": {
          "base_uri": "https://localhost:8080/"
        },
        "id": "T1QqQUHIEHzj",
        "outputId": "d029d2f8-797a-42cc-aa87-68308087b9bf"
      },
      "execution_count": 5,
      "outputs": [
        {
          "output_type": "stream",
          "name": "stderr",
          "text": [
            "[nltk_data] Downloading package punkt to /root/nltk_data...\n",
            "[nltk_data]   Package punkt is already up-to-date!\n"
          ]
        }
      ]
    },
    {
      "cell_type": "code",
      "source": [
        "nltk.download('averaged_perceptron_tagger')\n",
        "\n",
        "def get_POS_vector_from_lyric_POS(lyric_POS):\n",
        "  useful_pos_tags = [\"FW\", \"JJR\", \"NN\", \"NNS\", \"NNP\", \"PDT\", \"PRP\", \"RB\", \"RBR\",\n",
        "                   \"UH\", \"VB\", \"VBG\", \"VBD\", \"VBN\", \"VBP\", \"VBZ\"]\n",
        "  POS_dictionary = {pos_tag:0 for pos_tag in useful_pos_tags}\n",
        "  POS_dictionary.update({\"other\":0})\n",
        "\n",
        "  for token in lyric_POS:\n",
        "    if token[1] in useful_pos_tags:\n",
        "      POS_dictionary[token[1]] += 1\n",
        "    else:\n",
        "      POS_dictionary[\"other\"] += 1\n",
        "\n",
        "  return [POS_dictionary[pos_tag] for pos_tag in POS_dictionary]\n",
        "  \n",
        "\n",
        "def get_POS_chunk_taggin_counts_for_text(df_music: pd.DataFrame) -> pd.DataFrame:\n",
        "  df_music[\"lyric_POS\"] = df_music[\"lyric\"].map(lambda lyric: nltk.pos_tag(nltk.word_tokenize(lyric)))\n",
        "  df_music[\"lyric_POS\"] = df_music[\"lyric_POS\"].map(lambda lyric_pos: get_POS_vector_from_lyric_POS(lyric_pos))\n",
        "  return pd.DataFrame(df_music[\"lyric_POS\"].to_list())\n"
      ],
      "metadata": {
        "id": "LOEyM2E-Ny6P",
        "outputId": "fefbc034-52d2-4b94-b368-a15a2f092bf7",
        "colab": {
          "base_uri": "https://localhost:8080/"
        }
      },
      "execution_count": 6,
      "outputs": [
        {
          "output_type": "stream",
          "name": "stderr",
          "text": [
            "[nltk_data] Downloading package averaged_perceptron_tagger to\n",
            "[nltk_data]     /root/nltk_data...\n",
            "[nltk_data]   Unzipping taggers/averaged_perceptron_tagger.zip.\n"
          ]
        }
      ]
    },
    {
      "cell_type": "code",
      "source": [
        "df_music_filtered_genres = eliminate_genres_without_enough_observations(df_music_train)\n",
        "artists = list(df_music_filtered_genres[\"artist\"].unique())\n",
        "train_artists = set(artists[:int(0.9*len(artists))])\n",
        "validation_artists = set(artists[int(0.9*len(artists)):])\n",
        "train_set = df_music_filtered_genres[df_music_filtered_genres[\"artist\"].isin(train_artists)]\n",
        "validation_set = df_music_filtered_genres[df_music_filtered_genres[\"artist\"].isin(validation_artists)]"
      ],
      "metadata": {
        "id": "0WXfDLhA174X"
      },
      "execution_count": 7,
      "outputs": []
    },
    {
      "cell_type": "code",
      "source": [
        "def mean_hot_encoder(df_music: pd.DataFrame, df_training: pd.DataFrame) -> pd.DataFrame:\n",
        "  df_training_grouped_by_lang = df_training.groupby(\"language\").mean().reset_index()[[\"language\", \"popularity\"]]\n",
        "  df_new_columns = df_music.merge(df_training_grouped_by_lang, on = \"language\", how = \"left\")\n",
        "  return df_new_columns[[\"popularity_y\"]].fillna(0)\n",
        "\n",
        "mean_hot_encoder_using_training_set = lambda df_to_encode: mean_hot_encoder(df_to_encode, df_music_train) "
      ],
      "metadata": {
        "id": "wG1TiABKECHD"
      },
      "execution_count": 8,
      "outputs": []
    },
    {
      "cell_type": "code",
      "source": [
        "from sklearn.compose import ColumnTransformer\n",
        "from sklearn.linear_model import LogisticRegression\n",
        "from sklearn.impute import SimpleImputer\n",
        "\n",
        "text_features = [\"track_name\", \"lyric\", \"artist\"]\n",
        "\n",
        "numerical_features = [\"a_songs\", \"a_popularity\", \"popularity\", \"acousticness\", \"danceability\", \"duration_ms\",\n",
        "                   \"energy\", \"instrumentalness\", \"liveness\", \"loudness\", \"speechiness\", \"tempo\", \"valence\"]\n",
        "\n",
        "ordinal_features = [\"key\"]\n",
        "\n",
        "one_hot_features = [\"mode\"]\n",
        "\n",
        "mean_enc_features = [\"language\"]\n",
        "\n",
        "artist_genres = [\"a_genres\", \"genre\"]\n",
        "\n",
        "label = [\"genre\"]\n",
        "\n",
        "identity_transformer = preprocessing.FunctionTransformer(None)\n",
        "\n",
        "label_encoder = preprocessing.LabelEncoder()\n",
        "label_encoder.fit(df_music_train[\"genre\"])\n",
        "\n",
        "full_processor = ColumnTransformer(transformers=[\n",
        "    ('text_tf_idf', preprocessing.FunctionTransformer(get_sum_tfidf_from_lyrics), text_features),\n",
        "    ('text_simple_transforms', preprocessing.FunctionTransformer(get_length_transforms_for_text), text_features),\n",
        "    ('text_POS_count', preprocessing.FunctionTransformer(get_POS_chunk_taggin_counts_for_text), text_features),\n",
        "    ('mean_encoding', preprocessing.FunctionTransformer(mean_hot_encoder_using_training_set), list(df_music_train.columns)),\n",
        "    ('one_hot_encoding', preprocessing.OneHotEncoder(), one_hot_features),\n",
        "    ('numerical', identity_transformer, numerical_features),\n",
        "    ('ordinal', preprocessing.OrdinalEncoder(categories = [['C', 'C#', 'D', 'D#', 'E', 'F', 'F#', 'G', 'G#', 'A', 'A#', 'B']]), ordinal_features)])\n",
        "\n",
        "logistic_regression_pipeline = Pipeline(steps = [\n",
        "    ('preprocess_X', full_processor),\n",
        "    ('model', LogisticRegression(penalty='l2', C = 1, solver = \"liblinear\", max_iter = 500, fit_intercept = True))\n",
        "])\n"
      ],
      "metadata": {
        "id": "ApBgPVOuocwU"
      },
      "execution_count": 9,
      "outputs": []
    },
    {
      "cell_type": "markdown",
      "source": [
        "## XGBoost"
      ],
      "metadata": {
        "id": "Lq8nOqHE69hQ"
      }
    },
    {
      "cell_type": "code",
      "source": [
        "X_train = full_processor.fit_transform(train_set)\n",
        "y_train = label_encoder.transform(train_set.genre)\n",
        "X_validation = full_processor.transform(validation_set)\n",
        "y_validation = label_encoder.transform(validation_set.genre)"
      ],
      "metadata": {
        "id": "z4zWKOKJ7ICq"
      },
      "execution_count": 10,
      "outputs": []
    },
    {
      "cell_type": "code",
      "source": [
        "modelo_xgb = xgb.XGBClassifier(enable_categorical = True, booster = \"gbtree\")\n",
        "modelo_xgb.fit(X_train, y_train)"
      ],
      "metadata": {
        "id": "VlmT_qgyUqV2",
        "outputId": "4ba9ca59-1b73-4c5c-c5be-2c42b71a9f42",
        "colab": {
          "base_uri": "https://localhost:8080/"
        }
      },
      "execution_count": 19,
      "outputs": [
        {
          "output_type": "execute_result",
          "data": {
            "text/plain": [
              "XGBClassifier(enable_categorical=True, objective='multi:softprob')"
            ]
          },
          "metadata": {},
          "execution_count": 19
        }
      ]
    },
    {
      "cell_type": "code",
      "source": [
        "preds = modelo_xgb.predict_proba(X_validation)\n",
        "top_k_accuracy_score(y_validation, preds, labels = modelo_xgb.classes_), accuracy_score(y_validation, modelo_xgb.predict(X_validation))"
      ],
      "metadata": {
        "id": "WnmQfNbiX_Yq",
        "outputId": "bb334106-1f9e-4956-9edd-cae5b823e445",
        "colab": {
          "base_uri": "https://localhost:8080/"
        }
      },
      "execution_count": 22,
      "outputs": [
        {
          "output_type": "execute_result",
          "data": {
            "text/plain": [
              "(0.5312090790048014, 0.33347883020515057)"
            ]
          },
          "metadata": {},
          "execution_count": 22
        }
      ]
    },
    {
      "cell_type": "code",
      "source": [
        "from hyperopt import STATUS_OK, Trials, fmin, hp, tpe\n",
        "from scipy.stats import expon\n",
        "from sklearn.model_selection import GridSearchCV\n",
        "from scipy.stats import uniform\n",
        "from scipy.stats import poisson\n",
        "\n",
        "space={'max_depth': hp.quniform(\"max_depth\", 3, 30, 1),\n",
        "        'gamma': hp.uniform ('gamma', 1,6),\n",
        "        'colsample_bytree' : hp.uniform('colsample_bytree', 0.1,1),\n",
        "        'min_child_weight' : hp.quniform('min_child_weight', 0, 100, 1),\n",
        "        'n_estimators': hp.uniform(\"n_estimators\", 50, 350),\n",
        "        'seed': 0}\n",
        "\n",
        "def objective(space):\n",
        "\n",
        "  evaluation = [( X_train, y_train), ( X_validation, y_validation)]\n",
        "\n",
        "  classifier = xgb.XGBClassifier(n_estimators =int(space['n_estimators']), max_depth = int(space['max_depth']), gamma = space['gamma'],\n",
        "                                  min_child_weight=space['min_child_weight'],\n",
        "                                  colsample_bytree=space['colsample_bytree'], objective = \"multi:softprob\", booster = \"gbtree\",\n",
        "                                  enable_categorical = True)\n",
        "  \n",
        "  classifier.fit(X_train, y_train, verbose=False, early_stopping_rounds = 8,\n",
        "                 eval_set=evaluation, eval_metric=\"mlogloss\")\n",
        "\n",
        "  preds = classifier.predict_proba(X_validation)\n",
        "  accuracy = top_k_accuracy_score(y_validation, preds, labels = classifier.classes_)\n",
        "  \n",
        "  print (\"top_k_accuracy_score:\", accuracy)\n",
        "  print(classifier.get_params())\n",
        "\n",
        "  return {'loss': -accuracy, 'status': STATUS_OK }\n",
        "  \n",
        "trials = Trials()\n",
        "\n",
        "best_hyperparams = fmin(fn = objective,\n",
        "                        space = space,\n",
        "                        algo = tpe.suggest,\n",
        "                        max_evals = 20,\n",
        "                        trials = trials)"
      ],
      "metadata": {
        "id": "8aVIplOjZd8L",
        "colab": {
          "base_uri": "https://localhost:8080/"
        },
        "outputId": "738b588d-62a9-4a61-dbf7-567c6a341fee"
      },
      "execution_count": 46,
      "outputs": [
        {
          "output_type": "stream",
          "name": "stdout",
          "text": [
            "top_k_accuracy_score:\n",
            "0.522479266695766\n",
            "{'base_score': 0.5, 'booster': 'gbtree', 'colsample_bylevel': 1, 'colsample_bynode': 1, 'colsample_bytree': 0.5219968644856546, 'gamma': 4.921466938643114, 'learning_rate': 0.1, 'max_delta_step': 0, 'max_depth': 22, 'min_child_weight': 5.0, 'missing': None, 'n_estimators': 221, 'n_jobs': 1, 'nthread': None, 'objective': 'multi:softprob', 'random_state': 0, 'reg_alpha': 0, 'reg_lambda': 1, 'scale_pos_weight': 1, 'seed': None, 'silent': None, 'subsample': 1, 'verbosity': 1, 'enable_categorical': True}\n",
            "top_k_accuracy_score:\n",
            "0.5443037974683544\n",
            "{'base_score': 0.5, 'booster': 'gbtree', 'colsample_bylevel': 1, 'colsample_bynode': 1, 'colsample_bytree': 0.3275686765123345, 'gamma': 1.1166725262933839, 'learning_rate': 0.1, 'max_delta_step': 0, 'max_depth': 8, 'min_child_weight': 20.0, 'missing': None, 'n_estimators': 110, 'n_jobs': 1, 'nthread': None, 'objective': 'multi:softprob', 'random_state': 0, 'reg_alpha': 0, 'reg_lambda': 1, 'scale_pos_weight': 1, 'seed': None, 'silent': None, 'subsample': 1, 'verbosity': 1, 'enable_categorical': True}\n",
            "top_k_accuracy_score:\n",
            "0.5294631165429943\n",
            "{'base_score': 0.5, 'booster': 'gbtree', 'colsample_bylevel': 1, 'colsample_bynode': 1, 'colsample_bytree': 0.2754820246415556, 'gamma': 1.940769321903348, 'learning_rate': 0.1, 'max_delta_step': 0, 'max_depth': 23, 'min_child_weight': 6.0, 'missing': None, 'n_estimators': 134, 'n_jobs': 1, 'nthread': None, 'objective': 'multi:softprob', 'random_state': 0, 'reg_alpha': 0, 'reg_lambda': 1, 'scale_pos_weight': 1, 'seed': None, 'silent': None, 'subsample': 1, 'verbosity': 1, 'enable_categorical': True}\n",
            "top_k_accuracy_score:\n",
            "0.5233522479266696\n",
            "{'base_score': 0.5, 'booster': 'gbtree', 'colsample_bylevel': 1, 'colsample_bynode': 1, 'colsample_bytree': 0.21014740134132054, 'gamma': 3.5930838431381735, 'learning_rate': 0.1, 'max_delta_step': 0, 'max_depth': 12, 'min_child_weight': 4.0, 'missing': None, 'n_estimators': 99, 'n_jobs': 1, 'nthread': None, 'objective': 'multi:softprob', 'random_state': 0, 'reg_alpha': 0, 'reg_lambda': 1, 'scale_pos_weight': 1, 'seed': None, 'silent': None, 'subsample': 1, 'verbosity': 1, 'enable_categorical': True}\n",
            "top_k_accuracy_score:\n",
            "0.5316455696202531\n",
            "{'base_score': 0.5, 'booster': 'gbtree', 'colsample_bylevel': 1, 'colsample_bynode': 1, 'colsample_bytree': 0.9661240235015996, 'gamma': 1.1303678467602465, 'learning_rate': 0.1, 'max_delta_step': 0, 'max_depth': 3, 'min_child_weight': 98.0, 'missing': None, 'n_estimators': 84, 'n_jobs': 1, 'nthread': None, 'objective': 'multi:softprob', 'random_state': 0, 'reg_alpha': 0, 'reg_lambda': 1, 'scale_pos_weight': 1, 'seed': None, 'silent': None, 'subsample': 1, 'verbosity': 1, 'enable_categorical': True}\n",
            "top_k_accuracy_score:\n",
            "0.5181143605412484\n",
            "{'base_score': 0.5, 'booster': 'gbtree', 'colsample_bylevel': 1, 'colsample_bynode': 1, 'colsample_bytree': 0.7695519693447159, 'gamma': 5.514619879332799, 'learning_rate': 0.1, 'max_delta_step': 0, 'max_depth': 26, 'min_child_weight': 20.0, 'missing': None, 'n_estimators': 237, 'n_jobs': 1, 'nthread': None, 'objective': 'multi:softprob', 'random_state': 0, 'reg_alpha': 0, 'reg_lambda': 1, 'scale_pos_weight': 1, 'seed': None, 'silent': None, 'subsample': 1, 'verbosity': 1, 'enable_categorical': True}\n",
            "top_k_accuracy_score:\n",
            "0.5333915320820602\n",
            "{'base_score': 0.5, 'booster': 'gbtree', 'colsample_bylevel': 1, 'colsample_bynode': 1, 'colsample_bytree': 0.34246867454840896, 'gamma': 2.446279706795262, 'learning_rate': 0.1, 'max_delta_step': 0, 'max_depth': 8, 'min_child_weight': 81.0, 'missing': None, 'n_estimators': 182, 'n_jobs': 1, 'nthread': None, 'objective': 'multi:softprob', 'random_state': 0, 'reg_alpha': 0, 'reg_lambda': 1, 'scale_pos_weight': 1, 'seed': None, 'silent': None, 'subsample': 1, 'verbosity': 1, 'enable_categorical': True}\n",
            "top_k_accuracy_score:\n",
            "0.5333915320820602\n",
            "{'base_score': 0.5, 'booster': 'gbtree', 'colsample_bylevel': 1, 'colsample_bynode': 1, 'colsample_bytree': 0.22526570039391508, 'gamma': 3.8634650171414275, 'learning_rate': 0.1, 'max_delta_step': 0, 'max_depth': 19, 'min_child_weight': 39.0, 'missing': None, 'n_estimators': 229, 'n_jobs': 1, 'nthread': None, 'objective': 'multi:softprob', 'random_state': 0, 'reg_alpha': 0, 'reg_lambda': 1, 'scale_pos_weight': 1, 'seed': None, 'silent': None, 'subsample': 1, 'verbosity': 1, 'enable_categorical': True}\n",
            "top_k_accuracy_score:\n",
            "0.5298996071584461\n",
            "{'base_score': 0.5, 'booster': 'gbtree', 'colsample_bylevel': 1, 'colsample_bynode': 1, 'colsample_bytree': 0.29083935643759656, 'gamma': 4.678799696490037, 'learning_rate': 0.1, 'max_delta_step': 0, 'max_depth': 12, 'min_child_weight': 63.0, 'missing': None, 'n_estimators': 171, 'n_jobs': 1, 'nthread': None, 'objective': 'multi:softprob', 'random_state': 0, 'reg_alpha': 0, 'reg_lambda': 1, 'scale_pos_weight': 1, 'seed': None, 'silent': None, 'subsample': 1, 'verbosity': 1, 'enable_categorical': True}\n",
            "top_k_accuracy_score:\n",
            "0.5268441728502837\n",
            "{'base_score': 0.5, 'booster': 'gbtree', 'colsample_bylevel': 1, 'colsample_bynode': 1, 'colsample_bytree': 0.2320507870222983, 'gamma': 3.7098298614628553, 'learning_rate': 0.1, 'max_delta_step': 0, 'max_depth': 28, 'min_child_weight': 38.0, 'missing': None, 'n_estimators': 87, 'n_jobs': 1, 'nthread': None, 'objective': 'multi:softprob', 'random_state': 0, 'reg_alpha': 0, 'reg_lambda': 1, 'scale_pos_weight': 1, 'seed': None, 'silent': None, 'subsample': 1, 'verbosity': 1, 'enable_categorical': True}\n",
            "top_k_accuracy_score:\n",
            "0.5185508511567001\n",
            "{'base_score': 0.5, 'booster': 'gbtree', 'colsample_bylevel': 1, 'colsample_bynode': 1, 'colsample_bytree': 0.10528633697328824, 'gamma': 3.9734054156504808, 'learning_rate': 0.1, 'max_delta_step': 0, 'max_depth': 10, 'min_child_weight': 87.0, 'missing': None, 'n_estimators': 212, 'n_jobs': 1, 'nthread': None, 'objective': 'multi:softprob', 'random_state': 0, 'reg_alpha': 0, 'reg_lambda': 1, 'scale_pos_weight': 1, 'seed': None, 'silent': None, 'subsample': 1, 'verbosity': 1, 'enable_categorical': True}\n",
            "top_k_accuracy_score:\n",
            "0.5255347010039284\n",
            "{'base_score': 0.5, 'booster': 'gbtree', 'colsample_bylevel': 1, 'colsample_bynode': 1, 'colsample_bytree': 0.3123280374856519, 'gamma': 3.0496931344306626, 'learning_rate': 0.1, 'max_delta_step': 0, 'max_depth': 20, 'min_child_weight': 29.0, 'missing': None, 'n_estimators': 102, 'n_jobs': 1, 'nthread': None, 'objective': 'multi:softprob', 'random_state': 0, 'reg_alpha': 0, 'reg_lambda': 1, 'scale_pos_weight': 1, 'seed': None, 'silent': None, 'subsample': 1, 'verbosity': 1, 'enable_categorical': True}\n",
            "top_k_accuracy_score:\n",
            "0.5259711916193802\n",
            "{'base_score': 0.5, 'booster': 'gbtree', 'colsample_bylevel': 1, 'colsample_bynode': 1, 'colsample_bytree': 0.4949772904904798, 'gamma': 2.520404299366309, 'learning_rate': 0.1, 'max_delta_step': 0, 'max_depth': 24, 'min_child_weight': 36.0, 'missing': None, 'n_estimators': 134, 'n_jobs': 1, 'nthread': None, 'objective': 'multi:softprob', 'random_state': 0, 'reg_alpha': 0, 'reg_lambda': 1, 'scale_pos_weight': 1, 'seed': None, 'silent': None, 'subsample': 1, 'verbosity': 1, 'enable_categorical': True}\n",
            "top_k_accuracy_score:\n",
            "0.5255347010039284\n",
            "{'base_score': 0.5, 'booster': 'gbtree', 'colsample_bylevel': 1, 'colsample_bynode': 1, 'colsample_bytree': 0.4962846339063428, 'gamma': 3.620655950741597, 'learning_rate': 0.1, 'max_delta_step': 0, 'max_depth': 11, 'min_child_weight': 40.0, 'missing': None, 'n_estimators': 279, 'n_jobs': 1, 'nthread': None, 'objective': 'multi:softprob', 'random_state': 0, 'reg_alpha': 0, 'reg_lambda': 1, 'scale_pos_weight': 1, 'seed': None, 'silent': None, 'subsample': 1, 'verbosity': 1, 'enable_categorical': True}\n",
            "top_k_accuracy_score:\n",
            "0.5333915320820602\n",
            "{'base_score': 0.5, 'booster': 'gbtree', 'colsample_bylevel': 1, 'colsample_bynode': 1, 'colsample_bytree': 0.6934735346489382, 'gamma': 4.142236967892006, 'learning_rate': 0.1, 'max_delta_step': 0, 'max_depth': 18, 'min_child_weight': 61.0, 'missing': None, 'n_estimators': 339, 'n_jobs': 1, 'nthread': None, 'objective': 'multi:softprob', 'random_state': 0, 'reg_alpha': 0, 'reg_lambda': 1, 'scale_pos_weight': 1, 'seed': None, 'silent': None, 'subsample': 1, 'verbosity': 1, 'enable_categorical': True}\n",
            "top_k_accuracy_score:\n",
            "0.5255347010039284\n",
            "{'base_score': 0.5, 'booster': 'gbtree', 'colsample_bylevel': 1, 'colsample_bynode': 1, 'colsample_bytree': 0.2922686806768443, 'gamma': 4.688152441596598, 'learning_rate': 0.1, 'max_delta_step': 0, 'max_depth': 29, 'min_child_weight': 39.0, 'missing': None, 'n_estimators': 96, 'n_jobs': 1, 'nthread': None, 'objective': 'multi:softprob', 'random_state': 0, 'reg_alpha': 0, 'reg_lambda': 1, 'scale_pos_weight': 1, 'seed': None, 'silent': None, 'subsample': 1, 'verbosity': 1, 'enable_categorical': True}\n",
            "top_k_accuracy_score:\n",
            "0.5290266259275426\n",
            "{'base_score': 0.5, 'booster': 'gbtree', 'colsample_bylevel': 1, 'colsample_bynode': 1, 'colsample_bytree': 0.5744028812197023, 'gamma': 3.0881727975038755, 'learning_rate': 0.1, 'max_delta_step': 0, 'max_depth': 26, 'min_child_weight': 95.0, 'missing': None, 'n_estimators': 219, 'n_jobs': 1, 'nthread': None, 'objective': 'multi:softprob', 'random_state': 0, 'reg_alpha': 0, 'reg_lambda': 1, 'scale_pos_weight': 1, 'seed': None, 'silent': None, 'subsample': 1, 'verbosity': 1, 'enable_categorical': True}\n",
            "top_k_accuracy_score:\n",
            "0.5329550414666084\n",
            "{'base_score': 0.5, 'booster': 'gbtree', 'colsample_bylevel': 1, 'colsample_bynode': 1, 'colsample_bytree': 0.5690714191846933, 'gamma': 4.626796366816034, 'learning_rate': 0.1, 'max_delta_step': 0, 'max_depth': 15, 'min_child_weight': 43.0, 'missing': None, 'n_estimators': 320, 'n_jobs': 1, 'nthread': None, 'objective': 'multi:softprob', 'random_state': 0, 'reg_alpha': 0, 'reg_lambda': 1, 'scale_pos_weight': 1, 'seed': None, 'silent': None, 'subsample': 1, 'verbosity': 1, 'enable_categorical': True}\n",
            "top_k_accuracy_score:\n",
            "0.5312090790048014\n",
            "{'base_score': 0.5, 'booster': 'gbtree', 'colsample_bylevel': 1, 'colsample_bynode': 1, 'colsample_bytree': 0.436524879755823, 'gamma': 4.038180829714744, 'learning_rate': 0.1, 'max_delta_step': 0, 'max_depth': 21, 'min_child_weight': 54.0, 'missing': None, 'n_estimators': 245, 'n_jobs': 1, 'nthread': None, 'objective': 'multi:softprob', 'random_state': 0, 'reg_alpha': 0, 'reg_lambda': 1, 'scale_pos_weight': 1, 'seed': None, 'silent': None, 'subsample': 1, 'verbosity': 1, 'enable_categorical': True}\n",
            "top_k_accuracy_score:\n",
            "0.5408118725447403\n",
            "{'base_score': 0.5, 'booster': 'gbtree', 'colsample_bylevel': 1, 'colsample_bynode': 1, 'colsample_bytree': 0.24639367909587717, 'gamma': 2.9062987314964723, 'learning_rate': 0.1, 'max_delta_step': 0, 'max_depth': 26, 'min_child_weight': 35.0, 'missing': None, 'n_estimators': 217, 'n_jobs': 1, 'nthread': None, 'objective': 'multi:softprob', 'random_state': 0, 'reg_alpha': 0, 'reg_lambda': 1, 'scale_pos_weight': 1, 'seed': None, 'silent': None, 'subsample': 1, 'verbosity': 1, 'enable_categorical': True}\n",
            "100%|██████████| 20/20 [1:27:15<00:00, 261.78s/it, best loss: -0.5443037974683544]\n"
          ]
        }
      ]
    },
    {
      "cell_type": "code",
      "source": [
        "import pickle\n",
        "pickle.dump(trials, open(\"myfile.p\", \"wb\"))"
      ],
      "metadata": {
        "id": "L3M2MGr0hsda"
      },
      "execution_count": 47,
      "outputs": []
    },
    {
      "cell_type": "code",
      "source": [
        "best_hyperparams"
      ],
      "metadata": {
        "colab": {
          "base_uri": "https://localhost:8080/"
        },
        "id": "Miv5X30VfUKm",
        "outputId": "f3e5c7e7-df0d-4e52-ab39-2af828a25b73"
      },
      "execution_count": 48,
      "outputs": [
        {
          "output_type": "execute_result",
          "data": {
            "text/plain": [
              "{'colsample_bytree': 0.3275686765123345,\n",
              " 'gamma': 1.1166725262933839,\n",
              " 'max_depth': 8.0,\n",
              " 'min_child_weight': 20.0,\n",
              " 'n_estimators': 110.322111802987}"
            ]
          },
          "metadata": {},
          "execution_count": 48
        }
      ]
    },
    {
      "cell_type": "code",
      "source": [
        "modelo_xgb = xgb.XGBClassifier(n_estimators =int(best_hyperparams['n_estimators']), max_depth = int(best_hyperparams['max_depth']),\n",
        "                               gamma = best_hyperparams['gamma'], min_child_weight=best_hyperparams['min_child_weight'],\n",
        "                               colsample_bytree=best_hyperparams['colsample_bytree'], objective = \"multi:softprob\",\n",
        "                               booster = \"gbtree\", enable_categorical = True)\n",
        "\n",
        "modelo_xgb.fit(X_train, y_train)"
      ],
      "metadata": {
        "colab": {
          "base_uri": "https://localhost:8080/"
        },
        "id": "eXeub0wMfuuD",
        "outputId": "4a9e6bdc-f214-4ebc-b60c-c878e40395dd"
      },
      "execution_count": 49,
      "outputs": [
        {
          "output_type": "execute_result",
          "data": {
            "text/plain": [
              "XGBClassifier(colsample_bytree=0.3275686765123345, enable_categorical=True,\n",
              "              gamma=1.1166725262933839, max_depth=8, min_child_weight=20.0,\n",
              "              n_estimators=110, objective='multi:softprob')"
            ]
          },
          "metadata": {},
          "execution_count": 49
        }
      ]
    },
    {
      "cell_type": "code",
      "source": [
        "preds = modelo_xgb.predict_proba(X_validation)\n",
        "top_k_accuracy_score(y_validation, preds, labels = modelo_xgb.classes_), accuracy_score(y_validation, modelo_xgb.predict(X_validation))"
      ],
      "metadata": {
        "colab": {
          "base_uri": "https://localhost:8080/"
        },
        "id": "-sc81VB6gOb8",
        "outputId": "b595c9d2-250b-459b-b6aa-d188c7ed46b1"
      },
      "execution_count": 50,
      "outputs": [
        {
          "output_type": "execute_result",
          "data": {
            "text/plain": [
              "(0.5434308162374509, 0.34177215189873417)"
            ]
          },
          "metadata": {},
          "execution_count": 50
        }
      ]
    },
    {
      "cell_type": "code",
      "source": [
        "modelo_xgb.save_model(\"XGBClassificator.json\")"
      ],
      "metadata": {
        "id": "CRXbjj1tk_uW"
      },
      "execution_count": 64,
      "outputs": []
    },
    {
      "cell_type": "code",
      "source": [
        "xgb.plot_importance(modelo_xgb,  max_num_features=15)"
      ],
      "metadata": {
        "colab": {
          "base_uri": "https://localhost:8080/",
          "height": 312
        },
        "id": "mqZszsEZlPLQ",
        "outputId": "54a57b0c-de21-4a37-fb33-1ffabe3a1880"
      },
      "execution_count": 91,
      "outputs": [
        {
          "output_type": "execute_result",
          "data": {
            "text/plain": [
              "<matplotlib.axes._subplots.AxesSubplot at 0x7ff47c623d10>"
            ]
          },
          "metadata": {},
          "execution_count": 91
        },
        {
          "output_type": "display_data",
          "data": {
            "text/plain": [
              "<Figure size 432x288 with 1 Axes>"
            ],
            "image/png": "[encoded data removed]"
          },
          "metadata": {
            "needs_background": "light"
          }
        }
      ]
    },
    {
      "cell_type": "code",
      "source": [
        "columns =['sum_tfidf_for_dance', 'sum_tfidf_for_pop', 'sum_tfidf_for_r&b',\n",
        "       'sum_tfidf_for_hip-hop', 'sum_tfidf_for_rap', 'sum_tfidf_for_soul',\n",
        "       'sum_tfidf_for_rock', 'sum_tfidf_for_blues', 'sum_tfidf_for_folk',\n",
        "       'sum_tfidf_for_jazz', 'sum_tfidf_for_country',\n",
        "       'sum_tfidf_for_alternative', 'sum_tfidf_for_children’s music',\n",
        "       'sum_tfidf_for_indie', 'sum_tfidf_for_electronic',\n",
        "       'sum_tfidf_for_classical', 'sum_tfidf_for_opera', 'sum_tfidf_for_world',\n",
        "       'sum_tfidf_for_ska', 'sum_tfidf_for_comedy', 'sum_tfidf_for_reggae',\n",
        "       'sum_tfidf_for_reggaeton', \"sum_tfidf_for_children's music\",\n",
        "       'sum_tfidf_for_soundtrack', 'sum_tfidf_for_anime',\n",
        "       'sum_tfidf_for_movie'] + \\\n",
        "                  [\"length_lyrics\", \"number_of_lines\", \"number_of_tokens\"] + \\\n",
        "                  [\"FW\", \"JJR\", \"NN\", \"NNS\", \"NNP\", \"PDT\", \"PRP\", \"RB\", \"RBR\",\n",
        "                   \"UH\", \"VB\", \"VBG\", \"VBD\", \"VBN\", \"VBP\", \"VBZ\"] + \\\n",
        "                  [\"Minus\", \"Major\"] + \\\n",
        "                  [\"popularity_by_lang\", \"loudness_by_lang\"] + numerical_features + ordinal_features\n"
      ],
      "metadata": {
        "id": "hgEH2APon8eQ"
      },
      "execution_count": 88,
      "outputs": []
    },
    {
      "cell_type": "code",
      "source": [
        "columns[50:60]"
      ],
      "metadata": {
        "colab": {
          "base_uri": "https://localhost:8080/"
        },
        "id": "MgCNcBG0n9mM",
        "outputId": "f14e7adb-fb08-4371-ce33-6baf36c42d07"
      },
      "execution_count": 90,
      "outputs": [
        {
          "output_type": "execute_result",
          "data": {
            "text/plain": [
              "['a_popularity',\n",
              " 'popularity',\n",
              " 'acousticness',\n",
              " 'danceability',\n",
              " 'duration_ms',\n",
              " 'energy',\n",
              " 'instrumentalness',\n",
              " 'liveness',\n",
              " 'loudness',\n",
              " 'speechiness']"
            ]
          },
          "metadata": {},
          "execution_count": 90
        }
      ]
    },
    {
      "cell_type": "markdown",
      "source": [
        "Vemos que las features más importantes àra el XGBoost son las features numéricas originales."
      ],
      "metadata": {
        "id": "gxra5X4YojUz"
      }
    }
  ]
}