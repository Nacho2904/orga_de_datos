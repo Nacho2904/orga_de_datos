{
  "nbformat": 4,
  "nbformat_minor": 0,
  "metadata": {
    "colab": {
      "provenance": [],
      "include_colab_link": true
    },
    "kernelspec": {
      "name": "python3",
      "display_name": "Python 3"
    },
    "language_info": {
      "name": "python"
    }
  },
  "cells": [
    {
      "cell_type": "markdown",
      "metadata": {
        "id": "view-in-github",
        "colab_type": "text"
      },
      "source": [
        "<a href=\"https://colab.research.google.com/github/Nacho2904/orga_de_datos/blob/main/tp3_parte_3.ipynb\" target=\"_parent\"><img src=\"https://colab.research.google.com/assets/colab-badge.svg\" alt=\"Open In Colab\"/></a>"
      ]
    },
    {
      "cell_type": "code",
      "execution_count": null,
      "metadata": {
        "colab": {
          "base_uri": "https://localhost:8080/"
        },
        "id": "7-7fkwozC3D3",
        "outputId": "a6375353-0d8e-475a-e2da-53e7d328652a"
      },
      "outputs": [
        {
          "output_type": "stream",
          "name": "stdout",
          "text": [
            "Drive already mounted at /content/gdrive; to attempt to forcibly remount, call drive.mount(\"/content/gdrive\", force_remount=True).\n"
          ]
        }
      ],
      "source": [
        "import pandas as pd\n",
        "import numpy as np\n",
        "import matplotlib.pyplot as plt\n",
        "from sklearn import preprocessing\n",
        "from sklearn.pipeline import Pipeline\n",
        "from sklearn.feature_extraction.text import TfidfVectorizer\n",
        "from sklearn.metrics import top_k_accuracy_score\n",
        "from sklearn.metrics import accuracy_score\n",
        "from sklearn.metrics import confusion_matrix\n",
        "from google.colab import drive \n",
        "import nltk\n",
        "import functools\n",
        "import xgboost as xgb\n",
        "import lightgbm as lgb\n",
        "\n",
        "drive.mount('/content/gdrive')\n",
        "path_a_training_set = 'gdrive/MyDrive/TP3 dataset music/train.parquet'\n",
        "path_a_test_set = 'gdrive/MyDrive/TP3 dataset music/test.parquet'\n",
        "\n",
        "\n",
        "df_music_train = pd.read_parquet(path_a_training_set).fillna(\"\")\n",
        "df_music_test = pd.read_parquet(path_a_test_set).fillna(\"\")"
      ]
    },
    {
      "cell_type": "markdown",
      "source": [
        "## Preprocessing"
      ],
      "metadata": {
        "id": "fwptY_P6y2pm"
      }
    },
    {
      "cell_type": "code",
      "source": [
        "nltk.download('stopwords')\n",
        "nltk.download('punkt')\n",
        "\n",
        "genres = list(df_music_train[\"genre\"].unique())\n",
        "def get_vectorizers_by_genre(df_music: pd.DataFrame) -> dict:\n",
        "  df_music_lyric_tokenized = df_music.copy().fillna(\"\")\n",
        "  df_music_lyric_tokenized[\"lyric\"] = df_music_lyric_tokenized[\"lyric\"].map(lambda lyric: set(nltk.word_tokenize(lyric)))\n",
        "  df_music_grouped_by_genre = df_music_lyric_tokenized[[\"genre\", \"lyric\"]].groupby('genre').agg(lambda x: functools.reduce(set.union, x)).reset_index()\n",
        "  vocabs = dict(zip(df_music_grouped_by_genre.genre.to_list(), df_music_grouped_by_genre.lyric.to_list()))\n",
        "  stopwords = set(nltk.corpus.stopwords.words(\"english\")).union(set(nltk.corpus.stopwords.words(\"spanish\"))).union(set(nltk.corpus.stopwords.words(\"french\")))\n",
        "  vectorizers = {genre: TfidfVectorizer(input = \"content\", stop_words = stopwords, vocabulary = vocabs[genre]) for genre in genres}\n",
        "  for genre in genres:\n",
        "    vectorizers[genre].fit(df_music[df_music[\"genre\"] == genre][\"genre\"])\n",
        "  return vectorizers\n",
        "\n",
        "vectorizers = get_vectorizers_by_genre(df_music_train)"
      ],
      "metadata": {
        "id": "seazRU21KuOZ",
        "colab": {
          "base_uri": "https://localhost:8080/"
        },
        "outputId": "b0138713-0bc7-4eee-92d3-7640cf1e3714"
      },
      "execution_count": null,
      "outputs": [
        {
          "output_type": "stream",
          "name": "stderr",
          "text": [
            "[nltk_data] Downloading package stopwords to /root/nltk_data...\n",
            "[nltk_data]   Package stopwords is already up-to-date!\n",
            "[nltk_data] Downloading package punkt to /root/nltk_data...\n",
            "[nltk_data]   Package punkt is already up-to-date!\n",
            "/usr/local/lib/python3.7/dist-packages/sklearn/feature_extraction/text.py:1323: UserWarning: Upper case characters found in vocabulary while 'lowercase' is True. These entries will not be matched with any documents\n",
            "  \"Upper case characters found in\"\n"
          ]
        }
      ]
    },
    {
      "cell_type": "code",
      "source": [
        "def get_sum_tfidf_from_lyrics(df_music: pd.DataFrame) -> pd.DataFrame:\n",
        "  df_music = df_music.fillna(\"\")\n",
        "  column_names = [\"sum_tfidf_for_\" + genre.lower() for genre in genres]\n",
        "  for i in range(0, len(genres)):\n",
        "    df_music[column_names[i]] = np.sum(vectorizers[genres[i]].transform(df_music[\"lyric\"]), axis = 1)\n",
        "  return df_music[column_names]\n",
        "\n",
        "get_sum_tfidf_from_lyrics(df_music_train).columns"
      ],
      "metadata": {
        "colab": {
          "base_uri": "https://localhost:8080/"
        },
        "id": "Hn7ojEFq-YXi",
        "outputId": "72efe66f-d8d2-403c-a0e2-dd818abc25db"
      },
      "execution_count": null,
      "outputs": [
        {
          "output_type": "execute_result",
          "data": {
            "text/plain": [
              "Index(['sum_tfidf_for_dance', 'sum_tfidf_for_pop', 'sum_tfidf_for_r&b',\n",
              "       'sum_tfidf_for_hip-hop', 'sum_tfidf_for_rap', 'sum_tfidf_for_soul',\n",
              "       'sum_tfidf_for_rock', 'sum_tfidf_for_blues', 'sum_tfidf_for_folk',\n",
              "       'sum_tfidf_for_jazz', 'sum_tfidf_for_country',\n",
              "       'sum_tfidf_for_alternative', 'sum_tfidf_for_children’s music',\n",
              "       'sum_tfidf_for_indie', 'sum_tfidf_for_electronic',\n",
              "       'sum_tfidf_for_classical', 'sum_tfidf_for_opera', 'sum_tfidf_for_world',\n",
              "       'sum_tfidf_for_ska', 'sum_tfidf_for_comedy', 'sum_tfidf_for_reggae',\n",
              "       'sum_tfidf_for_reggaeton', 'sum_tfidf_for_children's music',\n",
              "       'sum_tfidf_for_soundtrack', 'sum_tfidf_for_anime',\n",
              "       'sum_tfidf_for_movie'],\n",
              "      dtype='object')"
            ]
          },
          "metadata": {},
          "execution_count": 6
        }
      ]
    },
    {
      "cell_type": "code",
      "source": [
        "def eliminate_genres_without_enough_observations(df_music: pd.DataFrame) -> pd.DataFrame:\n",
        "  df_music_recuento_filas_por_genero = df_music.groupby(\"genre\").count().reset_index()[[\"genre\", \"track_name\"]].rename(\n",
        "    columns = {\"track_name\": \"rowCount\"}).sort_values(\"rowCount\")\n",
        "  problematic_genres = list(df_music_recuento_filas_por_genero[df_music_recuento_filas_por_genero[\"rowCount\"] < 50].genre)[1:]\n",
        "  return df_music[~df_music[\"genre\"].isin(problematic_genres)]"
      ],
      "metadata": {
        "id": "TQCnc16lQAxu"
      },
      "execution_count": null,
      "outputs": []
    },
    {
      "cell_type": "code",
      "source": [
        "nltk.download('punkt')\n",
        "def get_length_transforms_for_text(df_music: pd.DataFrame) -> pd.DataFrame:\n",
        "  df_music[\"number_of_lines\"] = df_music[\"lyric\"].map(lambda lyric: len(lyric.split(\"\\n\")))\n",
        "  df_music[\"number_of_tokens\"] = df_music[\"lyric\"].map(lambda lyric: len(nltk.word_tokenize(lyric)))\n",
        "  df_music[\"length_lyrics\"] = df_music[\"lyric\"].map(lambda lyric: len(lyric))\n",
        "  return df_music[[\"length_lyrics\", \"number_of_lines\", \"number_of_tokens\"]]"
      ],
      "metadata": {
        "colab": {
          "base_uri": "https://localhost:8080/"
        },
        "id": "T1QqQUHIEHzj",
        "outputId": "4c6fdc97-06bd-4c2c-f92d-a735fd83eece"
      },
      "execution_count": null,
      "outputs": [
        {
          "output_type": "stream",
          "name": "stderr",
          "text": [
            "[nltk_data] Downloading package punkt to /root/nltk_data...\n",
            "[nltk_data]   Package punkt is already up-to-date!\n"
          ]
        }
      ]
    },
    {
      "cell_type": "code",
      "source": [
        "nltk.download('averaged_perceptron_tagger')\n",
        "\n",
        "def get_POS_vector_from_lyric_POS(lyric_POS):\n",
        "  useful_pos_tags = [\"FW\", \"JJR\", \"NN\", \"NNS\", \"NNP\", \"PDT\", \"PRP\", \"RB\", \"RBR\",\n",
        "                   \"UH\", \"VB\", \"VBG\", \"VBD\", \"VBN\", \"VBP\", \"VBZ\"]\n",
        "  POS_dictionary = {pos_tag:0 for pos_tag in useful_pos_tags}\n",
        "  POS_dictionary.update({\"other\":0})\n",
        "\n",
        "  for token in lyric_POS:\n",
        "    if token[1] in useful_pos_tags:\n",
        "      POS_dictionary[token[1]] += 1\n",
        "    else:\n",
        "      POS_dictionary[\"other\"] += 1\n",
        "\n",
        "  return [POS_dictionary[pos_tag] for pos_tag in POS_dictionary]\n",
        "  \n",
        "\n",
        "def get_POS_chunk_taggin_counts_for_text(df_music: pd.DataFrame) -> pd.DataFrame:\n",
        "  df_music[\"lyric_POS\"] = df_music[\"lyric\"].map(lambda lyric: nltk.pos_tag(nltk.word_tokenize(lyric)))\n",
        "  df_music[\"lyric_POS\"] = df_music[\"lyric_POS\"].map(lambda lyric_pos: get_POS_vector_from_lyric_POS(lyric_pos))\n",
        "  return pd.DataFrame(df_music[\"lyric_POS\"].to_list())\n"
      ],
      "metadata": {
        "id": "LOEyM2E-Ny6P",
        "outputId": "6afed5ae-b484-4941-ace0-11ee2e88647c",
        "colab": {
          "base_uri": "https://localhost:8080/"
        }
      },
      "execution_count": null,
      "outputs": [
        {
          "output_type": "stream",
          "name": "stderr",
          "text": [
            "[nltk_data] Downloading package averaged_perceptron_tagger to\n",
            "[nltk_data]     /root/nltk_data...\n",
            "[nltk_data]   Package averaged_perceptron_tagger is already up-to-\n",
            "[nltk_data]       date!\n"
          ]
        }
      ]
    },
    {
      "cell_type": "code",
      "source": [
        "df_music_filtered_genres = eliminate_genres_without_enough_observations(df_music_train)\n",
        "artists = list(df_music_filtered_genres[\"artist\"].unique())\n",
        "train_artists = set(artists[:int(0.9*len(artists))])\n",
        "validation_artists = set(artists[int(0.9*len(artists)):])\n",
        "train_set = df_music_filtered_genres[df_music_filtered_genres[\"artist\"].isin(train_artists)]\n",
        "validation_set = df_music_filtered_genres[df_music_filtered_genres[\"artist\"].isin(validation_artists)]"
      ],
      "metadata": {
        "id": "0WXfDLhA174X"
      },
      "execution_count": null,
      "outputs": []
    },
    {
      "cell_type": "code",
      "source": [
        "def mean_hot_encoder(df_music: pd.DataFrame, df_training: pd.DataFrame) -> pd.DataFrame:\n",
        "  df_training_grouped_by_lang = df_training.groupby(\"language\").mean().reset_index()[[\"language\", \"popularity\"]]\n",
        "  df_new_columns = df_music.merge(df_training_grouped_by_lang, on = \"language\", how = \"left\")\n",
        "  return df_new_columns[[\"popularity_y\"]].fillna(0)\n",
        "\n",
        "mean_hot_encoder_using_training_set = lambda df_to_encode: mean_hot_encoder(df_to_encode, df_music_train) "
      ],
      "metadata": {
        "id": "wG1TiABKECHD"
      },
      "execution_count": null,
      "outputs": []
    },
    {
      "cell_type": "code",
      "source": [
        "from sklearn.compose import ColumnTransformer\n",
        "from sklearn.linear_model import LogisticRegression\n",
        "from sklearn.impute import SimpleImputer\n",
        "\n",
        "text_features = [\"track_name\", \"lyric\", \"artist\"]\n",
        "\n",
        "numerical_features = [\"a_songs\", \"a_popularity\", \"popularity\", \"acousticness\", \"danceability\", \"duration_ms\",\n",
        "                   \"energy\", \"instrumentalness\", \"liveness\", \"loudness\", \"speechiness\", \"tempo\", \"valence\"]\n",
        "\n",
        "ordinal_features = [\"key\"]\n",
        "\n",
        "one_hot_features = [\"mode\"]\n",
        "\n",
        "mean_enc_features = [\"language\"]\n",
        "\n",
        "artist_genres = [\"a_genres\", \"genre\"]\n",
        "\n",
        "label = [\"genre\"]\n",
        "\n",
        "identity_transformer = preprocessing.FunctionTransformer(None)\n",
        "\n",
        "label_encoder = preprocessing.LabelEncoder()\n",
        "label_encoder.fit(df_music_train[\"genre\"])\n",
        "\n",
        "full_processor = ColumnTransformer(transformers=[\n",
        "    ('text_tf_idf', preprocessing.FunctionTransformer(get_sum_tfidf_from_lyrics), text_features),\n",
        "    ('text_simple_transforms', preprocessing.FunctionTransformer(get_length_transforms_for_text), text_features),\n",
        "    ('text_POS_count', preprocessing.FunctionTransformer(get_POS_chunk_taggin_counts_for_text), text_features),\n",
        "    ('mean_encoding', preprocessing.FunctionTransformer(mean_hot_encoder_using_training_set), list(df_music_train.columns)),\n",
        "    ('one_hot_encoding', preprocessing.OneHotEncoder(), one_hot_features),\n",
        "    ('numerical', identity_transformer, numerical_features),\n",
        "    ('ordinal', preprocessing.OrdinalEncoder(categories = [['C', 'C#', 'D', 'D#', 'E', 'F', 'F#', 'G', 'G#', 'A', 'A#', 'B']]), ordinal_features)])\n",
        "\n",
        "logistic_regression_pipeline = Pipeline(steps = [\n",
        "    ('preprocess_X', full_processor),\n",
        "    ('model', LogisticRegression(penalty='l2', C = 1, solver = \"liblinear\", max_iter = 500, fit_intercept = True))\n",
        "])\n"
      ],
      "metadata": {
        "id": "ApBgPVOuocwU"
      },
      "execution_count": null,
      "outputs": []
    },
    {
      "cell_type": "code",
      "source": [
        "X_train = full_processor.fit_transform(train_set)\n",
        "y_train = label_encoder.transform(train_set.genre)\n",
        "X_validation = full_processor.transform(validation_set)\n",
        "y_validation = label_encoder.transform(validation_set.genre)"
      ],
      "metadata": {
        "id": "-FqONIT2z8xf"
      },
      "execution_count": null,
      "outputs": []
    },
    {
      "cell_type": "markdown",
      "source": [
        "## XGBoost"
      ],
      "metadata": {
        "id": "Lq8nOqHE69hQ"
      }
    },
    {
      "cell_type": "code",
      "source": [
        "modelo_xgb = xgb.XGBClassifier(enable_categorical = True, booster = \"gbtree\")\n",
        "modelo_xgb.fit(X_train, y_train)"
      ],
      "metadata": {
        "id": "VlmT_qgyUqV2",
        "outputId": "4ba9ca59-1b73-4c5c-c5be-2c42b71a9f42",
        "colab": {
          "base_uri": "https://localhost:8080/"
        }
      },
      "execution_count": null,
      "outputs": [
        {
          "output_type": "execute_result",
          "data": {
            "text/plain": [
              "XGBClassifier(enable_categorical=True, objective='multi:softprob')"
            ]
          },
          "metadata": {},
          "execution_count": 19
        }
      ]
    },
    {
      "cell_type": "code",
      "source": [
        "preds = modelo_xgb.predict_proba(X_validation)\n",
        "top_k_accuracy_score(y_validation, preds, labels = modelo_xgb.classes_), accuracy_score(y_validation, modelo_xgb.predict(X_validation))"
      ],
      "metadata": {
        "id": "WnmQfNbiX_Yq",
        "outputId": "bb334106-1f9e-4956-9edd-cae5b823e445",
        "colab": {
          "base_uri": "https://localhost:8080/"
        }
      },
      "execution_count": null,
      "outputs": [
        {
          "output_type": "execute_result",
          "data": {
            "text/plain": [
              "(0.5312090790048014, 0.33347883020515057)"
            ]
          },
          "metadata": {},
          "execution_count": 22
        }
      ]
    },
    {
      "cell_type": "code",
      "source": [
        "from hyperopt import STATUS_OK, Trials, fmin, hp, tpe\n",
        "\n",
        "space={'max_depth': hp.quniform(\"max_depth\", 1, 200, 1),\n",
        "        'gamma': hp.uniform ('gamma', 0.1,6),\n",
        "        'colsample_bytree' : hp.uniform('colsample_bytree', 0.1,1),\n",
        "        'min_child_weight' : hp.quniform('min_child_weight', 0, 100, 1),\n",
        "        'n_estimators': hp.quniform(\"n_estimators\", 3, 350,1),\n",
        "        'learning_rate': hp.uniform('learning_rate', 0.1,10),\n",
        "        'reg_alpha': hp.uniform('reg_alpha', 0.1,10),\n",
        "        'reg_lambda': hp.uniform('reg_lambda', 0.1,10),\n",
        "        \"scale_pos_weight\": hp.quniform(\"scale_pos_weight\", 1, 200, 1),\n",
        "        'seed': 1}\n",
        "\n",
        "def objective(space):\n",
        "\n",
        "  evaluation = [( X_train, y_train), ( X_validation, y_validation)]\n",
        "\n",
        "  classifier = xgb.XGBClassifier(n_estimators =int(space['n_estimators']), max_depth = int(space['max_depth']), gamma = space['gamma'],\n",
        "                                  min_child_weight=space['min_child_weight'],\n",
        "                                  colsample_bytree=space['colsample_bytree'], objective = \"multi:softprob\", booster = \"gbtree\",\n",
        "                                  learning_rate = space[\"learning_rate\"], reg_alpha = space['reg_alpha'],\n",
        "                                  reg_lambda = space['reg_lambda'],\n",
        "                                  scale_pos_weight=space[\"scale_pos_weight\"])\n",
        "  \n",
        "  classifier.fit(X_train, y_train, verbose=False, early_stopping_rounds = 3,\n",
        "                 eval_set=evaluation, eval_metric=\"merror\")\n",
        "\n",
        "  preds = classifier.predict_proba(X_validation)\n",
        "  accuracy = top_k_accuracy_score(y_validation, preds, labels = classifier.classes_)\n",
        "  \n",
        "  print (\"top_k_accuracy_score:\", accuracy)\n",
        "  print(classifier.get_params())\n",
        "\n",
        "  return {'loss': -accuracy, 'status': STATUS_OK }\n",
        "  \n",
        "trials = Trials()\n",
        "\n",
        "best_hyperparams = fmin(fn = objective,\n",
        "                        space = space,\n",
        "                        algo = tpe.suggest,\n",
        "                        max_evals = 30,\n",
        "                        trials = trials)"
      ],
      "metadata": {
        "id": "8aVIplOjZd8L"
      },
      "execution_count": null,
      "outputs": []
    },
    {
      "cell_type": "code",
      "source": [
        "import pickle\n",
        "pickle.dump(trials, open(\"myfile.p\", \"wb\"))"
      ],
      "metadata": {
        "id": "L3M2MGr0hsda"
      },
      "execution_count": null,
      "outputs": []
    },
    {
      "cell_type": "code",
      "source": [
        "trials = pickle.load(open(\"myfile.p\", \"rb\"))\n",
        "\n",
        "best = fmin(objective,\n",
        "    space=space,\n",
        "    algo=tpe.suggest,\n",
        "    trials=trials,\n",
        "    max_evals=100)"
      ],
      "metadata": {
        "id": "DR-BlXGBRs_x"
      },
      "execution_count": null,
      "outputs": []
    },
    {
      "cell_type": "code",
      "source": [
        "best_hyperparams"
      ],
      "metadata": {
        "colab": {
          "base_uri": "https://localhost:8080/"
        },
        "id": "Miv5X30VfUKm",
        "outputId": "a1fa4adc-f28a-47a0-9402-879e0530d7ef"
      },
      "execution_count": null,
      "outputs": [
        {
          "output_type": "execute_result",
          "data": {
            "text/plain": [
              "{'colsample_bytree': 0.8194124489987997,\n",
              " 'gamma': 4.829537041540472,\n",
              " 'learning_rate': 0.16409226302940008,\n",
              " 'max_depth': 41.0,\n",
              " 'min_child_weight': 16.0,\n",
              " 'n_estimators': 132.0,\n",
              " 'reg_alpha': 8.119013042968653,\n",
              " 'reg_lambda': 8.464891646365215,\n",
              " 'scale_pos_weight': 186.0}"
            ]
          },
          "metadata": {},
          "execution_count": 23
        }
      ]
    },
    {
      "cell_type": "code",
      "source": [
        "best_hyperparams = {'colsample_bytree': 0.8194124489987997,\n",
        " 'gamma': 4.829537041540472,\n",
        " 'learning_rate': 0.16409226302940008,\n",
        " 'max_depth': 41.0,\n",
        " 'min_child_weight': 16.0,\n",
        " 'n_estimators': 132.0,\n",
        " 'reg_alpha': 8.119013042968653,\n",
        " 'reg_lambda': 8.464891646365215,\n",
        " 'scale_pos_weight': 186.0}"
      ],
      "metadata": {
        "id": "AwdgJXmd8IIL"
      },
      "execution_count": null,
      "outputs": []
    },
    {
      "cell_type": "code",
      "source": [
        "modelo_xgb = xgb.XGBClassifier(n_estimators =int(best_hyperparams['n_estimators']), max_depth = int(best_hyperparams['max_depth']),\n",
        "                               gamma = best_hyperparams['gamma'], min_child_weight=best_hyperparams['min_child_weight'],\n",
        "                               colsample_bytree=best_hyperparams['colsample_bytree'], objective = \"multi:softprob\",\n",
        "                               booster = \"gbtree\", scale_pos_weight = best_hyperparams[\"scale_pos_weight\"])\n",
        "\n",
        "modelo_xgb.fit(X_train, y_train)"
      ],
      "metadata": {
        "colab": {
          "base_uri": "https://localhost:8080/"
        },
        "id": "eXeub0wMfuuD",
        "outputId": "d876ff60-7cf4-450f-9719-32d2ba1462f6"
      },
      "execution_count": null,
      "outputs": [
        {
          "data": {
            "text/plain": [
              "XGBClassifier(colsample_bytree=0.8194124489987997, gamma=4.829537041540472,\n",
              "              max_depth=41, min_child_weight=16.0, n_estimators=132,\n",
              "              objective='multi:softprob', scale_pos_weight=186.0)"
            ]
          },
          "execution_count": 66,
          "metadata": {},
          "output_type": "execute_result"
        }
      ]
    },
    {
      "cell_type": "code",
      "source": [
        "preds = modelo_xgb.predict_proba(X_validation)\n",
        "preds_training = modelo_xgb.predict_proba(X_train)\n",
        "[top_k_accuracy_score(y_validation, preds, labels = modelo_xgb.classes_), accuracy_score(y_validation, modelo_xgb.predict(X_validation)),\n",
        "top_k_accuracy_score(y_train, preds_training, labels = modelo_xgb.classes_), accuracy_score(y_train, modelo_xgb.predict(X_train))]"
      ],
      "metadata": {
        "colab": {
          "base_uri": "https://localhost:8080/"
        },
        "id": "-sc81VB6gOb8",
        "outputId": "ed1b57ce-49fa-4e0a-ac31-bcacad8b73a1"
      },
      "execution_count": null,
      "outputs": [
        {
          "output_type": "execute_result",
          "data": {
            "text/plain": [
              "[0.5181143605412484,\n",
              " 0.33435181143605414,\n",
              " 0.8088001657802031,\n",
              " 0.5756026801132832]"
            ]
          },
          "metadata": {},
          "execution_count": 67
        }
      ]
    },
    {
      "cell_type": "code",
      "source": [
        "xgb.plot_importance(modelo_xgb,  max_num_features=15)"
      ],
      "metadata": {
        "colab": {
          "base_uri": "https://localhost:8080/",
          "height": 312
        },
        "id": "mqZszsEZlPLQ",
        "outputId": "05c22a8b-c506-4777-f4ad-25e4004d2cac"
      },
      "execution_count": null,
      "outputs": [
        {
          "output_type": "execute_result",
          "data": {
            "text/plain": [
              "<matplotlib.axes._subplots.AxesSubplot at 0x7ff15b666710>"
            ]
          },
          "metadata": {},
          "execution_count": 26
        },
        {
          "output_type": "display_data",
          "data": {
            "text/plain": [
              "<Figure size 432x288 with 1 Axes>"
            ],
            "image/png": "[encoded data removed]"
          },
          "metadata": {
            "needs_background": "light"
          }
        }
      ]
    },
    {
      "cell_type": "code",
      "source": [
        "columns =['sum_tfidf_for_dance', 'sum_tfidf_for_pop', 'sum_tfidf_for_r&b',\n",
        "       'sum_tfidf_for_hip-hop', 'sum_tfidf_for_rap', 'sum_tfidf_for_soul',\n",
        "       'sum_tfidf_for_rock', 'sum_tfidf_for_blues', 'sum_tfidf_for_folk',\n",
        "       'sum_tfidf_for_jazz', 'sum_tfidf_for_country',\n",
        "       'sum_tfidf_for_alternative', 'sum_tfidf_for_children’s music',\n",
        "       'sum_tfidf_for_indie', 'sum_tfidf_for_electronic',\n",
        "       'sum_tfidf_for_classical', 'sum_tfidf_for_opera', 'sum_tfidf_for_world',\n",
        "       'sum_tfidf_for_ska', 'sum_tfidf_for_comedy', 'sum_tfidf_for_reggae',\n",
        "       'sum_tfidf_for_reggaeton', \"sum_tfidf_for_children's music\",\n",
        "       'sum_tfidf_for_soundtrack', 'sum_tfidf_for_anime',\n",
        "       'sum_tfidf_for_movie'] + \\\n",
        "                  [\"length_lyrics\", \"number_of_lines\", \"number_of_tokens\"] + \\\n",
        "                  [\"FW\", \"JJR\", \"NN\", \"NNS\", \"NNP\", \"PDT\", \"PRP\", \"RB\", \"RBR\",\n",
        "                   \"UH\", \"VB\", \"VBG\", \"VBD\", \"VBN\", \"VBP\", \"VBZ\"] + \\\n",
        "                  [\"Minus\", \"Major\"] + \\\n",
        "                  [\"popularity_by_lang\", \"loudness_by_lang\"] + numerical_features + ordinal_features\n"
      ],
      "metadata": {
        "id": "hgEH2APon8eQ"
      },
      "execution_count": null,
      "outputs": []
    },
    {
      "cell_type": "code",
      "source": [
        "columns[50:60]"
      ],
      "metadata": {
        "colab": {
          "base_uri": "https://localhost:8080/"
        },
        "id": "MgCNcBG0n9mM",
        "outputId": "f14e7adb-fb08-4371-ce33-6baf36c42d07"
      },
      "execution_count": null,
      "outputs": [
        {
          "output_type": "execute_result",
          "data": {
            "text/plain": [
              "['a_popularity',\n",
              " 'popularity',\n",
              " 'acousticness',\n",
              " 'danceability',\n",
              " 'duration_ms',\n",
              " 'energy',\n",
              " 'instrumentalness',\n",
              " 'liveness',\n",
              " 'loudness',\n",
              " 'speechiness']"
            ]
          },
          "metadata": {},
          "execution_count": 90
        }
      ]
    },
    {
      "cell_type": "markdown",
      "source": [
        "Vemos que las features más importantes àra el XGBoost son las features numéricas originales."
      ],
      "metadata": {
        "id": "gxra5X4YojUz"
      }
    },
    {
      "cell_type": "markdown",
      "source": [
        "## LightGBM"
      ],
      "metadata": {
        "id": "ymL6A-7Gz_ux"
      }
    },
    {
      "cell_type": "code",
      "source": [
        "modelo_gbm = lgb.LGBMClassifier()\n",
        "modelo_gbm.fit(X_train, y_train)"
      ],
      "metadata": {
        "colab": {
          "base_uri": "https://localhost:8080/"
        },
        "id": "S-uMpdCQ3YS3",
        "outputId": "2c86097c-007b-4c65-cd1b-e2baef299189"
      },
      "execution_count": null,
      "outputs": [
        {
          "output_type": "execute_result",
          "data": {
            "text/plain": [
              "LGBMClassifier()"
            ]
          },
          "metadata": {},
          "execution_count": 17
        }
      ]
    },
    {
      "cell_type": "code",
      "source": [
        "preds = modelo_gbm.predict_proba(X_validation)\n",
        "top_k_accuracy_score(y_validation, preds, labels = modelo_gbm.classes_), accuracy_score(y_validation, modelo_gbm.predict(X_validation))"
      ],
      "metadata": {
        "colab": {
          "base_uri": "https://localhost:8080/"
        },
        "id": "Op_0kMHB_agz",
        "outputId": "da27b7ce-edb5-4971-d22a-ef93fe5a35cd"
      },
      "execution_count": null,
      "outputs": [
        {
          "output_type": "execute_result",
          "data": {
            "text/plain": [
              "(0.3941510257529463, 0.22566564818856394)"
            ]
          },
          "metadata": {},
          "execution_count": 18
        }
      ]
    },
    {
      "cell_type": "markdown",
      "source": [
        " class lightgbm.LGBMClassifier(boosting_type='gbdt', num_leaves=31, max_depth=-1, learning_rate=0.1, n_estimators=100, subsample_for_bin=200000, objective=None, class_weight=None, min_split_gain=0.0, min_child_weight=0.001, min_child_samples=20, subsample=1.0, subsample_freq=0, colsample_bytree=1.0, reg_alpha=0.0, reg_lambda=0.0, random_state=None, n_jobs=None, importance_type='split', **kwargs)"
      ],
      "metadata": {
        "id": "MZbHzRb3_7q_"
      }
    },
    {
      "cell_type": "code",
      "source": [
        "from hyperopt import STATUS_OK, Trials, fmin, hp, tpe\n",
        "\n",
        "space={'max_depth': hp.quniform(\"max_depth\", 1, 200, 1),\n",
        "        'number_of_leaves': hp.quniform(\"number_of_leaves\", 20, 200, 1),\n",
        "        'colsample_bytree' : hp.uniform('colsample_bytree', 0.1,1),\n",
        "        'min_child_weight' : hp.uniform('min_child_weight', 0, 100),\n",
        "        'min_split_gain': hp.uniform(\"min_split_gain\", 0, 100),\n",
        "        'n_estimators': hp.quniform(\"n_estimators\", 3, 350,1),\n",
        "        'learning_rate': hp.uniform('learning_rate', 0.1,10),\n",
        "        'reg_alpha': hp.uniform('reg_alpha', 0.1,100),\n",
        "        'reg_lambda': hp.uniform('reg_lambda', 0.1,100),\n",
        "        'random_state': 1}\n",
        "\n",
        "def objective(space):\n",
        "\n",
        "  evaluation = [( X_train, y_train), ( X_validation, y_validation)]\n",
        "\n",
        "  classifier = lgb.LGBMClassifier(n_estimators =int(space['n_estimators']), max_depth = int(space['max_depth']), \n",
        "                                  min_split_gain = space['min_split_gain'], min_child_weight=space['min_child_weight'],\n",
        "                                  colsample_bytree=space['colsample_bytree'], learning_rate = space[\"learning_rate\"], \n",
        "                                  reg_alpha = space['reg_alpha'], reg_lambda = space['reg_lambda'],\n",
        "                                  random_state=space[\"random_state\"], number_of_leaves = space[\"number_of_leaves\"])\n",
        "  \n",
        "  classifier.fit(X_train, y_train, verbose = False,\n",
        "                 eval_set=evaluation, callbacks=[lgb.early_stopping(15)])\n",
        "\n",
        "  preds = classifier.predict_proba(X_validation)\n",
        "  accuracy = top_k_accuracy_score(y_validation, preds, labels = classifier.classes_)\n",
        "  \n",
        "  print (\"top_k_accuracy_score:\", accuracy)\n",
        "  return {'loss': -accuracy, 'status': STATUS_OK }\n",
        "  \n",
        "trials = Trials()\n",
        "\n",
        "best_hyperparams = fmin(fn = objective,\n",
        "                        space = space,\n",
        "                        algo = tpe.suggest,\n",
        "                        max_evals = 100,\n",
        "                        trials = trials)"
      ],
      "metadata": {
        "id": "0PF5Ou3KAiYn"
      },
      "execution_count": null,
      "outputs": []
    },
    {
      "cell_type": "code",
      "source": [
        "import pickle\n",
        "pickle.dump(trials, open(\"myfile.p\", \"wb\"))\n",
        "\n",
        "trials = pickle.load(open(\"myfile.p\", \"rb\"))\n",
        "best = fmin(objective,\n",
        "    space=space,\n",
        "    algo=tpe.suggest,\n",
        "    trials=trials,\n",
        "    max_evals=350)"
      ],
      "metadata": {
        "id": "ad_0P3DLEJ8r"
      },
      "execution_count": null,
      "outputs": []
    },
    {
      "cell_type": "code",
      "source": [
        "best_hyperparams_for_lgb = best_hyperparams\n",
        "best_hyperparams_for_lgb"
      ],
      "metadata": {
        "colab": {
          "base_uri": "https://localhost:8080/"
        },
        "id": "sgUe1VIQM2z7",
        "outputId": "d10a2699-6d70-41cd-c6dd-a12afd76c213"
      },
      "execution_count": null,
      "outputs": [
        {
          "output_type": "execute_result",
          "data": {
            "text/plain": [
              "{'colsample_bytree': 0.576271960803108,\n",
              " 'learning_rate': 0.12363537982421097,\n",
              " 'max_depth': 26.0,\n",
              " 'min_child_weight': 69.66957487276076,\n",
              " 'min_split_gain': 6.990131692883031,\n",
              " 'n_estimators': 221.0,\n",
              " 'number_of_leaves': 97.0,\n",
              " 'reg_alpha': 14.883554114730167,\n",
              " 'reg_lambda': 19.837238531460024}"
            ]
          },
          "metadata": {},
          "execution_count": 37
        }
      ]
    },
    {
      "cell_type": "code",
      "source": [
        "modelo_mejor_gbm = lgb.LGBMClassifier(n_estimators =int(best_hyperparams_for_lgb['n_estimators']),\n",
        "                                      max_depth = int(best_hyperparams_for_lgb['max_depth']), \n",
        "                                      min_split_gain = best_hyperparams_for_lgb['min_split_gain'], \n",
        "                                      min_child_weight=best_hyperparams_for_lgb['min_child_weight'],\n",
        "                                      colsample_bytree=best_hyperparams_for_lgb['colsample_bytree'], \n",
        "                                      learning_rate = best_hyperparams_for_lgb[\"learning_rate\"], \n",
        "                                      reg_alpha = best_hyperparams_for_lgb['reg_alpha'], \n",
        "                                      reg_lambda = best_hyperparams_for_lgb['reg_lambda'],\n",
        "                                      number_of_leaves = best_hyperparams_for_lgb[\"number_of_leaves\"])\n",
        "\n",
        "modelo_mejor_gbm.fit(X_train, y_train, verbose = False)"
      ],
      "metadata": {
        "colab": {
          "base_uri": "https://localhost:8080/"
        },
        "id": "FNWBbCzINESv",
        "outputId": "e5a33a6e-a0e4-4792-aba7-c326d388d7fc"
      },
      "execution_count": null,
      "outputs": [
        {
          "output_type": "execute_result",
          "data": {
            "text/plain": [
              "LGBMClassifier(colsample_bytree=0.576271960803108,\n",
              "               learning_rate=0.12363537982421097, max_depth=26,\n",
              "               min_child_weight=69.66957487276076,\n",
              "               min_split_gain=6.990131692883031, n_estimators=221,\n",
              "               number_of_leaves=97.0, reg_alpha=14.883554114730167,\n",
              "               reg_lambda=19.837238531460024)"
            ]
          },
          "metadata": {},
          "execution_count": 40
        }
      ]
    },
    {
      "cell_type": "code",
      "source": [
        "preds = modelo_mejor_gbm.predict_proba(X_validation)\n",
        "top_k_accuracy_score(y_validation, preds, labels = modelo_mejor_gbm.classes_), accuracy_score(y_validation, modelo_mejor_gbm.predict(X_validation))"
      ],
      "metadata": {
        "colab": {
          "base_uri": "https://localhost:8080/"
        },
        "id": "guZr2gsxN6GP",
        "outputId": "0847aec6-422b-489c-ec58-3268f448b3f9"
      },
      "execution_count": null,
      "outputs": [
        {
          "output_type": "execute_result",
          "data": {
            "text/plain": [
              "(0.5229157573112178, 0.3304233958969882)"
            ]
          },
          "metadata": {},
          "execution_count": 41
        }
      ]
    },
    {
      "cell_type": "markdown",
      "source": [
        "Como el mejor de los dos es el LGBM en base al score en validation, medimos la performance en test con él:"
      ],
      "metadata": {
        "id": "_talJ4RhOH0E"
      }
    },
    {
      "cell_type": "code",
      "source": [
        "X_test = full_processor.transform(eliminate_genres_without_enough_observations(df_music_test))\n",
        "y_test = label_encoder.transform(eliminate_genres_without_enough_observations(df_music_test).genre)"
      ],
      "metadata": {
        "id": "l3y6o3gYOScg"
      },
      "execution_count": null,
      "outputs": []
    },
    {
      "cell_type": "code",
      "source": [
        "test_preds = modelo_mejor_gbm.predict_proba(X_test)\n",
        "top_k_accuracy_score(y_test, test_preds, labels = modelo_mejor_gbm.classes_)"
      ],
      "metadata": {
        "colab": {
          "base_uri": "https://localhost:8080/"
        },
        "id": "AYe4vE-JOd94",
        "outputId": "9d0c474d-a6f5-4e35-c8d0-4028fb16005c"
      },
      "execution_count": null,
      "outputs": [
        {
          "output_type": "execute_result",
          "data": {
            "text/plain": [
              "0.5025623505295524"
            ]
          },
          "metadata": {},
          "execution_count": 62
        }
      ]
    },
    {
      "cell_type": "code",
      "source": [
        "pd.DataFrame(test_preds).to_csv(\"test_results.csv\")"
      ],
      "metadata": {
        "id": "eRl2bpGOTv7K"
      },
      "execution_count": null,
      "outputs": []
    },
    {
      "cell_type": "markdown",
      "source": [
        "## Ensemble de los modelos por averaging"
      ],
      "metadata": {
        "id": "nXDHoZJGXUqi"
      }
    },
    {
      "cell_type": "code",
      "source": [
        "class AveragingEnsembleModel():\n",
        "  def __init__(self, models):\n",
        "    self.n_models = len(models)\n",
        "    self.models = models\n",
        "  \n",
        "  def predict_proba(self, X):\n",
        "    predictions = [model.predict_proba(X) for model in self.models]\n",
        "    return np.sum(predictions, axis = 0)/self.n_models\n",
        "\n",
        "  def predict(self, X):\n",
        "    return np.argmax(self.predict_proba(X), axis = 1)"
      ],
      "metadata": {
        "id": "XiTZmmxLXWWs"
      },
      "execution_count": null,
      "outputs": []
    },
    {
      "cell_type": "code",
      "source": [
        "ensemble = AveragingEnsembleModel(models = [modelo_xgb, modelo_mejor_gbm])\n",
        "ensemble.predict(X_validation)"
      ],
      "metadata": {
        "colab": {
          "base_uri": "https://localhost:8080/"
        },
        "id": "IX6kUQU9X8tM",
        "outputId": "eb4089f0-787a-41e8-846a-1564fe5c1c5c"
      },
      "execution_count": null,
      "outputs": [
        {
          "output_type": "execute_result",
          "data": {
            "text/plain": [
              "array([ 0,  3,  3, ...,  7, 15,  1])"
            ]
          },
          "metadata": {},
          "execution_count": 120
        }
      ]
    },
    {
      "cell_type": "code",
      "source": [
        "preds = ensemble.predict_proba(X_validation)\n",
        "top_k_accuracy_score(y_validation, preds, labels = modelo_mejor_gbm.classes_)"
      ],
      "metadata": {
        "colab": {
          "base_uri": "https://localhost:8080/"
        },
        "id": "VAKczEtvlVcG",
        "outputId": "fa6ea6d7-c321-47aa-8a2f-e346fedba15e"
      },
      "execution_count": null,
      "outputs": [
        {
          "output_type": "execute_result",
          "data": {
            "text/plain": [
              "0.5325185508511567"
            ]
          },
          "metadata": {},
          "execution_count": 121
        }
      ]
    },
    {
      "cell_type": "markdown",
      "source": [
        "Vemos que el ensemble tiene mejor validation top_2_accuracy que ambos modelos por sí solos."
      ],
      "metadata": {
        "id": "SzN9egkolfPK"
      }
    },
    {
      "cell_type": "code",
      "source": [
        "test_preds = ensemble.predict_proba(X_test)\n",
        "top_k_accuracy_score(y_test, test_preds, labels = modelo_mejor_gbm.classes_)"
      ],
      "metadata": {
        "colab": {
          "base_uri": "https://localhost:8080/"
        },
        "id": "uURTEdQjlpMk",
        "outputId": "714a9dd0-c961-4b95-92ac-46ca31b05a30"
      },
      "execution_count": null,
      "outputs": [
        {
          "output_type": "execute_result",
          "data": {
            "text/plain": [
              "0.5083703450632047"
            ]
          },
          "metadata": {},
          "execution_count": 123
        }
      ]
    },
    {
      "cell_type": "markdown",
      "source": [
        "Notamos que también mejora ligeramente la de test!"
      ],
      "metadata": {
        "id": "tyD8Ojjnl0Oi"
      }
    }
  ]
}