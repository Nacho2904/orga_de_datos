{
  "nbformat": 4,
  "nbformat_minor": 0,
  "metadata": {
    "colab": {
      "provenance": [],
      "authorship_tag": "ABX9TyMqabJU38wo8B6E3eKcHT+5",
      "include_colab_link": true
    },
    "kernelspec": {
      "name": "python3",
      "display_name": "Python 3"
    },
    "language_info": {
      "name": "python"
    }
  },
  "cells": [
    {
      "cell_type": "markdown",
      "metadata": {
        "id": "view-in-github",
        "colab_type": "text"
      },
      "source": [
        "<a href=\"https://colab.research.google.com/github/Nacho2904/orga_de_datos/blob/main/tp3_parte_3.ipynb\" target=\"_parent\"><img src=\"https://colab.research.google.com/assets/colab-badge.svg\" alt=\"Open In Colab\"/></a>"
      ]
    },
    {
      "cell_type": "code",
      "execution_count": 1,
      "metadata": {
        "colab": {
          "base_uri": "https://localhost:8080/"
        },
        "id": "7-7fkwozC3D3",
        "outputId": "e85962be-1ddf-422a-8d4a-517c3238a002"
      },
      "outputs": [
        {
          "output_type": "stream",
          "name": "stdout",
          "text": [
            "Mounted at /content/gdrive\n"
          ]
        }
      ],
      "source": [
        "import pandas as pd\n",
        "import numpy as np\n",
        "import matplotlib.pyplot as plt\n",
        "from sklearn import preprocessing\n",
        "from sklearn.pipeline import Pipeline\n",
        "from sklearn.feature_extraction.text import TfidfVectorizer\n",
        "from sklearn.metrics import top_k_accuracy_score\n",
        "from sklearn.metrics import accuracy_score\n",
        "from sklearn.metrics import confusion_matrix\n",
        "from google.colab import drive \n",
        "import nltk\n",
        "import functools\n",
        "import xgboost as xgb\n",
        "\n",
        "drive.mount('/content/gdrive')\n",
        "path_a_training_set = 'gdrive/MyDrive/TP3 dataset music/train.parquet'\n",
        "path_a_test_set = 'gdrive/MyDrive/TP3 dataset music/test.parquet'\n",
        "\n",
        "\n",
        "df_music_train = pd.read_parquet(path_a_training_set).fillna(\"\")\n",
        "df_music_test = pd.read_parquet(path_a_test_set).fillna(\"\")"
      ]
    },
    {
      "cell_type": "markdown",
      "source": [
        "## Preprocessing"
      ],
      "metadata": {
        "id": "fwptY_P6y2pm"
      }
    },
    {
      "cell_type": "code",
      "source": [
        "nltk.download('stopwords')\n",
        "nltk.download('punkt')\n",
        "\n",
        "genres = list(df_music_train[\"genre\"].unique())\n",
        "def get_vectorizers_by_genre(df_music: pd.DataFrame) -> dict:\n",
        "  df_music_lyric_tokenized = df_music.copy().fillna(\"\")\n",
        "  df_music_lyric_tokenized[\"lyric\"] = df_music_lyric_tokenized[\"lyric\"].map(lambda lyric: set(nltk.word_tokenize(lyric)))\n",
        "  df_music_grouped_by_genre = df_music_lyric_tokenized[[\"genre\", \"lyric\"]].groupby('genre').agg(lambda x: functools.reduce(set.union, x)).reset_index()\n",
        "  vocabs = dict(zip(df_music_grouped_by_genre.genre.to_list(), df_music_grouped_by_genre.lyric.to_list()))\n",
        "  stopwords = set(nltk.corpus.stopwords.words(\"english\")).union(set(nltk.corpus.stopwords.words(\"spanish\"))).union(set(nltk.corpus.stopwords.words(\"french\")))\n",
        "  vectorizers = {genre: TfidfVectorizer(input = \"content\", stop_words = stopwords, vocabulary = vocabs[genre]) for genre in genres}\n",
        "  for genre in genres:\n",
        "    vectorizers[genre].fit(df_music[df_music[\"genre\"] == genre][\"genre\"])\n",
        "  return vectorizers\n",
        "\n",
        "vectorizers = get_vectorizers_by_genre(df_music_train)"
      ],
      "metadata": {
        "id": "seazRU21KuOZ",
        "colab": {
          "base_uri": "https://localhost:8080/"
        },
        "outputId": "9061a5f9-9159-427f-8640-74c6eb26b4d3"
      },
      "execution_count": 2,
      "outputs": [
        {
          "output_type": "stream",
          "name": "stderr",
          "text": [
            "[nltk_data] Downloading package stopwords to /root/nltk_data...\n",
            "[nltk_data]   Unzipping corpora/stopwords.zip.\n",
            "[nltk_data] Downloading package punkt to /root/nltk_data...\n",
            "[nltk_data]   Unzipping tokenizers/punkt.zip.\n",
            "/usr/local/lib/python3.7/dist-packages/sklearn/feature_extraction/text.py:1323: UserWarning: Upper case characters found in vocabulary while 'lowercase' is True. These entries will not be matched with any documents\n",
            "  \"Upper case characters found in\"\n"
          ]
        }
      ]
    },
    {
      "cell_type": "code",
      "source": [
        "def get_sum_tfidf_from_lyrics(df_music: pd.DataFrame) -> pd.DataFrame:\n",
        "  df_music = df_music.fillna(\"\")\n",
        "  column_names = [\"sum_tfidf_for_\" + genre.lower() for genre in genres]\n",
        "  for i in range(0, len(genres)):\n",
        "    df_music[column_names[i]] = np.sum(vectorizers[genres[i]].transform(df_music[\"lyric\"]), axis = 1)\n",
        "  return df_music[column_names]\n",
        "\n",
        "get_sum_tfidf_from_lyrics(df_music_train).columns"
      ],
      "metadata": {
        "colab": {
          "base_uri": "https://localhost:8080/"
        },
        "id": "Hn7ojEFq-YXi",
        "outputId": "b36a10e1-ed38-4309-8dae-d0708d4ab2b9"
      },
      "execution_count": 3,
      "outputs": [
        {
          "output_type": "execute_result",
          "data": {
            "text/plain": [
              "Index(['sum_tfidf_for_dance', 'sum_tfidf_for_pop', 'sum_tfidf_for_r&b',\n",
              "       'sum_tfidf_for_hip-hop', 'sum_tfidf_for_rap', 'sum_tfidf_for_soul',\n",
              "       'sum_tfidf_for_rock', 'sum_tfidf_for_blues', 'sum_tfidf_for_folk',\n",
              "       'sum_tfidf_for_jazz', 'sum_tfidf_for_country',\n",
              "       'sum_tfidf_for_alternative', 'sum_tfidf_for_children’s music',\n",
              "       'sum_tfidf_for_indie', 'sum_tfidf_for_electronic',\n",
              "       'sum_tfidf_for_classical', 'sum_tfidf_for_opera', 'sum_tfidf_for_world',\n",
              "       'sum_tfidf_for_ska', 'sum_tfidf_for_comedy', 'sum_tfidf_for_reggae',\n",
              "       'sum_tfidf_for_reggaeton', 'sum_tfidf_for_children's music',\n",
              "       'sum_tfidf_for_soundtrack', 'sum_tfidf_for_anime',\n",
              "       'sum_tfidf_for_movie'],\n",
              "      dtype='object')"
            ]
          },
          "metadata": {},
          "execution_count": 3
        }
      ]
    },
    {
      "cell_type": "code",
      "source": [
        "def eliminate_genres_without_enough_observations(df_music: pd.DataFrame) -> pd.DataFrame:\n",
        "  df_music_recuento_filas_por_genero = df_music.groupby(\"genre\").count().reset_index()[[\"genre\", \"track_name\"]].rename(\n",
        "    columns = {\"track_name\": \"rowCount\"}).sort_values(\"rowCount\")\n",
        "  problematic_genres = list(df_music_recuento_filas_por_genero[df_music_recuento_filas_por_genero[\"rowCount\"] < 50].genre)[1:]\n",
        "  return df_music[~df_music[\"genre\"].isin(problematic_genres)]"
      ],
      "metadata": {
        "id": "TQCnc16lQAxu"
      },
      "execution_count": 4,
      "outputs": []
    },
    {
      "cell_type": "code",
      "source": [
        "nltk.download('punkt')\n",
        "def get_length_transforms_for_text(df_music: pd.DataFrame) -> pd.DataFrame:\n",
        "  df_music[\"number_of_lines\"] = df_music[\"lyric\"].map(lambda lyric: len(lyric.split(\"\\n\")))\n",
        "  df_music[\"number_of_tokens\"] = df_music[\"lyric\"].map(lambda lyric: len(nltk.word_tokenize(lyric)))\n",
        "  df_music[\"length_lyrics\"] = df_music[\"lyric\"].map(lambda lyric: len(lyric))\n",
        "  return df_music[[\"length_lyrics\", \"number_of_lines\", \"number_of_tokens\"]]"
      ],
      "metadata": {
        "colab": {
          "base_uri": "https://localhost:8080/"
        },
        "id": "T1QqQUHIEHzj",
        "outputId": "08ab5c3b-a14e-411e-d1ab-dfb9f7004389"
      },
      "execution_count": 5,
      "outputs": [
        {
          "output_type": "stream",
          "name": "stderr",
          "text": [
            "[nltk_data] Downloading package punkt to /root/nltk_data...\n",
            "[nltk_data]   Package punkt is already up-to-date!\n"
          ]
        }
      ]
    },
    {
      "cell_type": "code",
      "source": [
        "nltk.download('averaged_perceptron_tagger')\n",
        "\n",
        "def get_POS_vector_from_lyric_POS(lyric_POS):\n",
        "  useful_pos_tags = [\"FW\", \"JJR\", \"NN\", \"NNS\", \"NNP\", \"PDT\", \"PRP\", \"RB\", \"RBR\",\n",
        "                   \"UH\", \"VB\", \"VBG\", \"VBD\", \"VBN\", \"VBP\", \"VBZ\"]\n",
        "  POS_dictionary = {pos_tag:0 for pos_tag in useful_pos_tags}\n",
        "  POS_dictionary.update({\"other\":0})\n",
        "\n",
        "  for token in lyric_POS:\n",
        "    if token[1] in useful_pos_tags:\n",
        "      POS_dictionary[token[1]] += 1\n",
        "    else:\n",
        "      POS_dictionary[\"other\"] += 1\n",
        "\n",
        "  return [POS_dictionary[pos_tag] for pos_tag in POS_dictionary]\n",
        "  \n",
        "\n",
        "def get_POS_chunk_taggin_counts_for_text(df_music: pd.DataFrame) -> pd.DataFrame:\n",
        "  df_music[\"lyric_POS\"] = df_music[\"lyric\"].map(lambda lyric: nltk.pos_tag(nltk.word_tokenize(lyric)))\n",
        "  df_music[\"lyric_POS\"] = df_music[\"lyric_POS\"].map(lambda lyric_pos: get_POS_vector_from_lyric_POS(lyric_pos))\n",
        "  return pd.DataFrame(df_music[\"lyric_POS\"].to_list())\n"
      ],
      "metadata": {
        "id": "LOEyM2E-Ny6P",
        "outputId": "d733f71c-1257-4cbd-b16d-fc5940f31600",
        "colab": {
          "base_uri": "https://localhost:8080/"
        }
      },
      "execution_count": 6,
      "outputs": [
        {
          "output_type": "stream",
          "name": "stderr",
          "text": [
            "[nltk_data] Downloading package averaged_perceptron_tagger to\n",
            "[nltk_data]     /root/nltk_data...\n",
            "[nltk_data]   Unzipping taggers/averaged_perceptron_tagger.zip.\n"
          ]
        }
      ]
    },
    {
      "cell_type": "code",
      "source": [
        "df_music_filtered_genres = eliminate_genres_without_enough_observations(df_music_train)\n",
        "artists = list(df_music_filtered_genres[\"artist\"].unique())\n",
        "train_artists = set(artists[:int(0.9*len(artists))])\n",
        "validation_artists = set(artists[int(0.9*len(artists)):])\n",
        "train_set = df_music_filtered_genres[df_music_filtered_genres[\"artist\"].isin(train_artists)]\n",
        "validation_set = df_music_filtered_genres[df_music_filtered_genres[\"artist\"].isin(validation_artists)]"
      ],
      "metadata": {
        "id": "0WXfDLhA174X"
      },
      "execution_count": 7,
      "outputs": []
    },
    {
      "cell_type": "code",
      "source": [
        "def mean_hot_encoder(df_music: pd.DataFrame, df_training: pd.DataFrame) -> pd.DataFrame:\n",
        "  df_training_grouped_by_lang = df_training.groupby(\"language\").mean().reset_index()[[\"language\", \"popularity\"]]\n",
        "  df_new_columns = df_music.merge(df_training_grouped_by_lang, on = \"language\", how = \"left\")\n",
        "  return df_new_columns[[\"popularity_y\"]].fillna(0)\n",
        "\n",
        "mean_hot_encoder_using_training_set = lambda df_to_encode: mean_hot_encoder(df_to_encode, df_music_train) "
      ],
      "metadata": {
        "id": "wG1TiABKECHD"
      },
      "execution_count": 8,
      "outputs": []
    },
    {
      "cell_type": "code",
      "source": [
        "from sklearn.compose import ColumnTransformer\n",
        "from sklearn.linear_model import LogisticRegression\n",
        "from sklearn.impute import SimpleImputer\n",
        "\n",
        "text_features = [\"track_name\", \"lyric\", \"artist\"]\n",
        "\n",
        "numerical_features = [\"a_songs\", \"a_popularity\", \"popularity\", \"acousticness\", \"danceability\", \"duration_ms\",\n",
        "                   \"energy\", \"instrumentalness\", \"liveness\", \"loudness\", \"speechiness\", \"tempo\", \"valence\"]\n",
        "\n",
        "ordinal_features = [\"key\"]\n",
        "\n",
        "one_hot_features = [\"mode\"]\n",
        "\n",
        "mean_enc_features = [\"language\"]\n",
        "\n",
        "artist_genres = [\"a_genres\", \"genre\"]\n",
        "\n",
        "label = [\"genre\"]\n",
        "\n",
        "identity_transformer = preprocessing.FunctionTransformer(None)\n",
        "\n",
        "label_encoder = preprocessing.LabelEncoder()\n",
        "label_encoder.fit(df_music_train[\"genre\"])\n",
        "\n",
        "full_processor = ColumnTransformer(transformers=[\n",
        "    ('text_tf_idf', preprocessing.FunctionTransformer(get_sum_tfidf_from_lyrics), text_features),\n",
        "    ('text_simple_transforms', preprocessing.FunctionTransformer(get_length_transforms_for_text), text_features),\n",
        "    ('text_POS_count', preprocessing.FunctionTransformer(get_POS_chunk_taggin_counts_for_text), text_features),\n",
        "    ('mean_encoding', preprocessing.FunctionTransformer(mean_hot_encoder_using_training_set), list(df_music_train.columns)),\n",
        "    ('one_hot_encoding', preprocessing.OneHotEncoder(), one_hot_features),\n",
        "    ('numerical', identity_transformer, numerical_features),\n",
        "    ('ordinal', preprocessing.OrdinalEncoder(categories = [['C', 'C#', 'D', 'D#', 'E', 'F', 'F#', 'G', 'G#', 'A', 'A#', 'B']]), ordinal_features)])\n",
        "\n",
        "logistic_regression_pipeline = Pipeline(steps = [\n",
        "    ('preprocess_X', full_processor),\n",
        "    ('model', LogisticRegression(penalty='l2', C = 1, solver = \"liblinear\", max_iter = 500, fit_intercept = True))\n",
        "])\n"
      ],
      "metadata": {
        "id": "ApBgPVOuocwU"
      },
      "execution_count": 9,
      "outputs": []
    },
    {
      "cell_type": "code",
      "source": [
        "X_train = full_processor.fit_transform(train_set)\n",
        "y_train = label_encoder.transform(train_set.genre)\n",
        "X_validation = full_processor.transform(validation_set)\n",
        "y_validation = label_encoder.transform(validation_set.genre)"
      ],
      "metadata": {
        "id": "-FqONIT2z8xf"
      },
      "execution_count": 10,
      "outputs": []
    },
    {
      "cell_type": "markdown",
      "source": [
        "## XGBoost"
      ],
      "metadata": {
        "id": "Lq8nOqHE69hQ"
      }
    },
    {
      "cell_type": "code",
      "source": [
        "modelo_xgb = xgb.XGBClassifier(enable_categorical = True, booster = \"gbtree\")\n",
        "modelo_xgb.fit(X_train, y_train)"
      ],
      "metadata": {
        "id": "VlmT_qgyUqV2",
        "outputId": "4ba9ca59-1b73-4c5c-c5be-2c42b71a9f42",
        "colab": {
          "base_uri": "https://localhost:8080/"
        }
      },
      "execution_count": null,
      "outputs": [
        {
          "output_type": "execute_result",
          "data": {
            "text/plain": [
              "XGBClassifier(enable_categorical=True, objective='multi:softprob')"
            ]
          },
          "metadata": {},
          "execution_count": 19
        }
      ]
    },
    {
      "cell_type": "code",
      "source": [
        "preds = modelo_xgb.predict_proba(X_validation)\n",
        "top_k_accuracy_score(y_validation, preds, labels = modelo_xgb.classes_), accuracy_score(y_validation, modelo_xgb.predict(X_validation))"
      ],
      "metadata": {
        "id": "WnmQfNbiX_Yq",
        "outputId": "bb334106-1f9e-4956-9edd-cae5b823e445",
        "colab": {
          "base_uri": "https://localhost:8080/"
        }
      },
      "execution_count": null,
      "outputs": [
        {
          "output_type": "execute_result",
          "data": {
            "text/plain": [
              "(0.5312090790048014, 0.33347883020515057)"
            ]
          },
          "metadata": {},
          "execution_count": 22
        }
      ]
    },
    {
      "cell_type": "code",
      "source": [
        "from hyperopt import STATUS_OK, Trials, fmin, hp, tpe\n",
        "\n",
        "space={'max_depth': hp.quniform(\"max_depth\", 1, 200, 1),\n",
        "        'gamma': hp.uniform ('gamma', 0.1,6),\n",
        "        'colsample_bytree' : hp.uniform('colsample_bytree', 0.1,1),\n",
        "        'min_child_weight' : hp.quniform('min_child_weight', 0, 100, 1),\n",
        "        'n_estimators': hp.quniform(\"n_estimators\", 3, 350,1),\n",
        "        'learning_rate': hp.uniform('learning_rate', 0.1,10),\n",
        "        'reg_alpha': hp.uniform('reg_alpha', 0.1,10),\n",
        "        'reg_lambda': hp.uniform('reg_lambda', 0.1,10),\n",
        "        'seed': 1}\n",
        "\n",
        "def objective(space):\n",
        "\n",
        "  evaluation = [( X_train, y_train), ( X_validation, y_validation)]\n",
        "\n",
        "  classifier = xgb.XGBClassifier(n_estimators =int(space['n_estimators']), max_depth = int(space['max_depth']), gamma = space['gamma'],\n",
        "                                  min_child_weight=space['min_child_weight'],\n",
        "                                  colsample_bytree=space['colsample_bytree'], objective = \"multi:softprob\", booster = \"gbtree\",\n",
        "                                  learning_rate = space[\"learning_rate\"], reg_alpha = space['reg_alpha'],\n",
        "                                  reg_lambda = space['reg_lambda'], enable_categorical = True)\n",
        "  \n",
        "  classifier.fit(X_train, y_train, verbose=False, early_stopping_rounds = 3,\n",
        "                 eval_set=evaluation, eval_metric=\"merror\")\n",
        "\n",
        "  preds = classifier.predict_proba(X_validation)\n",
        "  accuracy = top_k_accuracy_score(y_validation, preds, labels = classifier.classes_)\n",
        "  \n",
        "  print (\"top_k_accuracy_score:\", accuracy)\n",
        "  print(classifier.get_params())\n",
        "\n",
        "  return {'loss': -accuracy, 'status': STATUS_OK }\n",
        "  \n",
        "trials = Trials()\n",
        "\n",
        "best_hyperparams = fmin(fn = objective,\n",
        "                        space = space,\n",
        "                        algo = tpe.suggest,\n",
        "                        max_evals = 30,\n",
        "                        trials = trials)"
      ],
      "metadata": {
        "id": "8aVIplOjZd8L",
        "colab": {
          "base_uri": "https://localhost:8080/"
        },
        "outputId": "bf9da15d-2e75-4191-adb5-19bb9afaddfb"
      },
      "execution_count": null,
      "outputs": [
        {
          "output_type": "stream",
          "name": "stdout",
          "text": [
            "top_k_accuracy_score:\n",
            "0.37363596682671324\n",
            "{'base_score': 0.5, 'booster': 'gbtree', 'colsample_bylevel': 1, 'colsample_bynode': 1, 'colsample_bytree': 0.20375124590900778, 'gamma': 3.679664538664464, 'learning_rate': 9.653803715529557, 'max_delta_step': 0, 'max_depth': 186, 'min_child_weight': 38.0, 'missing': None, 'n_estimators': 338, 'n_jobs': 1, 'nthread': None, 'objective': 'multi:softprob', 'random_state': 0, 'reg_alpha': 4.913972715161248, 'reg_lambda': 5.809357145678898, 'scale_pos_weight': 1, 'seed': None, 'silent': None, 'subsample': 1, 'verbosity': 1, 'enable_categorical': True}\n",
            "top_k_accuracy_score:\n",
            "0.4984722828459188\n",
            "{'base_score': 0.5, 'booster': 'gbtree', 'colsample_bylevel': 1, 'colsample_bynode': 1, 'colsample_bytree': 0.7131810046847232, 'gamma': 0.30914394233556464, 'learning_rate': 1.2406275881693567, 'max_delta_step': 0, 'max_depth': 56, 'min_child_weight': 42.0, 'missing': None, 'n_estimators': 8, 'n_jobs': 1, 'nthread': None, 'objective': 'multi:softprob', 'random_state': 0, 'reg_alpha': 7.40324703782166, 'reg_lambda': 9.35744619596767, 'scale_pos_weight': 1, 'seed': None, 'silent': None, 'subsample': 1, 'verbosity': 1, 'enable_categorical': True}\n",
            "top_k_accuracy_score:\n",
            "0.4570056743780009\n",
            "{'base_score': 0.5, 'booster': 'gbtree', 'colsample_bylevel': 1, 'colsample_bynode': 1, 'colsample_bytree': 0.8349842659091188, 'gamma': 0.2936549597138024, 'learning_rate': 8.693827012009487, 'max_delta_step': 0, 'max_depth': 66, 'min_child_weight': 84.0, 'missing': None, 'n_estimators': 9, 'n_jobs': 1, 'nthread': None, 'objective': 'multi:softprob', 'random_state': 0, 'reg_alpha': 5.516351675289741, 'reg_lambda': 7.404689960916508, 'scale_pos_weight': 1, 'seed': None, 'silent': None, 'subsample': 1, 'verbosity': 1, 'enable_categorical': True}\n",
            "top_k_accuracy_score:\n",
            "0.4199039720646006\n",
            "{'base_score': 0.5, 'booster': 'gbtree', 'colsample_bylevel': 1, 'colsample_bynode': 1, 'colsample_bytree': 0.5126331330020975, 'gamma': 0.48987415772801624, 'learning_rate': 9.570736590002124, 'max_delta_step': 0, 'max_depth': 4, 'min_child_weight': 97.0, 'missing': None, 'n_estimators': 155, 'n_jobs': 1, 'nthread': None, 'objective': 'multi:softprob', 'random_state': 0, 'reg_alpha': 5.801585431609576, 'reg_lambda': 8.425487534459437, 'scale_pos_weight': 1, 'seed': None, 'silent': None, 'subsample': 1, 'verbosity': 1, 'enable_categorical': True}\n",
            "top_k_accuracy_score:\n",
            "0.3967699694456569\n",
            "{'base_score': 0.5, 'booster': 'gbtree', 'colsample_bylevel': 1, 'colsample_bynode': 1, 'colsample_bytree': 0.5464765147357536, 'gamma': 5.160271840627443, 'learning_rate': 4.190630864044713, 'max_delta_step': 0, 'max_depth': 24, 'min_child_weight': 63.0, 'missing': None, 'n_estimators': 278, 'n_jobs': 1, 'nthread': None, 'objective': 'multi:softprob', 'random_state': 0, 'reg_alpha': 3.0160535991863955, 'reg_lambda': 2.08996773300918, 'scale_pos_weight': 1, 'seed': None, 'silent': None, 'subsample': 1, 'verbosity': 1, 'enable_categorical': True}\n",
            "top_k_accuracy_score:\n",
            "0.38454823221300743\n",
            "{'base_score': 0.5, 'booster': 'gbtree', 'colsample_bylevel': 1, 'colsample_bynode': 1, 'colsample_bytree': 0.3351118801128868, 'gamma': 2.3620031368421004, 'learning_rate': 7.805308174115353, 'max_delta_step': 0, 'max_depth': 184, 'min_child_weight': 10.0, 'missing': None, 'n_estimators': 75, 'n_jobs': 1, 'nthread': None, 'objective': 'multi:softprob', 'random_state': 0, 'reg_alpha': 6.056477038503866, 'reg_lambda': 5.491002986417165, 'scale_pos_weight': 1, 'seed': None, 'silent': None, 'subsample': 1, 'verbosity': 1, 'enable_categorical': True}\n",
            "top_k_accuracy_score:\n",
            "0.39458751636839806\n",
            "{'base_score': 0.5, 'booster': 'gbtree', 'colsample_bylevel': 1, 'colsample_bynode': 1, 'colsample_bytree': 0.23380593918755832, 'gamma': 3.069179902624789, 'learning_rate': 9.54125679731119, 'max_delta_step': 0, 'max_depth': 156, 'min_child_weight': 21.0, 'missing': None, 'n_estimators': 99, 'n_jobs': 1, 'nthread': None, 'objective': 'multi:softprob', 'random_state': 0, 'reg_alpha': 6.001173065677562, 'reg_lambda': 7.199089944179646, 'scale_pos_weight': 1, 'seed': None, 'silent': None, 'subsample': 1, 'verbosity': 1, 'enable_categorical': True}\n",
            "top_k_accuracy_score:\n",
            "0.3902226102138804\n",
            "{'base_score': 0.5, 'booster': 'gbtree', 'colsample_bylevel': 1, 'colsample_bynode': 1, 'colsample_bytree': 0.4273389589713529, 'gamma': 2.98363469183166, 'learning_rate': 8.67880445987368, 'max_delta_step': 0, 'max_depth': 110, 'min_child_weight': 53.0, 'missing': None, 'n_estimators': 52, 'n_jobs': 1, 'nthread': None, 'objective': 'multi:softprob', 'random_state': 0, 'reg_alpha': 4.034981983083009, 'reg_lambda': 2.166952630175361, 'scale_pos_weight': 1, 'seed': None, 'silent': None, 'subsample': 1, 'verbosity': 1, 'enable_categorical': True}\n",
            "top_k_accuracy_score:\n",
            "0.3832387603666521\n",
            "{'base_score': 0.5, 'booster': 'gbtree', 'colsample_bylevel': 1, 'colsample_bynode': 1, 'colsample_bytree': 0.3061580830704198, 'gamma': 2.5205305500665514, 'learning_rate': 2.861172918779335, 'max_delta_step': 0, 'max_depth': 54, 'min_child_weight': 37.0, 'missing': None, 'n_estimators': 182, 'n_jobs': 1, 'nthread': None, 'objective': 'multi:softprob', 'random_state': 0, 'reg_alpha': 7.0074717080046725, 'reg_lambda': 1.082544777290675, 'scale_pos_weight': 1, 'seed': None, 'silent': None, 'subsample': 1, 'verbosity': 1, 'enable_categorical': True}\n",
            "top_k_accuracy_score:\n",
            "0.44914884329986904\n",
            "{'base_score': 0.5, 'booster': 'gbtree', 'colsample_bylevel': 1, 'colsample_bynode': 1, 'colsample_bytree': 0.7223401196066703, 'gamma': 3.6562607404057226, 'learning_rate': 1.6718087636924512, 'max_delta_step': 0, 'max_depth': 56, 'min_child_weight': 94.0, 'missing': None, 'n_estimators': 185, 'n_jobs': 1, 'nthread': None, 'objective': 'multi:softprob', 'random_state': 0, 'reg_alpha': 2.801096065068643, 'reg_lambda': 5.827070713122661, 'scale_pos_weight': 1, 'seed': None, 'silent': None, 'subsample': 1, 'verbosity': 1, 'enable_categorical': True}\n",
            "top_k_accuracy_score:\n",
            "0.45831514622435615\n",
            "{'base_score': 0.5, 'booster': 'gbtree', 'colsample_bylevel': 1, 'colsample_bynode': 1, 'colsample_bytree': 0.5952937459199125, 'gamma': 4.06976420825331, 'learning_rate': 1.5259672569020473, 'max_delta_step': 0, 'max_depth': 86, 'min_child_weight': 99.0, 'missing': None, 'n_estimators': 76, 'n_jobs': 1, 'nthread': None, 'objective': 'multi:softprob', 'random_state': 0, 'reg_alpha': 1.6981104618765204, 'reg_lambda': 1.6411098525211032, 'scale_pos_weight': 1, 'seed': None, 'silent': None, 'subsample': 1, 'verbosity': 1, 'enable_categorical': True}\n",
            "top_k_accuracy_score:\n",
            "0.4770842426887822\n",
            "{'base_score': 0.5, 'booster': 'gbtree', 'colsample_bylevel': 1, 'colsample_bynode': 1, 'colsample_bytree': 0.9918349349618371, 'gamma': 0.10522106555417426, 'learning_rate': 3.1927782475220123, 'max_delta_step': 0, 'max_depth': 164, 'min_child_weight': 48.0, 'missing': None, 'n_estimators': 183, 'n_jobs': 1, 'nthread': None, 'objective': 'multi:softprob', 'random_state': 0, 'reg_alpha': 7.476977070184288, 'reg_lambda': 1.7184389797403348, 'scale_pos_weight': 1, 'seed': None, 'silent': None, 'subsample': 1, 'verbosity': 1, 'enable_categorical': True}\n",
            "top_k_accuracy_score:\n",
            "0.4596246180707115\n",
            "{'base_score': 0.5, 'booster': 'gbtree', 'colsample_bylevel': 1, 'colsample_bynode': 1, 'colsample_bytree': 0.9464900119398902, 'gamma': 3.357332485708056, 'learning_rate': 2.4792378614906387, 'max_delta_step': 0, 'max_depth': 188, 'min_child_weight': 77.0, 'missing': None, 'n_estimators': 18, 'n_jobs': 1, 'nthread': None, 'objective': 'multi:softprob', 'random_state': 0, 'reg_alpha': 4.352729545931678, 'reg_lambda': 8.210092491731379, 'scale_pos_weight': 1, 'seed': None, 'silent': None, 'subsample': 1, 'verbosity': 1, 'enable_categorical': True}\n",
            "top_k_accuracy_score:\n",
            "0.4971628109995635\n",
            "{'base_score': 0.5, 'booster': 'gbtree', 'colsample_bylevel': 1, 'colsample_bynode': 1, 'colsample_bytree': 0.865814675254742, 'gamma': 0.11128461052293542, 'learning_rate': 4.550135910517785, 'max_delta_step': 0, 'max_depth': 141, 'min_child_weight': 41.0, 'missing': None, 'n_estimators': 310, 'n_jobs': 1, 'nthread': None, 'objective': 'multi:softprob', 'random_state': 0, 'reg_alpha': 8.31488906234561, 'reg_lambda': 6.297152693747361, 'scale_pos_weight': 1, 'seed': None, 'silent': None, 'subsample': 1, 'verbosity': 1, 'enable_categorical': True}\n",
            "top_k_accuracy_score:\n",
            "0.47752073330423395\n",
            "{'base_score': 0.5, 'booster': 'gbtree', 'colsample_bylevel': 1, 'colsample_bynode': 1, 'colsample_bytree': 0.909709310474219, 'gamma': 5.378129830315879, 'learning_rate': 5.599786945406528, 'max_delta_step': 0, 'max_depth': 69, 'min_child_weight': 69.0, 'missing': None, 'n_estimators': 344, 'n_jobs': 1, 'nthread': None, 'objective': 'multi:softprob', 'random_state': 0, 'reg_alpha': 9.910479582746449, 'reg_lambda': 6.222257712882549, 'scale_pos_weight': 1, 'seed': None, 'silent': None, 'subsample': 1, 'verbosity': 1, 'enable_categorical': True}\n",
            "top_k_accuracy_score:\n",
            "0.4753382802269751\n",
            "{'base_score': 0.5, 'booster': 'gbtree', 'colsample_bylevel': 1, 'colsample_bynode': 1, 'colsample_bytree': 0.9064200170404866, 'gamma': 5.284729563201602, 'learning_rate': 6.45877347934184, 'max_delta_step': 0, 'max_depth': 81, 'min_child_weight': 5.0, 'missing': None, 'n_estimators': 74, 'n_jobs': 1, 'nthread': None, 'objective': 'multi:softprob', 'random_state': 0, 'reg_alpha': 7.6717330250259685, 'reg_lambda': 9.692761083386591, 'scale_pos_weight': 1, 'seed': None, 'silent': None, 'subsample': 1, 'verbosity': 1, 'enable_categorical': True}\n",
            "top_k_accuracy_score:\n",
            "0.49803579223046707\n",
            "{'base_score': 0.5, 'booster': 'gbtree', 'colsample_bylevel': 1, 'colsample_bynode': 1, 'colsample_bytree': 0.8942177586800436, 'gamma': 3.9034352159591292, 'learning_rate': 9.391321305060183, 'max_delta_step': 0, 'max_depth': 49, 'min_child_weight': 31.0, 'missing': None, 'n_estimators': 146, 'n_jobs': 1, 'nthread': None, 'objective': 'multi:softprob', 'random_state': 0, 'reg_alpha': 2.2700808314699317, 'reg_lambda': 5.760497353821249, 'scale_pos_weight': 1, 'seed': None, 'silent': None, 'subsample': 1, 'verbosity': 1, 'enable_categorical': True}\n",
            "top_k_accuracy_score:\n",
            "0.33129637712789173\n",
            "{'base_score': 0.5, 'booster': 'gbtree', 'colsample_bylevel': 1, 'colsample_bynode': 1, 'colsample_bytree': 0.11582554253976547, 'gamma': 3.4315545535588745, 'learning_rate': 4.386258739462634, 'max_delta_step': 0, 'max_depth': 190, 'min_child_weight': 95.0, 'missing': None, 'n_estimators': 281, 'n_jobs': 1, 'nthread': None, 'objective': 'multi:softprob', 'random_state': 0, 'reg_alpha': 7.73359827256397, 'reg_lambda': 1.1768278774765666, 'scale_pos_weight': 1, 'seed': None, 'silent': None, 'subsample': 1, 'verbosity': 1, 'enable_categorical': True}\n",
            "top_k_accuracy_score:\n",
            "0.4295067656045395\n",
            "{'base_score': 0.5, 'booster': 'gbtree', 'colsample_bylevel': 1, 'colsample_bynode': 1, 'colsample_bytree': 0.7907837005517802, 'gamma': 2.0000539221177283, 'learning_rate': 8.214788731431481, 'max_delta_step': 0, 'max_depth': 73, 'min_child_weight': 12.0, 'missing': None, 'n_estimators': 254, 'n_jobs': 1, 'nthread': None, 'objective': 'multi:softprob', 'random_state': 0, 'reg_alpha': 4.233965026442575, 'reg_lambda': 8.479927517632222, 'scale_pos_weight': 1, 'seed': None, 'silent': None, 'subsample': 1, 'verbosity': 1, 'enable_categorical': True}\n",
            "top_k_accuracy_score:\n",
            "0.4770842426887822\n",
            "{'base_score': 0.5, 'booster': 'gbtree', 'colsample_bylevel': 1, 'colsample_bynode': 1, 'colsample_bytree': 0.8418338589532948, 'gamma': 0.11697598523264677, 'learning_rate': 9.523313729100074, 'max_delta_step': 0, 'max_depth': 77, 'min_child_weight': 54.0, 'missing': None, 'n_estimators': 217, 'n_jobs': 1, 'nthread': None, 'objective': 'multi:softprob', 'random_state': 0, 'reg_alpha': 8.745296804477986, 'reg_lambda': 6.975269001354322, 'scale_pos_weight': 1, 'seed': None, 'silent': None, 'subsample': 1, 'verbosity': 1, 'enable_categorical': True}\n",
            "top_k_accuracy_score:\n",
            "0.4124836316019206\n",
            "{'base_score': 0.5, 'booster': 'gbtree', 'colsample_bylevel': 1, 'colsample_bynode': 1, 'colsample_bytree': 0.6866882347509247, 'gamma': 4.5358315667265545, 'learning_rate': 6.77232906260752, 'max_delta_step': 0, 'max_depth': 30, 'min_child_weight': 30.0, 'missing': None, 'n_estimators': 127, 'n_jobs': 1, 'nthread': None, 'objective': 'multi:softprob', 'random_state': 0, 'reg_alpha': 0.3778439480811593, 'reg_lambda': 3.964432635710434, 'scale_pos_weight': 1, 'seed': None, 'silent': None, 'subsample': 1, 'verbosity': 1, 'enable_categorical': True}\n",
            "top_k_accuracy_score:\n",
            "0.5163683980794412\n",
            "{'base_score': 0.5, 'booster': 'gbtree', 'colsample_bylevel': 1, 'colsample_bynode': 1, 'colsample_bytree': 0.6652175069492008, 'gamma': 5.91234861939356, 'learning_rate': 0.3062874111210654, 'max_delta_step': 0, 'max_depth': 111, 'min_child_weight': 25.0, 'missing': None, 'n_estimators': 35, 'n_jobs': 1, 'nthread': None, 'objective': 'multi:softprob', 'random_state': 0, 'reg_alpha': 9.83966290640621, 'reg_lambda': 4.072677347202992, 'scale_pos_weight': 1, 'seed': None, 'silent': None, 'subsample': 1, 'verbosity': 1, 'enable_categorical': True}\n",
            "top_k_accuracy_score:\n",
            "0.5189873417721519\n",
            "{'base_score': 0.5, 'booster': 'gbtree', 'colsample_bylevel': 1, 'colsample_bynode': 1, 'colsample_bytree': 0.6143542015549841, 'gamma': 1.1699031854418522, 'learning_rate': 0.23174410571309378, 'max_delta_step': 0, 'max_depth': 116, 'min_child_weight': 21.0, 'missing': None, 'n_estimators': 32, 'n_jobs': 1, 'nthread': None, 'objective': 'multi:softprob', 'random_state': 0, 'reg_alpha': 9.841044986282547, 'reg_lambda': 3.9856162738499568, 'scale_pos_weight': 1, 'seed': None, 'silent': None, 'subsample': 1, 'verbosity': 1, 'enable_categorical': True}\n",
            "top_k_accuracy_score:\n",
            "0.5268441728502837\n",
            "{'base_score': 0.5, 'booster': 'gbtree', 'colsample_bylevel': 1, 'colsample_bynode': 1, 'colsample_bytree': 0.6300245357563103, 'gamma': 1.1073361302948865, 'learning_rate': 0.12000316015575832, 'max_delta_step': 0, 'max_depth': 117, 'min_child_weight': 20.0, 'missing': None, 'n_estimators': 39, 'n_jobs': 1, 'nthread': None, 'objective': 'multi:softprob', 'random_state': 0, 'reg_alpha': 9.65844897274463, 'reg_lambda': 3.679706224461447, 'scale_pos_weight': 1, 'seed': None, 'silent': None, 'subsample': 1, 'verbosity': 1, 'enable_categorical': True}\n",
            "top_k_accuracy_score:\n",
            "0.5351374945438673\n",
            "{'base_score': 0.5, 'booster': 'gbtree', 'colsample_bylevel': 1, 'colsample_bynode': 1, 'colsample_bytree': 0.4451886431455499, 'gamma': 1.2980766270068826, 'learning_rate': 0.15273921293945558, 'max_delta_step': 0, 'max_depth': 130, 'min_child_weight': 1.0, 'missing': None, 'n_estimators': 118, 'n_jobs': 1, 'nthread': None, 'objective': 'multi:softprob', 'random_state': 0, 'reg_alpha': 9.158205563636608, 'reg_lambda': 0.10517093323645366, 'scale_pos_weight': 1, 'seed': None, 'silent': None, 'subsample': 1, 'verbosity': 1, 'enable_categorical': True}\n",
            "top_k_accuracy_score:\n",
            "0.4823221300742034\n",
            "{'base_score': 0.5, 'booster': 'gbtree', 'colsample_bylevel': 1, 'colsample_bynode': 1, 'colsample_bytree': 0.44836484069699356, 'gamma': 1.2114404456683405, 'learning_rate': 0.7193063220104099, 'max_delta_step': 0, 'max_depth': 130, 'min_child_weight': 3.0, 'missing': None, 'n_estimators': 113, 'n_jobs': 1, 'nthread': None, 'objective': 'multi:softprob', 'random_state': 0, 'reg_alpha': 8.817726439451114, 'reg_lambda': 3.045218846110472, 'scale_pos_weight': 1, 'seed': None, 'silent': None, 'subsample': 1, 'verbosity': 1, 'enable_categorical': True}\n",
            "top_k_accuracy_score:\n",
            "0.3858577040593627\n",
            "{'base_score': 0.5, 'booster': 'gbtree', 'colsample_bylevel': 1, 'colsample_bynode': 1, 'colsample_bytree': 0.40358456236962637, 'gamma': 1.3298143339709458, 'learning_rate': 2.013120203918509, 'max_delta_step': 0, 'max_depth': 93, 'min_child_weight': 14.0, 'missing': None, 'n_estimators': 216, 'n_jobs': 1, 'nthread': None, 'objective': 'multi:softprob', 'random_state': 0, 'reg_alpha': 9.193633068521237, 'reg_lambda': 0.1396023517807219, 'scale_pos_weight': 1, 'seed': None, 'silent': None, 'subsample': 1, 'verbosity': 1, 'enable_categorical': True}\n",
            "top_k_accuracy_score:\n",
            "0.3766914011348756\n",
            "{'base_score': 0.5, 'booster': 'gbtree', 'colsample_bylevel': 1, 'colsample_bynode': 1, 'colsample_bytree': 0.5009307484206527, 'gamma': 0.8472718158549715, 'learning_rate': 3.3734027341075583, 'max_delta_step': 0, 'max_depth': 129, 'min_child_weight': 0.0, 'missing': None, 'n_estimators': 89, 'n_jobs': 1, 'nthread': None, 'objective': 'multi:softprob', 'random_state': 0, 'reg_alpha': 6.810491290202722, 'reg_lambda': 0.18264662580701163, 'scale_pos_weight': 1, 'seed': None, 'silent': None, 'subsample': 1, 'verbosity': 1, 'enable_categorical': True}\n",
            "top_k_accuracy_score:\n",
            "0.4901789611523352\n",
            "{'base_score': 0.5, 'booster': 'gbtree', 'colsample_bylevel': 1, 'colsample_bynode': 1, 'colsample_bytree': 0.15704779757613246, 'gamma': 1.818138532293876, 'learning_rate': 0.8459535239290766, 'max_delta_step': 0, 'max_depth': 173, 'min_child_weight': 16.0, 'missing': None, 'n_estimators': 51, 'n_jobs': 1, 'nthread': None, 'objective': 'multi:softprob', 'random_state': 0, 'reg_alpha': 9.401036044113834, 'reg_lambda': 4.786373540348418, 'scale_pos_weight': 1, 'seed': None, 'silent': None, 'subsample': 1, 'verbosity': 1, 'enable_categorical': True}\n",
            "top_k_accuracy_score:\n",
            "0.3675250982103885\n",
            "{'base_score': 0.5, 'booster': 'gbtree', 'colsample_bylevel': 1, 'colsample_bynode': 1, 'colsample_bytree': 0.34875942861558296, 'gamma': 1.7027816089033996, 'learning_rate': 2.304611737029362, 'max_delta_step': 0, 'max_depth': 149, 'min_child_weight': 0.0, 'missing': None, 'n_estimators': 153, 'n_jobs': 1, 'nthread': None, 'objective': 'multi:softprob', 'random_state': 0, 'reg_alpha': 8.297233330432546, 'reg_lambda': 3.3915943199182643, 'scale_pos_weight': 1, 'seed': None, 'silent': None, 'subsample': 1, 'verbosity': 1, 'enable_categorical': True}\n",
            "100%|██████████| 30/30 [16:04<00:00, 32.16s/it, best loss: -0.5351374945438673]\n"
          ]
        }
      ]
    },
    {
      "cell_type": "code",
      "source": [
        "import pickle\n",
        "pickle.dump(trials, open(\"myfile.p\", \"wb\"))"
      ],
      "metadata": {
        "id": "L3M2MGr0hsda"
      },
      "execution_count": null,
      "outputs": []
    },
    {
      "cell_type": "code",
      "source": [
        "trials = pickle.load(open(\"myfile.p\", \"rb\"))\n",
        "\n",
        "# Perform an additional 100 evaluations\n",
        "# Note that max_evals is set to 200 because 100 entries already exist in the database\n",
        "best = fmin(objective,\n",
        "    space=space,\n",
        "    algo=tpe.suggest,\n",
        "    trials=trials,\n",
        "    max_evals=50)"
      ],
      "metadata": {
        "id": "DR-BlXGBRs_x",
        "outputId": "6d644899-182a-4d5f-a6c2-8d7096c12447",
        "colab": {
          "base_uri": "https://localhost:8080/"
        }
      },
      "execution_count": null,
      "outputs": [
        {
          "output_type": "stream",
          "name": "stdout",
          "text": [
            "top_k_accuracy_score:\n",
            "0.46573548668703624\n",
            "{'base_score': 0.5, 'booster': 'gbtree', 'colsample_bylevel': 1, 'colsample_bynode': 1, 'colsample_bytree': 0.2684880622856511, 'gamma': 0.7872670905726363, 'learning_rate': 1.0541540085347494, 'max_delta_step': 0, 'max_depth': 99, 'min_child_weight': 8.0, 'missing': None, 'n_estimators': 132, 'n_jobs': 1, 'nthread': None, 'objective': 'multi:softprob', 'random_state': 0, 'reg_alpha': 6.615403731478705, 'reg_lambda': 2.854812194729044, 'scale_pos_weight': 1, 'seed': None, 'silent': None, 'subsample': 1, 'verbosity': 1, 'enable_categorical': True}\n",
            "top_k_accuracy_score:\n",
            "0.5325185508511567\n",
            "{'base_score': 0.5, 'booster': 'gbtree', 'colsample_bylevel': 1, 'colsample_bynode': 1, 'colsample_bytree': 0.7562064231125634, 'gamma': 2.208192401582992, 'learning_rate': 0.1134842382658535, 'max_delta_step': 0, 'max_depth': 125, 'min_child_weight': 35.0, 'missing': None, 'n_estimators': 108, 'n_jobs': 1, 'nthread': None, 'objective': 'multi:softprob', 'random_state': 0, 'reg_alpha': 0.37233622238511543, 'reg_lambda': 0.6989412722238022, 'scale_pos_weight': 1, 'seed': None, 'silent': None, 'subsample': 1, 'verbosity': 1, 'enable_categorical': True}\n",
            "top_k_accuracy_score:\n",
            "0.441728502837189\n",
            "{'base_score': 0.5, 'booster': 'gbtree', 'colsample_bylevel': 1, 'colsample_bynode': 1, 'colsample_bytree': 0.7913509868157481, 'gamma': 2.428475459981954, 'learning_rate': 3.6413562108733935, 'max_delta_step': 0, 'max_depth': 137, 'min_child_weight': 34.0, 'missing': None, 'n_estimators': 208, 'n_jobs': 1, 'nthread': None, 'objective': 'multi:softprob', 'random_state': 0, 'reg_alpha': 0.4051004141448572, 'reg_lambda': 0.2055176859400299, 'scale_pos_weight': 1, 'seed': None, 'silent': None, 'subsample': 1, 'verbosity': 1, 'enable_categorical': True}\n",
            "top_k_accuracy_score:\n",
            "0.436054124836316\n",
            "{'base_score': 0.5, 'booster': 'gbtree', 'colsample_bylevel': 1, 'colsample_bynode': 1, 'colsample_bytree': 0.7528762390149053, 'gamma': 1.4874322425898008, 'learning_rate': 5.277443527869455, 'max_delta_step': 0, 'max_depth': 168, 'min_child_weight': 46.0, 'missing': None, 'n_estimators': 114, 'n_jobs': 1, 'nthread': None, 'objective': 'multi:softprob', 'random_state': 0, 'reg_alpha': 1.2964163855951762, 'reg_lambda': 0.9154056022131714, 'scale_pos_weight': 1, 'seed': None, 'silent': None, 'subsample': 1, 'verbosity': 1, 'enable_categorical': True}\n",
            "top_k_accuracy_score:\n",
            "0.5002182453077259\n",
            "{'base_score': 0.5, 'booster': 'gbtree', 'colsample_bylevel': 1, 'colsample_bynode': 1, 'colsample_bytree': 0.5511540891759038, 'gamma': 2.077046454116983, 'learning_rate': 0.596236800959122, 'max_delta_step': 0, 'max_depth': 148, 'min_child_weight': 62.0, 'missing': None, 'n_estimators': 243, 'n_jobs': 1, 'nthread': None, 'objective': 'multi:softprob', 'random_state': 0, 'reg_alpha': 4.871267344502675, 'reg_lambda': 2.457014902061688, 'scale_pos_weight': 1, 'seed': None, 'silent': None, 'subsample': 1, 'verbosity': 1, 'enable_categorical': True}\n",
            "top_k_accuracy_score:\n",
            "0.39371453513749455\n",
            "{'base_score': 0.5, 'booster': 'gbtree', 'colsample_bylevel': 1, 'colsample_bynode': 1, 'colsample_bytree': 0.4822403198831844, 'gamma': 2.7721857029502273, 'learning_rate': 3.8618518181839985, 'max_delta_step': 0, 'max_depth': 198, 'min_child_weight': 82.0, 'missing': None, 'n_estimators': 165, 'n_jobs': 1, 'nthread': None, 'objective': 'multi:softprob', 'random_state': 0, 'reg_alpha': 3.495834959258763, 'reg_lambda': 0.6045903636356816, 'scale_pos_weight': 1, 'seed': None, 'silent': None, 'subsample': 1, 'verbosity': 1, 'enable_categorical': True}\n",
            "top_k_accuracy_score:\n",
            "0.4836316019205587\n",
            "{'base_score': 0.5, 'booster': 'gbtree', 'colsample_bylevel': 1, 'colsample_bynode': 1, 'colsample_bytree': 0.547608425426965, 'gamma': 0.565641010483005, 'learning_rate': 1.2509019693629628, 'max_delta_step': 0, 'max_depth': 124, 'min_child_weight': 64.0, 'missing': None, 'n_estimators': 106, 'n_jobs': 1, 'nthread': None, 'objective': 'multi:softprob', 'random_state': 0, 'reg_alpha': 5.269013397434646, 'reg_lambda': 4.67516250568805, 'scale_pos_weight': 1, 'seed': None, 'silent': None, 'subsample': 1, 'verbosity': 1, 'enable_categorical': True}\n",
            "top_k_accuracy_score:\n",
            "0.3657791357485814\n",
            "{'base_score': 0.5, 'booster': 'gbtree', 'colsample_bylevel': 1, 'colsample_bynode': 1, 'colsample_bytree': 0.36236983660161254, 'gamma': 2.2322844689008847, 'learning_rate': 5.918220303129643, 'max_delta_step': 0, 'max_depth': 96, 'min_child_weight': 28.0, 'missing': None, 'n_estimators': 86, 'n_jobs': 1, 'nthread': None, 'objective': 'multi:softprob', 'random_state': 0, 'reg_alpha': 1.3355581945815747, 'reg_lambda': 1.5001741831943547, 'scale_pos_weight': 1, 'seed': None, 'silent': None, 'subsample': 1, 'verbosity': 1, 'enable_categorical': True}\n",
            "top_k_accuracy_score:\n",
            "0.44391095591444785\n",
            "{'base_score': 0.5, 'booster': 'gbtree', 'colsample_bylevel': 1, 'colsample_bynode': 1, 'colsample_bytree': 0.7737597220980001, 'gamma': 1.5881498736007271, 'learning_rate': 2.969358546657073, 'max_delta_step': 0, 'max_depth': 177, 'min_child_weight': 56.0, 'missing': None, 'n_estimators': 6, 'n_jobs': 1, 'nthread': None, 'objective': 'multi:softprob', 'random_state': 0, 'reg_alpha': 3.5440395777619926, 'reg_lambda': 0.5477298388734491, 'scale_pos_weight': 1, 'seed': None, 'silent': None, 'subsample': 1, 'verbosity': 1, 'enable_categorical': True}\n",
            "top_k_accuracy_score:\n",
            "0.40375381929288523\n",
            "{'base_score': 0.5, 'booster': 'gbtree', 'colsample_bylevel': 1, 'colsample_bynode': 1, 'colsample_bytree': 0.5768686371864551, 'gamma': 2.718522395827325, 'learning_rate': 1.788624342486364, 'max_delta_step': 0, 'max_depth': 158, 'min_child_weight': 44.0, 'missing': None, 'n_estimators': 62, 'n_jobs': 1, 'nthread': None, 'objective': 'multi:softprob', 'random_state': 0, 'reg_alpha': 6.356659113399798, 'reg_lambda': 2.4617706792196232, 'scale_pos_weight': 1, 'seed': None, 'silent': None, 'subsample': 1, 'verbosity': 1, 'enable_categorical': True}\n",
            "top_k_accuracy_score:\n",
            "0.381492797904845\n",
            "{'base_score': 0.5, 'booster': 'gbtree', 'colsample_bylevel': 1, 'colsample_bynode': 1, 'colsample_bytree': 0.23193881893099177, 'gamma': 4.510213976958844, 'learning_rate': 2.4737788014999142, 'max_delta_step': 0, 'max_depth': 23, 'min_child_weight': 37.0, 'missing': None, 'n_estimators': 140, 'n_jobs': 1, 'nthread': None, 'objective': 'multi:softprob', 'random_state': 0, 'reg_alpha': 2.383763250481855, 'reg_lambda': 2.1355751949787374, 'scale_pos_weight': 1, 'seed': None, 'silent': None, 'subsample': 1, 'verbosity': 1, 'enable_categorical': True}\n",
            "top_k_accuracy_score:\n",
            "0.46311654299432564\n",
            "{'base_score': 0.5, 'booster': 'gbtree', 'colsample_bylevel': 1, 'colsample_bynode': 1, 'colsample_bytree': 0.99153815906699, 'gamma': 3.095274514963487, 'learning_rate': 4.838781846197138, 'max_delta_step': 0, 'max_depth': 109, 'min_child_weight': 86.0, 'missing': None, 'n_estimators': 202, 'n_jobs': 1, 'nthread': None, 'objective': 'multi:softprob', 'random_state': 0, 'reg_alpha': 0.9372931335166498, 'reg_lambda': 0.7390162229866979, 'scale_pos_weight': 1, 'seed': None, 'silent': None, 'subsample': 1, 'verbosity': 1, 'enable_categorical': True}\n",
            "top_k_accuracy_score:\n",
            "0.38804015713662154\n",
            "{'base_score': 0.5, 'booster': 'gbtree', 'colsample_bylevel': 1, 'colsample_bynode': 1, 'colsample_bytree': 0.39833231106436456, 'gamma': 0.7901344557017904, 'learning_rate': 7.128733107002939, 'max_delta_step': 0, 'max_depth': 140, 'min_child_weight': 24.0, 'missing': None, 'n_estimators': 162, 'n_jobs': 1, 'nthread': None, 'objective': 'multi:softprob', 'random_state': 0, 'reg_alpha': 4.959472077307094, 'reg_lambda': 1.5675578206483005, 'scale_pos_weight': 1, 'seed': None, 'silent': None, 'subsample': 1, 'verbosity': 1, 'enable_categorical': True}\n",
            "top_k_accuracy_score:\n",
            "0.48013967699694454\n",
            "{'base_score': 0.5, 'booster': 'gbtree', 'colsample_bylevel': 1, 'colsample_bynode': 1, 'colsample_bytree': 0.6487103831033794, 'gamma': 1.9719271104504816, 'learning_rate': 1.2989181338329465, 'max_delta_step': 0, 'max_depth': 104, 'min_child_weight': 40.0, 'missing': None, 'n_estimators': 125, 'n_jobs': 1, 'nthread': None, 'objective': 'multi:softprob', 'random_state': 0, 'reg_alpha': 2.0478975442632383, 'reg_lambda': 8.9249605393374, 'scale_pos_weight': 1, 'seed': None, 'silent': None, 'subsample': 1, 'verbosity': 1, 'enable_categorical': True}\n",
            "top_k_accuracy_score:\n",
            "0.5194238323876037\n",
            "{'base_score': 0.5, 'booster': 'gbtree', 'colsample_bylevel': 1, 'colsample_bynode': 1, 'colsample_bytree': 0.7029404571475042, 'gamma': 0.40370154673319103, 'learning_rate': 0.13647198088233783, 'max_delta_step': 0, 'max_depth': 59, 'min_child_weight': 73.0, 'missing': None, 'n_estimators': 19, 'n_jobs': 1, 'nthread': None, 'objective': 'multi:softprob', 'random_state': 0, 'reg_alpha': 5.710510499076253, 'reg_lambda': 5.187681455586984, 'scale_pos_weight': 1, 'seed': None, 'silent': None, 'subsample': 1, 'verbosity': 1, 'enable_categorical': True}\n",
            "top_k_accuracy_score:\n",
            "0.3967699694456569\n",
            "{'base_score': 0.5, 'booster': 'gbtree', 'colsample_bylevel': 1, 'colsample_bynode': 1, 'colsample_bytree': 0.45713693672208944, 'gamma': 2.691446302648812, 'learning_rate': 2.0465865724014085, 'max_delta_step': 0, 'max_depth': 84, 'min_child_weight': 49.0, 'missing': None, 'n_estimators': 323, 'n_jobs': 1, 'nthread': None, 'objective': 'multi:softprob', 'random_state': 0, 'reg_alpha': 3.0617994157064476, 'reg_lambda': 2.8638989394941734, 'scale_pos_weight': 1, 'seed': None, 'silent': None, 'subsample': 1, 'verbosity': 1, 'enable_categorical': True}\n",
            "top_k_accuracy_score:\n",
            "0.3657791357485814\n",
            "{'base_score': 0.5, 'booster': 'gbtree', 'colsample_bylevel': 1, 'colsample_bynode': 1, 'colsample_bytree': 0.29663075467938627, 'gamma': 3.3244791117237154, 'learning_rate': 9.944429809744497, 'max_delta_step': 0, 'max_depth': 42, 'min_child_weight': 17.0, 'missing': None, 'n_estimators': 62, 'n_jobs': 1, 'nthread': None, 'objective': 'multi:softprob', 'random_state': 0, 'reg_alpha': 8.033895325127679, 'reg_lambda': 7.698461983594667, 'scale_pos_weight': 1, 'seed': None, 'silent': None, 'subsample': 1, 'verbosity': 1, 'enable_categorical': True}\n",
            "top_k_accuracy_score:\n",
            "0.4351811436054125\n",
            "{'base_score': 0.5, 'booster': 'gbtree', 'colsample_bylevel': 1, 'colsample_bynode': 1, 'colsample_bytree': 0.8216014896632392, 'gamma': 4.505949911243093, 'learning_rate': 4.0111322707598145, 'max_delta_step': 0, 'max_depth': 1, 'min_child_weight': 58.0, 'missing': None, 'n_estimators': 172, 'n_jobs': 1, 'nthread': None, 'objective': 'multi:softprob', 'random_state': 0, 'reg_alpha': 7.017851868074278, 'reg_lambda': 1.8284238199574139, 'scale_pos_weight': 1, 'seed': None, 'silent': None, 'subsample': 1, 'verbosity': 1, 'enable_categorical': True}\n",
            "top_k_accuracy_score:\n",
            "0.4343081623745089\n",
            "{'base_score': 0.5, 'booster': 'gbtree', 'colsample_bylevel': 1, 'colsample_bynode': 1, 'colsample_bytree': 0.7385476625521722, 'gamma': 3.8948972582145776, 'learning_rate': 8.864215685685686, 'max_delta_step': 0, 'max_depth': 198, 'min_child_weight': 8.0, 'missing': None, 'n_estimators': 85, 'n_jobs': 1, 'nthread': None, 'objective': 'multi:softprob', 'random_state': 0, 'reg_alpha': 4.610932396776846, 'reg_lambda': 1.2401408486572505, 'scale_pos_weight': 1, 'seed': None, 'silent': None, 'subsample': 1, 'verbosity': 1, 'enable_categorical': True}\n",
            "top_k_accuracy_score:\n",
            "0.4827586206896552\n",
            "{'base_score': 0.5, 'booster': 'gbtree', 'colsample_bylevel': 1, 'colsample_bynode': 1, 'colsample_bytree': 0.9579407049495532, 'gamma': 0.9836611090185345, 'learning_rate': 2.8137081721760033, 'max_delta_step': 0, 'max_depth': 161, 'min_child_weight': 91.0, 'missing': None, 'n_estimators': 229, 'n_jobs': 1, 'nthread': None, 'objective': 'multi:softprob', 'random_state': 0, 'reg_alpha': 3.6805959270662685, 'reg_lambda': 6.841518824500315, 'scale_pos_weight': 1, 'seed': None, 'silent': None, 'subsample': 1, 'verbosity': 1, 'enable_categorical': True}\n",
            "100%|██████████| 20/20 [08:27<00:00, 25.37s/it, best loss: -0.5351374945438673]\n"
          ]
        }
      ]
    },
    {
      "cell_type": "code",
      "source": [
        "best_hyperparams"
      ],
      "metadata": {
        "colab": {
          "base_uri": "https://localhost:8080/"
        },
        "id": "Miv5X30VfUKm",
        "outputId": "02c56b0e-b3d3-4d17-dcb5-d43f5de4d3fe"
      },
      "execution_count": null,
      "outputs": [
        {
          "output_type": "execute_result",
          "data": {
            "text/plain": [
              "{'colsample_bytree': 0.4451886431455499,\n",
              " 'gamma': 1.2980766270068826,\n",
              " 'learning_rate': 0.15273921293945558,\n",
              " 'max_depth': 130.0,\n",
              " 'min_child_weight': 1.0,\n",
              " 'n_estimators': 118.0,\n",
              " 'reg_alpha': 9.158205563636608,\n",
              " 'reg_lambda': 0.10517093323645366}"
            ]
          },
          "metadata": {},
          "execution_count": 38
        }
      ]
    },
    {
      "cell_type": "code",
      "source": [
        "best_hyperparams = {'colsample_bytree': 0.4451886431455499,\n",
        " 'gamma': 1.2980766270068826,\n",
        " 'learning_rate': 0.15273921293945558,\n",
        " 'max_depth': 130.0,\n",
        " 'min_child_weight': 1.0,\n",
        " 'n_estimators': 118.0,\n",
        " 'reg_alpha': 9.158205563636608,\n",
        " 'reg_lambda': 0.10517093323645366}"
      ],
      "metadata": {
        "id": "AwdgJXmd8IIL"
      },
      "execution_count": null,
      "outputs": []
    },
    {
      "cell_type": "code",
      "source": [
        "modelo_xgb = xgb.XGBClassifier(n_estimators =int(best_hyperparams['n_estimators']), max_depth = int(best_hyperparams['max_depth']),\n",
        "                               gamma = best_hyperparams['gamma'], min_child_weight=best_hyperparams['min_child_weight'],\n",
        "                               colsample_bytree=best_hyperparams['colsample_bytree'], objective = \"multi:softprob\",\n",
        "                               booster = \"gbtree\", enable_categorical = True)\n",
        "\n",
        "modelo_xgb.fit(X_train, y_train)"
      ],
      "metadata": {
        "colab": {
          "base_uri": "https://localhost:8080/"
        },
        "id": "eXeub0wMfuuD",
        "outputId": "dbfe04c0-c7c2-4466-9cfb-598595f5c905"
      },
      "execution_count": null,
      "outputs": [
        {
          "output_type": "execute_result",
          "data": {
            "text/plain": [
              "XGBClassifier(colsample_bytree=0.4451886431455499, enable_categorical=True,\n",
              "              gamma=1.2980766270068826, max_depth=130, min_child_weight=1.0,\n",
              "              n_estimators=118, objective='multi:softprob')"
            ]
          },
          "metadata": {},
          "execution_count": 41
        }
      ]
    },
    {
      "cell_type": "code",
      "source": [
        "preds = modelo_xgb.predict_proba(X_validation)\n",
        "preds_training = modelo_xgb.predict_proba(X_train)\n",
        "[top_k_accuracy_score(y_validation, preds, labels = modelo_xgb.classes_), accuracy_score(y_validation, modelo_xgb.predict(X_validation)),\n",
        "top_k_accuracy_score(y_train, preds_training, labels = modelo_xgb.classes_), accuracy_score(y_train, modelo_xgb.predict(X_train))]"
      ],
      "metadata": {
        "colab": {
          "base_uri": "https://localhost:8080/"
        },
        "id": "-sc81VB6gOb8",
        "outputId": "15b61033-9980-4c32-d8eb-97e39ec9a859"
      },
      "execution_count": null,
      "outputs": [
        {
          "output_type": "execute_result",
          "data": {
            "text/plain": [
              "[0.5128764731558272,\n",
              " 0.32343954604975994,\n",
              " 0.8956275471437453,\n",
              " 0.692823098708296]"
            ]
          },
          "metadata": {},
          "execution_count": 42
        }
      ]
    },
    {
      "cell_type": "code",
      "source": [
        "modelo_xgb.save_model(\"XGBClassificator.json\")"
      ],
      "metadata": {
        "id": "CRXbjj1tk_uW"
      },
      "execution_count": null,
      "outputs": []
    },
    {
      "cell_type": "code",
      "source": [
        "xgb.plot_importance(modelo_xgb,  max_num_features=15)"
      ],
      "metadata": {
        "colab": {
          "base_uri": "https://localhost:8080/",
          "height": 312
        },
        "id": "mqZszsEZlPLQ",
        "outputId": "54a57b0c-de21-4a37-fb33-1ffabe3a1880"
      },
      "execution_count": null,
      "outputs": [
        {
          "output_type": "execute_result",
          "data": {
            "text/plain": [
              "<matplotlib.axes._subplots.AxesSubplot at 0x7ff47c623d10>"
            ]
          },
          "metadata": {},
          "execution_count": 91
        },
        {
          "output_type": "display_data",
          "data": {
            "text/plain": [
              "<Figure size 432x288 with 1 Axes>"
            ],
            "image/png": "[encoded data removed]"
          },
          "metadata": {
            "needs_background": "light"
          }
        }
      ]
    },
    {
      "cell_type": "code",
      "source": [
        "columns =['sum_tfidf_for_dance', 'sum_tfidf_for_pop', 'sum_tfidf_for_r&b',\n",
        "       'sum_tfidf_for_hip-hop', 'sum_tfidf_for_rap', 'sum_tfidf_for_soul',\n",
        "       'sum_tfidf_for_rock', 'sum_tfidf_for_blues', 'sum_tfidf_for_folk',\n",
        "       'sum_tfidf_for_jazz', 'sum_tfidf_for_country',\n",
        "       'sum_tfidf_for_alternative', 'sum_tfidf_for_children’s music',\n",
        "       'sum_tfidf_for_indie', 'sum_tfidf_for_electronic',\n",
        "       'sum_tfidf_for_classical', 'sum_tfidf_for_opera', 'sum_tfidf_for_world',\n",
        "       'sum_tfidf_for_ska', 'sum_tfidf_for_comedy', 'sum_tfidf_for_reggae',\n",
        "       'sum_tfidf_for_reggaeton', \"sum_tfidf_for_children's music\",\n",
        "       'sum_tfidf_for_soundtrack', 'sum_tfidf_for_anime',\n",
        "       'sum_tfidf_for_movie'] + \\\n",
        "                  [\"length_lyrics\", \"number_of_lines\", \"number_of_tokens\"] + \\\n",
        "                  [\"FW\", \"JJR\", \"NN\", \"NNS\", \"NNP\", \"PDT\", \"PRP\", \"RB\", \"RBR\",\n",
        "                   \"UH\", \"VB\", \"VBG\", \"VBD\", \"VBN\", \"VBP\", \"VBZ\"] + \\\n",
        "                  [\"Minus\", \"Major\"] + \\\n",
        "                  [\"popularity_by_lang\", \"loudness_by_lang\"] + numerical_features + ordinal_features\n"
      ],
      "metadata": {
        "id": "hgEH2APon8eQ"
      },
      "execution_count": null,
      "outputs": []
    },
    {
      "cell_type": "code",
      "source": [
        "columns[50:60]"
      ],
      "metadata": {
        "colab": {
          "base_uri": "https://localhost:8080/"
        },
        "id": "MgCNcBG0n9mM",
        "outputId": "f14e7adb-fb08-4371-ce33-6baf36c42d07"
      },
      "execution_count": null,
      "outputs": [
        {
          "output_type": "execute_result",
          "data": {
            "text/plain": [
              "['a_popularity',\n",
              " 'popularity',\n",
              " 'acousticness',\n",
              " 'danceability',\n",
              " 'duration_ms',\n",
              " 'energy',\n",
              " 'instrumentalness',\n",
              " 'liveness',\n",
              " 'loudness',\n",
              " 'speechiness']"
            ]
          },
          "metadata": {},
          "execution_count": 90
        }
      ]
    },
    {
      "cell_type": "markdown",
      "source": [
        "Vemos que las features más importantes àra el XGBoost son las features numéricas originales."
      ],
      "metadata": {
        "id": "gxra5X4YojUz"
      }
    },
    {
      "cell_type": "markdown",
      "source": [
        "## Naive Bayes"
      ],
      "metadata": {
        "id": "ymL6A-7Gz_ux"
      }
    },
    {
      "cell_type": "code",
      "source": [
        "from sklearn.svm import SVC\n",
        "\n",
        "model_svc = SVC(probability = True, kernel = \"linear\")\n",
        "model_svc.fit(X_train, y_train)"
      ],
      "metadata": {
        "id": "SgClYAvd26qA"
      },
      "execution_count": null,
      "outputs": []
    }
  ]
}