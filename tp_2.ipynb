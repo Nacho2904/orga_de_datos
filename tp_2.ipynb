{
  "nbformat": 4,
  "nbformat_minor": 0,
  "metadata": {
    "colab": {
      "provenance": [],
      "authorship_tag": "ABX9TyOuHI4W45Ug3MIZIDd8HIjy",
      "include_colab_link": true
    },
    "kernelspec": {
      "name": "python3",
      "display_name": "Python 3"
    },
    "language_info": {
      "name": "python"
    }
  },
  "cells": [
    {
      "cell_type": "markdown",
      "metadata": {
        "id": "view-in-github",
        "colab_type": "text"
      },
      "source": [
        "<a href=\"https://colab.research.google.com/github/Nacho2904/orga_de_datos/blob/main/tp_2.ipynb\" target=\"_parent\"><img src=\"https://colab.research.google.com/assets/colab-badge.svg\" alt=\"Open In Colab\"/></a>"
      ]
    },
    {
      "cell_type": "markdown",
      "source": [
        "# Trabajo Práctico II: Spark"
      ],
      "metadata": {
        "id": "P8wdN12C-OAp"
      }
    },
    {
      "cell_type": "markdown",
      "source": [
        "## Setup"
      ],
      "metadata": {
        "id": "iVqf005c-1N6"
      }
    },
    {
      "cell_type": "code",
      "source": [
        "!pip install pyspark\n",
        "!pip install -U -q PyDrive\n",
        "!apt install openjdk-8-jdk-headless -qq\n",
        "import os\n",
        "os.environ[\"JAVA_HOME\"] = \"/usr/lib/jvm/java-8-openjdk-amd64\""
      ],
      "metadata": {
        "id": "JxdG8VW1_gMT",
        "outputId": "31c76852-ed7d-4db9-ebbf-a57eaad1901c",
        "colab": {
          "base_uri": "https://localhost:8080/"
        }
      },
      "execution_count": 1,
      "outputs": [
        {
          "output_type": "stream",
          "name": "stdout",
          "text": [
            "Looking in indexes: https://pypi.org/simple, https://us-python.pkg.dev/colab-wheels/public/simple/\n",
            "Collecting pyspark\n",
            "  Downloading pyspark-3.3.0.tar.gz (281.3 MB)\n",
            "\u001b[K     |████████████████████████████████| 281.3 MB 42 kB/s \n",
            "\u001b[?25hCollecting py4j==0.10.9.5\n",
            "  Downloading py4j-0.10.9.5-py2.py3-none-any.whl (199 kB)\n",
            "\u001b[K     |████████████████████████████████| 199 kB 54.3 MB/s \n",
            "\u001b[?25hBuilding wheels for collected packages: pyspark\n",
            "  Building wheel for pyspark (setup.py) ... \u001b[?25l\u001b[?25hdone\n",
            "  Created wheel for pyspark: filename=pyspark-3.3.0-py2.py3-none-any.whl size=281764026 sha256=e8a6dfd83b5f1e0e9a04279e6814e1d43738e936ba20439006a18a5e5aa52749\n",
            "  Stored in directory: /root/.cache/pip/wheels/7a/8e/1b/f73a52650d2e5f337708d9f6a1750d451a7349a867f928b885\n",
            "Successfully built pyspark\n",
            "Installing collected packages: py4j, pyspark\n",
            "Successfully installed py4j-0.10.9.5 pyspark-3.3.0\n",
            "The following package was automatically installed and is no longer required:\n",
            "  libnvidia-common-460\n",
            "Use 'apt autoremove' to remove it.\n",
            "The following additional packages will be installed:\n",
            "  openjdk-8-jre-headless\n",
            "Suggested packages:\n",
            "  openjdk-8-demo openjdk-8-source libnss-mdns fonts-dejavu-extra\n",
            "  fonts-ipafont-gothic fonts-ipafont-mincho fonts-wqy-microhei\n",
            "  fonts-wqy-zenhei fonts-indic\n",
            "The following NEW packages will be installed:\n",
            "  openjdk-8-jdk-headless openjdk-8-jre-headless\n",
            "0 upgraded, 2 newly installed, 0 to remove and 12 not upgraded.\n",
            "Need to get 36.6 MB of archives.\n",
            "After this operation, 143 MB of additional disk space will be used.\n",
            "Selecting previously unselected package openjdk-8-jre-headless:amd64.\n",
            "(Reading database ... 123934 files and directories currently installed.)\n",
            "Preparing to unpack .../openjdk-8-jre-headless_8u342-b07-0ubuntu1~18.04_amd64.deb ...\n",
            "Unpacking openjdk-8-jre-headless:amd64 (8u342-b07-0ubuntu1~18.04) ...\n",
            "Selecting previously unselected package openjdk-8-jdk-headless:amd64.\n",
            "Preparing to unpack .../openjdk-8-jdk-headless_8u342-b07-0ubuntu1~18.04_amd64.deb ...\n",
            "Unpacking openjdk-8-jdk-headless:amd64 (8u342-b07-0ubuntu1~18.04) ...\n",
            "Setting up openjdk-8-jre-headless:amd64 (8u342-b07-0ubuntu1~18.04) ...\n",
            "update-alternatives: using /usr/lib/jvm/java-8-openjdk-amd64/jre/bin/orbd to provide /usr/bin/orbd (orbd) in auto mode\n",
            "update-alternatives: using /usr/lib/jvm/java-8-openjdk-amd64/jre/bin/servertool to provide /usr/bin/servertool (servertool) in auto mode\n",
            "update-alternatives: using /usr/lib/jvm/java-8-openjdk-amd64/jre/bin/tnameserv to provide /usr/bin/tnameserv (tnameserv) in auto mode\n",
            "Setting up openjdk-8-jdk-headless:amd64 (8u342-b07-0ubuntu1~18.04) ...\n",
            "update-alternatives: using /usr/lib/jvm/java-8-openjdk-amd64/bin/idlj to provide /usr/bin/idlj (idlj) in auto mode\n",
            "update-alternatives: using /usr/lib/jvm/java-8-openjdk-amd64/bin/wsimport to provide /usr/bin/wsimport (wsimport) in auto mode\n",
            "update-alternatives: using /usr/lib/jvm/java-8-openjdk-amd64/bin/jsadebugd to provide /usr/bin/jsadebugd (jsadebugd) in auto mode\n",
            "update-alternatives: using /usr/lib/jvm/java-8-openjdk-amd64/bin/native2ascii to provide /usr/bin/native2ascii (native2ascii) in auto mode\n",
            "update-alternatives: using /usr/lib/jvm/java-8-openjdk-amd64/bin/javah to provide /usr/bin/javah (javah) in auto mode\n",
            "update-alternatives: using /usr/lib/jvm/java-8-openjdk-amd64/bin/clhsdb to provide /usr/bin/clhsdb (clhsdb) in auto mode\n",
            "update-alternatives: using /usr/lib/jvm/java-8-openjdk-amd64/bin/xjc to provide /usr/bin/xjc (xjc) in auto mode\n",
            "update-alternatives: using /usr/lib/jvm/java-8-openjdk-amd64/bin/hsdb to provide /usr/bin/hsdb (hsdb) in auto mode\n",
            "update-alternatives: using /usr/lib/jvm/java-8-openjdk-amd64/bin/schemagen to provide /usr/bin/schemagen (schemagen) in auto mode\n",
            "update-alternatives: using /usr/lib/jvm/java-8-openjdk-amd64/bin/extcheck to provide /usr/bin/extcheck (extcheck) in auto mode\n",
            "update-alternatives: using /usr/lib/jvm/java-8-openjdk-amd64/bin/jhat to provide /usr/bin/jhat (jhat) in auto mode\n",
            "update-alternatives: using /usr/lib/jvm/java-8-openjdk-amd64/bin/wsgen to provide /usr/bin/wsgen (wsgen) in auto mode\n"
          ]
        }
      ]
    },
    {
      "cell_type": "code",
      "source": [
        "from pydrive.auth import GoogleAuth\n",
        "from pydrive.drive import GoogleDrive\n",
        "from google.colab import auth\n",
        "from oauth2client.client import GoogleCredentials\n",
        "from pyspark.sql import *\n",
        "from pyspark.sql.functions import *\n",
        "from pyspark import SparkContext"
      ],
      "metadata": {
        "id": "4iWK26f__qzm"
      },
      "execution_count": 2,
      "outputs": []
    },
    {
      "cell_type": "code",
      "source": [
        "import pandas as pd\n",
        "import numpy as np\n",
        "from google.colab import drive \n",
        "\n",
        "drive.mount('/content/gdrive')\n",
        "path_a_cast = 'gdrive/MyDrive/Parquets/cast.parquet'\n",
        "path_a_companies = 'gdrive/MyDrive/Parquets/companies.parquet'\n",
        "path_a_crew = 'gdrive/MyDrive/Parquets/crew.parquet'\n",
        "path_a_actores = 'gdrive/MyDrive/Parquets/imdb_actors.parquet'\n",
        "path_a_keywords = 'gdrive/MyDrive/Parquets/keywords.parquet'\n",
        "path_a_links = 'gdrive/MyDrive/Parquets/links.parquet'\n",
        "path_a_movies = 'gdrive/MyDrive/Parquets/movies.parquet'\n",
        "path_a_ratings = 'gdrive/MyDrive/Parquets/ratings.parquet'\n"
      ],
      "metadata": {
        "id": "oyhKUOHY-3cc",
        "outputId": "a62ba275-fb45-4f55-90fb-3e6ea85e9b84",
        "colab": {
          "base_uri": "https://localhost:8080/"
        }
      },
      "execution_count": 3,
      "outputs": [
        {
          "output_type": "stream",
          "name": "stdout",
          "text": [
            "Mounted at /content/gdrive\n"
          ]
        }
      ]
    },
    {
      "cell_type": "code",
      "source": [
        "spark = SparkSession.builder.getOrCreate()\n",
        "\n",
        "sc = spark.sparkContext\n",
        "sqlContext = SQLContext(sc)\n"
      ],
      "metadata": {
        "id": "JgmDjjboBFGW",
        "outputId": "b11cae0b-4291-4f0c-c8e1-18f3de9833c1",
        "colab": {
          "base_uri": "https://localhost:8080/"
        }
      },
      "execution_count": 4,
      "outputs": [
        {
          "output_type": "stream",
          "name": "stderr",
          "text": [
            "/usr/local/lib/python3.7/dist-packages/pyspark/sql/context.py:114: FutureWarning: Deprecated in 3.0.0. Use SparkSession.builder.getOrCreate() instead.\n",
            "  FutureWarning,\n"
          ]
        }
      ]
    },
    {
      "cell_type": "markdown",
      "source": [
        "## S7"
      ],
      "metadata": {
        "id": "r12T12xjJOI1"
      }
    },
    {
      "cell_type": "markdown",
      "source": [
        "¿Cuál fue el año más mortal para los actores y actrices?"
      ],
      "metadata": {
        "id": "CinntXw9KEdP"
      }
    },
    {
      "cell_type": "code",
      "source": [
        "AÑO_FALLECIMIENTO = 3\n",
        "CONTEO_MUERTES = 1\n",
        "rdd_actores = sqlContext.read.parquet(path_a_actores).rdd"
      ],
      "metadata": {
        "id": "zpLGzJ7KKFjC"
      },
      "execution_count": null,
      "outputs": []
    },
    {
      "cell_type": "code",
      "source": [
        "rdd_años_de_fallecimiento = rdd_actores.map(lambda row: row[AÑO_FALLECIMIENTO])\n",
        "rdd_años_de_fallecimiento.first()"
      ],
      "metadata": {
        "id": "OF3sQpHCKhZK",
        "outputId": "4b2ea216-4019-4a71-8527-36ce258f22f9",
        "colab": {
          "base_uri": "https://localhost:8080/",
          "height": 35
        }
      },
      "execution_count": null,
      "outputs": [
        {
          "output_type": "execute_result",
          "data": {
            "text/plain": [
              "'1987'"
            ],
            "application/vnd.google.colaboratory.intrinsic+json": {
              "type": "string"
            }
          },
          "metadata": {},
          "execution_count": 9
        }
      ]
    },
    {
      "cell_type": "code",
      "source": [
        "rdd_años_de_fallecimiento = rdd_años_de_fallecimiento.filter(str.isnumeric)\n",
        "rdd_años_de_fallecimiento = rdd_años_de_fallecimiento.map(int)\n",
        "dict_con_conteo = dict(rdd_años_de_fallecimiento.countByValue())\n",
        "año_mas_mortal = sorted([[llave, dict_con_conteo[llave]] for llave in dict_con_conteo], \n",
        "                        key = lambda año_y_conteo: año_y_conteo[CONTEO_MUERTES])[-1]\n",
        "print(año_mas_mortal)"
      ],
      "metadata": {
        "id": "cNA6sFNCQFss",
        "outputId": "9da0e82b-c88f-4390-e0fa-e20d9af3ef8b",
        "colab": {
          "base_uri": "https://localhost:8080/"
        }
      },
      "execution_count": null,
      "outputs": [
        {
          "output_type": "stream",
          "name": "stdout",
          "text": [
            "[2021, 3409]\n"
          ]
        }
      ]
    },
    {
      "cell_type": "markdown",
      "source": [
        "## S23"
      ],
      "metadata": {
        "id": "STJlS-6oJQvs"
      }
    },
    {
      "cell_type": "markdown",
      "source": [
        "¿Cuál es el usuario más pesimista (menor rating promedio) para cada género de películas? Considere solo usuarios con más de 20 reviews"
      ],
      "metadata": {
        "id": "A-RzHLBg6mWA"
      }
    },
    {
      "cell_type": "markdown",
      "source": [
        "### Resolución"
      ],
      "metadata": {
        "id": "J0AkUWnV6bi4"
      }
    },
    {
      "cell_type": "code",
      "source": [
        "rdd_ratings = sqlContext.read.parquet(path_a_ratings).rdd\n",
        "rdd_movies = sqlContext.read.parquet(path_a_movies).rdd"
      ],
      "metadata": {
        "id": "L6rihiro6Y6I"
      },
      "execution_count": 6,
      "outputs": []
    },
    {
      "cell_type": "markdown",
      "source": [
        "Primero filtraremos los usuarios por aquellos que tengan más de 20 reviews"
      ],
      "metadata": {
        "id": "OvfD8QY67BU4"
      }
    },
    {
      "cell_type": "code",
      "source": [
        "rdd_ratings_as_pairs = rdd_ratings.map(lambda row: (row[0], (row[1], row[2])))\n",
        "count_of_ratings_per_user = rdd_ratings_as_pairs.countByKey()\n",
        "users_with_plus_20_ratings = {user for user in count_of_ratings_per_user if count_of_ratings_per_user[user] > 20}\n",
        "len(users_with_plus_20_ratings)"
      ],
      "metadata": {
        "colab": {
          "base_uri": "https://localhost:8080/"
        },
        "id": "1wTdWQJ_7i0q",
        "outputId": "83ee9a71-d8ea-4a1e-e12f-30ab1edb957d"
      },
      "execution_count": 10,
      "outputs": [
        {
          "output_type": "execute_result",
          "data": {
            "text/plain": [
              "161497"
            ]
          },
          "metadata": {},
          "execution_count": 10
        }
      ]
    },
    {
      "cell_type": "code",
      "source": [
        "rdd_ratings_users_with_more_than_20_reviews = rdd_ratings_as_pairs.filter(lambda row: row[0] in users_with_plus_20_ratings)\n",
        "rdd_ratings_with_movie_id_as_key = rdd_ratings_users_with_more_than_20_reviews.map(lambda row: (str(row[1][0]), (row[0], row[1][1])))"
      ],
      "metadata": {
        "id": "JkPiEinS9cX0"
      },
      "execution_count": 16,
      "outputs": []
    },
    {
      "cell_type": "code",
      "source": [
        "rdd_movies_and_genres_as_pairs = rdd_movies.map(lambda row: (row[5], set(row[3].split(',') if row[3] else {})))\n",
        "rdd_filtered_ratings_with_genres = rdd_ratings_with_movie_id_as_key.join(rdd_movies_and_genres_as_pairs)"
      ],
      "metadata": {
        "id": "T-WGNv_U8n1v"
      },
      "execution_count": 25,
      "outputs": []
    },
    {
      "cell_type": "code",
      "source": [
        "rdd_filtered_ratings_with_genres_as_user_pairs = rdd_filtered_ratings_with_genres.map(lambda row: (row[1][0][0], (row[1][0][1], row[1][1])))"
      ],
      "metadata": {
        "id": "8r39mPOJBwTl"
      },
      "execution_count": 26,
      "outputs": []
    },
    {
      "cell_type": "code",
      "source": [
        "rdd_filtered_ratings_with_genres_as_user_pairs.first()"
      ],
      "metadata": {
        "colab": {
          "base_uri": "https://localhost:8080/"
        },
        "id": "lCp4tRnCJhMo",
        "outputId": "36fe10db-6333-4742-a184-06af6e8dd6bd"
      },
      "execution_count": 32,
      "outputs": [
        {
          "output_type": "execute_result",
          "data": {
            "text/plain": [
              "(229, (3.0, {'Crime', 'Drama', 'Mystery', 'Thriller'}))"
            ]
          },
          "metadata": {},
          "execution_count": 32
        }
      ]
    },
    {
      "cell_type": "code",
      "source": [
        "genres = rdd_movies_and_genres_as_pairs.map(lambda row: row[1]).reduce(\n",
        "    lambda genres_1, genres_2: genres_1.union(genres_2))"
      ],
      "metadata": {
        "id": "J4DPGHWNFrh1"
      },
      "execution_count": 27,
      "outputs": []
    },
    {
      "cell_type": "code",
      "source": [
        "genres_with_sum_of_ratings_and_counts = {genre: [0, 0] for genre in genres}"
      ],
      "metadata": {
        "id": "K1mt_ZRjIFLV"
      },
      "execution_count": 31,
      "outputs": []
    },
    {
      "cell_type": "code",
      "source": [
        "def create_dict_for_rating(rating):\n",
        "  rating_given, genres_of_movie_rated = 0, 1\n",
        "  genres_with_sum_of_ratings_and_counts = {genre: [0, 0] for genre in genres}\n",
        "  \n",
        "  for genre in rating[genres_of_movie_rated]:\n",
        "    genres_with_sum_of_ratings_and_counts[genre][0] += rating[rating_given]\n",
        "    genres_with_sum_of_ratings_and_counts[genre][1] += 1\n",
        "  \n",
        "  return genres_with_sum_of_ratings_and_counts  \n",
        "\n",
        "def merge_rating_dicts(rating_dict_1, rating_dict_2):\n",
        "  return {genre: [rating_dict_1[genre][0] + rating_dict_2[genre][0],\n",
        "                  rating_dict_1[genre][1] + rating_dict_2[genre][1]] for genre in genres}\n",
        "\n",
        "rdd_user_mean_ratings_per_genre = rdd_filtered_ratings_with_genres_as_user_pairs.map(\n",
        "  lambda row: (row[0], create_dict_for_rating(row[1]))).reduceByKey(merge_rating_dicts).map(\n",
        "      lambda row: (row[0], {genre: row[1][genre][0]/row[1][genre][1] if row[1][genre][1] else np.Inf for genre in genres}) \n",
        "  )"
      ],
      "metadata": {
        "id": "zIBLVOgUCZ6g"
      },
      "execution_count": 52,
      "outputs": []
    },
    {
      "cell_type": "code",
      "source": [
        "rdd_user_mean_ratings_per_genre.first()"
      ],
      "metadata": {
        "colab": {
          "base_uri": "https://localhost:8080/"
        },
        "id": "kO1CHhDTOWDh",
        "outputId": "ef1ba80a-a3d6-43f9-c88e-e5f0aa92b30c"
      },
      "execution_count": 53,
      "outputs": [
        {
          "output_type": "execute_result",
          "data": {
            "text/plain": [
              "(1060,\n",
              " {'Adventure': 3.78125,\n",
              "  'Romance': 3.8846153846153846,\n",
              "  'Foreign': inf,\n",
              "  'Science Fiction': 3.6153846153846154,\n",
              "  'Drama': 4.230769230769231,\n",
              "  'Animation': 4.5,\n",
              "  'Western': 4.0,\n",
              "  'Documentary': 3.25,\n",
              "  'Thriller': 4.293103448275862,\n",
              "  'Fantasy': 4.1,\n",
              "  'War': 5.0,\n",
              "  'Horror': 4.0,\n",
              "  'Action': 4.117647058823529,\n",
              "  'History': 4.5,\n",
              "  'Crime': 4.205882352941177,\n",
              "  'Comedy': 4.092592592592593,\n",
              "  'Mystery': 3.8076923076923075,\n",
              "  'Family': 4.1875,\n",
              "  'TV Movie': inf,\n",
              "  'Music': 4.25})"
            ]
          },
          "metadata": {},
          "execution_count": 53
        }
      ]
    },
    {
      "cell_type": "code",
      "source": [
        "most_pessimistic_users_by_genre = {genre: rdd_user_mean_ratings_per_genre.min(key = lambda row: row[1][genre])\n",
        "                                   for genre in genres}"
      ],
      "metadata": {
        "id": "up7VbaEAtayj"
      },
      "execution_count": 56,
      "outputs": []
    },
    {
      "cell_type": "code",
      "source": [
        "most_pessimistic_users_by_genre_nicely_formatted = {genre: (most_pessimistic_users_by_genre[genre][0], \n",
        "                                                            most_pessimistic_users_by_genre[genre][1][genre])\n",
        "                                                            for genre in genres}\n",
        "\n",
        "most_pessimistic_users_by_genre_nicely_formatted"
      ],
      "metadata": {
        "id": "NPtkHGxq4WST",
        "outputId": "c87c0344-8881-4770-b2cb-2a83184e8670",
        "colab": {
          "base_uri": "https://localhost:8080/"
        }
      },
      "execution_count": 58,
      "outputs": [
        {
          "output_type": "execute_result",
          "data": {
            "text/plain": [
              "{'War': (177248, 0.5),\n",
              " 'Foreign': (267084, 0.5),\n",
              " 'Romance': (111772, 0.5),\n",
              " 'Comedy': (700, 0.5),\n",
              " 'Action': (111772, 0.5),\n",
              " 'Mystery': (111772, 0.5),\n",
              " 'Family': (32560, 0.5),\n",
              " 'Crime': (65404, 0.5),\n",
              " 'TV Movie': (33420, 0.5),\n",
              " 'Documentary': (122220, 0.5),\n",
              " 'Science Fiction': (127668, 0.5),\n",
              " 'Drama': (111772, 0.5),\n",
              " 'Horror': (6900, 0.5),\n",
              " 'Music': (44584, 0.5),\n",
              " 'History': (132276, 0.5),\n",
              " 'Fantasy': (168084, 0.5),\n",
              " 'Adventure': (700, 0.5),\n",
              " 'Western': (88588, 0.5),\n",
              " 'Animation': (214972, 0.5),\n",
              " 'Thriller': (127668, 0.5)}"
            ]
          },
          "metadata": {},
          "execution_count": 58
        }
      ]
    },
    {
      "cell_type": "markdown",
      "source": [
        "## S25"
      ],
      "metadata": {
        "id": "idpUOygPJSpY"
      }
    },
    {
      "cell_type": "markdown",
      "source": [
        "¿Cuál es el percentil 95 de la popularidad?"
      ],
      "metadata": {
        "id": "tdZkbPh1vVoC"
      }
    },
    {
      "cell_type": "code",
      "source": [
        "POPULARITY = 10\n",
        "rdd_movies = sqlContext.read.parquet(path_a_movies).rdd\n",
        "\n",
        "rdd_popularities = rdd_movies.map(lambda row: row[POPULARITY]).filter(lambda row: row)\n",
        "number_of_movies = rdd_popularities.count()\n",
        "top_5_per_cent = rdd_popularities.takeOrdered(int(number_of_movies*0.05), key = lambda x: -x)\n",
        "percentile_95th = top_5_per_cent[-1]\n",
        "print(percentile_95th)"
      ],
      "metadata": {
        "id": "ocSdSmVDvXGn",
        "outputId": "1e1ac3ca-f7cb-4cea-9635-fb2345440191",
        "colab": {
          "base_uri": "https://localhost:8080/"
        }
      },
      "execution_count": null,
      "outputs": [
        {
          "output_type": "stream",
          "name": "stdout",
          "text": [
            "11.063822\n"
          ]
        }
      ]
    },
    {
      "cell_type": "markdown",
      "source": [
        "## S11"
      ],
      "metadata": {
        "id": "D33Jf0ckJVny"
      }
    },
    {
      "cell_type": "markdown",
      "source": [
        " Según los cinéfilos, ¿cuál es el rating promedio de las 5 películas más populares? Un usuario es cinéfilo cuando puntuó más de 50 películas y todas las puntuaciones son de más de 2.5 estrellas. Indicar id, título, popularidad y rating promedio de la película."
      ],
      "metadata": {
        "id": "1IYb8qGybnLf"
      }
    },
    {
      "cell_type": "code",
      "source": [
        "rdd_ratings = sqlContext.read.parquet(path_a_ratings).rdd\n",
        "rdd_movies = sqlContext.read.parquet(path_a_movies).rdd"
      ],
      "metadata": {
        "id": "XWcAY96vbmHj"
      },
      "execution_count": null,
      "outputs": []
    },
    {
      "cell_type": "markdown",
      "source": [
        "En primer lugar reordenamos el rdd para que cada fila sea un par clave-valor, con las claves siendo los userId y los valores siendo los ratings de las pelis y sus respectos id"
      ],
      "metadata": {
        "id": "E4NEMhrtqBpY"
      }
    },
    {
      "cell_type": "code",
      "source": [
        "rdd_ratings_key_value = rdd_ratings.map(lambda row: (row[0], [row[1], row[2]]))"
      ],
      "metadata": {
        "id": "YT9XKFj4dB4x"
      },
      "execution_count": null,
      "outputs": []
    },
    {
      "cell_type": "markdown",
      "source": [
        "Ahora filtramos el rdd de ratings. Primero agrupamos todos los ratings por id de usuario, y filtramos los usuarios que no tengan más de 50 reviews, y que tengan una review con rating menor a 2.5, es decir, que no son considerados cinéfilos."
      ],
      "metadata": {
        "id": "6nmxVnnEqPYH"
      }
    },
    {
      "cell_type": "code",
      "source": [
        "user_has_no_ratings_below = lambda user, threshold: all([rating[1] > threshold for rating in user[1]]) \n",
        "user_has_more_than_25_ratings = lambda user: len(user[1]) > 50\n",
        "rdd_ratings_grouped_per_user = rdd_ratings_key_value.groupByKey().map(lambda row: (row[0], list(row[1])))\n",
        "rdd_usuarios_cinefilos = rdd_ratings_grouped_per_user.filter(lambda user: user_has_no_ratings_below(user, 2.5) and \n",
        "                                                         user_has_more_than_25_ratings(user)).map(lambda user: user[0])"
      ],
      "metadata": {
        "id": "gjZog2l9hiVo"
      },
      "execution_count": null,
      "outputs": []
    },
    {
      "cell_type": "code",
      "source": [
        "set_usuarios_cinefilos = set(rdd_usuarios_cinefilos.collect())\n",
        "rdd_ratings_key_value_cinefilos = rdd_ratings_key_value.filter(lambda row: row[0] in set_usuarios_cinefilos)"
      ],
      "metadata": {
        "id": "YPPaS6Zbk01D"
      },
      "execution_count": null,
      "outputs": []
    },
    {
      "cell_type": "markdown",
      "source": [
        "Joineamos las tablas de ratings y pelis para obtener solo los ratings de pelis que los cinéfilos han rateado, y para poder tener en cuenta las popularidades"
      ],
      "metadata": {
        "id": "X7a6nYhvqjrp"
      }
    },
    {
      "cell_type": "code",
      "source": [
        "rdd_ratings_cinephiles_movies_as_keys = rdd_ratings_key_value_cinefilos.map(lambda row: (str(row[1][0]), row[1][1]))\n",
        "rdd_movies_as_pairs = rdd_movies.map(lambda row: (str(row[5]), row[10]))\n",
        "rdd_rating_cinephiles_with_popularities = rdd_ratings_cinephiles_movies_as_keys.join(rdd_movies_as_pairs)\n"
      ],
      "metadata": {
        "id": "GMOPciUHhP3N"
      },
      "execution_count": null,
      "outputs": []
    },
    {
      "cell_type": "markdown",
      "source": [
        "- El primer map reordena el rdd en pares clave-valor en el que las claves son los id de las pelis y los valores son el rating y la popularidad\n",
        "- El reduceByKey arma un nuevo rdd con la sumatoria de ratings, count y popularidad por cada peli\n",
        "- El map final obtiene un rdd con el promedio de ratings y popularidad por peli"
      ],
      "metadata": {
        "id": "hH-B-mAfqt_K"
      }
    },
    {
      "cell_type": "code",
      "source": [
        "rdd_cinephiles_mean_ratings_for_each_movie = rdd_rating_cinephiles_with_popularities.map(\n",
        "    lambda row: (row[0], (row[1][0], row[1][1], 1))).reduceByKey(\n",
        "      lambda value_1, value_2: (value_1[0] + value_2[0], value_1[1], value_1[2] + value_2[2])).map(\n",
        "        lambda row: (row[0], (row[1][0]/row[1][2], row[1][1])))"
      ],
      "metadata": {
        "id": "NE26oNg9m5ZO"
      },
      "execution_count": null,
      "outputs": []
    },
    {
      "cell_type": "markdown",
      "source": [
        "Finalmente, obtenemos las cinco pelis con mayor popularidad de las que tienen ratings de cinefilos, junto con su rating promedio y su id"
      ],
      "metadata": {
        "id": "pwvuMecirS8m"
      }
    },
    {
      "cell_type": "code",
      "source": [
        "rdd_cinephiles_mean_ratings_for_each_movie.takeOrdered(5, lambda row: -row[1][1])"
      ],
      "metadata": {
        "id": "ZApTJoePo280",
        "outputId": "5c61a7f0-f43f-4ded-a6a2-ba1547ce9a87",
        "colab": {
          "base_uri": "https://localhost:8080/"
        }
      },
      "execution_count": null,
      "outputs": [
        {
          "output_type": "execute_result",
          "data": {
            "text/plain": [
              "[('680', (4.071428571428571, 140.950236)),\n",
              " ('155', (4.0, 123.167259)),\n",
              " ('78', (3.5833333333333335, 96.272374)),\n",
              " ('550', (3.660377358490566, 63.869599)),\n",
              " ('278', (3.375, 51.645403))]"
            ]
          },
          "metadata": {},
          "execution_count": 39
        }
      ]
    },
    {
      "cell_type": "markdown",
      "source": [
        "## S34"
      ],
      "metadata": {
        "id": "U4FuxncgJYJc"
      }
    },
    {
      "cell_type": "markdown",
      "source": [
        " ¿Cuál es la probabilidad de que una película de un género en particular tenga una calificación promedio mayor a 3 (utilizando la tabla de ratings)? Obtenga las probabilidades de cada género posible."
      ],
      "metadata": {
        "id": "9Z25AK4D1CD6"
      }
    },
    {
      "cell_type": "code",
      "source": [
        "rdd_ratings = sqlContext.read.parquet(path_a_ratings).rdd\n",
        "rdd_movies = sqlContext.read.parquet(path_a_movies).rdd"
      ],
      "metadata": {
        "id": "I4BBn6VK9PHD"
      },
      "execution_count": null,
      "outputs": []
    },
    {
      "cell_type": "code",
      "source": [
        "rdd_movies_id_and_genre = rdd_movies.map(lambda row: (row[5], set(row[3].split(',') if row[3] else {})))\n",
        "\n",
        "genres = rdd_movies_id_and_genre.map(lambda row: row[1]).reduce(\n",
        "    lambda genres_1, genres_2: genres_1.union(genres_2))"
      ],
      "metadata": {
        "id": "Mhvv-XE99eCN"
      },
      "execution_count": null,
      "outputs": []
    },
    {
      "cell_type": "code",
      "source": [
        "rdd_ratings_filtered = rdd_ratings.map(lambda row: (str(row[1]), row[2]))\n",
        "rdd_mean_ratings = rdd_ratings_filtered.groupByKey().map(lambda row: (row[0], np.sum(np.array(list(row[1])))/len(list(row[1]))))\n",
        "rdd_mean_ratings_and_genres = rdd_mean_ratings.join(rdd_movies_id_and_genre).map(lambda row: (row[1][1], row[1][0]))"
      ],
      "metadata": {
        "id": "kOtQhWa5qQEp",
        "outputId": "294d1420-db88-45c4-ed17-2b24a9ccca99",
        "colab": {
          "base_uri": "https://localhost:8080/"
        }
      },
      "execution_count": null,
      "outputs": [
        {
          "output_type": "execute_result",
          "data": {
            "text/plain": [
              "[('3061', 3.8211314475873546),\n",
              " ('4368', 2.428208386277001),\n",
              " ('60758', 3.409340659340659),\n",
              " ('3807', 3.159375),\n",
              " ('157967', 3.6666666666666665)]"
            ]
          },
          "metadata": {},
          "execution_count": 15
        }
      ]
    },
    {
      "cell_type": "code",
      "source": [
        "get_count_of_movies_of_genre = lambda genre: rdd_mean_ratings_and_genres.filter(lambda row: genre in row[0]).count()\n",
        "get_count_of_good_movies_of_genre = lambda genre: rdd_mean_ratings_and_genres.filter(lambda row: genre in row[0] and row[1] > 3).count()\n",
        "get_probability_of_good_movie_of_genre = lambda genre: get_count_of_good_movies_of_genre(genre)/get_count_of_movies_of_genre(genre)\n",
        "\n",
        "genre_with_probabilities = {genre: get_probability_of_good_movie_of_genre(genre) for genre in genres}\n",
        "genre_with_probabilities"
      ],
      "metadata": {
        "id": "EAbv0avAu_Cw",
        "outputId": "b8434528-b24e-45f9-ccbd-d5c5e02e4d64",
        "colab": {
          "base_uri": "https://localhost:8080/"
        }
      },
      "execution_count": null,
      "outputs": [
        {
          "output_type": "execute_result",
          "data": {
            "text/plain": [
              "{'Romance': 0.6459369817578773,\n",
              " 'Horror': 0.6251728907330567,\n",
              " 'Music': 0.657258064516129,\n",
              " 'TV Movie': 0.6551724137931034,\n",
              " 'Drama': 0.6382921589688507,\n",
              " 'Family': 0.6606217616580311,\n",
              " 'Action': 0.64,\n",
              " 'War': 0.6147186147186147,\n",
              " 'Adventure': 0.6619519094766619,\n",
              " 'Science Fiction': 0.6441821247892074,\n",
              " 'Comedy': 0.6393752957879791,\n",
              " 'History': 0.6143790849673203,\n",
              " 'Mystery': 0.6357894736842106,\n",
              " 'Animation': 0.6860986547085202,\n",
              " 'Western': 0.6702702702702703,\n",
              " 'Foreign': 0.6125461254612546,\n",
              " 'Documentary': 0.5964214711729622,\n",
              " 'Thriller': 0.6370007007708479,\n",
              " 'Crime': 0.6515986769570011,\n",
              " 'Fantasy': 0.6285097192224622}"
            ]
          },
          "metadata": {},
          "execution_count": 16
        }
      ]
    }
  ]
}