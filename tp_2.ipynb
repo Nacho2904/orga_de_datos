{
  "nbformat": 4,
  "nbformat_minor": 0,
  "metadata": {
    "colab": {
      "provenance": [],
      "authorship_tag": "ABX9TyPPC1V27yUFz3cth+atZzrY",
      "include_colab_link": true
    },
    "kernelspec": {
      "name": "python3",
      "display_name": "Python 3"
    },
    "language_info": {
      "name": "python"
    }
  },
  "cells": [
    {
      "cell_type": "markdown",
      "metadata": {
        "id": "view-in-github",
        "colab_type": "text"
      },
      "source": [
        "<a href=\"https://colab.research.google.com/github/Nacho2904/orga_de_datos/blob/main/tp_2.ipynb\" target=\"_parent\"><img src=\"https://colab.research.google.com/assets/colab-badge.svg\" alt=\"Open In Colab\"/></a>"
      ]
    },
    {
      "cell_type": "markdown",
      "source": [
        "# Trabajo Práctico II: Spark"
      ],
      "metadata": {
        "id": "P8wdN12C-OAp"
      }
    },
    {
      "cell_type": "markdown",
      "source": [
        "## Setup"
      ],
      "metadata": {
        "id": "iVqf005c-1N6"
      }
    },
    {
      "cell_type": "code",
      "source": [
        "!pip install pyspark\n",
        "!pip install -U -q PyDrive\n",
        "!apt install openjdk-8-jdk-headless -qq\n",
        "import os\n",
        "os.environ[\"JAVA_HOME\"] = \"/usr/lib/jvm/java-8-openjdk-amd64\""
      ],
      "metadata": {
        "id": "JxdG8VW1_gMT",
        "outputId": "23533486-7917-4f71-f9a0-15f6b14bac6c",
        "colab": {
          "base_uri": "https://localhost:8080/"
        }
      },
      "execution_count": 1,
      "outputs": [
        {
          "output_type": "stream",
          "name": "stdout",
          "text": [
            "Looking in indexes: https://pypi.org/simple, https://us-python.pkg.dev/colab-wheels/public/simple/\n",
            "Collecting pyspark\n",
            "  Downloading pyspark-3.3.0.tar.gz (281.3 MB)\n",
            "\u001b[K     |████████████████████████████████| 281.3 MB 52 kB/s \n",
            "\u001b[?25hCollecting py4j==0.10.9.5\n",
            "  Downloading py4j-0.10.9.5-py2.py3-none-any.whl (199 kB)\n",
            "\u001b[K     |████████████████████████████████| 199 kB 68.0 MB/s \n",
            "\u001b[?25hBuilding wheels for collected packages: pyspark\n",
            "  Building wheel for pyspark (setup.py) ... \u001b[?25l\u001b[?25hdone\n",
            "  Created wheel for pyspark: filename=pyspark-3.3.0-py2.py3-none-any.whl size=281764026 sha256=05e8a931e87eb107053979939fcffaab8281e57d32bddbe48d6b26d78f718e2d\n",
            "  Stored in directory: /root/.cache/pip/wheels/7a/8e/1b/f73a52650d2e5f337708d9f6a1750d451a7349a867f928b885\n",
            "Successfully built pyspark\n",
            "Installing collected packages: py4j, pyspark\n",
            "Successfully installed py4j-0.10.9.5 pyspark-3.3.0\n",
            "The following package was automatically installed and is no longer required:\n",
            "  libnvidia-common-460\n",
            "Use 'apt autoremove' to remove it.\n",
            "The following additional packages will be installed:\n",
            "  openjdk-8-jre-headless\n",
            "Suggested packages:\n",
            "  openjdk-8-demo openjdk-8-source libnss-mdns fonts-dejavu-extra\n",
            "  fonts-ipafont-gothic fonts-ipafont-mincho fonts-wqy-microhei\n",
            "  fonts-wqy-zenhei fonts-indic\n",
            "The following NEW packages will be installed:\n",
            "  openjdk-8-jdk-headless openjdk-8-jre-headless\n",
            "0 upgraded, 2 newly installed, 0 to remove and 20 not upgraded.\n",
            "Need to get 36.6 MB of archives.\n",
            "After this operation, 143 MB of additional disk space will be used.\n",
            "Selecting previously unselected package openjdk-8-jre-headless:amd64.\n",
            "(Reading database ... 159447 files and directories currently installed.)\n",
            "Preparing to unpack .../openjdk-8-jre-headless_8u342-b07-0ubuntu1~18.04_amd64.deb ...\n",
            "Unpacking openjdk-8-jre-headless:amd64 (8u342-b07-0ubuntu1~18.04) ...\n",
            "Selecting previously unselected package openjdk-8-jdk-headless:amd64.\n",
            "Preparing to unpack .../openjdk-8-jdk-headless_8u342-b07-0ubuntu1~18.04_amd64.deb ...\n",
            "Unpacking openjdk-8-jdk-headless:amd64 (8u342-b07-0ubuntu1~18.04) ...\n",
            "Setting up openjdk-8-jre-headless:amd64 (8u342-b07-0ubuntu1~18.04) ...\n",
            "update-alternatives: using /usr/lib/jvm/java-8-openjdk-amd64/jre/bin/orbd to provide /usr/bin/orbd (orbd) in auto mode\n",
            "update-alternatives: using /usr/lib/jvm/java-8-openjdk-amd64/jre/bin/servertool to provide /usr/bin/servertool (servertool) in auto mode\n",
            "update-alternatives: using /usr/lib/jvm/java-8-openjdk-amd64/jre/bin/tnameserv to provide /usr/bin/tnameserv (tnameserv) in auto mode\n",
            "Setting up openjdk-8-jdk-headless:amd64 (8u342-b07-0ubuntu1~18.04) ...\n",
            "update-alternatives: using /usr/lib/jvm/java-8-openjdk-amd64/bin/idlj to provide /usr/bin/idlj (idlj) in auto mode\n",
            "update-alternatives: using /usr/lib/jvm/java-8-openjdk-amd64/bin/wsimport to provide /usr/bin/wsimport (wsimport) in auto mode\n",
            "update-alternatives: using /usr/lib/jvm/java-8-openjdk-amd64/bin/jsadebugd to provide /usr/bin/jsadebugd (jsadebugd) in auto mode\n",
            "update-alternatives: using /usr/lib/jvm/java-8-openjdk-amd64/bin/native2ascii to provide /usr/bin/native2ascii (native2ascii) in auto mode\n",
            "update-alternatives: using /usr/lib/jvm/java-8-openjdk-amd64/bin/javah to provide /usr/bin/javah (javah) in auto mode\n",
            "update-alternatives: using /usr/lib/jvm/java-8-openjdk-amd64/bin/clhsdb to provide /usr/bin/clhsdb (clhsdb) in auto mode\n",
            "update-alternatives: using /usr/lib/jvm/java-8-openjdk-amd64/bin/xjc to provide /usr/bin/xjc (xjc) in auto mode\n",
            "update-alternatives: using /usr/lib/jvm/java-8-openjdk-amd64/bin/hsdb to provide /usr/bin/hsdb (hsdb) in auto mode\n",
            "update-alternatives: using /usr/lib/jvm/java-8-openjdk-amd64/bin/schemagen to provide /usr/bin/schemagen (schemagen) in auto mode\n",
            "update-alternatives: using /usr/lib/jvm/java-8-openjdk-amd64/bin/extcheck to provide /usr/bin/extcheck (extcheck) in auto mode\n",
            "update-alternatives: using /usr/lib/jvm/java-8-openjdk-amd64/bin/jhat to provide /usr/bin/jhat (jhat) in auto mode\n",
            "update-alternatives: using /usr/lib/jvm/java-8-openjdk-amd64/bin/wsgen to provide /usr/bin/wsgen (wsgen) in auto mode\n"
          ]
        }
      ]
    },
    {
      "cell_type": "code",
      "source": [
        "from pydrive.auth import GoogleAuth\n",
        "from pydrive.drive import GoogleDrive\n",
        "from google.colab import auth\n",
        "from oauth2client.client import GoogleCredentials\n",
        "from pyspark.sql import *\n",
        "from pyspark.sql.functions import *\n",
        "from pyspark import SparkContext"
      ],
      "metadata": {
        "id": "4iWK26f__qzm"
      },
      "execution_count": 2,
      "outputs": []
    },
    {
      "cell_type": "code",
      "source": [
        "import pandas as pd\n",
        "import numpy as np\n",
        "from google.colab import drive \n",
        "\n",
        "drive.mount('/content/gdrive')\n",
        "path_a_cast = 'gdrive/MyDrive/Parquets/cast.parquet'\n",
        "path_a_companies = 'gdrive/MyDrive/Parquets/companies.parquet'\n",
        "path_a_crew = 'gdrive/MyDrive/Parquets/crew.parquet'\n",
        "path_a_actores = 'gdrive/MyDrive/Parquets/imdb_actors.parquet'\n",
        "path_a_keywords = 'gdrive/MyDrive/Parquets/keywords.parquet'\n",
        "path_a_links = 'gdrive/MyDrive/Parquets/links.parquet'\n",
        "path_a_movies = 'gdrive/MyDrive/Parquets/movies.parquet'\n",
        "path_a_ratings = 'gdrive/MyDrive/Parquets/ratings.parquet'\n"
      ],
      "metadata": {
        "id": "oyhKUOHY-3cc",
        "outputId": "b2d4ccba-d802-4d62-ca6d-40e6dfa83354",
        "colab": {
          "base_uri": "https://localhost:8080/"
        }
      },
      "execution_count": 3,
      "outputs": [
        {
          "output_type": "stream",
          "name": "stdout",
          "text": [
            "Mounted at /content/gdrive\n"
          ]
        }
      ]
    },
    {
      "cell_type": "code",
      "source": [
        "spark = SparkSession.builder.getOrCreate()\n",
        "\n",
        "sc = spark.sparkContext\n",
        "sqlContext = SQLContext(sc)\n"
      ],
      "metadata": {
        "id": "JgmDjjboBFGW",
        "outputId": "49658b19-235b-4438-c6ce-1f622ef2cbe6",
        "colab": {
          "base_uri": "https://localhost:8080/"
        }
      },
      "execution_count": 18,
      "outputs": [
        {
          "output_type": "stream",
          "name": "stderr",
          "text": [
            "/usr/local/lib/python3.7/dist-packages/pyspark/sql/context.py:114: FutureWarning: Deprecated in 3.0.0. Use SparkSession.builder.getOrCreate() instead.\n",
            "  FutureWarning,\n"
          ]
        }
      ]
    },
    {
      "cell_type": "markdown",
      "source": [
        "## S7"
      ],
      "metadata": {
        "id": "r12T12xjJOI1"
      }
    },
    {
      "cell_type": "markdown",
      "source": [
        "¿Cuál fue el año más mortal para los actores y actrices?"
      ],
      "metadata": {
        "id": "CinntXw9KEdP"
      }
    },
    {
      "cell_type": "code",
      "source": [
        "AÑO_FALLECIMIENTO = 3\n",
        "CONTEO_MUERTES = 1\n",
        "rdd_actores = sqlContext.read.parquet(path_a_actores).rdd\n",
        "rdd_actores.take(5)"
      ],
      "metadata": {
        "id": "zpLGzJ7KKFjC",
        "outputId": "cd07574a-1b08-4fa4-c263-9020d6abe98b",
        "colab": {
          "base_uri": "https://localhost:8080/"
        }
      },
      "execution_count": 123,
      "outputs": [
        {
          "output_type": "execute_result",
          "data": {
            "text/plain": [
              "[Row(nconst='nm0000001', primaryName='Fred Astaire', birthYear='1899', deathYear='1987', primaryProfession='soundtrack,actor,miscellaneous', knownForTitles='tt0053137,tt0050419,tt0031983,tt0072308'),\n",
              " Row(nconst='nm0000002', primaryName='Lauren Bacall', birthYear='1924', deathYear='2014', primaryProfession='actress,soundtrack', knownForTitles='tt0117057,tt0037382,tt0071877,tt0038355'),\n",
              " Row(nconst='nm0000003', primaryName='Brigitte Bardot', birthYear='1934', deathYear='\\\\N', primaryProfession='actress,soundtrack,music_department', knownForTitles='tt0054452,tt0049189,tt0056404,tt0057345'),\n",
              " Row(nconst='nm0000004', primaryName='John Belushi', birthYear='1949', deathYear='1982', primaryProfession='actor,soundtrack,writer', knownForTitles='tt0072562,tt0080455,tt0077975,tt0078723'),\n",
              " Row(nconst='nm0000005', primaryName='Ingmar Bergman', birthYear='1918', deathYear='2007', primaryProfession='writer,director,actor', knownForTitles='tt0083922,tt0050976,tt0050986,tt0060827')]"
            ]
          },
          "metadata": {},
          "execution_count": 123
        }
      ]
    },
    {
      "cell_type": "code",
      "source": [
        "rdd_años_de_fallecimiento = rdd_actores.map(lambda row: row[AÑO_FALLECIMIENTO])\n",
        "rdd_años_de_fallecimiento.first()"
      ],
      "metadata": {
        "id": "OF3sQpHCKhZK",
        "outputId": "fd637424-91ba-4a1a-95bc-4f2b45dcb7ea",
        "colab": {
          "base_uri": "https://localhost:8080/",
          "height": 35
        }
      },
      "execution_count": 124,
      "outputs": [
        {
          "output_type": "execute_result",
          "data": {
            "text/plain": [
              "'1987'"
            ],
            "application/vnd.google.colaboratory.intrinsic+json": {
              "type": "string"
            }
          },
          "metadata": {},
          "execution_count": 124
        }
      ]
    },
    {
      "cell_type": "code",
      "source": [
        "rdd_años_de_fallecimiento = rdd_años_de_fallecimiento.filter(str.isnumeric)\n",
        "rdd_años_de_fallecimiento = rdd_años_de_fallecimiento.map(int)\n",
        "dict_con_conteo = dict(rdd_años_de_fallecimiento.countByValue())\n",
        "año_mas_mortal = sorted([[llave, dict_con_conteo[llave]] for llave in dict_con_conteo], \n",
        "                        key = lambda año_y_conteo: año_y_conteo[CONTEO_MUERTES])[-1]\n",
        "print(año_mas_mortal)"
      ],
      "metadata": {
        "id": "cNA6sFNCQFss",
        "outputId": "dc0a2ee5-3343-4ba7-8f6c-7b30b10bf6bd",
        "colab": {
          "base_uri": "https://localhost:8080/"
        }
      },
      "execution_count": 125,
      "outputs": [
        {
          "output_type": "stream",
          "name": "stdout",
          "text": [
            "[2021, 3409]\n"
          ]
        }
      ]
    },
    {
      "cell_type": "markdown",
      "source": [
        "## S23"
      ],
      "metadata": {
        "id": "STJlS-6oJQvs"
      }
    },
    {
      "cell_type": "code",
      "source": [
        "rdd_actores = sqlContext.read.parquet(path_a_actores).rdd\n",
        "rdd_actores.take(5)"
      ],
      "metadata": {
        "id": "CvPDXlQDbbEq"
      },
      "execution_count": null,
      "outputs": []
    },
    {
      "cell_type": "markdown",
      "source": [
        "## S25"
      ],
      "metadata": {
        "id": "idpUOygPJSpY"
      }
    },
    {
      "cell_type": "markdown",
      "source": [
        "## S11"
      ],
      "metadata": {
        "id": "D33Jf0ckJVny"
      }
    },
    {
      "cell_type": "markdown",
      "source": [
        " Según los cinéfilos, ¿cuál es el rating promedio de las 5 películas más populares? Un usuario es cinéfilo cuando puntuó más de 50 películas y todas las puntuaciones son de más de 2.5 estrellas. Indicar id, título, popularidad y rating promedio de la película."
      ],
      "metadata": {
        "id": "1IYb8qGybnLf"
      }
    },
    {
      "cell_type": "code",
      "source": [
        "rdd_ratings = sqlContext.read.parquet(path_a_ratings).rdd\n",
        "rdd_movies = sqlContext.read.parquet(path_a_movies).rdd"
      ],
      "metadata": {
        "id": "XWcAY96vbmHj"
      },
      "execution_count": 112,
      "outputs": []
    },
    {
      "cell_type": "code",
      "source": [
        "rdd_ratings_key_value = rdd_ratings.map(lambda row: (row[0], [row[1], row[2]]))"
      ],
      "metadata": {
        "id": "YT9XKFj4dB4x"
      },
      "execution_count": 113,
      "outputs": []
    },
    {
      "cell_type": "code",
      "source": [
        "get_mean_rating = lambda user_iterator: np.mean(np.array(list(user_iterator))[:,1])\n",
        "user_mean_rating_and_total_ratings = lambda user, user_iterator: (user, [get_mean_rating(user_iterator), len(user_iterator)])\n",
        "rdd_ratings_grouped_per_user = rdd_ratings_key_value.groupByKey().map(lambda row: user_mean_rating_and_total_ratings(row[0], row[1]))"
      ],
      "metadata": {
        "id": "gjZog2l9hiVo"
      },
      "execution_count": 114,
      "outputs": []
    },
    {
      "cell_type": "code",
      "source": [
        "rdd_cinefilos = rdd_ratings_grouped_per_user.filter(lambda user: user[1] > 2.5 and user[2]).map(lambda user: (user[0], ''))\n",
        "rdd_ratings_key_value_cinefilos = rdd_ratings_key_value.join(rdd_cinefilos).map(lambda x: (x[0],x[1][0]))"
      ],
      "metadata": {
        "id": "YPPaS6Zbk01D"
      },
      "execution_count": 159,
      "outputs": []
    },
    {
      "cell_type": "code",
      "source": [
        "rdd_ratings_key_value_cinefilos.take(1)"
      ],
      "metadata": {
        "id": "5aHwMA_-LKOn",
        "outputId": "1574e4be-e9b3-461a-f6f3-52847811a30d",
        "colab": {
          "base_uri": "https://localhost:8080/"
        }
      },
      "execution_count": 140,
      "outputs": [
        {
          "output_type": "execute_result",
          "data": {
            "text/plain": [
              "[(8020, [168, 4.0])]"
            ]
          },
          "metadata": {},
          "execution_count": 140
        }
      ]
    },
    {
      "cell_type": "code",
      "source": [
        "popularity = 10\n",
        "rdd_top_5_most_popular_movies = rdd_movies.filter(lambda row: row[10])\n",
        "rdd_top_5_most_popular_movies = rdd_top_5_most_popular_movies.takeOrdered(5, key = lambda row: -row[popularity])"
      ],
      "metadata": {
        "id": "3bu9Q3sbRYCy"
      },
      "execution_count": 153,
      "outputs": []
    },
    {
      "cell_type": "code",
      "source": [
        "rdd_top_5_most_popular_movies[0][10]"
      ],
      "metadata": {
        "id": "3nCFJzQ3VjKD",
        "outputId": "be9e1e62-0a8a-4c6d-d27e-96f780c009d1",
        "colab": {
          "base_uri": "https://localhost:8080/"
        }
      },
      "execution_count": 158,
      "outputs": [
        {
          "output_type": "execute_result",
          "data": {
            "text/plain": [
              "547.488298"
            ]
          },
          "metadata": {},
          "execution_count": 158
        }
      ]
    },
    {
      "cell_type": "markdown",
      "source": [
        "## S34"
      ],
      "metadata": {
        "id": "U4FuxncgJYJc"
      }
    }
  ]
}