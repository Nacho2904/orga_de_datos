{
  "nbformat": 4,
  "nbformat_minor": 0,
  "metadata": {
    "colab": {
      "provenance": [],
      "authorship_tag": "ABX9TyPH6RvU9vsr+xEveLEf8+i0",
      "include_colab_link": true
    },
    "kernelspec": {
      "name": "python3",
      "display_name": "Python 3"
    },
    "language_info": {
      "name": "python"
    }
  },
  "cells": [
    {
      "cell_type": "markdown",
      "metadata": {
        "id": "view-in-github",
        "colab_type": "text"
      },
      "source": [
        "<a href=\"https://colab.research.google.com/github/Nacho2904/orga_de_datos/blob/main/tp_2.ipynb\" target=\"_parent\"><img src=\"https://colab.research.google.com/assets/colab-badge.svg\" alt=\"Open In Colab\"/></a>"
      ]
    },
    {
      "cell_type": "markdown",
      "source": [
        "# Trabajo Práctico II: Spark"
      ],
      "metadata": {
        "id": "P8wdN12C-OAp"
      }
    },
    {
      "cell_type": "markdown",
      "source": [
        "## Setup"
      ],
      "metadata": {
        "id": "iVqf005c-1N6"
      }
    },
    {
      "cell_type": "code",
      "source": [
        "!pip install pyspark\n",
        "!pip install -U -q PyDrive\n",
        "!apt install openjdk-8-jdk-headless -qq\n",
        "import os\n",
        "os.environ[\"JAVA_HOME\"] = \"/usr/lib/jvm/java-8-openjdk-amd64\""
      ],
      "metadata": {
        "id": "JxdG8VW1_gMT",
        "outputId": "c1509921-2190-461b-fb6f-8c1104421dc4",
        "colab": {
          "base_uri": "https://localhost:8080/"
        }
      },
      "execution_count": 1,
      "outputs": [
        {
          "output_type": "stream",
          "name": "stdout",
          "text": [
            "Looking in indexes: https://pypi.org/simple, https://us-python.pkg.dev/colab-wheels/public/simple/\n",
            "Collecting pyspark\n",
            "  Downloading pyspark-3.3.0.tar.gz (281.3 MB)\n",
            "\u001b[K     |████████████████████████████████| 281.3 MB 50 kB/s \n",
            "\u001b[?25hCollecting py4j==0.10.9.5\n",
            "  Downloading py4j-0.10.9.5-py2.py3-none-any.whl (199 kB)\n",
            "\u001b[K     |████████████████████████████████| 199 kB 51.4 MB/s \n",
            "\u001b[?25hBuilding wheels for collected packages: pyspark\n",
            "  Building wheel for pyspark (setup.py) ... \u001b[?25l\u001b[?25hdone\n",
            "  Created wheel for pyspark: filename=pyspark-3.3.0-py2.py3-none-any.whl size=281764026 sha256=a0c9eccd04320e480ef21880ed9c969565c3df7c19e27337574b85eefe7b2f76\n",
            "  Stored in directory: /root/.cache/pip/wheels/7a/8e/1b/f73a52650d2e5f337708d9f6a1750d451a7349a867f928b885\n",
            "Successfully built pyspark\n",
            "Installing collected packages: py4j, pyspark\n",
            "Successfully installed py4j-0.10.9.5 pyspark-3.3.0\n",
            "The following package was automatically installed and is no longer required:\n",
            "  libnvidia-common-460\n",
            "Use 'apt autoremove' to remove it.\n",
            "The following additional packages will be installed:\n",
            "  openjdk-8-jre-headless\n",
            "Suggested packages:\n",
            "  openjdk-8-demo openjdk-8-source libnss-mdns fonts-dejavu-extra\n",
            "  fonts-ipafont-gothic fonts-ipafont-mincho fonts-wqy-microhei\n",
            "  fonts-wqy-zenhei fonts-indic\n",
            "The following NEW packages will be installed:\n",
            "  openjdk-8-jdk-headless openjdk-8-jre-headless\n",
            "0 upgraded, 2 newly installed, 0 to remove and 12 not upgraded.\n",
            "Need to get 36.6 MB of archives.\n",
            "After this operation, 143 MB of additional disk space will be used.\n",
            "Selecting previously unselected package openjdk-8-jre-headless:amd64.\n",
            "(Reading database ... 123934 files and directories currently installed.)\n",
            "Preparing to unpack .../openjdk-8-jre-headless_8u342-b07-0ubuntu1~18.04_amd64.deb ...\n",
            "Unpacking openjdk-8-jre-headless:amd64 (8u342-b07-0ubuntu1~18.04) ...\n",
            "Selecting previously unselected package openjdk-8-jdk-headless:amd64.\n",
            "Preparing to unpack .../openjdk-8-jdk-headless_8u342-b07-0ubuntu1~18.04_amd64.deb ...\n",
            "Unpacking openjdk-8-jdk-headless:amd64 (8u342-b07-0ubuntu1~18.04) ...\n",
            "Setting up openjdk-8-jre-headless:amd64 (8u342-b07-0ubuntu1~18.04) ...\n",
            "update-alternatives: using /usr/lib/jvm/java-8-openjdk-amd64/jre/bin/orbd to provide /usr/bin/orbd (orbd) in auto mode\n",
            "update-alternatives: using /usr/lib/jvm/java-8-openjdk-amd64/jre/bin/servertool to provide /usr/bin/servertool (servertool) in auto mode\n",
            "update-alternatives: using /usr/lib/jvm/java-8-openjdk-amd64/jre/bin/tnameserv to provide /usr/bin/tnameserv (tnameserv) in auto mode\n",
            "Setting up openjdk-8-jdk-headless:amd64 (8u342-b07-0ubuntu1~18.04) ...\n",
            "update-alternatives: using /usr/lib/jvm/java-8-openjdk-amd64/bin/idlj to provide /usr/bin/idlj (idlj) in auto mode\n",
            "update-alternatives: using /usr/lib/jvm/java-8-openjdk-amd64/bin/wsimport to provide /usr/bin/wsimport (wsimport) in auto mode\n",
            "update-alternatives: using /usr/lib/jvm/java-8-openjdk-amd64/bin/jsadebugd to provide /usr/bin/jsadebugd (jsadebugd) in auto mode\n",
            "update-alternatives: using /usr/lib/jvm/java-8-openjdk-amd64/bin/native2ascii to provide /usr/bin/native2ascii (native2ascii) in auto mode\n",
            "update-alternatives: using /usr/lib/jvm/java-8-openjdk-amd64/bin/javah to provide /usr/bin/javah (javah) in auto mode\n",
            "update-alternatives: using /usr/lib/jvm/java-8-openjdk-amd64/bin/clhsdb to provide /usr/bin/clhsdb (clhsdb) in auto mode\n",
            "update-alternatives: using /usr/lib/jvm/java-8-openjdk-amd64/bin/xjc to provide /usr/bin/xjc (xjc) in auto mode\n",
            "update-alternatives: using /usr/lib/jvm/java-8-openjdk-amd64/bin/hsdb to provide /usr/bin/hsdb (hsdb) in auto mode\n",
            "update-alternatives: using /usr/lib/jvm/java-8-openjdk-amd64/bin/schemagen to provide /usr/bin/schemagen (schemagen) in auto mode\n",
            "update-alternatives: using /usr/lib/jvm/java-8-openjdk-amd64/bin/extcheck to provide /usr/bin/extcheck (extcheck) in auto mode\n",
            "update-alternatives: using /usr/lib/jvm/java-8-openjdk-amd64/bin/jhat to provide /usr/bin/jhat (jhat) in auto mode\n",
            "update-alternatives: using /usr/lib/jvm/java-8-openjdk-amd64/bin/wsgen to provide /usr/bin/wsgen (wsgen) in auto mode\n"
          ]
        }
      ]
    },
    {
      "cell_type": "code",
      "source": [
        "from pydrive.auth import GoogleAuth\n",
        "from pydrive.drive import GoogleDrive\n",
        "from google.colab import auth\n",
        "from oauth2client.client import GoogleCredentials\n",
        "from pyspark.sql import *\n",
        "from pyspark.sql.functions import *\n",
        "from pyspark import SparkContext"
      ],
      "metadata": {
        "id": "4iWK26f__qzm"
      },
      "execution_count": 2,
      "outputs": []
    },
    {
      "cell_type": "code",
      "source": [
        "import pandas as pd\n",
        "import numpy as np\n",
        "from google.colab import drive \n",
        "\n",
        "drive.mount('/content/gdrive')\n",
        "path_a_cast = 'gdrive/MyDrive/Parquets/cast.parquet'\n",
        "path_a_companies = 'gdrive/MyDrive/Parquets/companies.parquet'\n",
        "path_a_crew = 'gdrive/MyDrive/Parquets/crew.parquet'\n",
        "path_a_actores = 'gdrive/MyDrive/Parquets/imdb_actors.parquet'\n",
        "path_a_keywords = 'gdrive/MyDrive/Parquets/keywords.parquet'\n",
        "path_a_links = 'gdrive/MyDrive/Parquets/links.parquet'\n",
        "path_a_movies = 'gdrive/MyDrive/Parquets/movies.parquet'\n",
        "path_a_ratings = 'gdrive/MyDrive/Parquets/ratings.parquet'\n"
      ],
      "metadata": {
        "id": "oyhKUOHY-3cc",
        "outputId": "304627c6-6146-4252-9db8-b5f50e3ced60",
        "colab": {
          "base_uri": "https://localhost:8080/"
        }
      },
      "execution_count": 3,
      "outputs": [
        {
          "output_type": "stream",
          "name": "stdout",
          "text": [
            "Mounted at /content/gdrive\n"
          ]
        }
      ]
    },
    {
      "cell_type": "code",
      "source": [
        "spark = SparkSession.builder.getOrCreate()\n",
        "\n",
        "sc = spark.sparkContext\n",
        "sqlContext = SQLContext(sc)\n"
      ],
      "metadata": {
        "id": "JgmDjjboBFGW",
        "outputId": "e1979c0a-d402-4a4c-8352-1b27736ba5b9",
        "colab": {
          "base_uri": "https://localhost:8080/"
        }
      },
      "execution_count": 4,
      "outputs": [
        {
          "output_type": "stream",
          "name": "stderr",
          "text": [
            "/usr/local/lib/python3.7/dist-packages/pyspark/sql/context.py:114: FutureWarning: Deprecated in 3.0.0. Use SparkSession.builder.getOrCreate() instead.\n",
            "  FutureWarning,\n"
          ]
        }
      ]
    },
    {
      "cell_type": "markdown",
      "source": [
        "## S7"
      ],
      "metadata": {
        "id": "r12T12xjJOI1"
      }
    },
    {
      "cell_type": "markdown",
      "source": [
        "¿Cuál fue el año más mortal para los actores y actrices?"
      ],
      "metadata": {
        "id": "CinntXw9KEdP"
      }
    },
    {
      "cell_type": "code",
      "source": [
        "AÑO_FALLECIMIENTO = 3\n",
        "CONTEO_MUERTES = 1\n",
        "rdd_actores = sqlContext.read.parquet(path_a_actores).rdd"
      ],
      "metadata": {
        "id": "zpLGzJ7KKFjC"
      },
      "execution_count": null,
      "outputs": []
    },
    {
      "cell_type": "code",
      "source": [
        "rdd_años_de_fallecimiento = rdd_actores.map(lambda row: row[AÑO_FALLECIMIENTO])\n",
        "rdd_años_de_fallecimiento.first()"
      ],
      "metadata": {
        "id": "OF3sQpHCKhZK",
        "outputId": "4b2ea216-4019-4a71-8527-36ce258f22f9",
        "colab": {
          "base_uri": "https://localhost:8080/",
          "height": 35
        }
      },
      "execution_count": null,
      "outputs": [
        {
          "output_type": "execute_result",
          "data": {
            "text/plain": [
              "'1987'"
            ],
            "application/vnd.google.colaboratory.intrinsic+json": {
              "type": "string"
            }
          },
          "metadata": {},
          "execution_count": 9
        }
      ]
    },
    {
      "cell_type": "code",
      "source": [
        "rdd_años_de_fallecimiento = rdd_años_de_fallecimiento.filter(str.isnumeric)\n",
        "rdd_años_de_fallecimiento = rdd_años_de_fallecimiento.map(int)\n",
        "dict_con_conteo = dict(rdd_años_de_fallecimiento.countByValue())\n",
        "año_mas_mortal = sorted([[llave, dict_con_conteo[llave]] for llave in dict_con_conteo], \n",
        "                        key = lambda año_y_conteo: año_y_conteo[CONTEO_MUERTES])[-1]\n",
        "print(año_mas_mortal)"
      ],
      "metadata": {
        "id": "cNA6sFNCQFss",
        "outputId": "9da0e82b-c88f-4390-e0fa-e20d9af3ef8b",
        "colab": {
          "base_uri": "https://localhost:8080/"
        }
      },
      "execution_count": null,
      "outputs": [
        {
          "output_type": "stream",
          "name": "stdout",
          "text": [
            "[2021, 3409]\n"
          ]
        }
      ]
    },
    {
      "cell_type": "markdown",
      "source": [
        "## S23"
      ],
      "metadata": {
        "id": "STJlS-6oJQvs"
      }
    },
    {
      "cell_type": "markdown",
      "source": [
        "¿Cuál es el usuario más pesimista (menor rating promedio) para cada género de películas? Considere solo usuarios con más de 20 reviews"
      ],
      "metadata": {
        "id": "4EvdlM8mZxk6"
      }
    },
    {
      "cell_type": "code",
      "source": [
        "rdd_ratings = sqlContext.read.parquet(path_a_ratings).rdd\n",
        "rdd_ratings.take(5)"
      ],
      "metadata": {
        "id": "CvPDXlQDbbEq",
        "outputId": "d498b45f-42fd-4408-cd4c-df7ff6b6d8ee",
        "colab": {
          "base_uri": "https://localhost:8080/"
        }
      },
      "execution_count": null,
      "outputs": [
        {
          "output_type": "execute_result",
          "data": {
            "text/plain": [
              "[Row(userId=1, movieId=110, rating=1.0, timestamp=1425941529),\n",
              " Row(userId=1, movieId=147, rating=4.5, timestamp=1425942435),\n",
              " Row(userId=1, movieId=858, rating=5.0, timestamp=1425941523),\n",
              " Row(userId=1, movieId=1221, rating=5.0, timestamp=1425941546),\n",
              " Row(userId=1, movieId=1246, rating=5.0, timestamp=1425941556)]"
            ]
          },
          "metadata": {},
          "execution_count": 11
        }
      ]
    },
    {
      "cell_type": "code",
      "source": [
        "rdd_users_with_more_than_20_reviews = rdd_ratings.map(lambda rating: (rating[0], 1)).countByKey().filter(lambda user: user[1] > 20)"
      ],
      "metadata": {
        "id": "UxMz3u9KaFDR"
      },
      "execution_count": null,
      "outputs": []
    },
    {
      "cell_type": "code",
      "source": [
        "rdd_ratings_as_key_value = rdd_ratings.map(lambda rating: (rating[0], rating[1:]))\n",
        "rdd_ratings_filtered = rdd_ratings_as_key_value.join(rdd_users_with_more_than_20_reviews).map(\n",
        "    lambda row: (np.int64(row[1][0][0]), (row[0], row[1][0][1])))"
      ],
      "metadata": {
        "id": "OxT9uKbKepds"
      },
      "execution_count": null,
      "outputs": []
    },
    {
      "cell_type": "markdown",
      "source": [
        "movieId, (userId, rating)\n",
        "\n",
        "=> movieId, ((userId, rating), listOfGenres) \n",
        "\n",
        "=> userId, (rating, listOfGenres, 1)"
      ],
      "metadata": {
        "id": "TWZCxqHjmZOe"
      }
    },
    {
      "cell_type": "code",
      "source": [
        "rdd_movies = sqlContext.read.parquet(path_a_movies).rdd\n",
        "rdd_movies_id_and_genre = rdd_movies.map(lambda movie: (movie[5], movie[3])).filter(lambda row: row[1]).map(\n",
        "    lambda movie: (np.int64(movie[0]), movie[1].split(',')))\n",
        "rdd_ratings_filtered_with_genres = rdd_ratings_filtered.join(rdd_movies_id_and_genre)\n",
        "rdd_ratings_filtered_with_genres = rdd_ratings_filtered_with_genres.map(lambda row: (row[1][0][0], (row[1][0][1], row[1][1])))"
      ],
      "metadata": {
        "id": "IJ5AFyoHhmXk"
      },
      "execution_count": null,
      "outputs": []
    },
    {
      "cell_type": "markdown",
      "source": [
        "userId, (rating, listOfGenres)\n",
        "\n",
        "=> userId, (genresDict)\n",
        "\n",
        "genresDict <- {genre: [ratingsOfGenre] for genre in genres}"
      ],
      "metadata": {
        "id": "6tvdg6vXpmp3"
      }
    },
    {
      "cell_type": "code",
      "source": [
        "rdd_grouped_by_user = rdd_ratings_filtered_with_genres.groupByKey().map(lambda row: (row[0], list(row[1])))"
      ],
      "metadata": {
        "id": "6iMUvOYgoRTq"
      },
      "execution_count": null,
      "outputs": []
    },
    {
      "cell_type": "markdown",
      "source": [
        "acá en algún punto debería copiar y pegar la forma en la que saco todos los géneros"
      ],
      "metadata": {
        "id": "ar9QbOlZEYJW"
      }
    },
    {
      "cell_type": "code",
      "source": [
        "def get_mean_ratings_per_genre(ratings_and_genres):\n",
        "  all_genres = ['Action', 'Adventure', 'Animation', 'Comedy', 'Crime', 'Documentary', 'Drama',\n",
        "  'Family', 'Fantasy', 'Foreign', 'History', 'Horror', 'Music', 'Mystery', 'Romance', 'Science Fiction',\n",
        "   'TV Movie', 'Thriller', 'War', 'Western']\n",
        "\n",
        "  ratings = {genre: [] for genre in all_genres}\n",
        "  for (rating, genres) in ratings_and_genres:\n",
        "    for genre in genres:\n",
        "      ratings[genre].append(rating)\n",
        "  return {genre: np.sum(np.array(ratings[genre]))/len(ratings[genre]) if ratings[genre] else np.inf for genre in all_genres}\n",
        "\n",
        "rdd_grouped_by_user_mean_ratings = rdd_grouped_by_user.map(lambda user: (user[0], get_mean_ratings_per_genre(user[1])))"
      ],
      "metadata": {
        "id": "tHoAD3_xsZj6"
      },
      "execution_count": null,
      "outputs": []
    },
    {
      "cell_type": "code",
      "source": [
        "genres = ['Action', 'Adventure', 'Animation', 'Comedy', 'Crime', 'Documentary', 'Drama',\n",
        "  'Family', 'Fantasy', 'Foreign', 'History', 'Horror', 'Music', 'Mystery', 'Romance', 'Science Fiction',\n",
        "   'TV Movie', 'Thriller', 'War', 'Western']\n",
        "\n",
        "for genre in genres:\n",
        "  most_pesimistic_user = rdd_grouped_by_user_mean_ratings.reduce(\n",
        "      lambda user_1, user_2: user_1 if user_1[1][genre] < user_2[1][genre] else user_2)[0]\n",
        "  print(f\"El usuario más pesimista con películas de {genre} es {most_pesimistic_user}\")"
      ],
      "metadata": {
        "id": "k-v_OVSOC4RC",
        "outputId": "42e31a79-7f5b-47f5-a7a7-3ce7fb057dbd",
        "colab": {
          "base_uri": "https://localhost:8080/",
          "height": 521
        }
      },
      "execution_count": null,
      "outputs": [
        {
          "output_type": "stream",
          "name": "stderr",
          "text": [
            "ERROR:root:KeyboardInterrupt while sending command.\n",
            "Traceback (most recent call last):\n",
            "  File \"/usr/local/lib/python3.7/dist-packages/py4j/java_gateway.py\", line 1038, in send_command\n",
            "    response = connection.send_command(command)\n",
            "  File \"/usr/local/lib/python3.7/dist-packages/py4j/clientserver.py\", line 511, in send_command\n",
            "    answer = smart_decode(self.stream.readline()[:-1])\n",
            "  File \"/usr/lib/python3.7/socket.py\", line 589, in readinto\n",
            "    return self._sock.recv_into(b)\n",
            "KeyboardInterrupt\n"
          ]
        },
        {
          "output_type": "error",
          "ename": "KeyboardInterrupt",
          "evalue": "ignored",
          "traceback": [
            "\u001b[0;31m---------------------------------------------------------------------------\u001b[0m",
            "\u001b[0;31mKeyboardInterrupt\u001b[0m                         Traceback (most recent call last)",
            "\u001b[0;32m<ipython-input-97-cc8f5bdd3400>\u001b[0m in \u001b[0;36m<module>\u001b[0;34m\u001b[0m\n\u001b[1;32m      5\u001b[0m \u001b[0;32mfor\u001b[0m \u001b[0mgenre\u001b[0m \u001b[0;32min\u001b[0m \u001b[0mgenres\u001b[0m\u001b[0;34m:\u001b[0m\u001b[0;34m\u001b[0m\u001b[0;34m\u001b[0m\u001b[0m\n\u001b[1;32m      6\u001b[0m   most_pesimistic_user = rdd_grouped_by_user_mean_ratings.reduce(\n\u001b[0;32m----> 7\u001b[0;31m       lambda user_1, user_2: user_1 if user_1[1][genre] < user_2[1][genre] else user_2)[0]\n\u001b[0m\u001b[1;32m      8\u001b[0m   \u001b[0mprint\u001b[0m\u001b[0;34m(\u001b[0m\u001b[0;34mf\"El usuario más pesimista con películas de {genre} es {most_pesimistic_user}\"\u001b[0m\u001b[0;34m)\u001b[0m\u001b[0;34m\u001b[0m\u001b[0;34m\u001b[0m\u001b[0m\n",
            "\u001b[0;32m/usr/local/lib/python3.7/dist-packages/pyspark/rdd.py\u001b[0m in \u001b[0;36mreduce\u001b[0;34m(self, f)\u001b[0m\n\u001b[1;32m   1248\u001b[0m             \u001b[0;32myield\u001b[0m \u001b[0mreduce\u001b[0m\u001b[0;34m(\u001b[0m\u001b[0mf\u001b[0m\u001b[0;34m,\u001b[0m \u001b[0miterator\u001b[0m\u001b[0;34m,\u001b[0m \u001b[0minitial\u001b[0m\u001b[0;34m)\u001b[0m\u001b[0;34m\u001b[0m\u001b[0;34m\u001b[0m\u001b[0m\n\u001b[1;32m   1249\u001b[0m \u001b[0;34m\u001b[0m\u001b[0m\n\u001b[0;32m-> 1250\u001b[0;31m         \u001b[0mvals\u001b[0m \u001b[0;34m=\u001b[0m \u001b[0mself\u001b[0m\u001b[0;34m.\u001b[0m\u001b[0mmapPartitions\u001b[0m\u001b[0;34m(\u001b[0m\u001b[0mfunc\u001b[0m\u001b[0;34m)\u001b[0m\u001b[0;34m.\u001b[0m\u001b[0mcollect\u001b[0m\u001b[0;34m(\u001b[0m\u001b[0;34m)\u001b[0m\u001b[0;34m\u001b[0m\u001b[0;34m\u001b[0m\u001b[0m\n\u001b[0m\u001b[1;32m   1251\u001b[0m         \u001b[0;32mif\u001b[0m \u001b[0mvals\u001b[0m\u001b[0;34m:\u001b[0m\u001b[0;34m\u001b[0m\u001b[0;34m\u001b[0m\u001b[0m\n\u001b[1;32m   1252\u001b[0m             \u001b[0;32mreturn\u001b[0m \u001b[0mreduce\u001b[0m\u001b[0;34m(\u001b[0m\u001b[0mf\u001b[0m\u001b[0;34m,\u001b[0m \u001b[0mvals\u001b[0m\u001b[0;34m)\u001b[0m\u001b[0;34m\u001b[0m\u001b[0;34m\u001b[0m\u001b[0m\n",
            "\u001b[0;32m/usr/local/lib/python3.7/dist-packages/pyspark/rdd.py\u001b[0m in \u001b[0;36mcollect\u001b[0;34m(self)\u001b[0m\n\u001b[1;32m   1195\u001b[0m         \u001b[0;32mwith\u001b[0m \u001b[0mSCCallSiteSync\u001b[0m\u001b[0;34m(\u001b[0m\u001b[0mself\u001b[0m\u001b[0;34m.\u001b[0m\u001b[0mcontext\u001b[0m\u001b[0;34m)\u001b[0m\u001b[0;34m:\u001b[0m\u001b[0;34m\u001b[0m\u001b[0;34m\u001b[0m\u001b[0m\n\u001b[1;32m   1196\u001b[0m             \u001b[0;32massert\u001b[0m \u001b[0mself\u001b[0m\u001b[0;34m.\u001b[0m\u001b[0mctx\u001b[0m\u001b[0;34m.\u001b[0m\u001b[0m_jvm\u001b[0m \u001b[0;32mis\u001b[0m \u001b[0;32mnot\u001b[0m \u001b[0;32mNone\u001b[0m\u001b[0;34m\u001b[0m\u001b[0;34m\u001b[0m\u001b[0m\n\u001b[0;32m-> 1197\u001b[0;31m             \u001b[0msock_info\u001b[0m \u001b[0;34m=\u001b[0m \u001b[0mself\u001b[0m\u001b[0;34m.\u001b[0m\u001b[0mctx\u001b[0m\u001b[0;34m.\u001b[0m\u001b[0m_jvm\u001b[0m\u001b[0;34m.\u001b[0m\u001b[0mPythonRDD\u001b[0m\u001b[0;34m.\u001b[0m\u001b[0mcollectAndServe\u001b[0m\u001b[0;34m(\u001b[0m\u001b[0mself\u001b[0m\u001b[0;34m.\u001b[0m\u001b[0m_jrdd\u001b[0m\u001b[0;34m.\u001b[0m\u001b[0mrdd\u001b[0m\u001b[0;34m(\u001b[0m\u001b[0;34m)\u001b[0m\u001b[0;34m)\u001b[0m\u001b[0;34m\u001b[0m\u001b[0;34m\u001b[0m\u001b[0m\n\u001b[0m\u001b[1;32m   1198\u001b[0m         \u001b[0;32mreturn\u001b[0m \u001b[0mlist\u001b[0m\u001b[0;34m(\u001b[0m\u001b[0m_load_from_socket\u001b[0m\u001b[0;34m(\u001b[0m\u001b[0msock_info\u001b[0m\u001b[0;34m,\u001b[0m \u001b[0mself\u001b[0m\u001b[0;34m.\u001b[0m\u001b[0m_jrdd_deserializer\u001b[0m\u001b[0;34m)\u001b[0m\u001b[0;34m)\u001b[0m\u001b[0;34m\u001b[0m\u001b[0;34m\u001b[0m\u001b[0m\n\u001b[1;32m   1199\u001b[0m \u001b[0;34m\u001b[0m\u001b[0m\n",
            "\u001b[0;32m/usr/local/lib/python3.7/dist-packages/py4j/java_gateway.py\u001b[0m in \u001b[0;36m__call__\u001b[0;34m(self, *args)\u001b[0m\n\u001b[1;32m   1318\u001b[0m             \u001b[0mproto\u001b[0m\u001b[0;34m.\u001b[0m\u001b[0mEND_COMMAND_PART\u001b[0m\u001b[0;34m\u001b[0m\u001b[0;34m\u001b[0m\u001b[0m\n\u001b[1;32m   1319\u001b[0m \u001b[0;34m\u001b[0m\u001b[0m\n\u001b[0;32m-> 1320\u001b[0;31m         \u001b[0manswer\u001b[0m \u001b[0;34m=\u001b[0m \u001b[0mself\u001b[0m\u001b[0;34m.\u001b[0m\u001b[0mgateway_client\u001b[0m\u001b[0;34m.\u001b[0m\u001b[0msend_command\u001b[0m\u001b[0;34m(\u001b[0m\u001b[0mcommand\u001b[0m\u001b[0;34m)\u001b[0m\u001b[0;34m\u001b[0m\u001b[0;34m\u001b[0m\u001b[0m\n\u001b[0m\u001b[1;32m   1321\u001b[0m         return_value = get_return_value(\n\u001b[1;32m   1322\u001b[0m             answer, self.gateway_client, self.target_id, self.name)\n",
            "\u001b[0;32m/usr/local/lib/python3.7/dist-packages/py4j/java_gateway.py\u001b[0m in \u001b[0;36msend_command\u001b[0;34m(self, command, retry, binary)\u001b[0m\n\u001b[1;32m   1036\u001b[0m         \u001b[0mconnection\u001b[0m \u001b[0;34m=\u001b[0m \u001b[0mself\u001b[0m\u001b[0;34m.\u001b[0m\u001b[0m_get_connection\u001b[0m\u001b[0;34m(\u001b[0m\u001b[0;34m)\u001b[0m\u001b[0;34m\u001b[0m\u001b[0;34m\u001b[0m\u001b[0m\n\u001b[1;32m   1037\u001b[0m         \u001b[0;32mtry\u001b[0m\u001b[0;34m:\u001b[0m\u001b[0;34m\u001b[0m\u001b[0;34m\u001b[0m\u001b[0m\n\u001b[0;32m-> 1038\u001b[0;31m             \u001b[0mresponse\u001b[0m \u001b[0;34m=\u001b[0m \u001b[0mconnection\u001b[0m\u001b[0;34m.\u001b[0m\u001b[0msend_command\u001b[0m\u001b[0;34m(\u001b[0m\u001b[0mcommand\u001b[0m\u001b[0;34m)\u001b[0m\u001b[0;34m\u001b[0m\u001b[0;34m\u001b[0m\u001b[0m\n\u001b[0m\u001b[1;32m   1039\u001b[0m             \u001b[0;32mif\u001b[0m \u001b[0mbinary\u001b[0m\u001b[0;34m:\u001b[0m\u001b[0;34m\u001b[0m\u001b[0;34m\u001b[0m\u001b[0m\n\u001b[1;32m   1040\u001b[0m                 \u001b[0;32mreturn\u001b[0m \u001b[0mresponse\u001b[0m\u001b[0;34m,\u001b[0m \u001b[0mself\u001b[0m\u001b[0;34m.\u001b[0m\u001b[0m_create_connection_guard\u001b[0m\u001b[0;34m(\u001b[0m\u001b[0mconnection\u001b[0m\u001b[0;34m)\u001b[0m\u001b[0;34m\u001b[0m\u001b[0;34m\u001b[0m\u001b[0m\n",
            "\u001b[0;32m/usr/local/lib/python3.7/dist-packages/py4j/clientserver.py\u001b[0m in \u001b[0;36msend_command\u001b[0;34m(self, command)\u001b[0m\n\u001b[1;32m    509\u001b[0m         \u001b[0;32mtry\u001b[0m\u001b[0;34m:\u001b[0m\u001b[0;34m\u001b[0m\u001b[0;34m\u001b[0m\u001b[0m\n\u001b[1;32m    510\u001b[0m             \u001b[0;32mwhile\u001b[0m \u001b[0;32mTrue\u001b[0m\u001b[0;34m:\u001b[0m\u001b[0;34m\u001b[0m\u001b[0;34m\u001b[0m\u001b[0m\n\u001b[0;32m--> 511\u001b[0;31m                 \u001b[0manswer\u001b[0m \u001b[0;34m=\u001b[0m \u001b[0msmart_decode\u001b[0m\u001b[0;34m(\u001b[0m\u001b[0mself\u001b[0m\u001b[0;34m.\u001b[0m\u001b[0mstream\u001b[0m\u001b[0;34m.\u001b[0m\u001b[0mreadline\u001b[0m\u001b[0;34m(\u001b[0m\u001b[0;34m)\u001b[0m\u001b[0;34m[\u001b[0m\u001b[0;34m:\u001b[0m\u001b[0;34m-\u001b[0m\u001b[0;36m1\u001b[0m\u001b[0;34m]\u001b[0m\u001b[0;34m)\u001b[0m\u001b[0;34m\u001b[0m\u001b[0;34m\u001b[0m\u001b[0m\n\u001b[0m\u001b[1;32m    512\u001b[0m                 \u001b[0mlogger\u001b[0m\u001b[0;34m.\u001b[0m\u001b[0mdebug\u001b[0m\u001b[0;34m(\u001b[0m\u001b[0;34m\"Answer received: {0}\"\u001b[0m\u001b[0;34m.\u001b[0m\u001b[0mformat\u001b[0m\u001b[0;34m(\u001b[0m\u001b[0manswer\u001b[0m\u001b[0;34m)\u001b[0m\u001b[0;34m)\u001b[0m\u001b[0;34m\u001b[0m\u001b[0;34m\u001b[0m\u001b[0m\n\u001b[1;32m    513\u001b[0m                 \u001b[0;31m# Happens when a the other end is dead. There might be an empty\u001b[0m\u001b[0;34m\u001b[0m\u001b[0;34m\u001b[0m\u001b[0;34m\u001b[0m\u001b[0m\n",
            "\u001b[0;32m/usr/lib/python3.7/socket.py\u001b[0m in \u001b[0;36mreadinto\u001b[0;34m(self, b)\u001b[0m\n\u001b[1;32m    587\u001b[0m         \u001b[0;32mwhile\u001b[0m \u001b[0;32mTrue\u001b[0m\u001b[0;34m:\u001b[0m\u001b[0;34m\u001b[0m\u001b[0;34m\u001b[0m\u001b[0m\n\u001b[1;32m    588\u001b[0m             \u001b[0;32mtry\u001b[0m\u001b[0;34m:\u001b[0m\u001b[0;34m\u001b[0m\u001b[0;34m\u001b[0m\u001b[0m\n\u001b[0;32m--> 589\u001b[0;31m                 \u001b[0;32mreturn\u001b[0m \u001b[0mself\u001b[0m\u001b[0;34m.\u001b[0m\u001b[0m_sock\u001b[0m\u001b[0;34m.\u001b[0m\u001b[0mrecv_into\u001b[0m\u001b[0;34m(\u001b[0m\u001b[0mb\u001b[0m\u001b[0;34m)\u001b[0m\u001b[0;34m\u001b[0m\u001b[0;34m\u001b[0m\u001b[0m\n\u001b[0m\u001b[1;32m    590\u001b[0m             \u001b[0;32mexcept\u001b[0m \u001b[0mtimeout\u001b[0m\u001b[0;34m:\u001b[0m\u001b[0;34m\u001b[0m\u001b[0;34m\u001b[0m\u001b[0m\n\u001b[1;32m    591\u001b[0m                 \u001b[0mself\u001b[0m\u001b[0;34m.\u001b[0m\u001b[0m_timeout_occurred\u001b[0m \u001b[0;34m=\u001b[0m \u001b[0;32mTrue\u001b[0m\u001b[0;34m\u001b[0m\u001b[0;34m\u001b[0m\u001b[0m\n",
            "\u001b[0;31mKeyboardInterrupt\u001b[0m: "
          ]
        }
      ]
    },
    {
      "cell_type": "code",
      "source": [
        "\"\"\"\n",
        "dejo los resultados acá para no tener que correrlo de vuelta\n",
        "El usuario más pesimista con películas de Action es 232007\n",
        "El usuario más pesimista con películas de Adventure es 232007\n",
        "El usuario más pesimista con películas de Animation es 158483\n",
        "El usuario más pesimista con películas de Comedy es 232007\n",
        "El usuario más pesimista con películas de Crime es 252245\n",
        "El usuario más pesimista con películas de Documentary es 219341\n",
        "El usuario más pesimista con películas de Drama es 76193\n",
        "El usuario más pesimista con películas de Family es 179759\n",
        "El usuario más pesimista con películas de Fantasy es 205283\n",
        "El usuario más pesimista con películas de Foreign es 23789\n",
        "El usuario más pesimista con películas de History es 154619\n",
        "El usuario más pesimista con películas de Horror es 205283\n",
        "El usuario más pesimista con películas de Music es 93275\n",
        "El usuario más pesimista con películas de Mystery es 222785\n",
        "El usuario más pesimista con películas de Romance es 93275\n",
        "El usuario más pesimista con películas de Science Fiction es 76193\n",
        "El usuario más pesimista con películas de TV Movie es 21071\n",
        "El usuario más pesimista con películas de Thriller es 76193\n",
        "El usuario más pesimista con películas de War es 191147\n",
        "El usuario más pesimista con películas de Western es 154247\n",
        "\"\"\""
      ],
      "metadata": {
        "id": "q7-yXsEANbjX"
      },
      "execution_count": null,
      "outputs": []
    },
    {
      "cell_type": "markdown",
      "source": [
        "## S25"
      ],
      "metadata": {
        "id": "idpUOygPJSpY"
      }
    },
    {
      "cell_type": "markdown",
      "source": [
        "¿Cuál es el percentil 95 de la popularidad?"
      ],
      "metadata": {
        "id": "tdZkbPh1vVoC"
      }
    },
    {
      "cell_type": "code",
      "source": [
        "POPULARITY = 10\n",
        "rdd_movies = sqlContext.read.parquet(path_a_movies).rdd\n",
        "\n",
        "rdd_popularities = rdd_movies.map(lambda row: row[POPULARITY]).filter(lambda row: row)\n",
        "number_of_movies = rdd_popularities.count()\n",
        "top_5_per_cent = rdd_popularities.takeOrdered(int(number_of_movies*0.05), key = lambda x: -x)\n",
        "percentile_95th = top_5_per_cent[-1]\n",
        "print(percentile_95th)"
      ],
      "metadata": {
        "id": "ocSdSmVDvXGn",
        "outputId": "1e1ac3ca-f7cb-4cea-9635-fb2345440191",
        "colab": {
          "base_uri": "https://localhost:8080/"
        }
      },
      "execution_count": 29,
      "outputs": [
        {
          "output_type": "stream",
          "name": "stdout",
          "text": [
            "11.063822\n"
          ]
        }
      ]
    },
    {
      "cell_type": "markdown",
      "source": [
        "## S11"
      ],
      "metadata": {
        "id": "D33Jf0ckJVny"
      }
    },
    {
      "cell_type": "markdown",
      "source": [
        " Según los cinéfilos, ¿cuál es el rating promedio de las 5 películas más populares? Un usuario es cinéfilo cuando puntuó más de 50 películas y todas las puntuaciones son de más de 2.5 estrellas. Indicar id, título, popularidad y rating promedio de la película."
      ],
      "metadata": {
        "id": "1IYb8qGybnLf"
      }
    },
    {
      "cell_type": "code",
      "source": [
        "rdd_ratings = sqlContext.read.parquet(path_a_ratings).rdd\n",
        "rdd_movies = sqlContext.read.parquet(path_a_movies).rdd"
      ],
      "metadata": {
        "id": "XWcAY96vbmHj"
      },
      "execution_count": null,
      "outputs": []
    },
    {
      "cell_type": "code",
      "source": [
        "rdd_ratings_key_value = rdd_ratings.map(lambda row: (row[0], [row[1], row[2]]))"
      ],
      "metadata": {
        "id": "YT9XKFj4dB4x"
      },
      "execution_count": null,
      "outputs": []
    },
    {
      "cell_type": "code",
      "source": [
        "user_has_no_ratings_below = lambda user, threshold: all([rating[1] > threshold for rating in user[1]]) \n",
        "user_has_more_than_25_ratings = lambda user: len(user[1]) > 25\n",
        "rdd_ratings_grouped_per_user = rdd_ratings_key_value.groupByKey().map(lambda row: (row[0], list(row[1])))\n",
        "rdd_usuarios_cinefilos = rdd_ratings_grouped_per_user.filter(lambda user: user_has_no_ratings_below(user, 2.5) and \n",
        "                                                         user_has_more_than_25_ratings(user)).map(lambda user: user[0])"
      ],
      "metadata": {
        "id": "gjZog2l9hiVo"
      },
      "execution_count": null,
      "outputs": []
    },
    {
      "cell_type": "code",
      "source": [
        "rdd_ratings_key_value_cinefilos = rdd_ratings_key_value.join(rdd_usuarios_cinefilos)"
      ],
      "metadata": {
        "id": "YPPaS6Zbk01D"
      },
      "execution_count": null,
      "outputs": []
    },
    {
      "cell_type": "code",
      "source": [
        "rdd_ratings_key_value_cinefilos.take(1)"
      ],
      "metadata": {
        "id": "5aHwMA_-LKOn",
        "outputId": "1574e4be-e9b3-461a-f6f3-52847811a30d",
        "colab": {
          "base_uri": "https://localhost:8080/"
        }
      },
      "execution_count": null,
      "outputs": [
        {
          "output_type": "execute_result",
          "data": {
            "text/plain": [
              "[(8020, [168, 4.0])]"
            ]
          },
          "metadata": {},
          "execution_count": 140
        }
      ]
    },
    {
      "cell_type": "code",
      "source": [
        "popularity = 10\n",
        "rdd_top_5_most_popular_movies = rdd_movies.filter(lambda row: row[10])\n",
        "rdd_top_5_most_popular_movies = rdd_top_5_most_popular_movies.takeOrdered(5, key = lambda row: -row[popularity])"
      ],
      "metadata": {
        "id": "3bu9Q3sbRYCy"
      },
      "execution_count": null,
      "outputs": []
    },
    {
      "cell_type": "code",
      "source": [
        "rdd_top_5_most_popular_movies[0][10]"
      ],
      "metadata": {
        "id": "3nCFJzQ3VjKD",
        "outputId": "be9e1e62-0a8a-4c6d-d27e-96f780c009d1",
        "colab": {
          "base_uri": "https://localhost:8080/"
        }
      },
      "execution_count": null,
      "outputs": [
        {
          "output_type": "execute_result",
          "data": {
            "text/plain": [
              "547.488298"
            ]
          },
          "metadata": {},
          "execution_count": 158
        }
      ]
    },
    {
      "cell_type": "markdown",
      "source": [
        "## S34"
      ],
      "metadata": {
        "id": "U4FuxncgJYJc"
      }
    },
    {
      "cell_type": "markdown",
      "source": [
        " ¿Cuál es la probabilidad de que una película de un género en particular tenga una calificación promedio mayor a 3 (utilizando la tabla de ratings)? Obtenga las probabilidades de cada género posible."
      ],
      "metadata": {
        "id": "9Z25AK4D1CD6"
      }
    },
    {
      "cell_type": "code",
      "source": [
        "rdd_ratings = sqlContext.read.parquet(path_a_ratings).rdd.cache()\n",
        "rdd_movies = sqlContext.read.parquet(path_a_movies).rdd"
      ],
      "metadata": {
        "id": "I4BBn6VK9PHD"
      },
      "execution_count": 30,
      "outputs": []
    },
    {
      "cell_type": "code",
      "source": [
        "rdd_movies_genres = rdd_movies.map(lambda row: set(row[3].split(',')) if row[3] else {})\n",
        "genres = rdd_movies_genres.reduce(lambda genres_1, genres_2: genres_1.union(genres_2))\n",
        "genres"
      ],
      "metadata": {
        "id": "Mhvv-XE99eCN",
        "outputId": "70a3e976-e0ab-4ab8-eb98-48d756c6074b",
        "colab": {
          "base_uri": "https://localhost:8080/"
        }
      },
      "execution_count": 51,
      "outputs": [
        {
          "output_type": "execute_result",
          "data": {
            "text/plain": [
              "{'Action',\n",
              " 'Adventure',\n",
              " 'Animation',\n",
              " 'Comedy',\n",
              " 'Crime',\n",
              " 'Documentary',\n",
              " 'Drama',\n",
              " 'Family',\n",
              " 'Fantasy',\n",
              " 'Foreign',\n",
              " 'History',\n",
              " 'Horror',\n",
              " 'Music',\n",
              " 'Mystery',\n",
              " 'Romance',\n",
              " 'Science Fiction',\n",
              " 'TV Movie',\n",
              " 'Thriller',\n",
              " 'War',\n",
              " 'Western'}"
            ]
          },
          "metadata": {},
          "execution_count": 51
        }
      ]
    }
  ]
}