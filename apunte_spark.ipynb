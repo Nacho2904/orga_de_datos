{
  "nbformat": 4,
  "nbformat_minor": 0,
  "metadata": {
    "colab": {
      "provenance": [],
      "authorship_tag": "ABX9TyNwdMCcjg0jzwJBl0sM3yiy",
      "include_colab_link": true
    },
    "kernelspec": {
      "name": "python3",
      "display_name": "Python 3"
    },
    "language_info": {
      "name": "python"
    }
  },
  "cells": [
    {
      "cell_type": "markdown",
      "metadata": {
        "id": "view-in-github",
        "colab_type": "text"
      },
      "source": [
        "<a href=\"https://colab.research.google.com/github/Nacho2904/orga_de_datos/blob/main/apunte_spark.ipynb\" target=\"_parent\"><img src=\"https://colab.research.google.com/assets/colab-badge.svg\" alt=\"Open In Colab\"/></a>"
      ]
    },
    {
      "cell_type": "markdown",
      "source": [
        "# Apunte de Spark"
      ],
      "metadata": {
        "id": "9QUsSl7PMRyn"
      }
    },
    {
      "cell_type": "markdown",
      "source": [
        "## MapReduce paradigm"
      ],
      "metadata": {
        "id": "LWKvOnopMdoL"
      }
    },
    {
      "cell_type": "markdown",
      "source": [
        "Papers relevante: https://www.sciencedirect.com/science/article/pii/S0167642307001281?via%3Dihub\n",
        "\n",
        "http://static.googleusercontent.com/media/research.google.com/es/us/archive/mapreduce-osdi04.pdf"
      ],
      "metadata": {
        "id": "jrLnH4d4M24S"
      }
    },
    {
      "cell_type": "markdown",
      "source": [
        "**MapReduce** es un paradigma de procesamiento de grandes volúmenes de datos basado en la composición de tres funciones:\n",
        "- Una función de **map**, que aplica una función dependiente del dominio a un conjunto de pares clave-valor procesándolo a otro conjunto de pares clave-valor\n",
        "- Una función de **groupby** o **agrupación** que agrupa los pares según grupos de llaves\n",
        "- Una función **reduce** que reduce el conjunto de pares atención a ningún o un output determinado."
      ],
      "metadata": {
        "id": "OHLlLymtSzan"
      }
    },
    {
      "cell_type": "markdown",
      "source": [
        "Un ejemplo de aplicación del paradigma MapReduce es en buscar la cantidad de ocurrencias de cada palabra que aparezca al menos una vez en un conjunto de documentos. Para conseguir ello, primero aplicaríamos una función **map** que, por cada documento, contaría la cantidad de veces que aparece cada palabra del documento. Luego, en este caso la función **groupby** es una identidad, pues no necesitamos agrupar los documentos. Finalmente, nuestro **reduce** es una función cuyos inputs son pares documento-conteos de palabras, y su output es un conteo de palabras para cada palabra que estuviese en los conteos de los inputs."
      ],
      "metadata": {
        "id": "PcJDScBZTgv_"
      }
    },
    {
      "cell_type": "markdown",
      "source": [
        "Las ventajas del paradigma MapReduce es que es fácilmente paralelizable, y unifica buena parte de las transformaciones/consultas a bases de datos masivas que podemos encontrar.\n",
        "\n",
        "Para paralelizar efectivamente las operaciones, se suele necesitar un **cluster** de computadoras, que consiste en un conjunto de computadoras que trabajan juntas y pueden verse como un sistema único. Cada computadora del clúster se conoce como **nodo**.\n",
        "\n",
        "Además, se suelen almacenar los datos de forma **distribuida**, es decir, los datos se encuentran almacenados en distintos clusters. \n",
        "\n",
        "Cuando tenemos almacenamiento distribuido, a las etapas de map y reduce tenemos que añadir una etapa de **shuffle & sort** debido que que combinar directamente los datos de todos los nodos distribuidos es muy caro. En esta etapa vamos aplicando las funciones de a pares, y progresivamente vamos juntando los resultados de cada par de nodos para llegar al resultado final. "
      ],
      "metadata": {
        "id": "_A59Rc0EU0G6"
      }
    }
  ]
}