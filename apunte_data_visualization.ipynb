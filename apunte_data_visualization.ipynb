{
  "nbformat": 4,
  "nbformat_minor": 0,
  "metadata": {
    "colab": {
      "name": "apunte_data_visualization.ipynb",
      "provenance": [],
      "collapsed_sections": [
        "2mEYgYCy-P2g",
        "meH70SGnLNlI",
        "CeD644RaRqNf",
        "K15r_y9JY_62",
        "BnnV2mP9Jmaa"
      ],
      "authorship_tag": "ABX9TyPJfoHdqrusMPSqVaeVrRUK",
      "include_colab_link": true
    },
    "kernelspec": {
      "name": "python3",
      "display_name": "Python 3"
    },
    "language_info": {
      "name": "python"
    }
  },
  "cells": [
    {
      "cell_type": "markdown",
      "metadata": {
        "id": "view-in-github",
        "colab_type": "text"
      },
      "source": [
        "<a href=\"https://colab.research.google.com/github/Nacho2904/orga_de_datos/blob/main/apunte_data_visualization.ipynb\" target=\"_parent\"><img src=\"https://colab.research.google.com/assets/colab-badge.svg\" alt=\"Open In Colab\"/></a>"
      ]
    },
    {
      "cell_type": "markdown",
      "source": [
        "# Apunte de visualización de datos"
      ],
      "metadata": {
        "id": "_M_voZh69-0L"
      }
    },
    {
      "cell_type": "markdown",
      "source": [
        "## Elementos para una visualización exitosa"
      ],
      "metadata": {
        "id": "2mEYgYCy-P2g"
      }
    },
    {
      "cell_type": "markdown",
      "source": [
        "- Datos e información empleada\n",
        "- Objetivo o función\n",
        "- Metáfora visual\n",
        "- Historia o concepto "
      ],
      "metadata": {
        "id": "XGwtXjKV-P7x"
      }
    },
    {
      "cell_type": "markdown",
      "source": [
        "<img src=\"https://dasil.sites.grinnell.edu/wp-content/uploads/2016/04/DataViz.png\" width=1200 height=600 />"
      ],
      "metadata": {
        "id": "nkRJOjcW-P-x"
      }
    },
    {
      "cell_type": "markdown",
      "source": [
        "## Plots"
      ],
      "metadata": {
        "id": "RPUlyMrG-QBd"
      }
    },
    {
      "cell_type": "markdown",
      "source": [
        "Los plots tienen objetivo y datos bien definidos y pueden contar una historia, y contienen una metáfora visual simple. Son útiles en la visualización científica y en el análisis exploratorio."
      ],
      "metadata": {
        "id": "X15Bkuh5-QD-"
      }
    },
    {
      "cell_type": "markdown",
      "source": [
        "También funcionan como esqueleto de visualizaciones con metáforas visuales más complejas"
      ],
      "metadata": {
        "id": "Pe3jhaZy-QGC"
      }
    },
    {
      "cell_type": "markdown",
      "source": [
        "Procedemos a importar los datos que usaremos"
      ],
      "metadata": {
        "id": "0-FNdH08LPbH"
      }
    },
    {
      "cell_type": "code",
      "source": [
        "import pandas as pd\n",
        "import matplotlib.pyplot as plt\n",
        "import numpy as np\n",
        "import seaborn as sns\n",
        "datos = pd.read_csv(\"https://gist.githubusercontent.com/armgilles/194bcff35001e7eb53a2a8b441e8b2c6/raw/92200bc0a673d5ce2110aaad4544ed6c4010f687/pokemon.csv\")\n",
        "datos.head()"
      ],
      "metadata": {
        "colab": {
          "base_uri": "https://localhost:8080/",
          "height": 206
        },
        "id": "1MgF-a3S-QIZ",
        "outputId": "6dc34331-d947-444a-a647-148a00879da4"
      },
      "execution_count": 1,
      "outputs": [
        {
          "output_type": "execute_result",
          "data": {
            "text/plain": [
              "   #                   Name Type 1  Type 2  Total  HP  Attack  Defense  \\\n",
              "0  1              Bulbasaur  Grass  Poison    318  45      49       49   \n",
              "1  2                Ivysaur  Grass  Poison    405  60      62       63   \n",
              "2  3               Venusaur  Grass  Poison    525  80      82       83   \n",
              "3  3  VenusaurMega Venusaur  Grass  Poison    625  80     100      123   \n",
              "4  4             Charmander   Fire     NaN    309  39      52       43   \n",
              "\n",
              "   Sp. Atk  Sp. Def  Speed  Generation  Legendary  \n",
              "0       65       65     45           1      False  \n",
              "1       80       80     60           1      False  \n",
              "2      100      100     80           1      False  \n",
              "3      122      120     80           1      False  \n",
              "4       60       50     65           1      False  "
            ],
            "text/html": [
              "\n",
              "  <div id=\"df-c7433eb0-7c19-40ff-aa10-689f52241f73\">\n",
              "    <div class=\"colab-df-container\">\n",
              "      <div>\n",
              "<style scoped>\n",
              "    .dataframe tbody tr th:only-of-type {\n",
              "        vertical-align: middle;\n",
              "    }\n",
              "\n",
              "    .dataframe tbody tr th {\n",
              "        vertical-align: top;\n",
              "    }\n",
              "\n",
              "    .dataframe thead th {\n",
              "        text-align: right;\n",
              "    }\n",
              "</style>\n",
              "<table border=\"1\" class=\"dataframe\">\n",
              "  <thead>\n",
              "    <tr style=\"text-align: right;\">\n",
              "      <th></th>\n",
              "      <th>#</th>\n",
              "      <th>Name</th>\n",
              "      <th>Type 1</th>\n",
              "      <th>Type 2</th>\n",
              "      <th>Total</th>\n",
              "      <th>HP</th>\n",
              "      <th>Attack</th>\n",
              "      <th>Defense</th>\n",
              "      <th>Sp. Atk</th>\n",
              "      <th>Sp. Def</th>\n",
              "      <th>Speed</th>\n",
              "      <th>Generation</th>\n",
              "      <th>Legendary</th>\n",
              "    </tr>\n",
              "  </thead>\n",
              "  <tbody>\n",
              "    <tr>\n",
              "      <th>0</th>\n",
              "      <td>1</td>\n",
              "      <td>Bulbasaur</td>\n",
              "      <td>Grass</td>\n",
              "      <td>Poison</td>\n",
              "      <td>318</td>\n",
              "      <td>45</td>\n",
              "      <td>49</td>\n",
              "      <td>49</td>\n",
              "      <td>65</td>\n",
              "      <td>65</td>\n",
              "      <td>45</td>\n",
              "      <td>1</td>\n",
              "      <td>False</td>\n",
              "    </tr>\n",
              "    <tr>\n",
              "      <th>1</th>\n",
              "      <td>2</td>\n",
              "      <td>Ivysaur</td>\n",
              "      <td>Grass</td>\n",
              "      <td>Poison</td>\n",
              "      <td>405</td>\n",
              "      <td>60</td>\n",
              "      <td>62</td>\n",
              "      <td>63</td>\n",
              "      <td>80</td>\n",
              "      <td>80</td>\n",
              "      <td>60</td>\n",
              "      <td>1</td>\n",
              "      <td>False</td>\n",
              "    </tr>\n",
              "    <tr>\n",
              "      <th>2</th>\n",
              "      <td>3</td>\n",
              "      <td>Venusaur</td>\n",
              "      <td>Grass</td>\n",
              "      <td>Poison</td>\n",
              "      <td>525</td>\n",
              "      <td>80</td>\n",
              "      <td>82</td>\n",
              "      <td>83</td>\n",
              "      <td>100</td>\n",
              "      <td>100</td>\n",
              "      <td>80</td>\n",
              "      <td>1</td>\n",
              "      <td>False</td>\n",
              "    </tr>\n",
              "    <tr>\n",
              "      <th>3</th>\n",
              "      <td>3</td>\n",
              "      <td>VenusaurMega Venusaur</td>\n",
              "      <td>Grass</td>\n",
              "      <td>Poison</td>\n",
              "      <td>625</td>\n",
              "      <td>80</td>\n",
              "      <td>100</td>\n",
              "      <td>123</td>\n",
              "      <td>122</td>\n",
              "      <td>120</td>\n",
              "      <td>80</td>\n",
              "      <td>1</td>\n",
              "      <td>False</td>\n",
              "    </tr>\n",
              "    <tr>\n",
              "      <th>4</th>\n",
              "      <td>4</td>\n",
              "      <td>Charmander</td>\n",
              "      <td>Fire</td>\n",
              "      <td>NaN</td>\n",
              "      <td>309</td>\n",
              "      <td>39</td>\n",
              "      <td>52</td>\n",
              "      <td>43</td>\n",
              "      <td>60</td>\n",
              "      <td>50</td>\n",
              "      <td>65</td>\n",
              "      <td>1</td>\n",
              "      <td>False</td>\n",
              "    </tr>\n",
              "  </tbody>\n",
              "</table>\n",
              "</div>\n",
              "      <button class=\"colab-df-convert\" onclick=\"convertToInteractive('df-c7433eb0-7c19-40ff-aa10-689f52241f73')\"\n",
              "              title=\"Convert this dataframe to an interactive table.\"\n",
              "              style=\"display:none;\">\n",
              "        \n",
              "  <svg xmlns=\"http://www.w3.org/2000/svg\" height=\"24px\"viewBox=\"0 0 24 24\"\n",
              "       width=\"24px\">\n",
              "    <path d=\"M0 0h24v24H0V0z\" fill=\"none\"/>\n",
              "    <path d=\"M18.56 5.44l.94 2.06.94-2.06 2.06-.94-2.06-.94-.94-2.06-.94 2.06-2.06.94zm-11 1L8.5 8.5l.94-2.06 2.06-.94-2.06-.94L8.5 2.5l-.94 2.06-2.06.94zm10 10l.94 2.06.94-2.06 2.06-.94-2.06-.94-.94-2.06-.94 2.06-2.06.94z\"/><path d=\"M17.41 7.96l-1.37-1.37c-.4-.4-.92-.59-1.43-.59-.52 0-1.04.2-1.43.59L10.3 9.45l-7.72 7.72c-.78.78-.78 2.05 0 2.83L4 21.41c.39.39.9.59 1.41.59.51 0 1.02-.2 1.41-.59l7.78-7.78 2.81-2.81c.8-.78.8-2.07 0-2.86zM5.41 20L4 18.59l7.72-7.72 1.47 1.35L5.41 20z\"/>\n",
              "  </svg>\n",
              "      </button>\n",
              "      \n",
              "  <style>\n",
              "    .colab-df-container {\n",
              "      display:flex;\n",
              "      flex-wrap:wrap;\n",
              "      gap: 12px;\n",
              "    }\n",
              "\n",
              "    .colab-df-convert {\n",
              "      background-color: #E8F0FE;\n",
              "      border: none;\n",
              "      border-radius: 50%;\n",
              "      cursor: pointer;\n",
              "      display: none;\n",
              "      fill: #1967D2;\n",
              "      height: 32px;\n",
              "      padding: 0 0 0 0;\n",
              "      width: 32px;\n",
              "    }\n",
              "\n",
              "    .colab-df-convert:hover {\n",
              "      background-color: #E2EBFA;\n",
              "      box-shadow: 0px 1px 2px rgba(60, 64, 67, 0.3), 0px 1px 3px 1px rgba(60, 64, 67, 0.15);\n",
              "      fill: #174EA6;\n",
              "    }\n",
              "\n",
              "    [theme=dark] .colab-df-convert {\n",
              "      background-color: #3B4455;\n",
              "      fill: #D2E3FC;\n",
              "    }\n",
              "\n",
              "    [theme=dark] .colab-df-convert:hover {\n",
              "      background-color: #434B5C;\n",
              "      box-shadow: 0px 1px 3px 1px rgba(0, 0, 0, 0.15);\n",
              "      filter: drop-shadow(0px 1px 2px rgba(0, 0, 0, 0.3));\n",
              "      fill: #FFFFFF;\n",
              "    }\n",
              "  </style>\n",
              "\n",
              "      <script>\n",
              "        const buttonEl =\n",
              "          document.querySelector('#df-c7433eb0-7c19-40ff-aa10-689f52241f73 button.colab-df-convert');\n",
              "        buttonEl.style.display =\n",
              "          google.colab.kernel.accessAllowed ? 'block' : 'none';\n",
              "\n",
              "        async function convertToInteractive(key) {\n",
              "          const element = document.querySelector('#df-c7433eb0-7c19-40ff-aa10-689f52241f73');\n",
              "          const dataTable =\n",
              "            await google.colab.kernel.invokeFunction('convertToInteractive',\n",
              "                                                     [key], {});\n",
              "          if (!dataTable) return;\n",
              "\n",
              "          const docLinkHtml = 'Like what you see? Visit the ' +\n",
              "            '<a target=\"_blank\" href=https://colab.research.google.com/notebooks/data_table.ipynb>data table notebook</a>'\n",
              "            + ' to learn more about interactive tables.';\n",
              "          element.innerHTML = '';\n",
              "          dataTable['output_type'] = 'display_data';\n",
              "          await google.colab.output.renderOutput(dataTable, element);\n",
              "          const docLink = document.createElement('div');\n",
              "          docLink.innerHTML = docLinkHtml;\n",
              "          element.appendChild(docLink);\n",
              "        }\n",
              "      </script>\n",
              "    </div>\n",
              "  </div>\n",
              "  "
            ]
          },
          "metadata": {},
          "execution_count": 1
        }
      ]
    },
    {
      "cell_type": "markdown",
      "source": [
        "### Histograma"
      ],
      "metadata": {
        "id": "meH70SGnLNlI"
      }
    },
    {
      "cell_type": "markdown",
      "source": [
        "El histograma es una aproximación a la distribución de probabilidad de una variable particular, de forma que vamos metiendo observaciones de dicha variable en \"bins\" y contamos cuantas observaciones han caído en cada bin, aproximando así la frecuencia de cada observación."
      ],
      "metadata": {
        "id": "6azvSmjoLNoy"
      }
    },
    {
      "cell_type": "code",
      "source": [
        "n, bins, patches = plt.hist(x=datos[\"HP\"], bins = 10, color='#0504aa',\n",
        "                            alpha=0.6, rwidth=1, density = 1)\n",
        "plt.xlabel('HP')\n",
        "plt.ylabel('Número de pokémon')\n",
        "plt.title('Número de pokemon por rango de HP');"
      ],
      "metadata": {
        "colab": {
          "base_uri": "https://localhost:8080/",
          "height": 54
        },
        "id": "Tsxw0792LNrZ",
        "outputId": "a00d4864-35eb-4ff9-af3c-45eaae9b992f"
      },
      "execution_count": 2,
      "outputs": [
        {
          "output_type": "display_data",
          "data": {
            "text/plain": [
              "<Figure size 432x288 with 1 Axes>"
            ],
            "image/png": "[encoded data removed]"
          },
          "metadata": {
            "needs_background": "light"
          }
        }
      ]
    },
    {
      "cell_type": "code",
      "source": [
        "bins[2], bins[3]"
      ],
      "metadata": {
        "colab": {
          "base_uri": "https://localhost:8080/"
        },
        "id": "rqIslObPTw0Z",
        "outputId": "07385a9c-2bc6-4e40-a509-317bd65c0fe5"
      },
      "execution_count": 3,
      "outputs": [
        {
          "output_type": "execute_result",
          "data": {
            "text/plain": [
              "(51.8, 77.19999999999999)"
            ]
          },
          "metadata": {},
          "execution_count": 3
        }
      ]
    },
    {
      "cell_type": "markdown",
      "source": [
        "Mediante el parámetro *density* podemos hacer que el histograma muestre la probabilidad medida empíricamente de que un pokemon haya sido creado en determinada generación. En el gráfico de arriba podemos observar que alrededor de un 16% de los pokemon tienen entre 51 y 77 HP de base"
      ],
      "metadata": {
        "id": "A4iK4le2LNuE"
      }
    },
    {
      "cell_type": "markdown",
      "source": [
        "Es importante escoger bien el número de bins. Un bajo número de bins puede \"escondernos\" información que nos sería interesante, mientras que un alto número de bins hace feo a nuestro plot, además de que complejiza la distribución al punto de que pierde sus rasgos. Con el bajo número de bins escogidos arriba pudimos dilucidar esa estadística acerca del HP de los pokemon."
      ],
      "metadata": {
        "id": "ZBIDwbtKRdQc"
      }
    },
    {
      "cell_type": "code",
      "source": [
        "n, bins, patches = plt.hist(x=datos[\"HP\"], bins = 50, color='#0504aa',\n",
        "                            alpha=0.6, rwidth=1, density = 1)\n",
        "plt.xlabel('HP')\n",
        "plt.ylabel('Número de pokémon')\n",
        "plt.title('Número de pokemon por rango de HP');"
      ],
      "metadata": {
        "colab": {
          "base_uri": "https://localhost:8080/",
          "height": 54
        },
        "id": "DiCqAsVVRdn8",
        "outputId": "3dfb033f-34dc-4d8d-9d93-53b60ae00cc8"
      },
      "execution_count": 4,
      "outputs": [
        {
          "output_type": "display_data",
          "data": {
            "text/plain": [
              "<Figure size 432x288 with 1 Axes>"
            ],
            "image/png": "[encoded data removed]"
          },
          "metadata": {
            "needs_background": "light"
          }
        }
      ]
    },
    {
      "cell_type": "markdown",
      "source": [
        "En cambio, con este número más alto de bins, notamos que la distribución se ve con mayor resolución (tiene pinta de distribución Gamma)."
      ],
      "metadata": {
        "id": "CRjmDHm7Rp_Q"
      }
    },
    {
      "cell_type": "code",
      "source": [
        "n, bins, patches = plt.hist(x=datos[\"HP\"], bins = 600, color='#0504aa',\n",
        "                            alpha=0.6, rwidth=1, density = 1)\n",
        "plt.xlabel('HP')\n",
        "plt.ylabel('Número de pokémon')\n",
        "plt.title('Número de pokemon por rango de HP');"
      ],
      "metadata": {
        "colab": {
          "base_uri": "https://localhost:8080/",
          "height": 54
        },
        "id": "aauXgum0RqDX",
        "outputId": "46693ef0-3c52-46f7-8952-0ea11f5a7818"
      },
      "execution_count": 5,
      "outputs": [
        {
          "output_type": "display_data",
          "data": {
            "text/plain": [
              "<Figure size 432x288 with 1 Axes>"
            ],
            "image/png": "[encoded data removed]"
          },
          "metadata": {
            "needs_background": "light"
          }
        }
      ]
    },
    {
      "cell_type": "markdown",
      "source": [
        "Finalmente, viendo un caso muy extremo, observamos como con un muy alto número de bins el gráfico pierde sus características útiles."
      ],
      "metadata": {
        "id": "d-9FafJ8RqGk"
      }
    },
    {
      "cell_type": "code",
      "source": [
        "n, bins, patches = plt.hist(x=datos[\"HP\"], color='#0504aa',\n",
        "                            alpha=0.6, rwidth=1, density = 1)\n",
        "plt.xlabel('HP')\n",
        "plt.ylabel('Número de pokémon')\n",
        "plt.title('Número de pokemon por rango de HP');"
      ],
      "metadata": {
        "colab": {
          "base_uri": "https://localhost:8080/",
          "height": 54
        },
        "id": "rSTKLGhyRqJF",
        "outputId": "ad86d904-657b-4503-cd79-991a0a70f0b3"
      },
      "execution_count": 6,
      "outputs": [
        {
          "output_type": "display_data",
          "data": {
            "text/plain": [
              "<Figure size 432x288 with 1 Axes>"
            ],
            "image/png": "[encoded data removed]"
          },
          "metadata": {
            "needs_background": "light"
          }
        }
      ]
    },
    {
      "cell_type": "markdown",
      "source": [
        "Vemos que matplotlib escoge un número relativamente razonable de bins de forma automática, en este caso 10."
      ],
      "metadata": {
        "id": "8xmEjSdVRqLg"
      }
    },
    {
      "cell_type": "markdown",
      "source": [
        "### Density plots"
      ],
      "metadata": {
        "id": "CeD644RaRqNf"
      }
    },
    {
      "cell_type": "markdown",
      "source": [
        "Como bien dice su nombre, los plots de densidad grafican una aproximación de la función de densidad de la variable que estamos analizando, intentando hacer un histograma con bins de longitud infinitesimal."
      ],
      "metadata": {
        "id": "AzFyEqT5RqPp"
      }
    },
    {
      "cell_type": "code",
      "source": [
        "sns.distplot(datos['Defense'], hist=True, kde=True, \n",
        "             bins=int(len(datos)/50), color = 'darkblue', \n",
        "             hist_kws={'edgecolor':'black'},\n",
        "             kde_kws={'linewidth': 4})"
      ],
      "metadata": {
        "colab": {
          "base_uri": "https://localhost:8080/",
          "height": 141
        },
        "id": "28n0It_YRqTb",
        "outputId": "9d9c20fe-042b-4548-d0ec-ff1efa58bf32"
      },
      "execution_count": 7,
      "outputs": [
        {
          "output_type": "stream",
          "name": "stderr",
          "text": [
            "/usr/local/lib/python3.7/dist-packages/seaborn/distributions.py:2619: FutureWarning: `distplot` is a deprecated function and will be removed in a future version. Please adapt your code to use either `displot` (a figure-level function with similar flexibility) or `histplot` (an axes-level function for histograms).\n",
            "  warnings.warn(msg, FutureWarning)\n"
          ]
        },
        {
          "output_type": "execute_result",
          "data": {
            "text/plain": [
              "<matplotlib.axes._subplots.AxesSubplot at 0x7fb552498fd0>"
            ]
          },
          "metadata": {},
          "execution_count": 7
        },
        {
          "output_type": "display_data",
          "data": {
            "text/plain": [
              "<Figure size 432x288 with 1 Axes>"
            ],
            "image/png": "[encoded data removed]"
          },
          "metadata": {
            "needs_background": "light"
          }
        }
      ]
    },
    {
      "cell_type": "markdown",
      "source": [
        "Los problemas con los density plot es que requieren conocimiento más técnico para analizarlos con profundidad, puesto que no se tiene una noción clara de las cantidades de observaciones en cada bin. Otro problema claro es que el density plot \"adivina\" valores para los cuales no tiene observaciones, cosa que podemos ver cuando en el gráfico tira valores de ataque **negativos**, cosa imposible."
      ],
      "metadata": {
        "id": "xqQxyOkaXgpN"
      }
    },
    {
      "cell_type": "markdown",
      "source": [
        "### Box plot"
      ],
      "metadata": {
        "id": "K15r_y9JY_62"
      }
    },
    {
      "cell_type": "markdown",
      "source": [
        "Los box plots sintetizan eficazmente varias estadísticas relevantes de nuestros datos, como los cuartiles Q1, Q2 (mediana), Q3, rango intercuartílico (IQR), outliers, mínimo y máximo. "
      ],
      "metadata": {
        "id": "Z_Pz2XcYZCZ7"
      }
    },
    {
      "cell_type": "code",
      "source": [
        "stats = pd.DataFrame(datos[[\"Total\", \"HP\", \"Attack\", \"Sp. Atk\", \"Defense\", \"Sp. Def\", \"Speed\"]])\n",
        "stats"
      ],
      "metadata": {
        "colab": {
          "base_uri": "https://localhost:8080/",
          "height": 424
        },
        "id": "LDA_PHltbzsJ",
        "outputId": "8acbf884-990c-4111-908d-90bd016ac7c0"
      },
      "execution_count": 8,
      "outputs": [
        {
          "output_type": "execute_result",
          "data": {
            "text/plain": [
              "     Total  HP  Attack  Sp. Atk  Defense  Sp. Def  Speed\n",
              "0      318  45      49       65       49       65     45\n",
              "1      405  60      62       80       63       80     60\n",
              "2      525  80      82      100       83      100     80\n",
              "3      625  80     100      122      123      120     80\n",
              "4      309  39      52       60       43       50     65\n",
              "..     ...  ..     ...      ...      ...      ...    ...\n",
              "795    600  50     100      100      150      150     50\n",
              "796    700  50     160      160      110      110    110\n",
              "797    600  80     110      150       60      130     70\n",
              "798    680  80     160      170       60      130     80\n",
              "799    600  80     110      130      120       90     70\n",
              "\n",
              "[800 rows x 7 columns]"
            ],
            "text/html": [
              "\n",
              "  <div id=\"df-48064ffb-f1a5-435d-b775-976c7ad4fa03\">\n",
              "    <div class=\"colab-df-container\">\n",
              "      <div>\n",
              "<style scoped>\n",
              "    .dataframe tbody tr th:only-of-type {\n",
              "        vertical-align: middle;\n",
              "    }\n",
              "\n",
              "    .dataframe tbody tr th {\n",
              "        vertical-align: top;\n",
              "    }\n",
              "\n",
              "    .dataframe thead th {\n",
              "        text-align: right;\n",
              "    }\n",
              "</style>\n",
              "<table border=\"1\" class=\"dataframe\">\n",
              "  <thead>\n",
              "    <tr style=\"text-align: right;\">\n",
              "      <th></th>\n",
              "      <th>Total</th>\n",
              "      <th>HP</th>\n",
              "      <th>Attack</th>\n",
              "      <th>Sp. Atk</th>\n",
              "      <th>Defense</th>\n",
              "      <th>Sp. Def</th>\n",
              "      <th>Speed</th>\n",
              "    </tr>\n",
              "  </thead>\n",
              "  <tbody>\n",
              "    <tr>\n",
              "      <th>0</th>\n",
              "      <td>318</td>\n",
              "      <td>45</td>\n",
              "      <td>49</td>\n",
              "      <td>65</td>\n",
              "      <td>49</td>\n",
              "      <td>65</td>\n",
              "      <td>45</td>\n",
              "    </tr>\n",
              "    <tr>\n",
              "      <th>1</th>\n",
              "      <td>405</td>\n",
              "      <td>60</td>\n",
              "      <td>62</td>\n",
              "      <td>80</td>\n",
              "      <td>63</td>\n",
              "      <td>80</td>\n",
              "      <td>60</td>\n",
              "    </tr>\n",
              "    <tr>\n",
              "      <th>2</th>\n",
              "      <td>525</td>\n",
              "      <td>80</td>\n",
              "      <td>82</td>\n",
              "      <td>100</td>\n",
              "      <td>83</td>\n",
              "      <td>100</td>\n",
              "      <td>80</td>\n",
              "    </tr>\n",
              "    <tr>\n",
              "      <th>3</th>\n",
              "      <td>625</td>\n",
              "      <td>80</td>\n",
              "      <td>100</td>\n",
              "      <td>122</td>\n",
              "      <td>123</td>\n",
              "      <td>120</td>\n",
              "      <td>80</td>\n",
              "    </tr>\n",
              "    <tr>\n",
              "      <th>4</th>\n",
              "      <td>309</td>\n",
              "      <td>39</td>\n",
              "      <td>52</td>\n",
              "      <td>60</td>\n",
              "      <td>43</td>\n",
              "      <td>50</td>\n",
              "      <td>65</td>\n",
              "    </tr>\n",
              "    <tr>\n",
              "      <th>...</th>\n",
              "      <td>...</td>\n",
              "      <td>...</td>\n",
              "      <td>...</td>\n",
              "      <td>...</td>\n",
              "      <td>...</td>\n",
              "      <td>...</td>\n",
              "      <td>...</td>\n",
              "    </tr>\n",
              "    <tr>\n",
              "      <th>795</th>\n",
              "      <td>600</td>\n",
              "      <td>50</td>\n",
              "      <td>100</td>\n",
              "      <td>100</td>\n",
              "      <td>150</td>\n",
              "      <td>150</td>\n",
              "      <td>50</td>\n",
              "    </tr>\n",
              "    <tr>\n",
              "      <th>796</th>\n",
              "      <td>700</td>\n",
              "      <td>50</td>\n",
              "      <td>160</td>\n",
              "      <td>160</td>\n",
              "      <td>110</td>\n",
              "      <td>110</td>\n",
              "      <td>110</td>\n",
              "    </tr>\n",
              "    <tr>\n",
              "      <th>797</th>\n",
              "      <td>600</td>\n",
              "      <td>80</td>\n",
              "      <td>110</td>\n",
              "      <td>150</td>\n",
              "      <td>60</td>\n",
              "      <td>130</td>\n",
              "      <td>70</td>\n",
              "    </tr>\n",
              "    <tr>\n",
              "      <th>798</th>\n",
              "      <td>680</td>\n",
              "      <td>80</td>\n",
              "      <td>160</td>\n",
              "      <td>170</td>\n",
              "      <td>60</td>\n",
              "      <td>130</td>\n",
              "      <td>80</td>\n",
              "    </tr>\n",
              "    <tr>\n",
              "      <th>799</th>\n",
              "      <td>600</td>\n",
              "      <td>80</td>\n",
              "      <td>110</td>\n",
              "      <td>130</td>\n",
              "      <td>120</td>\n",
              "      <td>90</td>\n",
              "      <td>70</td>\n",
              "    </tr>\n",
              "  </tbody>\n",
              "</table>\n",
              "<p>800 rows × 7 columns</p>\n",
              "</div>\n",
              "      <button class=\"colab-df-convert\" onclick=\"convertToInteractive('df-48064ffb-f1a5-435d-b775-976c7ad4fa03')\"\n",
              "              title=\"Convert this dataframe to an interactive table.\"\n",
              "              style=\"display:none;\">\n",
              "        \n",
              "  <svg xmlns=\"http://www.w3.org/2000/svg\" height=\"24px\"viewBox=\"0 0 24 24\"\n",
              "       width=\"24px\">\n",
              "    <path d=\"M0 0h24v24H0V0z\" fill=\"none\"/>\n",
              "    <path d=\"M18.56 5.44l.94 2.06.94-2.06 2.06-.94-2.06-.94-.94-2.06-.94 2.06-2.06.94zm-11 1L8.5 8.5l.94-2.06 2.06-.94-2.06-.94L8.5 2.5l-.94 2.06-2.06.94zm10 10l.94 2.06.94-2.06 2.06-.94-2.06-.94-.94-2.06-.94 2.06-2.06.94z\"/><path d=\"M17.41 7.96l-1.37-1.37c-.4-.4-.92-.59-1.43-.59-.52 0-1.04.2-1.43.59L10.3 9.45l-7.72 7.72c-.78.78-.78 2.05 0 2.83L4 21.41c.39.39.9.59 1.41.59.51 0 1.02-.2 1.41-.59l7.78-7.78 2.81-2.81c.8-.78.8-2.07 0-2.86zM5.41 20L4 18.59l7.72-7.72 1.47 1.35L5.41 20z\"/>\n",
              "  </svg>\n",
              "      </button>\n",
              "      \n",
              "  <style>\n",
              "    .colab-df-container {\n",
              "      display:flex;\n",
              "      flex-wrap:wrap;\n",
              "      gap: 12px;\n",
              "    }\n",
              "\n",
              "    .colab-df-convert {\n",
              "      background-color: #E8F0FE;\n",
              "      border: none;\n",
              "      border-radius: 50%;\n",
              "      cursor: pointer;\n",
              "      display: none;\n",
              "      fill: #1967D2;\n",
              "      height: 32px;\n",
              "      padding: 0 0 0 0;\n",
              "      width: 32px;\n",
              "    }\n",
              "\n",
              "    .colab-df-convert:hover {\n",
              "      background-color: #E2EBFA;\n",
              "      box-shadow: 0px 1px 2px rgba(60, 64, 67, 0.3), 0px 1px 3px 1px rgba(60, 64, 67, 0.15);\n",
              "      fill: #174EA6;\n",
              "    }\n",
              "\n",
              "    [theme=dark] .colab-df-convert {\n",
              "      background-color: #3B4455;\n",
              "      fill: #D2E3FC;\n",
              "    }\n",
              "\n",
              "    [theme=dark] .colab-df-convert:hover {\n",
              "      background-color: #434B5C;\n",
              "      box-shadow: 0px 1px 3px 1px rgba(0, 0, 0, 0.15);\n",
              "      filter: drop-shadow(0px 1px 2px rgba(0, 0, 0, 0.3));\n",
              "      fill: #FFFFFF;\n",
              "    }\n",
              "  </style>\n",
              "\n",
              "      <script>\n",
              "        const buttonEl =\n",
              "          document.querySelector('#df-48064ffb-f1a5-435d-b775-976c7ad4fa03 button.colab-df-convert');\n",
              "        buttonEl.style.display =\n",
              "          google.colab.kernel.accessAllowed ? 'block' : 'none';\n",
              "\n",
              "        async function convertToInteractive(key) {\n",
              "          const element = document.querySelector('#df-48064ffb-f1a5-435d-b775-976c7ad4fa03');\n",
              "          const dataTable =\n",
              "            await google.colab.kernel.invokeFunction('convertToInteractive',\n",
              "                                                     [key], {});\n",
              "          if (!dataTable) return;\n",
              "\n",
              "          const docLinkHtml = 'Like what you see? Visit the ' +\n",
              "            '<a target=\"_blank\" href=https://colab.research.google.com/notebooks/data_table.ipynb>data table notebook</a>'\n",
              "            + ' to learn more about interactive tables.';\n",
              "          element.innerHTML = '';\n",
              "          dataTable['output_type'] = 'display_data';\n",
              "          await google.colab.output.renderOutput(dataTable, element);\n",
              "          const docLink = document.createElement('div');\n",
              "          docLink.innerHTML = docLinkHtml;\n",
              "          element.appendChild(docLink);\n",
              "        }\n",
              "      </script>\n",
              "    </div>\n",
              "  </div>\n",
              "  "
            ]
          },
          "metadata": {},
          "execution_count": 8
        }
      ]
    },
    {
      "cell_type": "code",
      "source": [
        "blue_square = dict(markerfacecolor='lightcyan', marker='s')\n",
        "fig = plt.boxplot([stats.iloc[:,i] for i in range(1, len(stats.columns))], flierprops=blue_square,\n",
        "                  patch_artist=True, medianprops=dict(color=\"blue\"), boxprops = dict(facecolor=\"azure\"))\n",
        "plt.xticks(range(1,7), stats.columns[1:]);"
      ],
      "metadata": {
        "colab": {
          "base_uri": "https://localhost:8080/",
          "height": 265
        },
        "id": "ihgMUn_6ZDih",
        "outputId": "7780c9dc-6c12-44c7-d400-5610aee6fe29"
      },
      "execution_count": 9,
      "outputs": [
        {
          "output_type": "display_data",
          "data": {
            "text/plain": [
              "<Figure size 432x288 with 1 Axes>"
            ],
            "image/png": "[encoded data removed]"
          },
          "metadata": {
            "needs_background": "light"
          }
        }
      ]
    },
    {
      "cell_type": "markdown",
      "source": [
        "Las cajitas chiquitas son **outliers**, es decir, elementos que superan los \"máximos y mínimos normales\". En HP, por ejemplo, los dos outliers superiores deben ser Chansey y Blissey, mientras que el outlier inferior (el único existente para todas las stats) es Shedinja con su HP base de 1."
      ],
      "metadata": {
        "id": "lvpPnQNqZDtb"
      }
    },
    {
      "cell_type": "markdown",
      "source": [
        "La cara inferior de las cajas representan el cuartil Q1, la línea azul el cuartil Q2 o mediana y la cara superior el cuartil Q3. Los \"whiskers\" representan el \"máximo y mínimo normales\"."
      ],
      "metadata": {
        "id": "xnya0V7yZDv1"
      }
    },
    {
      "cell_type": "markdown",
      "source": [
        "### Violin plot"
      ],
      "metadata": {
        "id": "BnnV2mP9Jmaa"
      }
    },
    {
      "cell_type": "markdown",
      "source": [
        "Un violin plot es un plot que combina density plots y box plots para \"suavizar\" las cajas mostrando la densidad"
      ],
      "metadata": {
        "id": "yGOMl0o2Jpun"
      }
    },
    {
      "cell_type": "code",
      "source": [
        "fig, ax = plt.subplots()\n",
        "bp = ax.violinplot(stats['Speed'], showmedians=True)\n",
        "plt.show()"
      ],
      "metadata": {
        "colab": {
          "base_uri": "https://localhost:8080/",
          "height": 265
        },
        "id": "nvaChUw6KCsU",
        "outputId": "86bb2e96-4c21-4d85-bd0d-3a5fd61fa8b9"
      },
      "execution_count": 15,
      "outputs": [
        {
          "output_type": "display_data",
          "data": {
            "text/plain": [
              "<Figure size 432x288 with 1 Axes>"
            ],
            "image/png": "[encoded data removed]"
          },
          "metadata": {
            "needs_background": "light"
          }
        }
      ]
    },
    {
      "cell_type": "code",
      "source": [],
      "metadata": {
        "id": "9hKeMja4ZDyj"
      },
      "execution_count": 9,
      "outputs": []
    },
    {
      "cell_type": "markdown",
      "source": [
        "### Stacked bar plot, pie chart"
      ],
      "metadata": {
        "id": "GvpmTjmPLay_"
      }
    },
    {
      "cell_type": "markdown",
      "source": [
        "Tanto los stacked barplot como los piecharts tienen objetivos similares. Leer https://www.storytellingwithdata.com/blog/2020/5/14/what-is-a-pie-chart para estudiar más sobre este tipo de gráficos."
      ],
      "metadata": {
        "id": "aGWrfWPLTadC"
      }
    },
    {
      "cell_type": "code",
      "source": [
        "labels = 'Primera', 'Segunda', 'Tercera', 'Cuarta', 'Quinta', 'Sexta'\n",
        "sizes = datos.groupby(\"Generation\").count()[\"#\"]\n",
        "sizes = pd.DataFrame(datos.groupby(\"Generation\").count()[\"#\"])\n",
        "sizes.columns = [\"Cantidad de pokemon por generacion\"]\n",
        "colors = ['azure', 'lightcyan', 'paleturquoise', 'lightseagreen', 'mediumturquoise', 'darkturquoise']\n",
        "\n",
        "fig1, ax1 = plt.subplots()\n",
        "ax1.pie(sizes[\"Cantidad de pokemon por generacion\"] , labels=labels, autopct='%1.1f%%',\n",
        "        startangle=90, wedgeprops = { 'linewidth' : 2, 'edgecolor' : 'black' }, colors = colors)\n",
        "ax1.axis('equal')\n",
        "\n",
        "plt.show()"
      ],
      "metadata": {
        "colab": {
          "base_uri": "https://localhost:8080/",
          "height": 248
        },
        "id": "xSOvmIetPcyB",
        "outputId": "44d4603c-2dfa-4e00-85db-949eb5ceb43c"
      },
      "execution_count": 48,
      "outputs": [
        {
          "output_type": "display_data",
          "data": {
            "text/plain": [
              "<Figure size 432x288 with 1 Axes>"
            ],
            "image/png": "[encoded data removed]"
          },
          "metadata": {}
        }
      ]
    },
    {
      "cell_type": "code",
      "source": [],
      "metadata": {
        "id": "izj5h_RYPdoW"
      },
      "execution_count": null,
      "outputs": []
    },
    {
      "cell_type": "code",
      "source": [],
      "metadata": {
        "id": "ubVZFrZrPdrs"
      },
      "execution_count": null,
      "outputs": []
    },
    {
      "cell_type": "code",
      "source": [],
      "metadata": {
        "id": "pjViL4bcPduM"
      },
      "execution_count": null,
      "outputs": []
    },
    {
      "cell_type": "code",
      "source": [],
      "metadata": {
        "id": "CclW53e7Pdwa"
      },
      "execution_count": null,
      "outputs": []
    }
  ]
}