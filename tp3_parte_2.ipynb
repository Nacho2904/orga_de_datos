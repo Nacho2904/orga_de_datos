{
  "nbformat": 4,
  "nbformat_minor": 0,
  "metadata": {
    "colab": {
      "provenance": [],
      "authorship_tag": "ABX9TyPXHem+NYnHe7rMQt9ouKHE",
      "include_colab_link": true
    },
    "kernelspec": {
      "name": "python3",
      "display_name": "Python 3"
    },
    "language_info": {
      "name": "python"
    }
  },
  "cells": [
    {
      "cell_type": "markdown",
      "metadata": {
        "id": "view-in-github",
        "colab_type": "text"
      },
      "source": [
        "<a href=\"https://colab.research.google.com/github/Nacho2904/orga_de_datos/blob/main/tp3_parte_2.ipynb\" target=\"_parent\"><img src=\"https://colab.research.google.com/assets/colab-badge.svg\" alt=\"Open In Colab\"/></a>"
      ]
    },
    {
      "cell_type": "markdown",
      "source": [
        "# TP3 Parte II: Baseline"
      ],
      "metadata": {
        "id": "JMf_D_txvJfC"
      }
    },
    {
      "cell_type": "markdown",
      "source": [
        "Del análisis exploratorio de la parte I hemos aprendido algunas cosas:\n",
        "- Hay algunas columnas que no nos aportan información. En particular *did* tiene utilidad por no estar en la mayoría de columnas. El *artist_name* no debería proporcionar demasiada información al modelo teniendo en cuenta que tenemos su número de canciones y sus géneros predilectos.\n",
        "\n",
        "- Algunas columnas requieren preprocessing. Las tres columnas de texto que tenemos, *track-name*, *lyrics* y *artist*, no pueden ser usadas directamente. *mode* y *key*, por otro lado, son features categóricas. *a_genres* también es una variable categórica que contiene varias clases. Luego hay que preprocesar las features de texto para crear nuevos features útiles, y preprocesar las features categóricas para poder utilizarlas en la regresión logística.\n",
        "\n",
        "- No tenemos suficientes observaciones para algunos de los posibles valores del target."
      ],
      "metadata": {
        "id": "FBkL9n3Vt7j-"
      }
    },
    {
      "cell_type": "code",
      "source": [
        "import pandas as pd\n",
        "import numpy as np\n",
        "import matplotlib.pyplot as plt\n",
        "import seaborn as sns\n",
        "from sklearn import preprocessing\n",
        "from sklearn.pipeline import Pipeline\n",
        "from sklearn.feature_extraction.text import TfidfVectorizer\n",
        "from sklearn.metrics import top_k_accuracy_score\n",
        "from google.colab import drive \n",
        "from nltk.sentiment import SentimentIntensityAnalyzer\n",
        "import nltk\n",
        "import functools\n",
        "\n",
        "drive.mount('/content/gdrive')\n",
        "path_a_training_set = 'gdrive/MyDrive/TP3 dataset music/train.parquet'\n",
        "path_a_test_set = 'gdrive/MyDrive/TP3 dataset music/test.parquet'\n",
        "\n",
        "\n",
        "df_music_train = pd.read_parquet(path_a_training_set)\n",
        "df_music_test = pd.read_parquet(path_a_test_set)"
      ],
      "metadata": {
        "id": "CfvksKXqhTcq",
        "colab": {
          "base_uri": "https://localhost:8080/"
        },
        "outputId": "bb002b6b-fbb4-4712-ecde-693b5071d105"
      },
      "execution_count": 151,
      "outputs": [
        {
          "output_type": "stream",
          "name": "stdout",
          "text": [
            "Drive already mounted at /content/gdrive; to attempt to forcibly remount, call drive.mount(\"/content/gdrive\", force_remount=True).\n"
          ]
        }
      ]
    },
    {
      "cell_type": "code",
      "source": [
        "df_music_train_filtered = df_music_train.drop(labels=[\"did\"], axis=1)\n",
        "df_music_train_filtered.info()"
      ],
      "metadata": {
        "id": "-BCToRkEi8Db",
        "colab": {
          "base_uri": "https://localhost:8080/"
        },
        "outputId": "99101a70-eaa8-40a9-f62f-9abf735002ed"
      },
      "execution_count": 152,
      "outputs": [
        {
          "output_type": "stream",
          "name": "stdout",
          "text": [
            "<class 'pandas.core.frame.DataFrame'>\n",
            "Int64Index: 31383 entries, 0 to 34336\n",
            "Data columns (total 23 columns):\n",
            " #   Column            Non-Null Count  Dtype  \n",
            "---  ------            --------------  -----  \n",
            " 0   track_name        31383 non-null  object \n",
            " 1   lyric             31380 non-null  object \n",
            " 2   genre             31383 non-null  object \n",
            " 3   language          24021 non-null  object \n",
            " 4   popularity        31383 non-null  int64  \n",
            " 5   artist            31383 non-null  object \n",
            " 6   a_genres          31383 non-null  object \n",
            " 7   a_songs           31383 non-null  float64\n",
            " 8   a_popularity      31383 non-null  float64\n",
            " 9   s-label           7004 non-null   float64\n",
            " 10  acousticness      31383 non-null  float64\n",
            " 11  danceability      31383 non-null  float64\n",
            " 12  duration_ms       31383 non-null  int64  \n",
            " 13  energy            31383 non-null  float64\n",
            " 14  instrumentalness  31383 non-null  float64\n",
            " 15  key               31383 non-null  object \n",
            " 16  liveness          31383 non-null  float64\n",
            " 17  loudness          31383 non-null  float64\n",
            " 18  mode              31383 non-null  object \n",
            " 19  speechiness       31383 non-null  float64\n",
            " 20  tempo             31383 non-null  float64\n",
            " 21  time_signature    31383 non-null  object \n",
            " 22  valence           31383 non-null  float64\n",
            "dtypes: float64(12), int64(2), object(9)\n",
            "memory usage: 5.7+ MB\n"
          ]
        }
      ]
    },
    {
      "cell_type": "markdown",
      "source": [
        "## Preprocessing"
      ],
      "metadata": {
        "id": "fwptY_P6y2pm"
      }
    },
    {
      "cell_type": "markdown",
      "source": [
        "En primer lugar notamos que las variables categóricas *key* y *time-signature* ambas son ordinales. La primera representa el tono dominante en la canción., y tomaremos el orden dado en [este blog](https://viva.pressbooks.pub/openmusictheory/chapter/pitch-and-pitch-class/). El *time-signature* es una medida de la cantidad de pulsos por unidad, y también está ordenado naturalmente. *Mode* es una variable binaria así que la encodeamos como 0 y 1."
      ],
      "metadata": {
        "id": "hFJV8C5gjLEu"
      }
    },
    {
      "cell_type": "code",
      "source": [
        "ordinalEncoder = preprocessing.OrdinalEncoder(categories = [[\"Minor\", \"Major\"],['C', 'C#', 'D', 'D#', 'E', 'F', 'F#', 'G', 'G#', 'A', 'A#', 'B'],\n",
        "                                                            ['1/4', '3/4', '4/4', '5/4']])"
      ],
      "metadata": {
        "id": "dQohiJ4Lhn86"
      },
      "execution_count": 153,
      "outputs": []
    },
    {
      "cell_type": "markdown",
      "source": [
        "Para las letras de los se me ocurre aplicar algo de NLP para realizar sentiment analysis."
      ],
      "metadata": {
        "id": "FA6kTDsNyR4T"
      }
    },
    {
      "cell_type": "code",
      "source": [
        "nltk.download('vader_lexicon')\n",
        "def apply_sentiment_analysis_to_lyrics(df_music: pd.DataFrame) -> pd.DataFrame:\n",
        "  sia = SentimentIntensityAnalyzer()\n",
        "  negative, neutral, positive, compound = 0, 1, 2, 3\n",
        "  sentimentAnalysisOfLyrics = df_music[\"lyric\"].map(lambda lyric: list(sia.polarity_scores(lyric).values()))\n",
        "  negativeScoreOfLyrics = sentimentAnalysisOfLyrics.map(lambda row: row[negative])\n",
        "  positiveScoreOfLyrics = sentimentAnalysisOfLyrics.map(lambda row: row[positive])\n",
        "  neutralScoreOfLyrics = sentimentAnalysisOfLyrics.map(lambda row: row[neutral])\n",
        "  compoundScoreOfLyrics = sentimentAnalysisOfLyrics.map(lambda row: row[compound])\n",
        "  return pd.DataFrame(pd.concat([negativeScoreOfLyrics, positiveScoreOfLyrics,neutralScoreOfLyrics,compoundScoreOfLyrics], axis = 1))"
      ],
      "metadata": {
        "id": "hMMWFU6D4BON",
        "colab": {
          "base_uri": "https://localhost:8080/"
        },
        "outputId": "bb27e0ea-50f1-44ca-9dfc-7de7bfaa79d5"
      },
      "execution_count": 154,
      "outputs": [
        {
          "output_type": "stream",
          "name": "stderr",
          "text": [
            "[nltk_data] Downloading package vader_lexicon to /root/nltk_data...\n",
            "[nltk_data]   Package vader_lexicon is already up-to-date!\n"
          ]
        }
      ]
    },
    {
      "cell_type": "markdown",
      "source": [
        "Otra cosa que se me ocurre es usar la suma del tf-idf para medir qué tan \"rico\" es el vocabulario de una canción: La idea es que canciones de géneros como el pop que son más masivos y apuntan a un público general tendrán una suma de tf-idf alto, mientras que géneros como la música alternativa deberían usar un vocabulario más \"peculiar\"."
      ],
      "metadata": {
        "id": "TYwPrgmfJZos"
      }
    },
    {
      "cell_type": "code",
      "source": [
        "nltk.download('stopwords')\n",
        "def get_sum_tfidf_from_lyrics(df_music: pd.DataFrame) -> pd.DataFrame:\n",
        "  stopwords = set(nltk.corpus.stopwords.words(\"english\")).union(set(nltk.corpus.stopwords.words(\"spanish\"))).union(set(nltk.corpus.stopwords.words(\"french\")))\n",
        "  vectorizer = TfidfVectorizer(input = \"content\", stop_words = stopwords)\n",
        "  vectorizer.fit(df_music[\"lyric\"])\n",
        "  return pd.DataFrame([np.sum(tfidf_vector) for tfidf_vector in vectorizer.transform(df_music[\"lyric\"])])"
      ],
      "metadata": {
        "id": "seazRU21KuOZ",
        "colab": {
          "base_uri": "https://localhost:8080/"
        },
        "outputId": "c8fdc317-6264-45ca-f17a-44dfbbca3264"
      },
      "execution_count": 155,
      "outputs": [
        {
          "output_type": "stream",
          "name": "stderr",
          "text": [
            "[nltk_data] Downloading package stopwords to /root/nltk_data...\n",
            "[nltk_data]   Package stopwords is already up-to-date!\n"
          ]
        }
      ]
    },
    {
      "cell_type": "code",
      "source": [
        "def eliminate_genres_without_enough_observations(df_music: pd.DataFrame) -> pd.DataFrame:\n",
        "  df_music_recuento_filas_por_genero = df_music.groupby(\"genre\").count().reset_index()[[\"genre\", \"track_name\"]].rename(\n",
        "    columns = {\"track_name\": \"rowCount\"}).sort_values(\"rowCount\")\n",
        "  problematic_genres = list(df_music_recuento_filas_por_genero[df_music_recuento_filas_por_genero[\"rowCount\"] < 50].genre)[1:]\n",
        "  return df_music[~df_music[\"genre\"].isin(problematic_genres)]"
      ],
      "metadata": {
        "id": "TQCnc16lQAxu"
      },
      "execution_count": 156,
      "outputs": []
    },
    {
      "cell_type": "markdown",
      "source": [
        "Podemos conseguir varias features de las longitudes de los textos"
      ],
      "metadata": {
        "id": "10nohwQQNmOj"
      }
    },
    {
      "cell_type": "code",
      "source": [
        "nltk.download('punkt')\n",
        "def get_length_transforms_for_text(df_music: pd.DataFrame) -> pd.DataFrame:\n",
        "  df_music[\"number_of_lines\"] = df_music[\"lyric\"].map(lambda lyric: len(lyric.split(\"\\n\")))\n",
        "  df_music[\"number_of_tokens\"] = df_music[\"lyric\"].map(lambda lyric: len(nltk.word_tokenize(lyric)))\n",
        "  df_music[\"length_lyrics\"] = df_music[\"lyric\"].map(lambda lyric: len(lyric))\n",
        "  df_music[\"length_of_track_name\"] = df_music[\"track_name\"].map(lambda track_name: len(track_name))\n",
        "  df_music[\"tokens_of_track_name\"] = df_music[\"track_name\"].map(lambda track_name: len(nltk.word_tokenize(track_name)))\n",
        "  return df_music[[\"length_lyrics\", \"length_of_track_name\", \"number_of_lines\", \"number_of_tokens\", \"tokens_of_track_name\"]]"
      ],
      "metadata": {
        "colab": {
          "base_uri": "https://localhost:8080/"
        },
        "id": "T1QqQUHIEHzj",
        "outputId": "8032ce09-7409-47a3-f17d-a59f395ed246"
      },
      "execution_count": 157,
      "outputs": [
        {
          "output_type": "stream",
          "name": "stderr",
          "text": [
            "[nltk_data] Downloading package punkt to /root/nltk_data...\n",
            "[nltk_data]   Package punkt is already up-to-date!\n"
          ]
        }
      ]
    },
    {
      "cell_type": "markdown",
      "source": [
        "Analizo las lyrics también usando [POS](https://www.guru99.com/pos-tagging-chunking-nltk.html)"
      ],
      "metadata": {
        "id": "Kl3xUtILNqi2"
      }
    },
    {
      "cell_type": "code",
      "source": [
        "nltk.download('averaged_perceptron_tagger')\n",
        "nltk.pos_tag(nltk.word_tokenize(\"Hey how are you\"))\n",
        "useful_pos_tags = {\"FW\", \"JJR\", \"JJS\", \"NN\", \"NNS\", \"NNP\", \"NNPS\", \"PDT\", \"PRP\", \"RB\", \"RBR\", \"RBS\",\n",
        "                   \"UH\", \"VB\", \"VBG\", \"VBD\", \"VBN\", \"VBP\", \"VBZ\"}"
      ],
      "metadata": {
        "colab": {
          "base_uri": "https://localhost:8080/"
        },
        "id": "AeUMKy6VRbbn",
        "outputId": "d8977a80-5036-479f-b151-31be4c934a0f"
      },
      "execution_count": 158,
      "outputs": [
        {
          "output_type": "stream",
          "name": "stderr",
          "text": [
            "[nltk_data] Downloading package averaged_perceptron_tagger to\n",
            "[nltk_data]     /root/nltk_data...\n",
            "[nltk_data]   Package averaged_perceptron_tagger is already up-to-\n",
            "[nltk_data]       date!\n"
          ]
        }
      ]
    },
    {
      "cell_type": "code",
      "source": [
        "def get_POS_vector_from_lyric_POS(lyric_POS):\n",
        "  useful_pos_tags = [\"FW\", \"JJR\", \"JJS\", \"NN\", \"NNS\", \"NNP\", \"NNPS\", \"PDT\", \"PRP\", \"RB\", \"RBR\", \"RBS\",\n",
        "                   \"UH\", \"VB\", \"VBG\", \"VBD\", \"VBN\", \"VBP\", \"VBZ\"]\n",
        "  POS_dictionary = {pos_tag:0 for pos_tag in useful_pos_tags}\n",
        "  POS_dictionary.update({\"other\":0})\n",
        "\n",
        "  for token in lyric_POS:\n",
        "    if token[1] in useful_pos_tags:\n",
        "      POS_dictionary[token[1]] += 1\n",
        "    else:\n",
        "      POS_dictionary[\"other\"] += 1\n",
        "\n",
        "  return [POS_dictionary[pos_tag] for pos_tag in POS_dictionary]\n",
        "  \n",
        "\n",
        "def get_POS_chunk_taggin_counts_for_text(df_music: pd.DataFrame) -> pd.DataFrame:\n",
        "  df_music[\"lyric_POS\"] = df_music[\"lyric\"].map(lambda lyric: nltk.pos_tag(nltk.word_tokenize(lyric)))\n",
        "  df_music[\"lyric_POS\"] = df_music[\"lyric_POS\"].map(lambda lyric_pos: get_POS_vector_from_lyric_POS(lyric_pos))\n",
        "  return pd.DataFrame(df_music[\"lyric_POS\"].to_list())\n"
      ],
      "metadata": {
        "id": "LOEyM2E-Ny6P"
      },
      "execution_count": 159,
      "outputs": []
    },
    {
      "cell_type": "markdown",
      "source": [
        "Utilizamos un mean_encoding para language"
      ],
      "metadata": {
        "id": "Crl3Z8VxzNFX"
      }
    },
    {
      "cell_type": "markdown",
      "source": [
        "Separamos un test de validation seleccionando diferentes artistas"
      ],
      "metadata": {
        "id": "A269jvKR12DD"
      }
    },
    {
      "cell_type": "code",
      "source": [
        "df_music_filtered_genres = eliminate_genres_without_enough_observations(df_music_train_filtered)\n",
        "artists = list(df_music_filtered_genres[\"artist\"].unique())\n",
        "train_artists = set(artists[:int(0.8*len(artists))])\n",
        "validation_artists = set(artists[int(0.8*len(artists)):])\n",
        "train_set = df_music_filtered_genres[df_music_filtered_genres[\"artist\"].isin(train_artists)]\n",
        "validation_set = df_music_filtered_genres[df_music_filtered_genres[\"artist\"].isin(validation_artists)]"
      ],
      "metadata": {
        "id": "0WXfDLhA174X"
      },
      "execution_count": 160,
      "outputs": []
    },
    {
      "cell_type": "code",
      "source": [
        "from sklearn.compose import ColumnTransformer\n",
        "from sklearn.linear_model import LogisticRegression\n",
        "from sklearn.impute import SimpleImputer\n",
        "\n",
        "text_features = [\"track_name\", \"lyric\", \"artist\"]\n",
        "\n",
        "numerical_features = [\"a_songs\", \"a_popularity\", \"popularity\", \"acousticness\", \"danceability\", \"duration_ms\",\n",
        "                   \"energy\", \"instrumentalness\", \"liveness\", \"loudness\", \"speechiness\", \"tempo\", \"valence\"]\n",
        "\n",
        "ordinal_features = [\"mode\", \"key\", \"time_signature\"]\n",
        "\n",
        "one_hot_features = [\"language\"]\n",
        "\n",
        "artist_genres = [\"a_genres\", \"genre\"]\n",
        "\n",
        "label = [\"genre\"]\n",
        "\n",
        "identity_transformer = preprocessing.FunctionTransformer(None)\n",
        "\n",
        "full_processor = ColumnTransformer(transformers=[\n",
        "    ('text_sentiment_analysis', preprocessing.FunctionTransformer(apply_sentiment_analysis_to_lyrics), text_features),\n",
        "    ('text_tf_idf', preprocessing.FunctionTransformer(get_sum_tfidf_from_lyrics), text_features),\n",
        "    ('text_simple_transforms', preprocessing.FunctionTransformer(get_length_transforms_for_text), text_features),\n",
        "    ('text_POS_count', preprocessing.FunctionTransformer(get_POS_chunk_taggin_counts_for_text), text_features),\n",
        "    ('one-hot', preprocessing.OneHotEncoder(), one_hot_features),\n",
        "    ('numerical', identity_transformer, numerical_features),\n",
        "    ('ordinal', ordinalEncoder, ordinal_features),\n",
        "])\n",
        "\n",
        "logistic_regression_pipeline = Pipeline(steps = [\n",
        "    ('preprocess_X', full_processor),\n",
        "    ('model', LogisticRegression(penalty='l2', C = 1, solver = \"liblinear\", max_iter = 500, fit_intercept = True))\n",
        "])\n"
      ],
      "metadata": {
        "id": "ApBgPVOuocwU"
      },
      "execution_count": 161,
      "outputs": []
    },
    {
      "cell_type": "markdown",
      "source": [
        "## Regresión Logística"
      ],
      "metadata": {
        "id": "7qByPTkay5qJ"
      }
    },
    {
      "cell_type": "code",
      "source": [
        "labelEncoder = preprocessing.LabelEncoder()\n",
        "labelEncoder.fit(eliminate_genres_without_enough_observations(df_music_train_filtered)[\"genre\"])\n",
        "y_train = labelEncoder.transform(train_set[\"genre\"])\n",
        "X_train = full_processor.fit_transform(train_set.fillna(\"\"))\n",
        "#logistic_regression_pipeline.fit(train_set.fillna(\"\"), y_train)"
      ],
      "metadata": {
        "id": "PEUXTnO9hY41"
      },
      "execution_count": 165,
      "outputs": []
    },
    {
      "cell_type": "code",
      "source": [
        "y_valid = labelEncoder.transform(validation_set[\"genre\"])\n",
        "X_validation = full_processor.transform(validation_set.fillna(\"\"))"
      ],
      "metadata": {
        "id": "pAXQW8M-i-ui"
      },
      "execution_count": 166,
      "outputs": []
    },
    {
      "cell_type": "code",
      "source": [
        "model = LogisticRegression(penalty='l2', C = 1, solver = \"liblinear\", max_iter = 500, fit_intercept = True)\n",
        "model.fit(X_train, y_train)\n",
        "preds = model.predict_proba(X_validation)\n",
        "top_k_accuracy_score(y_valid, preds, k=2, labels=model.classes_)"
      ],
      "metadata": {
        "id": "lRv8CYgBkoHl",
        "outputId": "3842176b-fdc1-4961-b9cf-c8d7880662c5",
        "colab": {
          "base_uri": "https://localhost:8080/"
        }
      },
      "execution_count": 167,
      "outputs": [
        {
          "output_type": "execute_result",
          "data": {
            "text/plain": [
              "0.3361884368308351"
            ]
          },
          "metadata": {},
          "execution_count": 167
        }
      ]
    },
    {
      "cell_type": "code",
      "source": [
        "from sklearn.model_selection import RandomizedSearchCV\n",
        "from sklearn.model_selection import GridSearchCV\n",
        "from sklearn.metrics import accuracy_score\n",
        "from scipy.stats import loguniform\n",
        "\n",
        "space = dict()\n",
        "space['solver'] = ['liblinear']\n",
        "space['penalty'] = ['l1']            \n",
        "space['C'] = np.arange(0.05,0.15,0.01)\n",
        "logistic_regression_search = GridSearchCV(LogisticRegression(max_iter = 200), param_grid = space, scoring='accuracy', cv=2)\n",
        "\n",
        "\n",
        "logistic_regression_with_found_hyperparameters = logistic_regression_search.fit(X_train, y_train)"
      ],
      "metadata": {
        "colab": {
          "base_uri": "https://localhost:8080/"
        },
        "id": "B6VOuIYQ7M-m",
        "outputId": "5cb48f12-b0bc-4474-e504-1334a4e8fa47"
      },
      "execution_count": 173,
      "outputs": [
        {
          "output_type": "stream",
          "name": "stderr",
          "text": [
            "/usr/local/lib/python3.7/dist-packages/sklearn/model_selection/_split.py:680: UserWarning: The least populated class in y has only 1 members, which is less than n_splits=2.\n",
            "  UserWarning,\n"
          ]
        }
      ]
    },
    {
      "cell_type": "code",
      "source": [
        "logistic_regression_with_found_hyperparameters.best_params_"
      ],
      "metadata": {
        "colab": {
          "base_uri": "https://localhost:8080/"
        },
        "id": "18TvW99tdYvh",
        "outputId": "e54457b1-3f6b-401d-b5e1-0841e24b8adb"
      },
      "execution_count": 174,
      "outputs": [
        {
          "output_type": "execute_result",
          "data": {
            "text/plain": [
              "{'C': 0.12000000000000001, 'penalty': 'l1', 'solver': 'liblinear'}"
            ]
          },
          "metadata": {},
          "execution_count": 174
        }
      ]
    },
    {
      "cell_type": "code",
      "source": [
        "preds = logistic_regression_with_found_hyperparameters.predict_proba(X_validation)\n",
        "top_k_accuracy_score(y_valid, preds, k=2, labels=model.classes_)"
      ],
      "metadata": {
        "colab": {
          "base_uri": "https://localhost:8080/"
        },
        "id": "QpxPY5y1qR7r",
        "outputId": "d4c5eb91-8aaf-4606-baa5-076cbcd6f905"
      },
      "execution_count": 175,
      "outputs": [
        {
          "output_type": "execute_result",
          "data": {
            "text/plain": [
              "0.46595289079229124"
            ]
          },
          "metadata": {},
          "execution_count": 175
        }
      ]
    },
    {
      "cell_type": "markdown",
      "source": [
        "## Predicción en el test set"
      ],
      "metadata": {
        "id": "LyXzF4cLqzEt"
      }
    },
    {
      "cell_type": "code",
      "source": [
        "X_test = full_processor.transform(eliminate_genres_without_enough_observations(df_music_test.fillna(\"\")))\n",
        "y_test = labelEncoder.transform(eliminate_genres_without_enough_observations(df_music_test)[\"genre\"])"
      ],
      "metadata": {
        "id": "yDaTf940q2ag"
      },
      "execution_count": 176,
      "outputs": []
    },
    {
      "cell_type": "code",
      "source": [
        "preds = logistic_regression_with_found_hyperparameters.predict_proba(X_test)\n",
        "top_k_accuracy_score(y_test, preds, k=2, labels=model.classes_)"
      ],
      "metadata": {
        "colab": {
          "base_uri": "https://localhost:8080/"
        },
        "id": "NHXwfI4Trm_l",
        "outputId": "3f815585-3dfe-46dd-f0af-2fe0c221229c"
      },
      "execution_count": 177,
      "outputs": [
        {
          "output_type": "execute_result",
          "data": {
            "text/plain": [
              "0.5261359754014349"
            ]
          },
          "metadata": {},
          "execution_count": 177
        }
      ]
    },
    {
      "cell_type": "code",
      "source": [
        "pd.DataFrame(preds).to_csv(\"predictions_logistic_regression.csv\")"
      ],
      "metadata": {
        "id": "Fb4GwGFvs5N9"
      },
      "execution_count": 178,
      "outputs": []
    },
    {
      "cell_type": "markdown",
      "source": [
        "## ¿Qué features son los más importantes para predecir con el mejor modelo?"
      ],
      "metadata": {
        "id": "MZhRzgcdzCUK"
      }
    },
    {
      "cell_type": "markdown",
      "source": [
        "Fitteamos un decision tree al dataset para analizar las features de mayor importancia"
      ],
      "metadata": {
        "id": "rsO4Dfq_sAFz"
      }
    },
    {
      "cell_type": "code",
      "source": [
        "df_X = pd.DataFrame(X_train)\n",
        "df_X.columns = [\"negativeScore\", \"positiveScore\", \"neutralScore\", \"compoundScore\"] + [\"sumTfidf\"] + \\\n",
        "                  [\"length_lyrics\", \"length_of_track_name\", \"number_of_lines\", \"number_of_tokens\", \"number_of_tokens_in_track_name\"] + \\\n",
        "                  [\"FW\", \"JJR\", \"JJS\", \"NN\", \"NNS\", \"NNP\", \"NNPS\", \"PDT\", \"PRP\", \"RB\", \"RBR\", \"RBS\",\n",
        "                   \"UH\", \"VB\", \"VBG\", \"VBD\", \"VBN\", \"VBP\", \"VBZ\", \"other\"] + \\\n",
        "                  ['ca', 'de', 'en', 'es', 'fr', 'ga', 'gl', 'is', 'it', 'pt', 'rw',\n",
        "        'su', 'tl', \"None\"] + numerical_features + ordinal_features\n"
      ],
      "metadata": {
        "id": "6icQh3qFuVKY"
      },
      "execution_count": 189,
      "outputs": []
    },
    {
      "cell_type": "markdown",
      "source": [],
      "metadata": {
        "id": "lErO9SGA3H-k"
      }
    },
    {
      "cell_type": "code",
      "source": [
        "from sklearn.tree import DecisionTreeClassifier\n",
        "decision_tree_model = DecisionTreeClassifier()\n",
        "decision_tree_model.fit(df_X, y_train)"
      ],
      "metadata": {
        "id": "LxFYSnJ-t-Zx",
        "outputId": "cdd73a19-d5cf-40e5-960e-ed13612e5915",
        "colab": {
          "base_uri": "https://localhost:8080/"
        }
      },
      "execution_count": 196,
      "outputs": [
        {
          "output_type": "execute_result",
          "data": {
            "text/plain": [
              "DecisionTreeClassifier()"
            ]
          },
          "metadata": {},
          "execution_count": 196
        }
      ]
    },
    {
      "cell_type": "code",
      "source": [
        "from sklearn.tree import plot_tree\n",
        "plt.figure(figsize = (25,10))\n",
        "plot_tree(decision_tree_model, max_depth = 3, fontsize=10)\n",
        "plt.show()"
      ],
      "metadata": {
        "id": "WoHVLCMjzylJ",
        "outputId": "81b29ebf-f09f-49df-8a56-8e5b643266f2",
        "colab": {
          "base_uri": "https://localhost:8080/",
          "height": 546
        }
      },
      "execution_count": 197,
      "outputs": [
        {
          "output_type": "display_data",
          "data": {
            "text/plain": [
              "<Figure size 1800x720 with 1 Axes>"
            ],
            "image/png": "[encoded data removed]"
          },
          "metadata": {
            "needs_background": "light"
          }
        }
      ]
    },
    {
      "cell_type": "code",
      "source": [
        "df_X.columns[44:52]"
      ],
      "metadata": {
        "id": "2I4y5MGQ3Fn7",
        "outputId": "06f6f870-6681-476c-f43b-8844b4897ac8",
        "colab": {
          "base_uri": "https://localhost:8080/"
        }
      },
      "execution_count": 198,
      "outputs": [
        {
          "output_type": "execute_result",
          "data": {
            "text/plain": [
              "Index(['a_songs', 'a_popularity', 'popularity', 'acousticness', 'danceability',\n",
              "       'duration_ms', 'energy', 'instrumentalness'],\n",
              "      dtype='object')"
            ]
          },
          "metadata": {},
          "execution_count": 198
        }
      ]
    },
    {
      "cell_type": "code",
      "source": [
        "df_X.columns[4]"
      ],
      "metadata": {
        "id": "Hg-O8qvi33Vk",
        "outputId": "a1199f1e-e957-47ee-ab7c-e78aca6b1c2e",
        "colab": {
          "base_uri": "https://localhost:8080/",
          "height": 35
        }
      },
      "execution_count": 185,
      "outputs": [
        {
          "output_type": "execute_result",
          "data": {
            "text/plain": [
              "'sumTfidf'"
            ],
            "application/vnd.google.colaboratory.intrinsic+json": {
              "type": "string"
            }
          },
          "metadata": {},
          "execution_count": 185
        }
      ]
    },
    {
      "cell_type": "code",
      "source": [
        "df_X.columns[8]"
      ],
      "metadata": {
        "id": "evzUjx2d3yES",
        "outputId": "be1ba96c-a104-445b-9a80-e81e2f317519",
        "colab": {
          "base_uri": "https://localhost:8080/",
          "height": 35
        }
      },
      "execution_count": 186,
      "outputs": [
        {
          "output_type": "execute_result",
          "data": {
            "text/plain": [
              "'number_of_tokens'"
            ],
            "application/vnd.google.colaboratory.intrinsic+json": {
              "type": "string"
            }
          },
          "metadata": {},
          "execution_count": 186
        }
      ]
    },
    {
      "cell_type": "markdown",
      "source": [
        "Esas features, al salir más arriba en el árbol, podemos interpretar que son las más importantes y que más influyen cuando el árbol toma decisiones."
      ],
      "metadata": {
        "id": "glL90iuH4AQm"
      }
    },
    {
      "cell_type": "code",
      "source": [
        "sorted(list(df_X.columns), key = lambda column: decision_tree_model.feature_importances_[list(df_X.columns).index(column)], reverse = True)"
      ],
      "metadata": {
        "id": "_p4bqk_24lEM",
        "outputId": "33b3a8cb-a987-429e-9b3c-9821b7b219e1",
        "colab": {
          "base_uri": "https://localhost:8080/"
        }
      },
      "execution_count": 199,
      "outputs": [
        {
          "output_type": "execute_result",
          "data": {
            "text/plain": [
              "['popularity',\n",
              " 'a_songs',\n",
              " 'a_popularity',\n",
              " 'acousticness',\n",
              " 'energy',\n",
              " 'number_of_tokens',\n",
              " 'duration_ms',\n",
              " 'instrumentalness',\n",
              " 'loudness',\n",
              " 'danceability',\n",
              " 'speechiness',\n",
              " 'sumTfidf',\n",
              " 'valence',\n",
              " 'liveness',\n",
              " 'VB',\n",
              " 'PRP',\n",
              " 'tempo',\n",
              " 'compoundScore',\n",
              " 'neutralScore',\n",
              " 'key',\n",
              " 'VBP',\n",
              " 'negativeScore',\n",
              " 'NNP',\n",
              " 'length_of_track_name',\n",
              " 'RB',\n",
              " 'NN',\n",
              " 'other',\n",
              " 'positiveScore',\n",
              " 'NNS',\n",
              " 'VBG',\n",
              " 'VBZ',\n",
              " 'length_lyrics',\n",
              " 'number_of_lines',\n",
              " 'VBD',\n",
              " 'VBN',\n",
              " 'UH',\n",
              " 'number_of_tokens_in_track_name',\n",
              " 'FW',\n",
              " 'PDT',\n",
              " 'JJR',\n",
              " 'fr',\n",
              " 'mode',\n",
              " 'RBR',\n",
              " 'es',\n",
              " 'time_signature',\n",
              " 'JJS',\n",
              " 'NNPS',\n",
              " 'RBS',\n",
              " 'ca',\n",
              " 'ga',\n",
              " 'de',\n",
              " 'en',\n",
              " 'gl',\n",
              " 'is',\n",
              " 'it',\n",
              " 'pt',\n",
              " 'rw',\n",
              " 'su',\n",
              " 'tl',\n",
              " 'None']"
            ]
          },
          "metadata": {},
          "execution_count": 199
        }
      ]
    },
    {
      "cell_type": "markdown",
      "source": [
        "Notamos que las columnas menos relevantes son las columnas de lenguajes. Cuando aplique modelos de Machine Learning más complejos seguramente cambie la forma en la que encodeo dicha variable..."
      ],
      "metadata": {
        "id": "NH6eyBtC6AKu"
      }
    }
  ]
}