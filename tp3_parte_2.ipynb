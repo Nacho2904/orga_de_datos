{
  "nbformat": 4,
  "nbformat_minor": 0,
  "metadata": {
    "colab": {
      "provenance": [],
      "authorship_tag": "ABX9TyOHaUiIcgBWlXgUqVcje7l+",
      "include_colab_link": true
    },
    "kernelspec": {
      "name": "python3",
      "display_name": "Python 3"
    },
    "language_info": {
      "name": "python"
    }
  },
  "cells": [
    {
      "cell_type": "markdown",
      "metadata": {
        "id": "view-in-github",
        "colab_type": "text"
      },
      "source": [
        "<a href=\"https://colab.research.google.com/github/Nacho2904/orga_de_datos/blob/main/tp3_parte_2.ipynb\" target=\"_parent\"><img src=\"https://colab.research.google.com/assets/colab-badge.svg\" alt=\"Open In Colab\"/></a>"
      ]
    },
    {
      "cell_type": "markdown",
      "source": [
        "# TP3 Parte II: Baseline"
      ],
      "metadata": {
        "id": "JMf_D_txvJfC"
      }
    },
    {
      "cell_type": "markdown",
      "source": [
        "Del análisis exploratorio de la parte I hemos aprendido algunas cosas:\n",
        "- Hay algunas columnas que no nos aportan información. En particular *did* tiene utilidad por no estar en la mayoría de columnas, y *s-label* no sabemos cómo interpretarlo. *Language* tampoco aporta demasiado debido a que falta en muchas canciones \n",
        "\n",
        "- Algunas columnas requieren preprocessing. Las tres columnas de texto que tenemos, *track-name*, *lyrics* y *artist*, no pueden ser usadas directamente. *mode* y *key*, por otro lado, son features categóricas. *a_genres* también es una variable categórica que contiene varias clases. Luego hay que preprocesar las features de texto para crear nuevos features útiles, y preprocesar las features categóricas para poder utilizarlas en la regresión logística.\n",
        "\n",
        "- Noo tenemos suficientes observaciones para algunos de los posibles valores del target."
      ],
      "metadata": {
        "id": "FBkL9n3Vt7j-"
      }
    },
    {
      "cell_type": "code",
      "source": [
        "import pandas as pd\n",
        "import numpy as np\n",
        "import matplotlib.pyplot as plt\n",
        "import seaborn as sns\n",
        "from sklearn import preprocessing\n",
        "from sklearn.pipeline import Pipeline\n",
        "from google.colab import drive \n",
        "\n",
        "drive.mount('/content/gdrive')\n",
        "path_a_training_set = 'gdrive/MyDrive/TP3 dataset music/train.parquet'\n",
        "\n",
        "df_music_train = pd.read_parquet(path_a_training_set)"
      ],
      "metadata": {
        "id": "CfvksKXqhTcq",
        "colab": {
          "base_uri": "https://localhost:8080/"
        },
        "outputId": "8fb60901-d689-4ac5-9d0f-5a420005505e"
      },
      "execution_count": 61,
      "outputs": [
        {
          "output_type": "stream",
          "name": "stdout",
          "text": [
            "Drive already mounted at /content/gdrive; to attempt to forcibly remount, call drive.mount(\"/content/gdrive\", force_remount=True).\n"
          ]
        }
      ]
    },
    {
      "cell_type": "code",
      "source": [
        "df_music_train_filtered = df_music_train.drop(labels=[\"s-label\", \"did\", \"language\"], axis=1)\n",
        "df_music_train_filtered.info()"
      ],
      "metadata": {
        "id": "-BCToRkEi8Db",
        "colab": {
          "base_uri": "https://localhost:8080/"
        },
        "outputId": "3935761c-699a-40a8-b789-7061ee1708d7"
      },
      "execution_count": 62,
      "outputs": [
        {
          "output_type": "stream",
          "name": "stdout",
          "text": [
            "<class 'pandas.core.frame.DataFrame'>\n",
            "Int64Index: 31383 entries, 0 to 34336\n",
            "Data columns (total 21 columns):\n",
            " #   Column            Non-Null Count  Dtype  \n",
            "---  ------            --------------  -----  \n",
            " 0   track_name        31383 non-null  object \n",
            " 1   lyric             31380 non-null  object \n",
            " 2   genre             31383 non-null  object \n",
            " 3   popularity        31383 non-null  int64  \n",
            " 4   artist            31383 non-null  object \n",
            " 5   a_genres          31383 non-null  object \n",
            " 6   a_songs           31383 non-null  float64\n",
            " 7   a_popularity      31383 non-null  float64\n",
            " 8   acousticness      31383 non-null  float64\n",
            " 9   danceability      31383 non-null  float64\n",
            " 10  duration_ms       31383 non-null  int64  \n",
            " 11  energy            31383 non-null  float64\n",
            " 12  instrumentalness  31383 non-null  float64\n",
            " 13  key               31383 non-null  object \n",
            " 14  liveness          31383 non-null  float64\n",
            " 15  loudness          31383 non-null  float64\n",
            " 16  mode              31383 non-null  object \n",
            " 17  speechiness       31383 non-null  float64\n",
            " 18  tempo             31383 non-null  float64\n",
            " 19  time_signature    31383 non-null  object \n",
            " 20  valence           31383 non-null  float64\n",
            "dtypes: float64(11), int64(2), object(8)\n",
            "memory usage: 5.3+ MB\n"
          ]
        }
      ]
    },
    {
      "cell_type": "markdown",
      "source": [
        "En primer lugar notamos que las variables categóricas *key* y *time-signature* ambas son ordinales. La primera representa el tono dominante en la canción., y tomaremos el orden dado en [este blog](https://viva.pressbooks.pub/openmusictheory/chapter/pitch-and-pitch-class/). El *time-signature* es una medida de la cantidad de pulsos por unidad, y también está ordenado naturalmente. *Mode* es una variable binaria así que la encodeamos como 0 y 1."
      ],
      "metadata": {
        "id": "hFJV8C5gjLEu"
      }
    },
    {
      "cell_type": "code",
      "source": [
        "ordinalEncoder = preprocessing.OrdinalEncoder(categories = [[\"Minor\", \"Major\"],['C', 'C#', 'D', 'D#', 'E', 'F', 'F#', 'G', 'G#', 'A', 'A#', 'B'],\n",
        "                                                            ['1/4', '3/4', '4/4', '5/4']])\n",
        "ordinalEncoder.fit(df_music_train_filtered[[\"mode\",\"key\", \"time_signature\"]])"
      ],
      "metadata": {
        "colab": {
          "base_uri": "https://localhost:8080/"
        },
        "id": "dQohiJ4Lhn86",
        "outputId": "f7a028a8-1def-4604-a301-d8f293b1a7c1"
      },
      "execution_count": 40,
      "outputs": [
        {
          "output_type": "execute_result",
          "data": {
            "text/plain": [
              "OrdinalEncoder(categories=[['Minor', 'Major'],\n",
              "                           ['C', 'C#', 'D', 'D#', 'E', 'F', 'F#', 'G', 'G#',\n",
              "                            'A', 'A#', 'B'],\n",
              "                           ['1/4', '3/4', '4/4', '5/4']])"
            ]
          },
          "metadata": {},
          "execution_count": 40
        }
      ]
    },
    {
      "cell_type": "markdown",
      "source": [
        "Para las letras de los se me ocurre aplicar algo de NLP para realizar sentiment analysis."
      ],
      "metadata": {
        "id": "FA6kTDsNyR4T"
      }
    },
    {
      "cell_type": "code",
      "source": [
        "import nltk\n",
        "nltk.download([\"names\", \"stopwords\", \"averaged_perceptron_tagger\", \"vader_lexicon\", \"punkt\"])"
      ],
      "metadata": {
        "id": "kpLP1B5jyhx2",
        "outputId": "f9d13b35-af75-4644-d87e-53d09c6d3363",
        "colab": {
          "base_uri": "https://localhost:8080/"
        }
      },
      "execution_count": 69,
      "outputs": [
        {
          "output_type": "stream",
          "name": "stderr",
          "text": [
            "[nltk_data] Downloading package names to /root/nltk_data...\n",
            "[nltk_data]   Package names is already up-to-date!\n",
            "[nltk_data] Downloading package stopwords to /root/nltk_data...\n",
            "[nltk_data]   Unzipping corpora/stopwords.zip.\n",
            "[nltk_data] Downloading package averaged_perceptron_tagger to\n",
            "[nltk_data]     /root/nltk_data...\n",
            "[nltk_data]   Unzipping taggers/averaged_perceptron_tagger.zip.\n",
            "[nltk_data] Downloading package vader_lexicon to /root/nltk_data...\n",
            "[nltk_data] Downloading package punkt to /root/nltk_data...\n",
            "[nltk_data]   Unzipping tokenizers/punkt.zip.\n"
          ]
        },
        {
          "output_type": "execute_result",
          "data": {
            "text/plain": [
              "True"
            ]
          },
          "metadata": {},
          "execution_count": 69
        }
      ]
    },
    {
      "cell_type": "code",
      "source": [
        "stopwords = set(nltk.corpus.stopwords.words(\"english\")).union(set(nltk.corpus.stopwords.words(\"spanish\"))).union(set(nltk.corpus.stopwords.words(\"french\")))\n",
        "vocab_from_lyrics = df_music_train_filtered[\"lyric\"].map(lambda lyric: [w.lower() for w in lyric.split(' ') if w.isalpha() and w.lower() not in stopwords]\n",
        "                                                         if lyric else [])\n",
        "vocab_from_lyrics"
      ],
      "metadata": {
        "id": "gG6HeUbGyl6x",
        "outputId": "f04d44dc-2c1a-4161-c267-bb4be531a510",
        "colab": {
          "base_uri": "https://localhost:8080/"
        }
      },
      "execution_count": 90,
      "outputs": [
        {
          "output_type": "execute_result",
          "data": {
            "text/plain": [
              "0        [remember, walls, baby, tumbling, even, put, e...\n",
              "1        [remember, walls, baby, tumbling, even, put, e...\n",
              "2        [remember, walls, baby, tumbling, even, put, e...\n",
              "3        [driver, roll, partition, roll, partition, nee...\n",
              "4        [driver, roll, partition, roll, partition, nee...\n",
              "                               ...                        \n",
              "34332    [side, side, always, verita, side, always, ver...\n",
              "34333    [amor, mio, cuentare, nadia, volvere, volvere,...\n",
              "34334                                           [bolerias]\n",
              "34335    [quiero, ser, si, vez, quiero, ser, si, siempr...\n",
              "34336    [something, happening, exactly, clear, man, gu...\n",
              "Name: lyric, Length: 31383, dtype: object"
            ]
          },
          "metadata": {},
          "execution_count": 90
        }
      ]
    },
    {
      "cell_type": "code",
      "source": [],
      "metadata": {
        "id": "hMMWFU6D4BON"
      },
      "execution_count": null,
      "outputs": []
    },
    {
      "cell_type": "code",
      "source": [
        "from sklearn.compose import ColumnTransformer\n",
        "\n",
        "text_features = [\"track_name\", \"lyric\", \"artist\"]\n",
        "\n",
        "numerical_features = [\"a_songs\", \"a_popularity\", \"popularity\", \"acousticness\", \"danceability\", \"duration_ms\",\n",
        "                   \"energy\", \"instrumentalness\", \"liveness\", \"loudness\", \"speechiness\", \"tempo\", \"valence\"]\n",
        "\n",
        "ordinal_features = [\"mode\", \"key\", \"time_signature\"]\n",
        "\n",
        "identity_transformer = preprocessing.FunctionTransformer(None)\n",
        "\n",
        "full_processor = ColumnTransformer(transformers=[\n",
        "    ('text', identity_transformer, text_features),\n",
        "    ('numerical', identity_transformer, numerical_features),\n",
        "    ('ordinal', ordinalEncoder, ordinal_features)\n",
        "])\n",
        "\n",
        "pd.DataFrame(full_processor.fit_transform(df_music_train_filtered))"
      ],
      "metadata": {
        "id": "ApBgPVOuocwU",
        "outputId": "38350870-0c88-402e-fcf9-cb06b2c3825c",
        "colab": {
          "base_uri": "https://localhost:8080/",
          "height": 642
        }
      },
      "execution_count": 64,
      "outputs": [
        {
          "output_type": "execute_result",
          "data": {
            "text/plain": [
              "                        0                                                  1   \\\n",
              "0                     Halo  Remember those walls I built\\nWell baby they'r...   \n",
              "1                     Halo  Remember those walls I built\\nWell baby they'r...   \n",
              "2                     Halo  Remember those walls I built\\nWell baby they'r...   \n",
              "3                Partition  Driver roll up the partition please\\nDriver ro...   \n",
              "4                Partition  Driver roll up the partition please\\nDriver ro...   \n",
              "...                    ...                                                ...   \n",
              "31378            A Tu Vera  To your side To your side always the verita yo...   \n",
              "31379           No Volvere  Amor mio\\r\\nAmor mio por favor\\r\\nTu no te vas...   \n",
              "31380             Bolerias                   Bolerias is instrumental\\n\\n\\n\\n   \n",
              "31381            Como Ayer  Yo quiero ser si otra vez llegaras\\r\\nYo quier...   \n",
              "31382  For What It's Worth  There's something happening here \\r\\nWhat it i...   \n",
              "\n",
              "                  2      3      4     5       6      7         8      9   \\\n",
              "0            Beyoncé  276.0  205.5  79.0   0.272  0.508  261640.0   0.72   \n",
              "1            Beyoncé  276.0  205.5  80.0   0.272  0.508  261640.0   0.72   \n",
              "2            Beyoncé  276.0  205.5  80.0   0.272  0.508  261640.0   0.72   \n",
              "3            Beyoncé  276.0  205.5  71.0  0.0296  0.412  319467.0  0.441   \n",
              "4            Beyoncé  276.0  205.5  71.0  0.0296  0.412  319467.0  0.441   \n",
              "...              ...    ...    ...   ...     ...    ...       ...    ...   \n",
              "31378    Gipsy Kings   89.0    1.0  19.0   0.612  0.616  190733.0  0.822   \n",
              "31379    Gipsy Kings   89.0    1.0  34.0   0.889  0.457  230200.0  0.369   \n",
              "31380    Gipsy Kings   89.0    1.0  18.0   0.763  0.717  275640.0  0.566   \n",
              "31381    Gipsy Kings   89.0    1.0  28.0   0.804  0.633  204373.0  0.553   \n",
              "31382  Miriam Makeba   17.0    0.0  39.0    0.72  0.612  186080.0  0.526   \n",
              "\n",
              "             10      11      12      13       14     15   16    17   18  \n",
              "0           0.0  0.0563  -5.908  0.0628   79.983  0.472  0.0  11.0  2.0  \n",
              "1           0.0  0.0563  -5.908  0.0628   79.983  0.472  0.0  11.0  2.0  \n",
              "2           0.0  0.0563  -5.908  0.0628   79.983  0.472  0.0  11.0  2.0  \n",
              "3        0.0726   0.306 -11.523   0.291  185.571  0.174  0.0  11.0  2.0  \n",
              "4        0.0726   0.306 -11.523   0.291  185.571  0.174  0.0  11.0  2.0  \n",
              "...         ...     ...     ...     ...      ...    ...  ...   ...  ...  \n",
              "31378  0.000003   0.165  -8.063  0.0561  119.962  0.748  0.0   4.0  2.0  \n",
              "31379    0.0111   0.231 -12.515  0.0353   80.214  0.868  0.0   4.0  2.0  \n",
              "31380     0.812   0.144   -14.2  0.0405  117.321  0.793  0.0   6.0  1.0  \n",
              "31381  0.000866   0.139  -8.851  0.0376   87.608  0.738  1.0   0.0  2.0  \n",
              "31382     0.021    0.41  -9.027  0.0313   85.037  0.648  1.0   5.0  2.0  \n",
              "\n",
              "[31383 rows x 19 columns]"
            ],
            "text/html": [
              "\n",
              "  <div id=\"df-3ed92cb4-92c7-4a49-b4f8-3e5260cd41f5\">\n",
              "    <div class=\"colab-df-container\">\n",
              "      <div>\n",
              "<style scoped>\n",
              "    .dataframe tbody tr th:only-of-type {\n",
              "        vertical-align: middle;\n",
              "    }\n",
              "\n",
              "    .dataframe tbody tr th {\n",
              "        vertical-align: top;\n",
              "    }\n",
              "\n",
              "    .dataframe thead th {\n",
              "        text-align: right;\n",
              "    }\n",
              "</style>\n",
              "<table border=\"1\" class=\"dataframe\">\n",
              "  <thead>\n",
              "    <tr style=\"text-align: right;\">\n",
              "      <th></th>\n",
              "      <th>0</th>\n",
              "      <th>1</th>\n",
              "      <th>2</th>\n",
              "      <th>3</th>\n",
              "      <th>4</th>\n",
              "      <th>5</th>\n",
              "      <th>6</th>\n",
              "      <th>7</th>\n",
              "      <th>8</th>\n",
              "      <th>9</th>\n",
              "      <th>10</th>\n",
              "      <th>11</th>\n",
              "      <th>12</th>\n",
              "      <th>13</th>\n",
              "      <th>14</th>\n",
              "      <th>15</th>\n",
              "      <th>16</th>\n",
              "      <th>17</th>\n",
              "      <th>18</th>\n",
              "    </tr>\n",
              "  </thead>\n",
              "  <tbody>\n",
              "    <tr>\n",
              "      <th>0</th>\n",
              "      <td>Halo</td>\n",
              "      <td>Remember those walls I built\\nWell baby they'r...</td>\n",
              "      <td>Beyoncé</td>\n",
              "      <td>276.0</td>\n",
              "      <td>205.5</td>\n",
              "      <td>79.0</td>\n",
              "      <td>0.272</td>\n",
              "      <td>0.508</td>\n",
              "      <td>261640.0</td>\n",
              "      <td>0.72</td>\n",
              "      <td>0.0</td>\n",
              "      <td>0.0563</td>\n",
              "      <td>-5.908</td>\n",
              "      <td>0.0628</td>\n",
              "      <td>79.983</td>\n",
              "      <td>0.472</td>\n",
              "      <td>0.0</td>\n",
              "      <td>11.0</td>\n",
              "      <td>2.0</td>\n",
              "    </tr>\n",
              "    <tr>\n",
              "      <th>1</th>\n",
              "      <td>Halo</td>\n",
              "      <td>Remember those walls I built\\nWell baby they'r...</td>\n",
              "      <td>Beyoncé</td>\n",
              "      <td>276.0</td>\n",
              "      <td>205.5</td>\n",
              "      <td>80.0</td>\n",
              "      <td>0.272</td>\n",
              "      <td>0.508</td>\n",
              "      <td>261640.0</td>\n",
              "      <td>0.72</td>\n",
              "      <td>0.0</td>\n",
              "      <td>0.0563</td>\n",
              "      <td>-5.908</td>\n",
              "      <td>0.0628</td>\n",
              "      <td>79.983</td>\n",
              "      <td>0.472</td>\n",
              "      <td>0.0</td>\n",
              "      <td>11.0</td>\n",
              "      <td>2.0</td>\n",
              "    </tr>\n",
              "    <tr>\n",
              "      <th>2</th>\n",
              "      <td>Halo</td>\n",
              "      <td>Remember those walls I built\\nWell baby they'r...</td>\n",
              "      <td>Beyoncé</td>\n",
              "      <td>276.0</td>\n",
              "      <td>205.5</td>\n",
              "      <td>80.0</td>\n",
              "      <td>0.272</td>\n",
              "      <td>0.508</td>\n",
              "      <td>261640.0</td>\n",
              "      <td>0.72</td>\n",
              "      <td>0.0</td>\n",
              "      <td>0.0563</td>\n",
              "      <td>-5.908</td>\n",
              "      <td>0.0628</td>\n",
              "      <td>79.983</td>\n",
              "      <td>0.472</td>\n",
              "      <td>0.0</td>\n",
              "      <td>11.0</td>\n",
              "      <td>2.0</td>\n",
              "    </tr>\n",
              "    <tr>\n",
              "      <th>3</th>\n",
              "      <td>Partition</td>\n",
              "      <td>Driver roll up the partition please\\nDriver ro...</td>\n",
              "      <td>Beyoncé</td>\n",
              "      <td>276.0</td>\n",
              "      <td>205.5</td>\n",
              "      <td>71.0</td>\n",
              "      <td>0.0296</td>\n",
              "      <td>0.412</td>\n",
              "      <td>319467.0</td>\n",
              "      <td>0.441</td>\n",
              "      <td>0.0726</td>\n",
              "      <td>0.306</td>\n",
              "      <td>-11.523</td>\n",
              "      <td>0.291</td>\n",
              "      <td>185.571</td>\n",
              "      <td>0.174</td>\n",
              "      <td>0.0</td>\n",
              "      <td>11.0</td>\n",
              "      <td>2.0</td>\n",
              "    </tr>\n",
              "    <tr>\n",
              "      <th>4</th>\n",
              "      <td>Partition</td>\n",
              "      <td>Driver roll up the partition please\\nDriver ro...</td>\n",
              "      <td>Beyoncé</td>\n",
              "      <td>276.0</td>\n",
              "      <td>205.5</td>\n",
              "      <td>71.0</td>\n",
              "      <td>0.0296</td>\n",
              "      <td>0.412</td>\n",
              "      <td>319467.0</td>\n",
              "      <td>0.441</td>\n",
              "      <td>0.0726</td>\n",
              "      <td>0.306</td>\n",
              "      <td>-11.523</td>\n",
              "      <td>0.291</td>\n",
              "      <td>185.571</td>\n",
              "      <td>0.174</td>\n",
              "      <td>0.0</td>\n",
              "      <td>11.0</td>\n",
              "      <td>2.0</td>\n",
              "    </tr>\n",
              "    <tr>\n",
              "      <th>...</th>\n",
              "      <td>...</td>\n",
              "      <td>...</td>\n",
              "      <td>...</td>\n",
              "      <td>...</td>\n",
              "      <td>...</td>\n",
              "      <td>...</td>\n",
              "      <td>...</td>\n",
              "      <td>...</td>\n",
              "      <td>...</td>\n",
              "      <td>...</td>\n",
              "      <td>...</td>\n",
              "      <td>...</td>\n",
              "      <td>...</td>\n",
              "      <td>...</td>\n",
              "      <td>...</td>\n",
              "      <td>...</td>\n",
              "      <td>...</td>\n",
              "      <td>...</td>\n",
              "      <td>...</td>\n",
              "    </tr>\n",
              "    <tr>\n",
              "      <th>31378</th>\n",
              "      <td>A Tu Vera</td>\n",
              "      <td>To your side To your side always the verita yo...</td>\n",
              "      <td>Gipsy Kings</td>\n",
              "      <td>89.0</td>\n",
              "      <td>1.0</td>\n",
              "      <td>19.0</td>\n",
              "      <td>0.612</td>\n",
              "      <td>0.616</td>\n",
              "      <td>190733.0</td>\n",
              "      <td>0.822</td>\n",
              "      <td>0.000003</td>\n",
              "      <td>0.165</td>\n",
              "      <td>-8.063</td>\n",
              "      <td>0.0561</td>\n",
              "      <td>119.962</td>\n",
              "      <td>0.748</td>\n",
              "      <td>0.0</td>\n",
              "      <td>4.0</td>\n",
              "      <td>2.0</td>\n",
              "    </tr>\n",
              "    <tr>\n",
              "      <th>31379</th>\n",
              "      <td>No Volvere</td>\n",
              "      <td>Amor mio\\r\\nAmor mio por favor\\r\\nTu no te vas...</td>\n",
              "      <td>Gipsy Kings</td>\n",
              "      <td>89.0</td>\n",
              "      <td>1.0</td>\n",
              "      <td>34.0</td>\n",
              "      <td>0.889</td>\n",
              "      <td>0.457</td>\n",
              "      <td>230200.0</td>\n",
              "      <td>0.369</td>\n",
              "      <td>0.0111</td>\n",
              "      <td>0.231</td>\n",
              "      <td>-12.515</td>\n",
              "      <td>0.0353</td>\n",
              "      <td>80.214</td>\n",
              "      <td>0.868</td>\n",
              "      <td>0.0</td>\n",
              "      <td>4.0</td>\n",
              "      <td>2.0</td>\n",
              "    </tr>\n",
              "    <tr>\n",
              "      <th>31380</th>\n",
              "      <td>Bolerias</td>\n",
              "      <td>Bolerias is instrumental\\n\\n\\n\\n</td>\n",
              "      <td>Gipsy Kings</td>\n",
              "      <td>89.0</td>\n",
              "      <td>1.0</td>\n",
              "      <td>18.0</td>\n",
              "      <td>0.763</td>\n",
              "      <td>0.717</td>\n",
              "      <td>275640.0</td>\n",
              "      <td>0.566</td>\n",
              "      <td>0.812</td>\n",
              "      <td>0.144</td>\n",
              "      <td>-14.2</td>\n",
              "      <td>0.0405</td>\n",
              "      <td>117.321</td>\n",
              "      <td>0.793</td>\n",
              "      <td>0.0</td>\n",
              "      <td>6.0</td>\n",
              "      <td>1.0</td>\n",
              "    </tr>\n",
              "    <tr>\n",
              "      <th>31381</th>\n",
              "      <td>Como Ayer</td>\n",
              "      <td>Yo quiero ser si otra vez llegaras\\r\\nYo quier...</td>\n",
              "      <td>Gipsy Kings</td>\n",
              "      <td>89.0</td>\n",
              "      <td>1.0</td>\n",
              "      <td>28.0</td>\n",
              "      <td>0.804</td>\n",
              "      <td>0.633</td>\n",
              "      <td>204373.0</td>\n",
              "      <td>0.553</td>\n",
              "      <td>0.000866</td>\n",
              "      <td>0.139</td>\n",
              "      <td>-8.851</td>\n",
              "      <td>0.0376</td>\n",
              "      <td>87.608</td>\n",
              "      <td>0.738</td>\n",
              "      <td>1.0</td>\n",
              "      <td>0.0</td>\n",
              "      <td>2.0</td>\n",
              "    </tr>\n",
              "    <tr>\n",
              "      <th>31382</th>\n",
              "      <td>For What It's Worth</td>\n",
              "      <td>There's something happening here \\r\\nWhat it i...</td>\n",
              "      <td>Miriam Makeba</td>\n",
              "      <td>17.0</td>\n",
              "      <td>0.0</td>\n",
              "      <td>39.0</td>\n",
              "      <td>0.72</td>\n",
              "      <td>0.612</td>\n",
              "      <td>186080.0</td>\n",
              "      <td>0.526</td>\n",
              "      <td>0.021</td>\n",
              "      <td>0.41</td>\n",
              "      <td>-9.027</td>\n",
              "      <td>0.0313</td>\n",
              "      <td>85.037</td>\n",
              "      <td>0.648</td>\n",
              "      <td>1.0</td>\n",
              "      <td>5.0</td>\n",
              "      <td>2.0</td>\n",
              "    </tr>\n",
              "  </tbody>\n",
              "</table>\n",
              "<p>31383 rows × 19 columns</p>\n",
              "</div>\n",
              "      <button class=\"colab-df-convert\" onclick=\"convertToInteractive('df-3ed92cb4-92c7-4a49-b4f8-3e5260cd41f5')\"\n",
              "              title=\"Convert this dataframe to an interactive table.\"\n",
              "              style=\"display:none;\">\n",
              "        \n",
              "  <svg xmlns=\"http://www.w3.org/2000/svg\" height=\"24px\"viewBox=\"0 0 24 24\"\n",
              "       width=\"24px\">\n",
              "    <path d=\"M0 0h24v24H0V0z\" fill=\"none\"/>\n",
              "    <path d=\"M18.56 5.44l.94 2.06.94-2.06 2.06-.94-2.06-.94-.94-2.06-.94 2.06-2.06.94zm-11 1L8.5 8.5l.94-2.06 2.06-.94-2.06-.94L8.5 2.5l-.94 2.06-2.06.94zm10 10l.94 2.06.94-2.06 2.06-.94-2.06-.94-.94-2.06-.94 2.06-2.06.94z\"/><path d=\"M17.41 7.96l-1.37-1.37c-.4-.4-.92-.59-1.43-.59-.52 0-1.04.2-1.43.59L10.3 9.45l-7.72 7.72c-.78.78-.78 2.05 0 2.83L4 21.41c.39.39.9.59 1.41.59.51 0 1.02-.2 1.41-.59l7.78-7.78 2.81-2.81c.8-.78.8-2.07 0-2.86zM5.41 20L4 18.59l7.72-7.72 1.47 1.35L5.41 20z\"/>\n",
              "  </svg>\n",
              "      </button>\n",
              "      \n",
              "  <style>\n",
              "    .colab-df-container {\n",
              "      display:flex;\n",
              "      flex-wrap:wrap;\n",
              "      gap: 12px;\n",
              "    }\n",
              "\n",
              "    .colab-df-convert {\n",
              "      background-color: #E8F0FE;\n",
              "      border: none;\n",
              "      border-radius: 50%;\n",
              "      cursor: pointer;\n",
              "      display: none;\n",
              "      fill: #1967D2;\n",
              "      height: 32px;\n",
              "      padding: 0 0 0 0;\n",
              "      width: 32px;\n",
              "    }\n",
              "\n",
              "    .colab-df-convert:hover {\n",
              "      background-color: #E2EBFA;\n",
              "      box-shadow: 0px 1px 2px rgba(60, 64, 67, 0.3), 0px 1px 3px 1px rgba(60, 64, 67, 0.15);\n",
              "      fill: #174EA6;\n",
              "    }\n",
              "\n",
              "    [theme=dark] .colab-df-convert {\n",
              "      background-color: #3B4455;\n",
              "      fill: #D2E3FC;\n",
              "    }\n",
              "\n",
              "    [theme=dark] .colab-df-convert:hover {\n",
              "      background-color: #434B5C;\n",
              "      box-shadow: 0px 1px 3px 1px rgba(0, 0, 0, 0.15);\n",
              "      filter: drop-shadow(0px 1px 2px rgba(0, 0, 0, 0.3));\n",
              "      fill: #FFFFFF;\n",
              "    }\n",
              "  </style>\n",
              "\n",
              "      <script>\n",
              "        const buttonEl =\n",
              "          document.querySelector('#df-3ed92cb4-92c7-4a49-b4f8-3e5260cd41f5 button.colab-df-convert');\n",
              "        buttonEl.style.display =\n",
              "          google.colab.kernel.accessAllowed ? 'block' : 'none';\n",
              "\n",
              "        async function convertToInteractive(key) {\n",
              "          const element = document.querySelector('#df-3ed92cb4-92c7-4a49-b4f8-3e5260cd41f5');\n",
              "          const dataTable =\n",
              "            await google.colab.kernel.invokeFunction('convertToInteractive',\n",
              "                                                     [key], {});\n",
              "          if (!dataTable) return;\n",
              "\n",
              "          const docLinkHtml = 'Like what you see? Visit the ' +\n",
              "            '<a target=\"_blank\" href=https://colab.research.google.com/notebooks/data_table.ipynb>data table notebook</a>'\n",
              "            + ' to learn more about interactive tables.';\n",
              "          element.innerHTML = '';\n",
              "          dataTable['output_type'] = 'display_data';\n",
              "          await google.colab.output.renderOutput(dataTable, element);\n",
              "          const docLink = document.createElement('div');\n",
              "          docLink.innerHTML = docLinkHtml;\n",
              "          element.appendChild(docLink);\n",
              "        }\n",
              "      </script>\n",
              "    </div>\n",
              "  </div>\n",
              "  "
            ]
          },
          "metadata": {},
          "execution_count": 64
        }
      ]
    }
  ]
}