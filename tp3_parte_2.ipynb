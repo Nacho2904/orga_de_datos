{
  "nbformat": 4,
  "nbformat_minor": 0,
  "metadata": {
    "colab": {
      "provenance": [],
      "authorship_tag": "ABX9TyM3W0xItnZHbwHPB0+L4xkl",
      "include_colab_link": true
    },
    "kernelspec": {
      "name": "python3",
      "display_name": "Python 3"
    },
    "language_info": {
      "name": "python"
    }
  },
  "cells": [
    {
      "cell_type": "markdown",
      "metadata": {
        "id": "view-in-github",
        "colab_type": "text"
      },
      "source": [
        "<a href=\"https://colab.research.google.com/github/Nacho2904/orga_de_datos/blob/main/tp3_parte_2.ipynb\" target=\"_parent\"><img src=\"https://colab.research.google.com/assets/colab-badge.svg\" alt=\"Open In Colab\"/></a>"
      ]
    },
    {
      "cell_type": "markdown",
      "source": [
        "# TP3 Parte II: Baseline"
      ],
      "metadata": {
        "id": "JMf_D_txvJfC"
      }
    },
    {
      "cell_type": "markdown",
      "source": [
        "Del análisis exploratorio de la parte I hemos aprendido algunas cosas:\n",
        "- Hay algunas columnas que no nos aportan información. En particular *did* tiene utilidad por no estar en la mayoría de columnas. El *artist_name* no debería proporcionar demasiada información al modelo teniendo en cuenta que tenemos su número de canciones y sus géneros predilectos.\n",
        "\n",
        "- Algunas columnas requieren preprocessing. Las tres columnas de texto que tenemos, *track-name*, *lyrics* y *artist*, no pueden ser usadas directamente. *mode* y *key*, por otro lado, son features categóricas. *a_genres* también es una variable categórica que contiene varias clases. Luego hay que preprocesar las features de texto para crear nuevos features útiles, y preprocesar las features categóricas para poder utilizarlas en la regresión logística.\n",
        "\n",
        "- No tenemos suficientes observaciones para algunos de los posibles valores del target."
      ],
      "metadata": {
        "id": "FBkL9n3Vt7j-"
      }
    },
    {
      "cell_type": "code",
      "source": [
        "import pandas as pd\n",
        "import numpy as np\n",
        "import matplotlib.pyplot as plt\n",
        "import seaborn as sns\n",
        "from sklearn import preprocessing\n",
        "from sklearn.pipeline import Pipeline\n",
        "from sklearn.feature_extraction.text import TfidfVectorizer\n",
        "from sklearn.metrics import top_k_accuracy_score\n",
        "from google.colab import drive \n",
        "from nltk.sentiment import SentimentIntensityAnalyzer\n",
        "import nltk\n",
        "import functools\n",
        "\n",
        "drive.mount('/content/gdrive')\n",
        "path_a_training_set = 'gdrive/MyDrive/TP3 dataset music/train.parquet'\n",
        "path_a_test_set = 'gdrive/MyDrive/TP3 dataset music/test.parquet'\n",
        "\n",
        "\n",
        "df_music_train = pd.read_parquet(path_a_training_set)\n",
        "df_music_test = pd.read_parquet(path_a_test_set)"
      ],
      "metadata": {
        "id": "CfvksKXqhTcq",
        "colab": {
          "base_uri": "https://localhost:8080/"
        },
        "outputId": "49d5b94f-94ba-4352-dbd8-7dd71d1ea01f"
      },
      "execution_count": 1,
      "outputs": [
        {
          "output_type": "stream",
          "name": "stdout",
          "text": [
            "Mounted at /content/gdrive\n"
          ]
        }
      ]
    },
    {
      "cell_type": "code",
      "source": [
        "df_music_train_filtered = df_music_train.drop(labels=[\"did\"], axis=1)\n",
        "df_music_train_filtered.info()"
      ],
      "metadata": {
        "id": "-BCToRkEi8Db",
        "colab": {
          "base_uri": "https://localhost:8080/"
        },
        "outputId": "860629d1-90be-4f6c-eccb-d9cba8ed784a"
      },
      "execution_count": 2,
      "outputs": [
        {
          "output_type": "stream",
          "name": "stdout",
          "text": [
            "<class 'pandas.core.frame.DataFrame'>\n",
            "Int64Index: 31383 entries, 0 to 34336\n",
            "Data columns (total 23 columns):\n",
            " #   Column            Non-Null Count  Dtype  \n",
            "---  ------            --------------  -----  \n",
            " 0   track_name        31383 non-null  object \n",
            " 1   lyric             31380 non-null  object \n",
            " 2   genre             31383 non-null  object \n",
            " 3   language          24021 non-null  object \n",
            " 4   popularity        31383 non-null  int64  \n",
            " 5   artist            31383 non-null  object \n",
            " 6   a_genres          31383 non-null  object \n",
            " 7   a_songs           31383 non-null  float64\n",
            " 8   a_popularity      31383 non-null  float64\n",
            " 9   s-label           7004 non-null   float64\n",
            " 10  acousticness      31383 non-null  float64\n",
            " 11  danceability      31383 non-null  float64\n",
            " 12  duration_ms       31383 non-null  int64  \n",
            " 13  energy            31383 non-null  float64\n",
            " 14  instrumentalness  31383 non-null  float64\n",
            " 15  key               31383 non-null  object \n",
            " 16  liveness          31383 non-null  float64\n",
            " 17  loudness          31383 non-null  float64\n",
            " 18  mode              31383 non-null  object \n",
            " 19  speechiness       31383 non-null  float64\n",
            " 20  tempo             31383 non-null  float64\n",
            " 21  time_signature    31383 non-null  object \n",
            " 22  valence           31383 non-null  float64\n",
            "dtypes: float64(12), int64(2), object(9)\n",
            "memory usage: 5.7+ MB\n"
          ]
        }
      ]
    },
    {
      "cell_type": "markdown",
      "source": [
        "## Preprocessing"
      ],
      "metadata": {
        "id": "fwptY_P6y2pm"
      }
    },
    {
      "cell_type": "markdown",
      "source": [
        "En primer lugar notamos que las variables categóricas *key* y *time-signature* ambas son ordinales. La primera representa el tono dominante en la canción., y tomaremos el orden dado en [este blog](https://viva.pressbooks.pub/openmusictheory/chapter/pitch-and-pitch-class/). El *time-signature* es una medida de la cantidad de pulsos por unidad, y también está ordenado naturalmente. *Mode* es una variable binaria así que la encodeamos como 0 y 1."
      ],
      "metadata": {
        "id": "hFJV8C5gjLEu"
      }
    },
    {
      "cell_type": "markdown",
      "source": [
        "Para las letras de los se me ocurre aplicar algo de NLP para realizar sentiment analysis."
      ],
      "metadata": {
        "id": "FA6kTDsNyR4T"
      }
    },
    {
      "cell_type": "code",
      "source": [
        "nltk.download('vader_lexicon')\n",
        "def apply_sentiment_analysis_to_lyrics(df_music: pd.DataFrame) -> pd.DataFrame:\n",
        "  sia = SentimentIntensityAnalyzer()\n",
        "  negative, neutral, positive, compound = 0, 1, 2, 3\n",
        "  sentimentAnalysisOfLyrics = df_music[\"lyric\"].map(lambda lyric: list(sia.polarity_scores(lyric).values()))\n",
        "  negativeScoreOfLyrics = sentimentAnalysisOfLyrics.map(lambda row: row[negative])\n",
        "  positiveScoreOfLyrics = sentimentAnalysisOfLyrics.map(lambda row: row[positive])\n",
        "  neutralScoreOfLyrics = sentimentAnalysisOfLyrics.map(lambda row: row[neutral])\n",
        "  compoundScoreOfLyrics = sentimentAnalysisOfLyrics.map(lambda row: row[compound])\n",
        "  return pd.DataFrame(pd.concat([negativeScoreOfLyrics, positiveScoreOfLyrics,neutralScoreOfLyrics,compoundScoreOfLyrics], axis = 1))"
      ],
      "metadata": {
        "id": "hMMWFU6D4BON",
        "colab": {
          "base_uri": "https://localhost:8080/"
        },
        "outputId": "eaaab3ab-a928-470b-db88-857f6c5dd330"
      },
      "execution_count": 3,
      "outputs": [
        {
          "output_type": "stream",
          "name": "stderr",
          "text": [
            "[nltk_data] Downloading package vader_lexicon to /root/nltk_data...\n"
          ]
        }
      ]
    },
    {
      "cell_type": "markdown",
      "source": [
        "Otra cosa que se me ocurre es usar la suma del tf-idf para medir qué tan \"rico\" es el vocabulario de una canción: La idea es que canciones de géneros como el pop que son más masivos y apuntan a un público general tendrán una suma de tf-idf alto, mientras que géneros como la música alternativa deberían usar un vocabulario más \"peculiar\"."
      ],
      "metadata": {
        "id": "TYwPrgmfJZos"
      }
    },
    {
      "cell_type": "code",
      "source": [
        "nltk.download('stopwords')\n",
        "nltk.download('punkt')\n",
        "\n",
        "genres = list(df_music_train[\"genre\"].unique())\n",
        "def get_vectorizers_by_genre(df_music: pd.DataFrame) -> dict:\n",
        "  df_music_lyric_tokenized = df_music.copy().fillna(\"\")\n",
        "  df_music_lyric_tokenized[\"lyric\"] = df_music_lyric_tokenized[\"lyric\"].map(lambda lyric: set(nltk.word_tokenize(lyric)))\n",
        "  df_music_grouped_by_genre = df_music_lyric_tokenized[[\"genre\", \"lyric\"]].groupby('genre').agg(lambda x: functools.reduce(set.union, x)).reset_index()\n",
        "  vocabs = dict(zip(df_music_grouped_by_genre.genre.to_list(), df_music_grouped_by_genre.lyric.to_list()))\n",
        "  stopwords = set(nltk.corpus.stopwords.words(\"english\")).union(set(nltk.corpus.stopwords.words(\"spanish\"))).union(set(nltk.corpus.stopwords.words(\"french\")))\n",
        "  vectorizers = {genre: TfidfVectorizer(input = \"content\", stop_words = stopwords, vocabulary = vocabs[genre]) for genre in genres}\n",
        "  for genre in genres:\n",
        "    vectorizers[genre].fit(df_music[df_music[\"genre\"] == genre][\"genre\"])\n",
        "  return vectorizers\n",
        "\n",
        "vectorizers = get_vectorizers_by_genre(df_music_train)"
      ],
      "metadata": {
        "id": "seazRU21KuOZ",
        "colab": {
          "base_uri": "https://localhost:8080/"
        },
        "outputId": "2834e33b-19db-45bc-84ae-85e955943628"
      },
      "execution_count": 4,
      "outputs": [
        {
          "output_type": "stream",
          "name": "stderr",
          "text": [
            "[nltk_data] Downloading package stopwords to /root/nltk_data...\n",
            "[nltk_data]   Unzipping corpora/stopwords.zip.\n",
            "[nltk_data] Downloading package punkt to /root/nltk_data...\n",
            "[nltk_data]   Unzipping tokenizers/punkt.zip.\n",
            "/usr/local/lib/python3.7/dist-packages/sklearn/feature_extraction/text.py:1323: UserWarning: Upper case characters found in vocabulary while 'lowercase' is True. These entries will not be matched with any documents\n",
            "  \"Upper case characters found in\"\n"
          ]
        }
      ]
    },
    {
      "cell_type": "code",
      "source": [
        "def get_sum_tfidf_from_lyrics(df_music: pd.DataFrame) -> pd.DataFrame:\n",
        "  df_music = df_music.fillna(\"\")\n",
        "  column_names = [\"sum_tfidf_for_\" + genre.lower() for genre in genres]\n",
        "  for i in range(0, len(genres)):\n",
        "    df_music[column_names[i]] = np.sum(vectorizers[genres[i]].transform(df_music[\"lyric\"]), axis = 1)\n",
        "  return df_music[column_names]\n",
        "\n",
        "get_sum_tfidf_from_lyrics(df_music_train).columns"
      ],
      "metadata": {
        "id": "Hn7ojEFq-YXi",
        "outputId": "ab359ac5-9b9f-4b1d-c210-278e58ec99c5",
        "colab": {
          "base_uri": "https://localhost:8080/"
        }
      },
      "execution_count": 5,
      "outputs": [
        {
          "output_type": "execute_result",
          "data": {
            "text/plain": [
              "Index(['sum_tfidf_for_dance', 'sum_tfidf_for_pop', 'sum_tfidf_for_r&b',\n",
              "       'sum_tfidf_for_hip-hop', 'sum_tfidf_for_rap', 'sum_tfidf_for_soul',\n",
              "       'sum_tfidf_for_rock', 'sum_tfidf_for_blues', 'sum_tfidf_for_folk',\n",
              "       'sum_tfidf_for_jazz', 'sum_tfidf_for_country',\n",
              "       'sum_tfidf_for_alternative', 'sum_tfidf_for_children’s music',\n",
              "       'sum_tfidf_for_indie', 'sum_tfidf_for_electronic',\n",
              "       'sum_tfidf_for_classical', 'sum_tfidf_for_opera', 'sum_tfidf_for_world',\n",
              "       'sum_tfidf_for_ska', 'sum_tfidf_for_comedy', 'sum_tfidf_for_reggae',\n",
              "       'sum_tfidf_for_reggaeton', 'sum_tfidf_for_children's music',\n",
              "       'sum_tfidf_for_soundtrack', 'sum_tfidf_for_anime',\n",
              "       'sum_tfidf_for_movie'],\n",
              "      dtype='object')"
            ]
          },
          "metadata": {},
          "execution_count": 5
        }
      ]
    },
    {
      "cell_type": "code",
      "source": [
        "def eliminate_genres_without_enough_observations(df_music: pd.DataFrame) -> pd.DataFrame:\n",
        "  df_music_recuento_filas_por_genero = df_music.groupby(\"genre\").count().reset_index()[[\"genre\", \"track_name\"]].rename(\n",
        "    columns = {\"track_name\": \"rowCount\"}).sort_values(\"rowCount\")\n",
        "  problematic_genres = list(df_music_recuento_filas_por_genero[df_music_recuento_filas_por_genero[\"rowCount\"] < 50].genre)[1:]\n",
        "  return df_music[~df_music[\"genre\"].isin(problematic_genres)]"
      ],
      "metadata": {
        "id": "TQCnc16lQAxu"
      },
      "execution_count": 6,
      "outputs": []
    },
    {
      "cell_type": "markdown",
      "source": [
        "Podemos conseguir varias features de las longitudes de los textos"
      ],
      "metadata": {
        "id": "10nohwQQNmOj"
      }
    },
    {
      "cell_type": "code",
      "source": [
        "nltk.download('punkt')\n",
        "def get_length_transforms_for_text(df_music: pd.DataFrame) -> pd.DataFrame:\n",
        "  df_music[\"number_of_lines\"] = df_music[\"lyric\"].map(lambda lyric: len(lyric.split(\"\\n\")))\n",
        "  df_music[\"number_of_tokens\"] = df_music[\"lyric\"].map(lambda lyric: len(nltk.word_tokenize(lyric)))\n",
        "  df_music[\"length_lyrics\"] = df_music[\"lyric\"].map(lambda lyric: len(lyric))\n",
        "  df_music[\"length_of_track_name\"] = df_music[\"track_name\"].map(lambda track_name: len(track_name))\n",
        "  return df_music[[\"length_lyrics\", \"length_of_track_name\", \"number_of_lines\", \"number_of_tokens\"]]"
      ],
      "metadata": {
        "colab": {
          "base_uri": "https://localhost:8080/"
        },
        "id": "T1QqQUHIEHzj",
        "outputId": "3956ede6-cb26-4ef9-d4fa-c1e96765782a"
      },
      "execution_count": 7,
      "outputs": [
        {
          "output_type": "stream",
          "name": "stderr",
          "text": [
            "[nltk_data] Downloading package punkt to /root/nltk_data...\n",
            "[nltk_data]   Package punkt is already up-to-date!\n"
          ]
        }
      ]
    },
    {
      "cell_type": "markdown",
      "source": [
        "Analizo las lyrics también usando [POS](https://www.guru99.com/pos-tagging-chunking-nltk.html)"
      ],
      "metadata": {
        "id": "Kl3xUtILNqi2"
      }
    },
    {
      "cell_type": "code",
      "source": [
        "nltk.download('averaged_perceptron_tagger')\n",
        "\n",
        "def get_POS_vector_from_lyric_POS(lyric_POS):\n",
        "  useful_pos_tags = [\"FW\", \"JJR\", \"NN\", \"NNS\", \"NNP\", \"PDT\", \"PRP\", \"RB\", \"RBR\",\n",
        "                   \"UH\", \"VB\", \"VBG\", \"VBD\", \"VBN\", \"VBP\", \"VBZ\"]\n",
        "  POS_dictionary = {pos_tag:0 for pos_tag in useful_pos_tags}\n",
        "  POS_dictionary.update({\"other\":0})\n",
        "\n",
        "  for token in lyric_POS:\n",
        "    if token[1] in useful_pos_tags:\n",
        "      POS_dictionary[token[1]] += 1\n",
        "    else:\n",
        "      POS_dictionary[\"other\"] += 1\n",
        "\n",
        "  return [POS_dictionary[pos_tag] for pos_tag in POS_dictionary]\n",
        "  \n",
        "\n",
        "def get_POS_chunk_taggin_counts_for_text(df_music: pd.DataFrame) -> pd.DataFrame:\n",
        "  df_music[\"lyric_POS\"] = df_music[\"lyric\"].map(lambda lyric: nltk.pos_tag(nltk.word_tokenize(lyric)))\n",
        "  df_music[\"lyric_POS\"] = df_music[\"lyric_POS\"].map(lambda lyric_pos: get_POS_vector_from_lyric_POS(lyric_pos))\n",
        "  return pd.DataFrame(df_music[\"lyric_POS\"].to_list())\n"
      ],
      "metadata": {
        "id": "LOEyM2E-Ny6P",
        "outputId": "a4917c55-7a0a-45a7-c202-c95dfb5ea78e",
        "colab": {
          "base_uri": "https://localhost:8080/"
        }
      },
      "execution_count": 8,
      "outputs": [
        {
          "output_type": "stream",
          "name": "stderr",
          "text": [
            "[nltk_data] Downloading package averaged_perceptron_tagger to\n",
            "[nltk_data]     /root/nltk_data...\n",
            "[nltk_data]   Unzipping taggers/averaged_perceptron_tagger.zip.\n"
          ]
        }
      ]
    },
    {
      "cell_type": "markdown",
      "source": [
        "Utilizamos un mean_encoding para language"
      ],
      "metadata": {
        "id": "Crl3Z8VxzNFX"
      }
    },
    {
      "cell_type": "markdown",
      "source": [
        "Separamos un test de validation seleccionando diferentes artistas"
      ],
      "metadata": {
        "id": "A269jvKR12DD"
      }
    },
    {
      "cell_type": "code",
      "source": [
        "df_music_filtered_genres = eliminate_genres_without_enough_observations(df_music_train_filtered)\n",
        "artists = list(df_music_filtered_genres[\"artist\"].unique())\n",
        "train_artists = set(artists[:int(0.9*len(artists))])\n",
        "validation_artists = set(artists[int(0.9*len(artists)):])\n",
        "train_set = df_music_filtered_genres[df_music_filtered_genres[\"artist\"].isin(train_artists)]\n",
        "validation_set = df_music_filtered_genres[df_music_filtered_genres[\"artist\"].isin(validation_artists)]"
      ],
      "metadata": {
        "id": "0WXfDLhA174X"
      },
      "execution_count": 9,
      "outputs": []
    },
    {
      "cell_type": "code",
      "source": [
        "df_music_train_filtered.groupby(\"language\").mean().reset_index().std()"
      ],
      "metadata": {
        "id": "q7v-ispEE7ah",
        "outputId": "5717d598-e91f-4b54-c26e-11ebb9a507f4",
        "colab": {
          "base_uri": "https://localhost:8080/"
        }
      },
      "execution_count": 10,
      "outputs": [
        {
          "output_type": "stream",
          "name": "stderr",
          "text": [
            "/usr/local/lib/python3.7/dist-packages/ipykernel_launcher.py:1: FutureWarning: Dropping of nuisance columns in DataFrame reductions (with 'numeric_only=None') is deprecated; in a future version this will raise TypeError.  Select only valid columns before calling the reduction.\n",
            "  \"\"\"Entry point for launching an IPython kernel.\n"
          ]
        },
        {
          "output_type": "execute_result",
          "data": {
            "text/plain": [
              "popularity              9.838623\n",
              "a_songs                46.384646\n",
              "a_popularity           16.449296\n",
              "s-label                      NaN\n",
              "acousticness            0.187327\n",
              "danceability            0.128587\n",
              "duration_ms         56038.041099\n",
              "energy                  0.148349\n",
              "instrumentalness        0.143865\n",
              "liveness                0.184033\n",
              "loudness                2.047610\n",
              "speechiness             0.073403\n",
              "tempo                  24.384286\n",
              "valence                 0.234031\n",
              "dtype: float64"
            ]
          },
          "metadata": {},
          "execution_count": 10
        }
      ]
    },
    {
      "cell_type": "code",
      "source": [
        "def mean_hot_encoder(df_music: pd.DataFrame, df_training: pd.DataFrame) -> pd.DataFrame:\n",
        "  df_training_grouped_by_lang = df_training.groupby(\"language\").mean().reset_index()[[\"language\", \"popularity\", \"a_popularity\", \"loudness\"]]\n",
        "  df_new_columns = df_music.merge(df_training_grouped_by_lang, on = \"language\", how = \"left\")\n",
        "  return df_new_columns[[\"popularity_y\", \"a_popularity_y\", \"loudness_y\"]].fillna(0)\n",
        "\n",
        "mean_hot_encoder_using_training_set = lambda df_to_encode: mean_hot_encoder(df_to_encode, df_music_train_filtered) "
      ],
      "metadata": {
        "id": "wG1TiABKECHD"
      },
      "execution_count": 11,
      "outputs": []
    },
    {
      "cell_type": "code",
      "source": [
        "from sklearn.compose import ColumnTransformer\n",
        "from sklearn.linear_model import LogisticRegression\n",
        "from sklearn.impute import SimpleImputer\n",
        "\n",
        "text_features = [\"track_name\", \"lyric\", \"artist\"]\n",
        "\n",
        "numerical_features = [\"a_songs\", \"a_popularity\", \"popularity\", \"acousticness\", \"danceability\", \"duration_ms\",\n",
        "                   \"energy\", \"instrumentalness\", \"liveness\", \"loudness\", \"speechiness\", \"tempo\", \"valence\"]\n",
        "\n",
        "ordinal_features = [\"key\", \"time_signature\"]\n",
        "\n",
        "one_hot_features = [\"mode\"]\n",
        "\n",
        "mean_enc_features = [\"language\"]\n",
        "\n",
        "artist_genres = [\"a_genres\", \"genre\"]\n",
        "\n",
        "label = [\"genre\"]\n",
        "\n",
        "identity_transformer = preprocessing.FunctionTransformer(None)\n",
        "\n",
        "full_processor = ColumnTransformer(transformers=[\n",
        "    ('text_sentiment_analysis', preprocessing.FunctionTransformer(apply_sentiment_analysis_to_lyrics), text_features),\n",
        "    ('text_tf_idf', preprocessing.FunctionTransformer(get_sum_tfidf_from_lyrics), text_features),\n",
        "    ('text_simple_transforms', preprocessing.FunctionTransformer(get_length_transforms_for_text), text_features),\n",
        "    ('text_POS_count', preprocessing.FunctionTransformer(get_POS_chunk_taggin_counts_for_text), text_features),\n",
        "    ('mean_encoding', preprocessing.FunctionTransformer(mean_hot_encoder_using_training_set), list(df_music_train_filtered.columns)),\n",
        "    ('one_hot_encoding', preprocessing.OneHotEncoder(), one_hot_features),\n",
        "    ('numerical', identity_transformer, numerical_features),\n",
        "    ('ordinal', preprocessing.OrdinalEncoder(categories = [['C', 'C#', 'D', 'D#', 'E', 'F', 'F#', 'G', 'G#', 'A', 'A#', 'B'],\n",
        "                                                            ['1/4', '3/4', '4/4', '5/4']]), ordinal_features)])\n",
        "\n",
        "logistic_regression_pipeline = Pipeline(steps = [\n",
        "    ('preprocess_X', full_processor),\n",
        "    ('model', LogisticRegression(penalty='l2', C = 1, solver = \"liblinear\", max_iter = 500, fit_intercept = True))\n",
        "])\n"
      ],
      "metadata": {
        "id": "ApBgPVOuocwU"
      },
      "execution_count": 12,
      "outputs": []
    },
    {
      "cell_type": "markdown",
      "source": [
        "## Regresión Logística"
      ],
      "metadata": {
        "id": "7qByPTkay5qJ"
      }
    },
    {
      "cell_type": "code",
      "source": [
        "labelEncoder = preprocessing.LabelEncoder()\n",
        "labelEncoder.fit(eliminate_genres_without_enough_observations(df_music_train_filtered)[\"genre\"])\n",
        "y_train = labelEncoder.transform(train_set[\"genre\"])\n",
        "X_train = full_processor.fit_transform(eliminate_genres_without_enough_observations(train_set).fillna(\"\"))\n",
        "#logistic_regression_pipeline.fit(train_set.fillna(\"\"), y_train)"
      ],
      "metadata": {
        "id": "PEUXTnO9hY41"
      },
      "execution_count": 13,
      "outputs": []
    },
    {
      "cell_type": "code",
      "source": [
        "y_valid = labelEncoder.transform(validation_set[\"genre\"])\n",
        "X_validation = full_processor.transform(validation_set.fillna(\"\"))"
      ],
      "metadata": {
        "id": "pAXQW8M-i-ui"
      },
      "execution_count": 14,
      "outputs": []
    },
    {
      "cell_type": "code",
      "source": [
        "model = LogisticRegression(penalty='l1', C = 1, solver = \"liblinear\", max_iter = 800, fit_intercept = False)\n",
        "model.fit(X_train, y_train)\n",
        "preds = model.predict_proba(X_validation)\n",
        "top_k_accuracy_score(y_valid, preds, k=2, labels=model.classes_)"
      ],
      "metadata": {
        "id": "lRv8CYgBkoHl",
        "outputId": "805b710d-a4aa-4ede-efea-6636e5ff8e5b",
        "colab": {
          "base_uri": "https://localhost:8080/"
        }
      },
      "execution_count": 15,
      "outputs": [
        {
          "output_type": "execute_result",
          "data": {
            "text/plain": [
              "0.5687472719336534"
            ]
          },
          "metadata": {},
          "execution_count": 15
        }
      ]
    },
    {
      "cell_type": "markdown",
      "source": [
        "Nota: Antes de esta búsqueda busqué también los penalties adecuados y siempre dio que L1 era la mejor. La que muestro acá es producto de anteriores gridsearches."
      ],
      "metadata": {
        "id": "fzZrZ5DimuFk"
      }
    },
    {
      "cell_type": "code",
      "source": [
        "from hyperopt import STATUS_OK, Trials, fmin, hp, tpe\n",
        "\n",
        "space={'C': hp.uniform(\"C\", 0, 1.5),\n",
        "        'penalty': hp.choice(\"penalty\", ['l1'])}\n",
        "\n",
        "def objective(space):\n",
        "\n",
        "  classifier = LogisticRegression(penalty = space['penalty'], C = space['C'], solver = \"liblinear\",\n",
        "                                  random_state = 1)\n",
        "  \n",
        "  classifier.fit(X_train, y_train)\n",
        "\n",
        "  preds = classifier.predict_proba(X_validation)\n",
        "  accuracy = top_k_accuracy_score(y_valid, preds, labels = classifier.classes_)\n",
        "  \n",
        "  print (\"top_k_accuracy_score:\", accuracy)\n",
        "  print(classifier.get_params())\n",
        "\n",
        "  return {'loss': -accuracy, 'status': STATUS_OK }\n",
        "  \n",
        "trials = Trials()\n",
        "\n",
        "best_hyperparams = fmin(fn = objective,\n",
        "                        space = space,\n",
        "                        algo = tpe.suggest,\n",
        "                        max_evals = 20,\n",
        "                        trials = trials)\n",
        "\n"
      ],
      "metadata": {
        "id": "B6VOuIYQ7M-m",
        "outputId": "48524512-f24a-4b8a-8c7c-9efd22f83ade",
        "colab": {
          "base_uri": "https://localhost:8080/"
        }
      },
      "execution_count": 38,
      "outputs": [
        {
          "output_type": "stream",
          "name": "stdout",
          "text": [
            "top_k_accuracy_score:\n",
            "0.5691837625491052\n",
            "{'C': 0.6943677575260634, 'class_weight': None, 'dual': False, 'fit_intercept': True, 'intercept_scaling': 1, 'l1_ratio': None, 'max_iter': 100, 'multi_class': 'auto', 'n_jobs': None, 'penalty': 'l1', 'random_state': 1, 'solver': 'liblinear', 'tol': 0.0001, 'verbose': 0, 'warm_start': False}\n",
            "top_k_accuracy_score:\n",
            "0.5735486687036229\n",
            "{'C': 0.0714968115527071, 'class_weight': None, 'dual': False, 'fit_intercept': True, 'intercept_scaling': 1, 'l1_ratio': None, 'max_iter': 100, 'multi_class': 'auto', 'n_jobs': None, 'penalty': 'l1', 'random_state': 1, 'solver': 'liblinear', 'tol': 0.0001, 'verbose': 0, 'warm_start': False}\n",
            "top_k_accuracy_score:\n",
            "0.571366215626364\n",
            "{'C': 0.8813619000521153, 'class_weight': None, 'dual': False, 'fit_intercept': True, 'intercept_scaling': 1, 'l1_ratio': None, 'max_iter': 100, 'multi_class': 'auto', 'n_jobs': None, 'penalty': 'l1', 'random_state': 1, 'solver': 'liblinear', 'tol': 0.0001, 'verbose': 0, 'warm_start': False}\n",
            "top_k_accuracy_score:\n",
            "0.5661283282409428\n",
            "{'C': 1.3879684793374143, 'class_weight': None, 'dual': False, 'fit_intercept': True, 'intercept_scaling': 1, 'l1_ratio': None, 'max_iter': 100, 'multi_class': 'auto', 'n_jobs': None, 'penalty': 'l1', 'random_state': 1, 'solver': 'liblinear', 'tol': 0.0001, 'verbose': 0, 'warm_start': False}\n",
            "top_k_accuracy_score:\n",
            "0.5800960279353994\n",
            "{'C': 0.8730216452040143, 'class_weight': None, 'dual': False, 'fit_intercept': True, 'intercept_scaling': 1, 'l1_ratio': None, 'max_iter': 100, 'multi_class': 'auto', 'n_jobs': None, 'penalty': 'l1', 'random_state': 1, 'solver': 'liblinear', 'tol': 0.0001, 'verbose': 0, 'warm_start': False}\n",
            "top_k_accuracy_score:\n",
            "0.5779135748581405\n",
            "{'C': 0.04172919508395345, 'class_weight': None, 'dual': False, 'fit_intercept': True, 'intercept_scaling': 1, 'l1_ratio': None, 'max_iter': 100, 'multi_class': 'auto', 'n_jobs': None, 'penalty': 'l1', 'random_state': 1, 'solver': 'liblinear', 'tol': 0.0001, 'verbose': 0, 'warm_start': False}\n",
            "top_k_accuracy_score:\n",
            "0.5822784810126582\n",
            "{'C': 0.2894231403992111, 'class_weight': None, 'dual': False, 'fit_intercept': True, 'intercept_scaling': 1, 'l1_ratio': None, 'max_iter': 100, 'multi_class': 'auto', 'n_jobs': None, 'penalty': 'l1', 'random_state': 1, 'solver': 'liblinear', 'tol': 0.0001, 'verbose': 0, 'warm_start': False}\n",
            "top_k_accuracy_score:\n",
            "0.5718027062418158\n",
            "{'C': 0.7067180436909671, 'class_weight': None, 'dual': False, 'fit_intercept': True, 'intercept_scaling': 1, 'l1_ratio': None, 'max_iter': 100, 'multi_class': 'auto', 'n_jobs': None, 'penalty': 'l1', 'random_state': 1, 'solver': 'liblinear', 'tol': 0.0001, 'verbose': 0, 'warm_start': False}\n",
            "top_k_accuracy_score:\n",
            "0.58271497162811\n",
            "{'C': 0.47211196988717175, 'class_weight': None, 'dual': False, 'fit_intercept': True, 'intercept_scaling': 1, 'l1_ratio': None, 'max_iter': 100, 'multi_class': 'auto', 'n_jobs': None, 'penalty': 'l1', 'random_state': 1, 'solver': 'liblinear', 'tol': 0.0001, 'verbose': 0, 'warm_start': False}\n",
            "top_k_accuracy_score:\n",
            "0.5709297250109122\n",
            "{'C': 0.7625578656114887, 'class_weight': None, 'dual': False, 'fit_intercept': True, 'intercept_scaling': 1, 'l1_ratio': None, 'max_iter': 100, 'multi_class': 'auto', 'n_jobs': None, 'penalty': 'l1', 'random_state': 1, 'solver': 'liblinear', 'tol': 0.0001, 'verbose': 0, 'warm_start': False}\n",
            "top_k_accuracy_score:\n",
            "0.5761676123963335\n",
            "{'C': 0.7246117477174545, 'class_weight': None, 'dual': False, 'fit_intercept': True, 'intercept_scaling': 1, 'l1_ratio': None, 'max_iter': 100, 'multi_class': 'auto', 'n_jobs': None, 'penalty': 'l1', 'random_state': 1, 'solver': 'liblinear', 'tol': 0.0001, 'verbose': 0, 'warm_start': False}\n",
            "top_k_accuracy_score:\n",
            "0.5683107813182017\n",
            "{'C': 0.4016272032490078, 'class_weight': None, 'dual': False, 'fit_intercept': True, 'intercept_scaling': 1, 'l1_ratio': None, 'max_iter': 100, 'multi_class': 'auto', 'n_jobs': None, 'penalty': 'l1', 'random_state': 1, 'solver': 'liblinear', 'tol': 0.0001, 'verbose': 0, 'warm_start': False}\n",
            "top_k_accuracy_score:\n",
            "0.5761676123963335\n",
            "{'C': 1.0430446896305512, 'class_weight': None, 'dual': False, 'fit_intercept': True, 'intercept_scaling': 1, 'l1_ratio': None, 'max_iter': 100, 'multi_class': 'auto', 'n_jobs': None, 'penalty': 'l1', 'random_state': 1, 'solver': 'liblinear', 'tol': 0.0001, 'verbose': 0, 'warm_start': False}\n",
            "top_k_accuracy_score:\n",
            "0.5779135748581405\n",
            "{'C': 0.42991900378082576, 'class_weight': None, 'dual': False, 'fit_intercept': True, 'intercept_scaling': 1, 'l1_ratio': None, 'max_iter': 100, 'multi_class': 'auto', 'n_jobs': None, 'penalty': 'l1', 'random_state': 1, 'solver': 'liblinear', 'tol': 0.0001, 'verbose': 0, 'warm_start': False}\n",
            "top_k_accuracy_score:\n",
            "0.5848974247053689\n",
            "{'C': 0.40577355279545824, 'class_weight': None, 'dual': False, 'fit_intercept': True, 'intercept_scaling': 1, 'l1_ratio': None, 'max_iter': 100, 'multi_class': 'auto', 'n_jobs': None, 'penalty': 'l1', 'random_state': 1, 'solver': 'liblinear', 'tol': 0.0001, 'verbose': 0, 'warm_start': False}\n",
            "top_k_accuracy_score:\n",
            "0.5678742907027499\n",
            "{'C': 0.04444685463806469, 'class_weight': None, 'dual': False, 'fit_intercept': True, 'intercept_scaling': 1, 'l1_ratio': None, 'max_iter': 100, 'multi_class': 'auto', 'n_jobs': None, 'penalty': 'l1', 'random_state': 1, 'solver': 'liblinear', 'tol': 0.0001, 'verbose': 0, 'warm_start': False}\n",
            "top_k_accuracy_score:\n",
            "0.5691837625491052\n",
            "{'C': 1.487398599559263, 'class_weight': None, 'dual': False, 'fit_intercept': True, 'intercept_scaling': 1, 'l1_ratio': None, 'max_iter': 100, 'multi_class': 'auto', 'n_jobs': None, 'penalty': 'l1', 'random_state': 1, 'solver': 'liblinear', 'tol': 0.0001, 'verbose': 0, 'warm_start': False}\n",
            "top_k_accuracy_score:\n",
            "0.5678742907027499\n",
            "{'C': 1.3705097450156543, 'class_weight': None, 'dual': False, 'fit_intercept': True, 'intercept_scaling': 1, 'l1_ratio': None, 'max_iter': 100, 'multi_class': 'auto', 'n_jobs': None, 'penalty': 'l1', 'random_state': 1, 'solver': 'liblinear', 'tol': 0.0001, 'verbose': 0, 'warm_start': False}\n",
            "top_k_accuracy_score:\n",
            "0.5687472719336534\n",
            "{'C': 0.7987009192583445, 'class_weight': None, 'dual': False, 'fit_intercept': True, 'intercept_scaling': 1, 'l1_ratio': None, 'max_iter': 100, 'multi_class': 'auto', 'n_jobs': None, 'penalty': 'l1', 'random_state': 1, 'solver': 'liblinear', 'tol': 0.0001, 'verbose': 0, 'warm_start': False}\n",
            "top_k_accuracy_score:\n",
            "0.5687472719336534\n",
            "{'C': 0.6295155202573226, 'class_weight': None, 'dual': False, 'fit_intercept': True, 'intercept_scaling': 1, 'l1_ratio': None, 'max_iter': 100, 'multi_class': 'auto', 'n_jobs': None, 'penalty': 'l1', 'random_state': 1, 'solver': 'liblinear', 'tol': 0.0001, 'verbose': 0, 'warm_start': False}\n",
            "100%|██████████| 20/20 [41:09<00:00, 123.47s/it, best loss: -0.5848974247053689]\n"
          ]
        }
      ]
    },
    {
      "cell_type": "code",
      "source": [
        "best_hyperparams"
      ],
      "metadata": {
        "id": "d4ZcmQ3gqoqM",
        "outputId": "b948c342-9b36-43d6-a62a-8e32647d840c",
        "colab": {
          "base_uri": "https://localhost:8080/"
        }
      },
      "execution_count": 40,
      "outputs": [
        {
          "output_type": "execute_result",
          "data": {
            "text/plain": [
              "{'C': 0.40577355279545824, 'penalty': 0}"
            ]
          },
          "metadata": {},
          "execution_count": 40
        }
      ]
    },
    {
      "cell_type": "code",
      "source": [
        "logistic_regression_with_found_hyperparameters = LogisticRegression(penalty = 'l1', \n",
        "                                                                    C = best_hyperparams['C'], solver = \"liblinear\",\n",
        "                                                                    random_state = 1)"
      ],
      "metadata": {
        "id": "iveA_O0xt0cc"
      },
      "execution_count": 39,
      "outputs": []
    },
    {
      "cell_type": "code",
      "source": [
        "logistic_regression_with_found_hyperparameters.fit(X_train, y_train)"
      ],
      "metadata": {
        "colab": {
          "base_uri": "https://localhost:8080/"
        },
        "id": "18TvW99tdYvh",
        "outputId": "0bf05d76-f974-4311-ae0b-f8bb1dc6c6df"
      },
      "execution_count": 41,
      "outputs": [
        {
          "output_type": "execute_result",
          "data": {
            "text/plain": [
              "LogisticRegression(C=0.40577355279545824, penalty='l1', random_state=1,\n",
              "                   solver='liblinear')"
            ]
          },
          "metadata": {},
          "execution_count": 41
        }
      ]
    },
    {
      "cell_type": "code",
      "source": [
        "preds = logistic_regression_with_found_hyperparameters.predict_proba(X_validation)\n",
        "top_k_accuracy_score(y_valid, preds, k=2, labels=logistic_regression_with_found_hyperparameters.classes_)"
      ],
      "metadata": {
        "colab": {
          "base_uri": "https://localhost:8080/"
        },
        "id": "QpxPY5y1qR7r",
        "outputId": "8a8182be-a07d-4d7c-dc7d-0f15ea4058a6"
      },
      "execution_count": 42,
      "outputs": [
        {
          "output_type": "execute_result",
          "data": {
            "text/plain": [
              "0.5848974247053689"
            ]
          },
          "metadata": {},
          "execution_count": 42
        }
      ]
    },
    {
      "cell_type": "markdown",
      "source": [
        "## Predicción en el test set"
      ],
      "metadata": {
        "id": "LyXzF4cLqzEt"
      }
    },
    {
      "cell_type": "code",
      "source": [
        "X_test = full_processor.transform(eliminate_genres_without_enough_observations(df_music_test.fillna(\"\")))\n",
        "y_test = labelEncoder.transform(eliminate_genres_without_enough_observations(df_music_test)[\"genre\"])"
      ],
      "metadata": {
        "id": "yDaTf940q2ag"
      },
      "execution_count": 43,
      "outputs": []
    },
    {
      "cell_type": "code",
      "source": [
        "preds = logistic_regression_with_found_hyperparameters.predict_proba(X_test)\n",
        "top_k_accuracy_score(y_test, preds, k=2, labels=model.classes_)"
      ],
      "metadata": {
        "colab": {
          "base_uri": "https://localhost:8080/"
        },
        "id": "NHXwfI4Trm_l",
        "outputId": "6844ad35-d39f-4e3d-e177-525e6a33ea40"
      },
      "execution_count": 45,
      "outputs": [
        {
          "output_type": "execute_result",
          "data": {
            "text/plain": [
              "0.5408267851042022"
            ]
          },
          "metadata": {},
          "execution_count": 45
        }
      ]
    },
    {
      "cell_type": "code",
      "source": [
        "pd.DataFrame(preds).to_csv(\"predictions_logistic_regression.csv\")"
      ],
      "metadata": {
        "id": "Fb4GwGFvs5N9"
      },
      "execution_count": 46,
      "outputs": []
    },
    {
      "cell_type": "markdown",
      "source": [
        "## ¿Qué features son los más importantes para predecir con el mejor modelo?"
      ],
      "metadata": {
        "id": "MZhRzgcdzCUK"
      }
    },
    {
      "cell_type": "markdown",
      "source": [
        "Fitteamos un decision tree al dataset para analizar las features de mayor importancia"
      ],
      "metadata": {
        "id": "rsO4Dfq_sAFz"
      }
    },
    {
      "cell_type": "code",
      "source": [
        "df_X = pd.DataFrame(X_train)\n",
        "df_X.columns = [\"negativeScore\", \"positiveScore\", \"neutralScore\", \"compoundScore\"] + ['sum_tfidf_for_dance', 'sum_tfidf_for_pop', 'sum_tfidf_for_r&b',\n",
        "       'sum_tfidf_for_hip-hop', 'sum_tfidf_for_rap', 'sum_tfidf_for_soul',\n",
        "       'sum_tfidf_for_rock', 'sum_tfidf_for_blues', 'sum_tfidf_for_folk',\n",
        "       'sum_tfidf_for_jazz', 'sum_tfidf_for_country',\n",
        "       'sum_tfidf_for_alternative', 'sum_tfidf_for_children’s music',\n",
        "       'sum_tfidf_for_indie', 'sum_tfidf_for_electronic',\n",
        "       'sum_tfidf_for_classical', 'sum_tfidf_for_opera', 'sum_tfidf_for_world',\n",
        "       'sum_tfidf_for_ska', 'sum_tfidf_for_comedy', 'sum_tfidf_for_reggae',\n",
        "       'sum_tfidf_for_reggaeton', \"sum_tfidf_for_children's music\",\n",
        "       'sum_tfidf_for_soundtrack', 'sum_tfidf_for_anime',\n",
        "       'sum_tfidf_for_movie'] + \\\n",
        "                  [\"length_lyrics\", \"length_of_track_name\", \"number_of_lines\", \"number_of_tokens\"] + \\\n",
        "                  [\"FW\", \"JJR\", \"NN\", \"NNS\", \"NNP\", \"PDT\", \"PRP\", \"RB\", \"RBR\",\n",
        "                   \"UH\", \"VB\", \"VBG\", \"VBD\", \"VBN\", \"VBP\", \"VBZ\", \"other\"] + \\\n",
        "                  [\"Minus\", \"Major\"] + \\\n",
        "                  [\"popularity_by_lang\", \"a_popularity_by_lang\", \"loudness_by_lang\"] + numerical_features + ordinal_features\n"
      ],
      "metadata": {
        "id": "6icQh3qFuVKY"
      },
      "execution_count": 47,
      "outputs": []
    },
    {
      "cell_type": "code",
      "source": [
        "W = logistic_regression_with_found_hyperparameters.coef_\n",
        "W = W/np.mean(W)\n",
        "feature_importance = np.sum(np.abs(W), axis = 0)\n",
        "feature_importance"
      ],
      "metadata": {
        "id": "w_xOTq_gJCGS",
        "outputId": "a349ea31-e0ed-4e44-fad0-44ff9dcf16f4",
        "colab": {
          "base_uri": "https://localhost:8080/"
        }
      },
      "execution_count": 52,
      "outputs": [
        {
          "output_type": "execute_result",
          "data": {
            "text/plain": [
              "array([1.43599912e+02, 2.04366595e+02, 1.52512489e+02, 3.83909043e+01,\n",
              "       1.01149982e+02, 8.16620414e+01, 9.27754697e+01, 8.04313101e+01,\n",
              "       3.88142375e+01, 7.94627666e+01, 5.73086153e+01, 9.70658685e+01,\n",
              "       1.00437112e+02, 1.01959981e+02, 9.68745192e+01, 9.69371040e+01,\n",
              "       5.67824889e+01, 1.00869906e+02, 7.22373854e+01, 9.63690010e+01,\n",
              "       3.04814664e+01, 1.02108264e+02, 8.38201961e+01, 4.16872308e+01,\n",
              "       1.18931060e+02, 1.00892298e+02, 2.84197128e+01, 5.47386861e+01,\n",
              "       2.80697317e+01, 7.82364892e+01, 2.26583902e-01, 4.65103415e+00,\n",
              "       3.36731034e+00, 8.20813692e-01, 6.61524336e+00, 6.52779307e+00,\n",
              "       2.34769704e+00, 4.34422883e+00, 3.25007807e+00, 1.02979439e+01,\n",
              "       2.51234135e+00, 2.89458197e+00, 9.98699618e+00, 7.12775249e+00,\n",
              "       2.01463454e+00, 3.15711309e+00, 6.23402688e+00, 3.47697061e+00,\n",
              "       5.66608911e+00, 2.99711240e+00, 7.00325697e-01, 6.25895745e+00,\n",
              "       2.04711643e+01, 1.56066413e+01, 1.43537305e+02, 1.38435544e+02,\n",
              "       1.05149871e+00, 2.89371218e+01, 1.88764690e+01, 2.95851661e+02,\n",
              "       6.15343736e+02, 1.97623798e-03, 3.66363767e+02, 3.91279415e+02,\n",
              "       5.09876075e+01, 2.57449384e+01, 1.06249675e+03, 7.40836002e-01,\n",
              "       3.12596213e+02, 2.68022117e+00, 3.66497702e+01])"
            ]
          },
          "metadata": {},
          "execution_count": 52
        }
      ]
    },
    {
      "cell_type": "code",
      "source": [
        "np.argsort(feature_importance)"
      ],
      "metadata": {
        "id": "gnmjlXotJvch",
        "outputId": "e67ff862-f1f4-4887-d8b3-561765990274",
        "colab": {
          "base_uri": "https://localhost:8080/"
        }
      },
      "execution_count": 56,
      "outputs": [
        {
          "output_type": "execute_result",
          "data": {
            "text/plain": [
              "array([61, 30, 50, 67, 33, 56, 44, 36, 40, 69, 41, 49, 45, 38, 32, 47, 37,\n",
              "       31, 48, 46, 51, 35, 34, 43, 42, 39, 53, 58, 52, 65, 28, 26, 57, 20,\n",
              "       70,  3,  8, 23, 64, 27, 16, 10, 18, 29,  9,  7,  5, 22,  6, 19, 14,\n",
              "       15, 11, 12, 17, 25,  4, 13, 21, 24, 55, 54,  0,  2,  1, 59, 68, 62,\n",
              "       63, 60, 66])"
            ]
          },
          "metadata": {},
          "execution_count": 56
        }
      ]
    },
    {
      "cell_type": "code",
      "source": [
        "features = list(df_X.columns)\n",
        "features_sorted_by_importance = sorted(features, key = lambda element: np.argsort(feature_importance)[features.index(element)])"
      ],
      "metadata": {
        "id": "WdZxZ-KaLRHF"
      },
      "execution_count": 59,
      "outputs": []
    },
    {
      "cell_type": "code",
      "source": [
        "feature_importance[np.argsort(feature_importance) < 15]"
      ],
      "metadata": {
        "id": "t3F3tHD6Mps5",
        "outputId": "2124f92f-5c08-492d-a488-ec1f3f1bec07",
        "colab": {
          "base_uri": "https://localhost:8080/"
        }
      },
      "execution_count": 64,
      "outputs": [
        {
          "output_type": "execute_result",
          "data": {
            "text/plain": [
              "array([  6.52779307,   2.34769704,   2.89458197,   2.01463454,\n",
              "         3.15711309,   6.23402688,   5.66608911,   0.7003257 ,\n",
              "        20.47116429,  15.60664128,   1.05149871,  28.93712181,\n",
              "       366.36376722, 391.27941514,  50.98760754])"
            ]
          },
          "metadata": {},
          "execution_count": 64
        }
      ]
    },
    {
      "cell_type": "code",
      "source": [
        "plt.figure(figsize = (14,6))\n",
        "sns.set_style(\"whitegrid\")\n",
        "sns.barplot(x = features_sorted_by_importance[:15], y = np.sort(feature_importance[np.argsort(feature_importance) < 15])[::-1],\n",
        "            order = features_sorted_by_importance[:15], palette = \"mako\")\n",
        "plt.xticks(rotation = 45)\n",
        "sns.despine();\n"
      ],
      "metadata": {
        "id": "bmjiqF13L5ne",
        "outputId": "a1e63cfe-0b32-44ab-dced-69d8ab10f924",
        "colab": {
          "base_uri": "https://localhost:8080/",
          "height": 439
        }
      },
      "execution_count": 84,
      "outputs": [
        {
          "output_type": "display_data",
          "data": {
            "text/plain": [
              "<Figure size 1008x432 with 1 Axes>"
            ],
            "image/png": "[encoded data removed]"
          },
          "metadata": {}
        }
      ]
    }
  ]
}