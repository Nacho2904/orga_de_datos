{
  "nbformat": 4,
  "nbformat_minor": 0,
  "metadata": {
    "colab": {
      "provenance": [],
      "collapsed_sections": [
        "cfMAB-YJEIZo",
        "mpVdXxUJ_ql2",
        "H6XTP5lsDDnZ",
        "Bfi1gBIIDFh5",
        "uDOJmd_SDFmv",
        "hQ2i_k8EDFre",
        "4iVrMIPiDQP2"
      ],
      "mount_file_id": "16NH6KkN6Yb9ORj7HL3tO7CVbi7hgXzM5",
      "authorship_tag": "ABX9TyO3+ekV72oviG/NQzSfA8DH",
      "include_colab_link": true
    },
    "kernelspec": {
      "name": "python3",
      "display_name": "Python 3"
    },
    "language_info": {
      "name": "python"
    }
  },
  "cells": [
    {
      "cell_type": "markdown",
      "metadata": {
        "id": "view-in-github",
        "colab_type": "text"
      },
      "source": [
        "<a href=\"https://colab.research.google.com/github/Nacho2904/orga_de_datos/blob/main/tp_1.ipynb\" target=\"_parent\"><img src=\"https://colab.research.google.com/assets/colab-badge.svg\" alt=\"Open In Colab\"/></a>"
      ]
    },
    {
      "cell_type": "markdown",
      "source": [
        "# TP1 - Pandas y Visualización de datos"
      ],
      "metadata": {
        "id": "TBA88d33C3Ko"
      }
    },
    {
      "cell_type": "markdown",
      "source": [
        "## SetUp"
      ],
      "metadata": {
        "id": "cfMAB-YJEIZo"
      }
    },
    {
      "cell_type": "code",
      "source": [
        "import pandas as pd\n",
        "import matplotlib.pyplot as plt\n",
        "import seaborn as sns\n",
        "import numpy as np\n",
        "from google.colab import drive \n",
        "\n",
        "drive.mount('/content/gdrive')\n",
        "path_a_cast = 'gdrive/MyDrive/Movie dataset/cast.csv'\n",
        "path_a_companies = 'gdrive/MyDrive/Movie dataset/companies.csv'\n",
        "path_a_crew = 'gdrive/MyDrive/Movie dataset/crew.csv'\n",
        "path_a_actores = 'gdrive/MyDrive/Movie dataset/imdb_actors.csv'\n",
        "path_a_keywords = 'gdrive/MyDrive/Movie dataset/keywords.csv'\n",
        "path_a_links = 'gdrive/MyDrive/Movie dataset/links.csv'\n",
        "path_a_movies = 'gdrive/MyDrive/Movie dataset/movies.csv'\n",
        "path_a_ratings = 'gdrive/MyDrive/Movie dataset/ratings.csv'"
      ],
      "metadata": {
        "colab": {
          "base_uri": "https://localhost:8080/"
        },
        "id": "CymeZaVhEKex",
        "outputId": "5738d15f-9de2-49cb-b93b-24b1123b30af"
      },
      "execution_count": 84,
      "outputs": [
        {
          "output_type": "stream",
          "name": "stdout",
          "text": [
            "Drive already mounted at /content/gdrive; to attempt to forcibly remount, call drive.mount(\"/content/gdrive\", force_remount=True).\n"
          ]
        }
      ]
    },
    {
      "cell_type": "markdown",
      "source": [
        "## Parte I: Pandas"
      ],
      "metadata": {
        "id": "Y9IeB_3uU9Gi"
      }
    },
    {
      "cell_type": "markdown",
      "source": [
        "### P2"
      ],
      "metadata": {
        "id": "mpVdXxUJ_ql2"
      }
    },
    {
      "cell_type": "markdown",
      "source": [
        "- De las 10 películas más populares, ¿cuál es el título de la película que tiene más géneros asociados? ¿Cuáles son esos géneros?"
      ],
      "metadata": {
        "id": "s-p7zEXiHvz7"
      }
    },
    {
      "cell_type": "code",
      "source": [
        "# Leemos el dataset de películas con Pandas\n",
        "df_movies = pd.read_csv(path_a_movies)\n",
        "df_movies.head(1)"
      ],
      "metadata": {
        "id": "f3JsDNJEH08i",
        "colab": {
          "base_uri": "https://localhost:8080/",
          "height": 296
        },
        "outputId": "f446ffb0-ac13-429a-8aeb-2890204fb19d"
      },
      "execution_count": 85,
      "outputs": [
        {
          "output_type": "stream",
          "name": "stderr",
          "text": [
            "/usr/local/lib/python3.7/dist-packages/IPython/core/interactiveshell.py:3326: DtypeWarning: Columns (10) have mixed types.Specify dtype option on import or set low_memory=False.\n",
            "  exec(code_obj, self.user_global_ns, self.user_ns)\n"
          ]
        },
        {
          "output_type": "execute_result",
          "data": {
            "text/plain": [
              "   adult belongs_to_collection    budget                   genres  \\\n",
              "0  False  Toy Story Collection  30000000  Animation,Comedy,Family   \n",
              "\n",
              "                               homepage   id    imdb_id original_language  \\\n",
              "0  http://toystory.disney.com/toy-story  862  tt0114709                en   \n",
              "\n",
              "  original_title                                           overview  ...  \\\n",
              "0      Toy Story  Led by Woody, Andy's toys live happily in his ...  ...   \n",
              "\n",
              "  release_date      revenue runtime                          spoken_languages  \\\n",
              "0   1995-10-30  373554033.0    81.0  [{'iso_639_1': 'en', 'name': 'English'}]   \n",
              "\n",
              "     status  tagline      title  video vote_average vote_count  \n",
              "0  Released      NaN  Toy Story  False          7.7     5415.0  \n",
              "\n",
              "[1 rows x 24 columns]"
            ],
            "text/html": [
              "\n",
              "  <div id=\"df-d88fa549-1731-4f1b-8051-df519cc31681\">\n",
              "    <div class=\"colab-df-container\">\n",
              "      <div>\n",
              "<style scoped>\n",
              "    .dataframe tbody tr th:only-of-type {\n",
              "        vertical-align: middle;\n",
              "    }\n",
              "\n",
              "    .dataframe tbody tr th {\n",
              "        vertical-align: top;\n",
              "    }\n",
              "\n",
              "    .dataframe thead th {\n",
              "        text-align: right;\n",
              "    }\n",
              "</style>\n",
              "<table border=\"1\" class=\"dataframe\">\n",
              "  <thead>\n",
              "    <tr style=\"text-align: right;\">\n",
              "      <th></th>\n",
              "      <th>adult</th>\n",
              "      <th>belongs_to_collection</th>\n",
              "      <th>budget</th>\n",
              "      <th>genres</th>\n",
              "      <th>homepage</th>\n",
              "      <th>id</th>\n",
              "      <th>imdb_id</th>\n",
              "      <th>original_language</th>\n",
              "      <th>original_title</th>\n",
              "      <th>overview</th>\n",
              "      <th>...</th>\n",
              "      <th>release_date</th>\n",
              "      <th>revenue</th>\n",
              "      <th>runtime</th>\n",
              "      <th>spoken_languages</th>\n",
              "      <th>status</th>\n",
              "      <th>tagline</th>\n",
              "      <th>title</th>\n",
              "      <th>video</th>\n",
              "      <th>vote_average</th>\n",
              "      <th>vote_count</th>\n",
              "    </tr>\n",
              "  </thead>\n",
              "  <tbody>\n",
              "    <tr>\n",
              "      <th>0</th>\n",
              "      <td>False</td>\n",
              "      <td>Toy Story Collection</td>\n",
              "      <td>30000000</td>\n",
              "      <td>Animation,Comedy,Family</td>\n",
              "      <td>http://toystory.disney.com/toy-story</td>\n",
              "      <td>862</td>\n",
              "      <td>tt0114709</td>\n",
              "      <td>en</td>\n",
              "      <td>Toy Story</td>\n",
              "      <td>Led by Woody, Andy's toys live happily in his ...</td>\n",
              "      <td>...</td>\n",
              "      <td>1995-10-30</td>\n",
              "      <td>373554033.0</td>\n",
              "      <td>81.0</td>\n",
              "      <td>[{'iso_639_1': 'en', 'name': 'English'}]</td>\n",
              "      <td>Released</td>\n",
              "      <td>NaN</td>\n",
              "      <td>Toy Story</td>\n",
              "      <td>False</td>\n",
              "      <td>7.7</td>\n",
              "      <td>5415.0</td>\n",
              "    </tr>\n",
              "  </tbody>\n",
              "</table>\n",
              "<p>1 rows × 24 columns</p>\n",
              "</div>\n",
              "      <button class=\"colab-df-convert\" onclick=\"convertToInteractive('df-d88fa549-1731-4f1b-8051-df519cc31681')\"\n",
              "              title=\"Convert this dataframe to an interactive table.\"\n",
              "              style=\"display:none;\">\n",
              "        \n",
              "  <svg xmlns=\"http://www.w3.org/2000/svg\" height=\"24px\"viewBox=\"0 0 24 24\"\n",
              "       width=\"24px\">\n",
              "    <path d=\"M0 0h24v24H0V0z\" fill=\"none\"/>\n",
              "    <path d=\"M18.56 5.44l.94 2.06.94-2.06 2.06-.94-2.06-.94-.94-2.06-.94 2.06-2.06.94zm-11 1L8.5 8.5l.94-2.06 2.06-.94-2.06-.94L8.5 2.5l-.94 2.06-2.06.94zm10 10l.94 2.06.94-2.06 2.06-.94-2.06-.94-.94-2.06-.94 2.06-2.06.94z\"/><path d=\"M17.41 7.96l-1.37-1.37c-.4-.4-.92-.59-1.43-.59-.52 0-1.04.2-1.43.59L10.3 9.45l-7.72 7.72c-.78.78-.78 2.05 0 2.83L4 21.41c.39.39.9.59 1.41.59.51 0 1.02-.2 1.41-.59l7.78-7.78 2.81-2.81c.8-.78.8-2.07 0-2.86zM5.41 20L4 18.59l7.72-7.72 1.47 1.35L5.41 20z\"/>\n",
              "  </svg>\n",
              "      </button>\n",
              "      \n",
              "  <style>\n",
              "    .colab-df-container {\n",
              "      display:flex;\n",
              "      flex-wrap:wrap;\n",
              "      gap: 12px;\n",
              "    }\n",
              "\n",
              "    .colab-df-convert {\n",
              "      background-color: #E8F0FE;\n",
              "      border: none;\n",
              "      border-radius: 50%;\n",
              "      cursor: pointer;\n",
              "      display: none;\n",
              "      fill: #1967D2;\n",
              "      height: 32px;\n",
              "      padding: 0 0 0 0;\n",
              "      width: 32px;\n",
              "    }\n",
              "\n",
              "    .colab-df-convert:hover {\n",
              "      background-color: #E2EBFA;\n",
              "      box-shadow: 0px 1px 2px rgba(60, 64, 67, 0.3), 0px 1px 3px 1px rgba(60, 64, 67, 0.15);\n",
              "      fill: #174EA6;\n",
              "    }\n",
              "\n",
              "    [theme=dark] .colab-df-convert {\n",
              "      background-color: #3B4455;\n",
              "      fill: #D2E3FC;\n",
              "    }\n",
              "\n",
              "    [theme=dark] .colab-df-convert:hover {\n",
              "      background-color: #434B5C;\n",
              "      box-shadow: 0px 1px 3px 1px rgba(0, 0, 0, 0.15);\n",
              "      filter: drop-shadow(0px 1px 2px rgba(0, 0, 0, 0.3));\n",
              "      fill: #FFFFFF;\n",
              "    }\n",
              "  </style>\n",
              "\n",
              "      <script>\n",
              "        const buttonEl =\n",
              "          document.querySelector('#df-d88fa549-1731-4f1b-8051-df519cc31681 button.colab-df-convert');\n",
              "        buttonEl.style.display =\n",
              "          google.colab.kernel.accessAllowed ? 'block' : 'none';\n",
              "\n",
              "        async function convertToInteractive(key) {\n",
              "          const element = document.querySelector('#df-d88fa549-1731-4f1b-8051-df519cc31681');\n",
              "          const dataTable =\n",
              "            await google.colab.kernel.invokeFunction('convertToInteractive',\n",
              "                                                     [key], {});\n",
              "          if (!dataTable) return;\n",
              "\n",
              "          const docLinkHtml = 'Like what you see? Visit the ' +\n",
              "            '<a target=\"_blank\" href=https://colab.research.google.com/notebooks/data_table.ipynb>data table notebook</a>'\n",
              "            + ' to learn more about interactive tables.';\n",
              "          element.innerHTML = '';\n",
              "          dataTable['output_type'] = 'display_data';\n",
              "          await google.colab.output.renderOutput(dataTable, element);\n",
              "          const docLink = document.createElement('div');\n",
              "          docLink.innerHTML = docLinkHtml;\n",
              "          element.appendChild(docLink);\n",
              "        }\n",
              "      </script>\n",
              "    </div>\n",
              "  </div>\n",
              "  "
            ]
          },
          "metadata": {},
          "execution_count": 85
        }
      ]
    },
    {
      "cell_type": "code",
      "source": [
        "df_movies.info()"
      ],
      "metadata": {
        "colab": {
          "base_uri": "https://localhost:8080/"
        },
        "id": "j1fKIlHiIlaO",
        "outputId": "6344e1bb-e57e-4c6c-997c-b30d4f942191"
      },
      "execution_count": 86,
      "outputs": [
        {
          "output_type": "stream",
          "name": "stdout",
          "text": [
            "<class 'pandas.core.frame.DataFrame'>\n",
            "RangeIndex: 45466 entries, 0 to 45465\n",
            "Data columns (total 24 columns):\n",
            " #   Column                 Non-Null Count  Dtype  \n",
            "---  ------                 --------------  -----  \n",
            " 0   adult                  45466 non-null  object \n",
            " 1   belongs_to_collection  4494 non-null   object \n",
            " 2   budget                 45466 non-null  object \n",
            " 3   genres                 43021 non-null  object \n",
            " 4   homepage               7782 non-null   object \n",
            " 5   id                     45466 non-null  object \n",
            " 6   imdb_id                45449 non-null  object \n",
            " 7   original_language      45455 non-null  object \n",
            " 8   original_title         45466 non-null  object \n",
            " 9   overview               44512 non-null  object \n",
            " 10  popularity             45461 non-null  object \n",
            " 11  poster_path            45080 non-null  object \n",
            " 12  production_companies   33585 non-null  object \n",
            " 13  production_countries   45463 non-null  object \n",
            " 14  release_date           45379 non-null  object \n",
            " 15  revenue                45460 non-null  float64\n",
            " 16  runtime                45203 non-null  float64\n",
            " 17  spoken_languages       45460 non-null  object \n",
            " 18  status                 45379 non-null  object \n",
            " 19  tagline                20412 non-null  object \n",
            " 20  title                  45460 non-null  object \n",
            " 21  video                  45460 non-null  object \n",
            " 22  vote_average           45460 non-null  float64\n",
            " 23  vote_count             45460 non-null  float64\n",
            "dtypes: float64(4), object(20)\n",
            "memory usage: 8.3+ MB\n"
          ]
        }
      ]
    },
    {
      "cell_type": "markdown",
      "source": [
        "Vemos que el dataset soluciona nuestra primera cuestión: cómo ordenar las películas por popularidad. Examinamos la columna **popularity** que nos viene por defecto."
      ],
      "metadata": {
        "id": "iqTLnHS-IrGx"
      }
    },
    {
      "cell_type": "code",
      "source": [
        "df_movies[\"popularity\"]"
      ],
      "metadata": {
        "colab": {
          "base_uri": "https://localhost:8080/"
        },
        "id": "1qEV6ActI75z",
        "outputId": "cff5bd0c-e0e6-4098-bd59-ba4011a5c7de"
      },
      "execution_count": 87,
      "outputs": [
        {
          "output_type": "execute_result",
          "data": {
            "text/plain": [
              "0        21.946943\n",
              "1        17.015539\n",
              "2          11.7129\n",
              "3         3.859495\n",
              "4         8.387519\n",
              "           ...    \n",
              "45461     0.072051\n",
              "45462     0.178241\n",
              "45463     0.903007\n",
              "45464     0.003503\n",
              "45465     0.163015\n",
              "Name: popularity, Length: 45466, dtype: object"
            ]
          },
          "metadata": {},
          "execution_count": 87
        }
      ]
    },
    {
      "cell_type": "markdown",
      "source": [
        "Notamos más arriba del .info que su tipo es *object*. Intentamos transformarla a *float* para ver si hay valores que no son numéricos (si surge una excepción, habrá valores no numéricos)."
      ],
      "metadata": {
        "id": "ut5RHQ0nJOmc"
      }
    },
    {
      "cell_type": "code",
      "source": [
        "#comento todo esto incluido el error porque si tengo que correr todo de vuelta me para la ejecución\n",
        "#popularity_as_float = df_movies[\"popularity\"].map(float)\n",
        "\"\"\"\n",
        "---------------------------------------------------------------------------\n",
        "\n",
        "ValueError                                Traceback (most recent call last)\n",
        "\n",
        "<ipython-input-21-384c6448775b> in <module>\n",
        "----> 1 popularity_as_float = df_movies[\"popularity\"].map(float)\n",
        "\n",
        "2 frames\n",
        "\n",
        "/usr/local/lib/python3.7/dist-packages/pandas/core/series.py in map(self, arg, na_action)\n",
        "   4159         dtype: object\n",
        "   4160         \n",
        "-> 4161         new_values = super()._map_values(arg, na_action=na_action)\n",
        "   4162         return self._constructor(new_values, index=self.index).__finalize__(\n",
        "   4163             self, method=\"map\"\n",
        "\n",
        "/usr/local/lib/python3.7/dist-packages/pandas/core/base.py in _map_values(self, mapper, na_action)\n",
        "    868 \n",
        "    869         # mapper is a function\n",
        "--> 870         new_values = map_f(values, mapper)\n",
        "    871 \n",
        "    872         return new_values\n",
        "\n",
        "/usr/local/lib/python3.7/dist-packages/pandas/_libs/lib.pyx in pandas._libs.lib.map_infer()\n",
        "\n",
        "ValueError: could not convert string to float: 'Beware Of Frost Bites'\n",
        "\n",
        "\n",
        "\"\"\""
      ],
      "metadata": {
        "colab": {
          "base_uri": "https://localhost:8080/",
          "height": 1000
        },
        "id": "2-QX7GlzJqX9",
        "outputId": "a9944e3f-219c-40da-aeda-16b0a3c82c5a"
      },
      "execution_count": 88,
      "outputs": [
        {
          "output_type": "execute_result",
          "data": {
            "text/plain": [
              "'\\n---------------------------------------------------------------------------\\n\\nValueError                                Traceback (most recent call last)\\n\\n<ipython-input-21-384c6448775b> in <module>\\n----> 1 popularity_as_float = df_movies[\"popularity\"].map(float)\\n\\n2 frames\\n\\n/usr/local/lib/python3.7/dist-packages/pandas/core/series.py in map(self, arg, na_action)\\n   4159         dtype: object\\n   4160         \\n-> 4161         new_values = super()._map_values(arg, na_action=na_action)\\n   4162         return self._constructor(new_values, index=self.index).__finalize__(\\n   4163             self, method=\"map\"\\n\\n/usr/local/lib/python3.7/dist-packages/pandas/core/base.py in _map_values(self, mapper, na_action)\\n    868 \\n    869         # mapper is a function\\n--> 870         new_values = map_f(values, mapper)\\n    871 \\n    872         return new_values\\n\\n/usr/local/lib/python3.7/dist-packages/pandas/_libs/lib.pyx in pandas._libs.lib.map_infer()\\n\\nValueError: could not convert string to float: \\'Beware Of Frost Bites\\'\\n\\n\\n'"
            ],
            "application/vnd.google.colaboratory.intrinsic+json": {
              "type": "string"
            }
          },
          "metadata": {},
          "execution_count": 88
        }
      ]
    },
    {
      "cell_type": "markdown",
      "source": [
        "Efectivamente, hay filas en las que la columna popularidad contiene valores no numéricos. Abajo mostramos la que encontramos al intentar aplicar el map."
      ],
      "metadata": {
        "id": "mr8OEMqrJ1HW"
      }
    },
    {
      "cell_type": "code",
      "source": [
        "df_movies[df_movies[\"popularity\"] == 'Beware Of Frost Bites'][\"popularity\"].iloc[0]"
      ],
      "metadata": {
        "colab": {
          "base_uri": "https://localhost:8080/",
          "height": 455
        },
        "id": "nXkHQfucJ-ee",
        "outputId": "7b8d9e3e-ab1f-4cc2-fc69-0a4a6f52a22f"
      },
      "execution_count": 89,
      "outputs": [
        {
          "output_type": "execute_result",
          "data": {
            "text/plain": [
              "'Beware Of Frost Bites'"
            ],
            "application/vnd.google.colaboratory.intrinsic+json": {
              "type": "string"
            }
          },
          "metadata": {},
          "execution_count": 89
        }
      ]
    },
    {
      "cell_type": "markdown",
      "source": [
        "Esto nos importa porque mientras haya filas que posean esa cualidad, no podemos ordenar el dataset para obtener las 10 películas más populares. Contamos la cantidad de películas con este problema:"
      ],
      "metadata": {
        "id": "HIyIHL3cLioN"
      }
    },
    {
      "cell_type": "code",
      "source": [
        "pelis_polemicas = pd.to_numeric(df_movies[\"popularity\"], errors = 'coerce')\n",
        "df_movies[pelis_polemicas.isnull()][[\"original_title\",\"vote_count\"]]"
      ],
      "metadata": {
        "colab": {
          "base_uri": "https://localhost:8080/",
          "height": 441
        },
        "id": "cPf2TgyVL0Kt",
        "outputId": "72c26084-72ac-4a57-dfeb-8a6c2bd3bedc"
      },
      "execution_count": 90,
      "outputs": [
        {
          "output_type": "execute_result",
          "data": {
            "text/plain": [
              "                                 original_title  vote_count\n",
              "19729                              Midnight Man         NaN\n",
              "19730  [{'iso_639_1': 'en', 'name': 'English'}]         NaN\n",
              "29502                          マルドゥック・スクランブル 排気         NaN\n",
              "29503      [{'iso_639_1': 'ja', 'name': '日本語'}]         NaN\n",
              "35586                          Avalanche Sharks         NaN\n",
              "35587  [{'iso_639_1': 'en', 'name': 'English'}]         NaN"
            ],
            "text/html": [
              "\n",
              "  <div id=\"df-02f2b088-11f1-4f26-951e-38090c9030d2\">\n",
              "    <div class=\"colab-df-container\">\n",
              "      <div>\n",
              "<style scoped>\n",
              "    .dataframe tbody tr th:only-of-type {\n",
              "        vertical-align: middle;\n",
              "    }\n",
              "\n",
              "    .dataframe tbody tr th {\n",
              "        vertical-align: top;\n",
              "    }\n",
              "\n",
              "    .dataframe thead th {\n",
              "        text-align: right;\n",
              "    }\n",
              "</style>\n",
              "<table border=\"1\" class=\"dataframe\">\n",
              "  <thead>\n",
              "    <tr style=\"text-align: right;\">\n",
              "      <th></th>\n",
              "      <th>original_title</th>\n",
              "      <th>vote_count</th>\n",
              "    </tr>\n",
              "  </thead>\n",
              "  <tbody>\n",
              "    <tr>\n",
              "      <th>19729</th>\n",
              "      <td>Midnight Man</td>\n",
              "      <td>NaN</td>\n",
              "    </tr>\n",
              "    <tr>\n",
              "      <th>19730</th>\n",
              "      <td>[{'iso_639_1': 'en', 'name': 'English'}]</td>\n",
              "      <td>NaN</td>\n",
              "    </tr>\n",
              "    <tr>\n",
              "      <th>29502</th>\n",
              "      <td>マルドゥック・スクランブル 排気</td>\n",
              "      <td>NaN</td>\n",
              "    </tr>\n",
              "    <tr>\n",
              "      <th>29503</th>\n",
              "      <td>[{'iso_639_1': 'ja', 'name': '日本語'}]</td>\n",
              "      <td>NaN</td>\n",
              "    </tr>\n",
              "    <tr>\n",
              "      <th>35586</th>\n",
              "      <td>Avalanche Sharks</td>\n",
              "      <td>NaN</td>\n",
              "    </tr>\n",
              "    <tr>\n",
              "      <th>35587</th>\n",
              "      <td>[{'iso_639_1': 'en', 'name': 'English'}]</td>\n",
              "      <td>NaN</td>\n",
              "    </tr>\n",
              "  </tbody>\n",
              "</table>\n",
              "</div>\n",
              "      <button class=\"colab-df-convert\" onclick=\"convertToInteractive('df-02f2b088-11f1-4f26-951e-38090c9030d2')\"\n",
              "              title=\"Convert this dataframe to an interactive table.\"\n",
              "              style=\"display:none;\">\n",
              "        \n",
              "  <svg xmlns=\"http://www.w3.org/2000/svg\" height=\"24px\"viewBox=\"0 0 24 24\"\n",
              "       width=\"24px\">\n",
              "    <path d=\"M0 0h24v24H0V0z\" fill=\"none\"/>\n",
              "    <path d=\"M18.56 5.44l.94 2.06.94-2.06 2.06-.94-2.06-.94-.94-2.06-.94 2.06-2.06.94zm-11 1L8.5 8.5l.94-2.06 2.06-.94-2.06-.94L8.5 2.5l-.94 2.06-2.06.94zm10 10l.94 2.06.94-2.06 2.06-.94-2.06-.94-.94-2.06-.94 2.06-2.06.94z\"/><path d=\"M17.41 7.96l-1.37-1.37c-.4-.4-.92-.59-1.43-.59-.52 0-1.04.2-1.43.59L10.3 9.45l-7.72 7.72c-.78.78-.78 2.05 0 2.83L4 21.41c.39.39.9.59 1.41.59.51 0 1.02-.2 1.41-.59l7.78-7.78 2.81-2.81c.8-.78.8-2.07 0-2.86zM5.41 20L4 18.59l7.72-7.72 1.47 1.35L5.41 20z\"/>\n",
              "  </svg>\n",
              "      </button>\n",
              "      \n",
              "  <style>\n",
              "    .colab-df-container {\n",
              "      display:flex;\n",
              "      flex-wrap:wrap;\n",
              "      gap: 12px;\n",
              "    }\n",
              "\n",
              "    .colab-df-convert {\n",
              "      background-color: #E8F0FE;\n",
              "      border: none;\n",
              "      border-radius: 50%;\n",
              "      cursor: pointer;\n",
              "      display: none;\n",
              "      fill: #1967D2;\n",
              "      height: 32px;\n",
              "      padding: 0 0 0 0;\n",
              "      width: 32px;\n",
              "    }\n",
              "\n",
              "    .colab-df-convert:hover {\n",
              "      background-color: #E2EBFA;\n",
              "      box-shadow: 0px 1px 2px rgba(60, 64, 67, 0.3), 0px 1px 3px 1px rgba(60, 64, 67, 0.15);\n",
              "      fill: #174EA6;\n",
              "    }\n",
              "\n",
              "    [theme=dark] .colab-df-convert {\n",
              "      background-color: #3B4455;\n",
              "      fill: #D2E3FC;\n",
              "    }\n",
              "\n",
              "    [theme=dark] .colab-df-convert:hover {\n",
              "      background-color: #434B5C;\n",
              "      box-shadow: 0px 1px 3px 1px rgba(0, 0, 0, 0.15);\n",
              "      filter: drop-shadow(0px 1px 2px rgba(0, 0, 0, 0.3));\n",
              "      fill: #FFFFFF;\n",
              "    }\n",
              "  </style>\n",
              "\n",
              "      <script>\n",
              "        const buttonEl =\n",
              "          document.querySelector('#df-02f2b088-11f1-4f26-951e-38090c9030d2 button.colab-df-convert');\n",
              "        buttonEl.style.display =\n",
              "          google.colab.kernel.accessAllowed ? 'block' : 'none';\n",
              "\n",
              "        async function convertToInteractive(key) {\n",
              "          const element = document.querySelector('#df-02f2b088-11f1-4f26-951e-38090c9030d2');\n",
              "          const dataTable =\n",
              "            await google.colab.kernel.invokeFunction('convertToInteractive',\n",
              "                                                     [key], {});\n",
              "          if (!dataTable) return;\n",
              "\n",
              "          const docLinkHtml = 'Like what you see? Visit the ' +\n",
              "            '<a target=\"_blank\" href=https://colab.research.google.com/notebooks/data_table.ipynb>data table notebook</a>'\n",
              "            + ' to learn more about interactive tables.';\n",
              "          element.innerHTML = '';\n",
              "          dataTable['output_type'] = 'display_data';\n",
              "          await google.colab.output.renderOutput(dataTable, element);\n",
              "          const docLink = document.createElement('div');\n",
              "          docLink.innerHTML = docLinkHtml;\n",
              "          element.appendChild(docLink);\n",
              "        }\n",
              "      </script>\n",
              "    </div>\n",
              "  </div>\n",
              "  "
            ]
          },
          "metadata": {},
          "execution_count": 90
        }
      ]
    },
    {
      "cell_type": "markdown",
      "source": [
        "De casi 45500 filas, solo 6 tienen problemas (y ninguna de ellas parece honestamente muy relevante, pues ninguna tiene ni un solo voto). Las ignoraremos."
      ],
      "metadata": {
        "id": "nmyXKmSXOS0H"
      }
    },
    {
      "cell_type": "code",
      "source": [
        "df_movies_modificado = pd.DataFrame.copy(df_movies)\n",
        "df_movies_modificado[\"popularity\"] = pd.to_numeric(df_movies[\"popularity\"], errors = 'coerce').fillna(value=0)\n",
        "df_movies_ordenado_por_popularidad = df_movies_modificado.sort_values(by=\"popularity\", ascending = False)"
      ],
      "metadata": {
        "id": "t5QZ_xx1O1il"
      },
      "execution_count": 91,
      "outputs": []
    },
    {
      "cell_type": "markdown",
      "source": [
        "Nos quedamos con las columnas relevantes de la tabla obtenida"
      ],
      "metadata": {
        "id": "ybSaZSdiRz4m"
      }
    },
    {
      "cell_type": "code",
      "source": [
        "top_10_peliculas = df_movies_ordenado_por_popularidad.head(10)[[\"original_title\",\"genres\"]]\n",
        "top_10_peliculas"
      ],
      "metadata": {
        "colab": {
          "base_uri": "https://localhost:8080/",
          "height": 462
        },
        "id": "AYkh23PSQewl",
        "outputId": "f25328bb-4188-49f8-e191-dd819b498be1"
      },
      "execution_count": 92,
      "outputs": [
        {
          "output_type": "execute_result",
          "data": {
            "text/plain": [
              "                       original_title  \\\n",
              "30700                         Minions   \n",
              "33356                    Wonder Woman   \n",
              "42222            Beauty and the Beast   \n",
              "43644                     Baby Driver   \n",
              "24455                      Big Hero 6   \n",
              "26564                        Deadpool   \n",
              "26566  Guardians of the Galaxy Vol. 2   \n",
              "14551                          Avatar   \n",
              "24351                       John Wick   \n",
              "23675                       Gone Girl   \n",
              "\n",
              "                                         genres  \n",
              "30700         Family,Animation,Adventure,Comedy  \n",
              "33356                  Action,Adventure,Fantasy  \n",
              "42222                    Family,Fantasy,Romance  \n",
              "43644                              Action,Crime  \n",
              "24455  Adventure,Family,Animation,Action,Comedy  \n",
              "26564                   Action,Adventure,Comedy  \n",
              "26566   Action,Adventure,Comedy,Science Fiction  \n",
              "14551  Action,Adventure,Fantasy,Science Fiction  \n",
              "24351                           Action,Thriller  \n",
              "23675                    Mystery,Thriller,Drama  "
            ],
            "text/html": [
              "\n",
              "  <div id=\"df-e1428220-80c6-4734-bce5-895f078acf3c\">\n",
              "    <div class=\"colab-df-container\">\n",
              "      <div>\n",
              "<style scoped>\n",
              "    .dataframe tbody tr th:only-of-type {\n",
              "        vertical-align: middle;\n",
              "    }\n",
              "\n",
              "    .dataframe tbody tr th {\n",
              "        vertical-align: top;\n",
              "    }\n",
              "\n",
              "    .dataframe thead th {\n",
              "        text-align: right;\n",
              "    }\n",
              "</style>\n",
              "<table border=\"1\" class=\"dataframe\">\n",
              "  <thead>\n",
              "    <tr style=\"text-align: right;\">\n",
              "      <th></th>\n",
              "      <th>original_title</th>\n",
              "      <th>genres</th>\n",
              "    </tr>\n",
              "  </thead>\n",
              "  <tbody>\n",
              "    <tr>\n",
              "      <th>30700</th>\n",
              "      <td>Minions</td>\n",
              "      <td>Family,Animation,Adventure,Comedy</td>\n",
              "    </tr>\n",
              "    <tr>\n",
              "      <th>33356</th>\n",
              "      <td>Wonder Woman</td>\n",
              "      <td>Action,Adventure,Fantasy</td>\n",
              "    </tr>\n",
              "    <tr>\n",
              "      <th>42222</th>\n",
              "      <td>Beauty and the Beast</td>\n",
              "      <td>Family,Fantasy,Romance</td>\n",
              "    </tr>\n",
              "    <tr>\n",
              "      <th>43644</th>\n",
              "      <td>Baby Driver</td>\n",
              "      <td>Action,Crime</td>\n",
              "    </tr>\n",
              "    <tr>\n",
              "      <th>24455</th>\n",
              "      <td>Big Hero 6</td>\n",
              "      <td>Adventure,Family,Animation,Action,Comedy</td>\n",
              "    </tr>\n",
              "    <tr>\n",
              "      <th>26564</th>\n",
              "      <td>Deadpool</td>\n",
              "      <td>Action,Adventure,Comedy</td>\n",
              "    </tr>\n",
              "    <tr>\n",
              "      <th>26566</th>\n",
              "      <td>Guardians of the Galaxy Vol. 2</td>\n",
              "      <td>Action,Adventure,Comedy,Science Fiction</td>\n",
              "    </tr>\n",
              "    <tr>\n",
              "      <th>14551</th>\n",
              "      <td>Avatar</td>\n",
              "      <td>Action,Adventure,Fantasy,Science Fiction</td>\n",
              "    </tr>\n",
              "    <tr>\n",
              "      <th>24351</th>\n",
              "      <td>John Wick</td>\n",
              "      <td>Action,Thriller</td>\n",
              "    </tr>\n",
              "    <tr>\n",
              "      <th>23675</th>\n",
              "      <td>Gone Girl</td>\n",
              "      <td>Mystery,Thriller,Drama</td>\n",
              "    </tr>\n",
              "  </tbody>\n",
              "</table>\n",
              "</div>\n",
              "      <button class=\"colab-df-convert\" onclick=\"convertToInteractive('df-e1428220-80c6-4734-bce5-895f078acf3c')\"\n",
              "              title=\"Convert this dataframe to an interactive table.\"\n",
              "              style=\"display:none;\">\n",
              "        \n",
              "  <svg xmlns=\"http://www.w3.org/2000/svg\" height=\"24px\"viewBox=\"0 0 24 24\"\n",
              "       width=\"24px\">\n",
              "    <path d=\"M0 0h24v24H0V0z\" fill=\"none\"/>\n",
              "    <path d=\"M18.56 5.44l.94 2.06.94-2.06 2.06-.94-2.06-.94-.94-2.06-.94 2.06-2.06.94zm-11 1L8.5 8.5l.94-2.06 2.06-.94-2.06-.94L8.5 2.5l-.94 2.06-2.06.94zm10 10l.94 2.06.94-2.06 2.06-.94-2.06-.94-.94-2.06-.94 2.06-2.06.94z\"/><path d=\"M17.41 7.96l-1.37-1.37c-.4-.4-.92-.59-1.43-.59-.52 0-1.04.2-1.43.59L10.3 9.45l-7.72 7.72c-.78.78-.78 2.05 0 2.83L4 21.41c.39.39.9.59 1.41.59.51 0 1.02-.2 1.41-.59l7.78-7.78 2.81-2.81c.8-.78.8-2.07 0-2.86zM5.41 20L4 18.59l7.72-7.72 1.47 1.35L5.41 20z\"/>\n",
              "  </svg>\n",
              "      </button>\n",
              "      \n",
              "  <style>\n",
              "    .colab-df-container {\n",
              "      display:flex;\n",
              "      flex-wrap:wrap;\n",
              "      gap: 12px;\n",
              "    }\n",
              "\n",
              "    .colab-df-convert {\n",
              "      background-color: #E8F0FE;\n",
              "      border: none;\n",
              "      border-radius: 50%;\n",
              "      cursor: pointer;\n",
              "      display: none;\n",
              "      fill: #1967D2;\n",
              "      height: 32px;\n",
              "      padding: 0 0 0 0;\n",
              "      width: 32px;\n",
              "    }\n",
              "\n",
              "    .colab-df-convert:hover {\n",
              "      background-color: #E2EBFA;\n",
              "      box-shadow: 0px 1px 2px rgba(60, 64, 67, 0.3), 0px 1px 3px 1px rgba(60, 64, 67, 0.15);\n",
              "      fill: #174EA6;\n",
              "    }\n",
              "\n",
              "    [theme=dark] .colab-df-convert {\n",
              "      background-color: #3B4455;\n",
              "      fill: #D2E3FC;\n",
              "    }\n",
              "\n",
              "    [theme=dark] .colab-df-convert:hover {\n",
              "      background-color: #434B5C;\n",
              "      box-shadow: 0px 1px 3px 1px rgba(0, 0, 0, 0.15);\n",
              "      filter: drop-shadow(0px 1px 2px rgba(0, 0, 0, 0.3));\n",
              "      fill: #FFFFFF;\n",
              "    }\n",
              "  </style>\n",
              "\n",
              "      <script>\n",
              "        const buttonEl =\n",
              "          document.querySelector('#df-e1428220-80c6-4734-bce5-895f078acf3c button.colab-df-convert');\n",
              "        buttonEl.style.display =\n",
              "          google.colab.kernel.accessAllowed ? 'block' : 'none';\n",
              "\n",
              "        async function convertToInteractive(key) {\n",
              "          const element = document.querySelector('#df-e1428220-80c6-4734-bce5-895f078acf3c');\n",
              "          const dataTable =\n",
              "            await google.colab.kernel.invokeFunction('convertToInteractive',\n",
              "                                                     [key], {});\n",
              "          if (!dataTable) return;\n",
              "\n",
              "          const docLinkHtml = 'Like what you see? Visit the ' +\n",
              "            '<a target=\"_blank\" href=https://colab.research.google.com/notebooks/data_table.ipynb>data table notebook</a>'\n",
              "            + ' to learn more about interactive tables.';\n",
              "          element.innerHTML = '';\n",
              "          dataTable['output_type'] = 'display_data';\n",
              "          await google.colab.output.renderOutput(dataTable, element);\n",
              "          const docLink = document.createElement('div');\n",
              "          docLink.innerHTML = docLinkHtml;\n",
              "          element.appendChild(docLink);\n",
              "        }\n",
              "      </script>\n",
              "    </div>\n",
              "  </div>\n",
              "  "
            ]
          },
          "metadata": {},
          "execution_count": 92
        }
      ]
    },
    {
      "cell_type": "markdown",
      "source": [
        "Finalmente, obtenemos la respuesta al ejercicio aplicando las transformaciones adecuadas a nuestra tabla."
      ],
      "metadata": {
        "id": "ddSDAAHCSCSb"
      }
    },
    {
      "cell_type": "code",
      "source": [
        "cantidad_de_generos = lambda generos: len(generos.split(\",\"))\n",
        "top_10_peliculas[\"cantidad_de_generos\"] = top_10_peliculas[\"genres\"].map(cantidad_de_generos)\n",
        "max_generos = max(top_10_peliculas[\"cantidad_de_generos\"])\n",
        "top_10_peliculas[top_10_peliculas[\"cantidad_de_generos\"] == max_generos][[\"original_title\",\"genres\"]]"
      ],
      "metadata": {
        "colab": {
          "base_uri": "https://localhost:8080/",
          "height": 145
        },
        "id": "GnPOOHGYSJyu",
        "outputId": "f2de5fe1-6d85-4d96-da32-9876f1e2e12f"
      },
      "execution_count": 93,
      "outputs": [
        {
          "output_type": "execute_result",
          "data": {
            "text/plain": [
              "      original_title                                    genres\n",
              "24455     Big Hero 6  Adventure,Family,Animation,Action,Comedy"
            ],
            "text/html": [
              "\n",
              "  <div id=\"df-b7451e32-8aff-4529-ab4a-72d805074108\">\n",
              "    <div class=\"colab-df-container\">\n",
              "      <div>\n",
              "<style scoped>\n",
              "    .dataframe tbody tr th:only-of-type {\n",
              "        vertical-align: middle;\n",
              "    }\n",
              "\n",
              "    .dataframe tbody tr th {\n",
              "        vertical-align: top;\n",
              "    }\n",
              "\n",
              "    .dataframe thead th {\n",
              "        text-align: right;\n",
              "    }\n",
              "</style>\n",
              "<table border=\"1\" class=\"dataframe\">\n",
              "  <thead>\n",
              "    <tr style=\"text-align: right;\">\n",
              "      <th></th>\n",
              "      <th>original_title</th>\n",
              "      <th>genres</th>\n",
              "    </tr>\n",
              "  </thead>\n",
              "  <tbody>\n",
              "    <tr>\n",
              "      <th>24455</th>\n",
              "      <td>Big Hero 6</td>\n",
              "      <td>Adventure,Family,Animation,Action,Comedy</td>\n",
              "    </tr>\n",
              "  </tbody>\n",
              "</table>\n",
              "</div>\n",
              "      <button class=\"colab-df-convert\" onclick=\"convertToInteractive('df-b7451e32-8aff-4529-ab4a-72d805074108')\"\n",
              "              title=\"Convert this dataframe to an interactive table.\"\n",
              "              style=\"display:none;\">\n",
              "        \n",
              "  <svg xmlns=\"http://www.w3.org/2000/svg\" height=\"24px\"viewBox=\"0 0 24 24\"\n",
              "       width=\"24px\">\n",
              "    <path d=\"M0 0h24v24H0V0z\" fill=\"none\"/>\n",
              "    <path d=\"M18.56 5.44l.94 2.06.94-2.06 2.06-.94-2.06-.94-.94-2.06-.94 2.06-2.06.94zm-11 1L8.5 8.5l.94-2.06 2.06-.94-2.06-.94L8.5 2.5l-.94 2.06-2.06.94zm10 10l.94 2.06.94-2.06 2.06-.94-2.06-.94-.94-2.06-.94 2.06-2.06.94z\"/><path d=\"M17.41 7.96l-1.37-1.37c-.4-.4-.92-.59-1.43-.59-.52 0-1.04.2-1.43.59L10.3 9.45l-7.72 7.72c-.78.78-.78 2.05 0 2.83L4 21.41c.39.39.9.59 1.41.59.51 0 1.02-.2 1.41-.59l7.78-7.78 2.81-2.81c.8-.78.8-2.07 0-2.86zM5.41 20L4 18.59l7.72-7.72 1.47 1.35L5.41 20z\"/>\n",
              "  </svg>\n",
              "      </button>\n",
              "      \n",
              "  <style>\n",
              "    .colab-df-container {\n",
              "      display:flex;\n",
              "      flex-wrap:wrap;\n",
              "      gap: 12px;\n",
              "    }\n",
              "\n",
              "    .colab-df-convert {\n",
              "      background-color: #E8F0FE;\n",
              "      border: none;\n",
              "      border-radius: 50%;\n",
              "      cursor: pointer;\n",
              "      display: none;\n",
              "      fill: #1967D2;\n",
              "      height: 32px;\n",
              "      padding: 0 0 0 0;\n",
              "      width: 32px;\n",
              "    }\n",
              "\n",
              "    .colab-df-convert:hover {\n",
              "      background-color: #E2EBFA;\n",
              "      box-shadow: 0px 1px 2px rgba(60, 64, 67, 0.3), 0px 1px 3px 1px rgba(60, 64, 67, 0.15);\n",
              "      fill: #174EA6;\n",
              "    }\n",
              "\n",
              "    [theme=dark] .colab-df-convert {\n",
              "      background-color: #3B4455;\n",
              "      fill: #D2E3FC;\n",
              "    }\n",
              "\n",
              "    [theme=dark] .colab-df-convert:hover {\n",
              "      background-color: #434B5C;\n",
              "      box-shadow: 0px 1px 3px 1px rgba(0, 0, 0, 0.15);\n",
              "      filter: drop-shadow(0px 1px 2px rgba(0, 0, 0, 0.3));\n",
              "      fill: #FFFFFF;\n",
              "    }\n",
              "  </style>\n",
              "\n",
              "      <script>\n",
              "        const buttonEl =\n",
              "          document.querySelector('#df-b7451e32-8aff-4529-ab4a-72d805074108 button.colab-df-convert');\n",
              "        buttonEl.style.display =\n",
              "          google.colab.kernel.accessAllowed ? 'block' : 'none';\n",
              "\n",
              "        async function convertToInteractive(key) {\n",
              "          const element = document.querySelector('#df-b7451e32-8aff-4529-ab4a-72d805074108');\n",
              "          const dataTable =\n",
              "            await google.colab.kernel.invokeFunction('convertToInteractive',\n",
              "                                                     [key], {});\n",
              "          if (!dataTable) return;\n",
              "\n",
              "          const docLinkHtml = 'Like what you see? Visit the ' +\n",
              "            '<a target=\"_blank\" href=https://colab.research.google.com/notebooks/data_table.ipynb>data table notebook</a>'\n",
              "            + ' to learn more about interactive tables.';\n",
              "          element.innerHTML = '';\n",
              "          dataTable['output_type'] = 'display_data';\n",
              "          await google.colab.output.renderOutput(dataTable, element);\n",
              "          const docLink = document.createElement('div');\n",
              "          docLink.innerHTML = docLinkHtml;\n",
              "          element.appendChild(docLink);\n",
              "        }\n",
              "      </script>\n",
              "    </div>\n",
              "  </div>\n",
              "  "
            ]
          },
          "metadata": {},
          "execution_count": 93
        }
      ]
    },
    {
      "cell_type": "markdown",
      "source": [
        "### P27"
      ],
      "metadata": {
        "id": "H6XTP5lsDDnZ"
      }
    },
    {
      "cell_type": "markdown",
      "source": [
        "- En todo el mundo el estado financia parcialmente al cine de las productoras locales. Una preocupación creciente es la existencia de ñoquis en las crew de las películas que son amigos o conocidos de la producción de las mismas a expensas de fondos del estado. La consultora “Espumadera” es una startup Argentina se dedica a encontrar posibles ñoquis para auditar en distintos contextos y tiene como clientes a organismos estatales de todo el mundo. Deseamos buscar anomalías para auditar en la crew de las películas, ¿Quienes superan el **percentil 95** de producciones en las que **participaron en roles distintos de directores, productores o escritores en el mismo año de estreno**?"
      ],
      "metadata": {
        "id": "_jSfULAATp2u"
      }
    },
    {
      "cell_type": "code",
      "source": [
        "df_crew = pd.read_csv(path_a_crew)\n",
        "df_crew.info( )"
      ],
      "metadata": {
        "colab": {
          "base_uri": "https://localhost:8080/"
        },
        "id": "S1jo5faHW8Ad",
        "outputId": "a1c6ee0f-edc2-4f60-a2b7-dc2bb20a811c"
      },
      "execution_count": 94,
      "outputs": [
        {
          "output_type": "stream",
          "name": "stdout",
          "text": [
            "<class 'pandas.core.frame.DataFrame'>\n",
            "RangeIndex: 464314 entries, 0 to 464313\n",
            "Data columns (total 5 columns):\n",
            " #   Column      Non-Null Count   Dtype \n",
            "---  ------      --------------   ----- \n",
            " 0   id          464314 non-null  int64 \n",
            " 1   crew_id     464314 non-null  int64 \n",
            " 2   department  464314 non-null  object\n",
            " 3   job         464314 non-null  object\n",
            " 4   name        464314 non-null  object\n",
            "dtypes: int64(2), object(3)\n",
            "memory usage: 17.7+ MB\n"
          ]
        }
      ]
    },
    {
      "cell_type": "markdown",
      "source": [
        "Teniendo la tabla *df_crew*, filtramos las columnas para quedarnos con las relevantes al análisis, y filtramos los roles a lo que nos pide el ejercicio."
      ],
      "metadata": {
        "id": "3bv28ydclFQY"
      }
    },
    {
      "cell_type": "code",
      "source": [
        "df_crew_filtrado = df_crew[[\"id\",\"crew_id\",\"job\",\"name\"]]\n",
        "df_crew_filtrado = df_crew_filtrado[df_crew_filtrado[\"job\"].isin([\"Director\", \"Producer\", \"Writer\"])]"
      ],
      "metadata": {
        "id": "QV0SqAGilFhl"
      },
      "execution_count": 95,
      "outputs": []
    },
    {
      "cell_type": "markdown",
      "source": [
        "Ahora queremos agregar algo de información sobre las películas, específicamente su año de estreno. Para lograr eso podemos utilizar un join. Primero miramos un poco la tabla de películas"
      ],
      "metadata": {
        "id": "3-oshzASlFnP"
      }
    },
    {
      "cell_type": "code",
      "source": [
        "df_movies.info()"
      ],
      "metadata": {
        "colab": {
          "base_uri": "https://localhost:8080/"
        },
        "id": "VelUYiBIlF0v",
        "outputId": "8aee0b63-29b2-4d2a-f6d8-45be47452f09"
      },
      "execution_count": 96,
      "outputs": [
        {
          "output_type": "stream",
          "name": "stdout",
          "text": [
            "<class 'pandas.core.frame.DataFrame'>\n",
            "RangeIndex: 45466 entries, 0 to 45465\n",
            "Data columns (total 24 columns):\n",
            " #   Column                 Non-Null Count  Dtype  \n",
            "---  ------                 --------------  -----  \n",
            " 0   adult                  45466 non-null  object \n",
            " 1   belongs_to_collection  4494 non-null   object \n",
            " 2   budget                 45466 non-null  object \n",
            " 3   genres                 43021 non-null  object \n",
            " 4   homepage               7782 non-null   object \n",
            " 5   id                     45466 non-null  object \n",
            " 6   imdb_id                45449 non-null  object \n",
            " 7   original_language      45455 non-null  object \n",
            " 8   original_title         45466 non-null  object \n",
            " 9   overview               44512 non-null  object \n",
            " 10  popularity             45461 non-null  object \n",
            " 11  poster_path            45080 non-null  object \n",
            " 12  production_companies   33585 non-null  object \n",
            " 13  production_countries   45463 non-null  object \n",
            " 14  release_date           45379 non-null  object \n",
            " 15  revenue                45460 non-null  float64\n",
            " 16  runtime                45203 non-null  float64\n",
            " 17  spoken_languages       45460 non-null  object \n",
            " 18  status                 45379 non-null  object \n",
            " 19  tagline                20412 non-null  object \n",
            " 20  title                  45460 non-null  object \n",
            " 21  video                  45460 non-null  object \n",
            " 22  vote_average           45460 non-null  float64\n",
            " 23  vote_count             45460 non-null  float64\n",
            "dtypes: float64(4), object(20)\n",
            "memory usage: 8.3+ MB\n"
          ]
        }
      ]
    },
    {
      "cell_type": "markdown",
      "source": [
        "Nos interesa el *id* para poder utilizarlo en el *join*, y el *release_date* porque es casi exactamente lo que estamos buscando. También nos interesa conocer si toda la columna *release_date* está en formato correcto."
      ],
      "metadata": {
        "id": "kBQ-69D7qG6v"
      }
    },
    {
      "cell_type": "code",
      "source": [
        "df_movies_filtrado = df_movies[[\"id\", \"release_date\"]]\n",
        "df_movies_filtrado[\"release_date\"] "
      ],
      "metadata": {
        "colab": {
          "base_uri": "https://localhost:8080/"
        },
        "id": "MKuLcAFQqTDC",
        "outputId": "28d4922d-e82d-4fec-a70b-a6c84832e916"
      },
      "execution_count": 97,
      "outputs": [
        {
          "output_type": "execute_result",
          "data": {
            "text/plain": [
              "0        1995-10-30\n",
              "1        1995-12-15\n",
              "2        1995-12-22\n",
              "3        1995-12-22\n",
              "4        1995-02-10\n",
              "            ...    \n",
              "45461           NaN\n",
              "45462    2011-11-17\n",
              "45463    2003-08-01\n",
              "45464    1917-10-21\n",
              "45465    2017-06-09\n",
              "Name: release_date, Length: 45466, dtype: object"
            ]
          },
          "metadata": {},
          "execution_count": 97
        }
      ]
    },
    {
      "cell_type": "markdown",
      "source": [
        "Solo con ver la columna a ojo vemos que hay un *NaN*, lo que significa que no todas las pelis tienen la fecha de estreno. Lidiaremos con eso utilizando un *inner join* para quedarnos con todas las pelis que sí tengan dicha columna. Dicho eso, filtramos otra vez nuestra tabla de películas para eliminar dichos casos, y nos quedamos con el año en cada fila."
      ],
      "metadata": {
        "id": "_7eDBlanqujj"
      }
    },
    {
      "cell_type": "code",
      "source": [
        "extract_year = lambda date: date.split(\"-\")[0]\n",
        "df_movies_filtrado_not_null = pd.DataFrame.copy(df_movies_filtrado[df_movies_filtrado[\"release_date\"].notnull()])\n",
        "df_movies_with_year = pd.DataFrame.copy(df_movies_filtrado_not_null)\n",
        "df_movies_with_year[\"release_year\"] = df_movies_filtrado_not_null[\"release_date\"].map(extract_year)\n",
        "df_movies_with_year[\"release_year\"].unique()"
      ],
      "metadata": {
        "colab": {
          "base_uri": "https://localhost:8080/"
        },
        "id": "9zUC7xhvrIna",
        "outputId": "4f6bb4d9-00ad-4cd7-e7f2-3fb8d3803a7b"
      },
      "execution_count": 98,
      "outputs": [
        {
          "output_type": "execute_result",
          "data": {
            "text/plain": [
              "array(['1995', '1996', '1994', '1997', '1976', '1992', '1967', '1993',\n",
              "       '1964', '1977', '1965', '1982', '1985', '1990', '1991', '1989',\n",
              "       '1937', '1940', '1969', '1981', '1974', '1970', '1960', '1955',\n",
              "       '1959', '1968', '1980', '1988', '1975', '2002', '1948', '1943',\n",
              "       '1950', '1987', '1973', '1956', '1958', '1949', '1972', '1953',\n",
              "       '1998', '1933', '2010', '1952', '1951', '1957', '1961', '1954',\n",
              "       '1934', '1944', '1963', '1942', '1941', '1939', '1947', '1946',\n",
              "       '1945', '1938', '1935', '1936', '1926', '1932', '1979', '1971',\n",
              "       '1986', '2013', '1978', '1966', '1962', '1983', '1984', '1931',\n",
              "       '1922', '1999', '1927', '1929', '1930', '1928', '2012', '1925',\n",
              "       '2000', '1919', '1923', '1920', '1918', '1921', '2001', '2011',\n",
              "       '1924', '2003', '2004', '1915', '1916', '1917', '2005', '2006',\n",
              "       '1902', '1903', '2007', '2008', '2009', '1914', '1912', '1913',\n",
              "       '1898', '1899', '1894', '1909', '1910', '1901', '1893', '1896',\n",
              "       '1', '2014', '2016', '2015', '1895', '1911', '1900', '2020',\n",
              "       '2017', '1905', '1904', '1891', '12', '2018', '1892', '1908',\n",
              "       '1897', '1887', '1888', '1890', '1878', '1874', '22', '1906',\n",
              "       '1883', '1907'], dtype=object)"
            ]
          },
          "metadata": {},
          "execution_count": 98
        }
      ]
    },
    {
      "cell_type": "markdown",
      "source": [
        "Vemos que hay un par de errores, específicamente tenemos años 1, 12, 22."
      ],
      "metadata": {
        "id": "EpO_Ai_bscfb"
      }
    },
    {
      "cell_type": "code",
      "source": [
        "df_movies_filtrado_not_null[df_movies_with_year[\"release_year\"] == \"1\"]"
      ],
      "metadata": {
        "id": "le82n01Yuk4X",
        "colab": {
          "base_uri": "https://localhost:8080/",
          "height": 145
        },
        "outputId": "a434fd19-7a17-4ef7-c0c0-bc89f24459e4"
      },
      "execution_count": 99,
      "outputs": [
        {
          "output_type": "execute_result",
          "data": {
            "text/plain": [
              "               id release_date\n",
              "19730  1997-08-20            1"
            ],
            "text/html": [
              "\n",
              "  <div id=\"df-c832c9ec-cc6c-42e9-81d5-aac22f37a5cd\">\n",
              "    <div class=\"colab-df-container\">\n",
              "      <div>\n",
              "<style scoped>\n",
              "    .dataframe tbody tr th:only-of-type {\n",
              "        vertical-align: middle;\n",
              "    }\n",
              "\n",
              "    .dataframe tbody tr th {\n",
              "        vertical-align: top;\n",
              "    }\n",
              "\n",
              "    .dataframe thead th {\n",
              "        text-align: right;\n",
              "    }\n",
              "</style>\n",
              "<table border=\"1\" class=\"dataframe\">\n",
              "  <thead>\n",
              "    <tr style=\"text-align: right;\">\n",
              "      <th></th>\n",
              "      <th>id</th>\n",
              "      <th>release_date</th>\n",
              "    </tr>\n",
              "  </thead>\n",
              "  <tbody>\n",
              "    <tr>\n",
              "      <th>19730</th>\n",
              "      <td>1997-08-20</td>\n",
              "      <td>1</td>\n",
              "    </tr>\n",
              "  </tbody>\n",
              "</table>\n",
              "</div>\n",
              "      <button class=\"colab-df-convert\" onclick=\"convertToInteractive('df-c832c9ec-cc6c-42e9-81d5-aac22f37a5cd')\"\n",
              "              title=\"Convert this dataframe to an interactive table.\"\n",
              "              style=\"display:none;\">\n",
              "        \n",
              "  <svg xmlns=\"http://www.w3.org/2000/svg\" height=\"24px\"viewBox=\"0 0 24 24\"\n",
              "       width=\"24px\">\n",
              "    <path d=\"M0 0h24v24H0V0z\" fill=\"none\"/>\n",
              "    <path d=\"M18.56 5.44l.94 2.06.94-2.06 2.06-.94-2.06-.94-.94-2.06-.94 2.06-2.06.94zm-11 1L8.5 8.5l.94-2.06 2.06-.94-2.06-.94L8.5 2.5l-.94 2.06-2.06.94zm10 10l.94 2.06.94-2.06 2.06-.94-2.06-.94-.94-2.06-.94 2.06-2.06.94z\"/><path d=\"M17.41 7.96l-1.37-1.37c-.4-.4-.92-.59-1.43-.59-.52 0-1.04.2-1.43.59L10.3 9.45l-7.72 7.72c-.78.78-.78 2.05 0 2.83L4 21.41c.39.39.9.59 1.41.59.51 0 1.02-.2 1.41-.59l7.78-7.78 2.81-2.81c.8-.78.8-2.07 0-2.86zM5.41 20L4 18.59l7.72-7.72 1.47 1.35L5.41 20z\"/>\n",
              "  </svg>\n",
              "      </button>\n",
              "      \n",
              "  <style>\n",
              "    .colab-df-container {\n",
              "      display:flex;\n",
              "      flex-wrap:wrap;\n",
              "      gap: 12px;\n",
              "    }\n",
              "\n",
              "    .colab-df-convert {\n",
              "      background-color: #E8F0FE;\n",
              "      border: none;\n",
              "      border-radius: 50%;\n",
              "      cursor: pointer;\n",
              "      display: none;\n",
              "      fill: #1967D2;\n",
              "      height: 32px;\n",
              "      padding: 0 0 0 0;\n",
              "      width: 32px;\n",
              "    }\n",
              "\n",
              "    .colab-df-convert:hover {\n",
              "      background-color: #E2EBFA;\n",
              "      box-shadow: 0px 1px 2px rgba(60, 64, 67, 0.3), 0px 1px 3px 1px rgba(60, 64, 67, 0.15);\n",
              "      fill: #174EA6;\n",
              "    }\n",
              "\n",
              "    [theme=dark] .colab-df-convert {\n",
              "      background-color: #3B4455;\n",
              "      fill: #D2E3FC;\n",
              "    }\n",
              "\n",
              "    [theme=dark] .colab-df-convert:hover {\n",
              "      background-color: #434B5C;\n",
              "      box-shadow: 0px 1px 3px 1px rgba(0, 0, 0, 0.15);\n",
              "      filter: drop-shadow(0px 1px 2px rgba(0, 0, 0, 0.3));\n",
              "      fill: #FFFFFF;\n",
              "    }\n",
              "  </style>\n",
              "\n",
              "      <script>\n",
              "        const buttonEl =\n",
              "          document.querySelector('#df-c832c9ec-cc6c-42e9-81d5-aac22f37a5cd button.colab-df-convert');\n",
              "        buttonEl.style.display =\n",
              "          google.colab.kernel.accessAllowed ? 'block' : 'none';\n",
              "\n",
              "        async function convertToInteractive(key) {\n",
              "          const element = document.querySelector('#df-c832c9ec-cc6c-42e9-81d5-aac22f37a5cd');\n",
              "          const dataTable =\n",
              "            await google.colab.kernel.invokeFunction('convertToInteractive',\n",
              "                                                     [key], {});\n",
              "          if (!dataTable) return;\n",
              "\n",
              "          const docLinkHtml = 'Like what you see? Visit the ' +\n",
              "            '<a target=\"_blank\" href=https://colab.research.google.com/notebooks/data_table.ipynb>data table notebook</a>'\n",
              "            + ' to learn more about interactive tables.';\n",
              "          element.innerHTML = '';\n",
              "          dataTable['output_type'] = 'display_data';\n",
              "          await google.colab.output.renderOutput(dataTable, element);\n",
              "          const docLink = document.createElement('div');\n",
              "          docLink.innerHTML = docLinkHtml;\n",
              "          element.appendChild(docLink);\n",
              "        }\n",
              "      </script>\n",
              "    </div>\n",
              "  </div>\n",
              "  "
            ]
          },
          "metadata": {},
          "execution_count": 99
        }
      ]
    },
    {
      "cell_type": "code",
      "source": [
        "df_movies_filtrado_not_null[df_movies_with_year[\"release_year\"] == \"12\"]"
      ],
      "metadata": {
        "id": "WUTuFTwMxHSX",
        "colab": {
          "base_uri": "https://localhost:8080/",
          "height": 145
        },
        "outputId": "8af59fda-9d56-403f-c1bb-80942bf8b1cc"
      },
      "execution_count": 100,
      "outputs": [
        {
          "output_type": "execute_result",
          "data": {
            "text/plain": [
              "               id release_date\n",
              "29503  2012-09-29           12"
            ],
            "text/html": [
              "\n",
              "  <div id=\"df-6fbfe4e6-1599-4009-b22e-cf9ee3455be4\">\n",
              "    <div class=\"colab-df-container\">\n",
              "      <div>\n",
              "<style scoped>\n",
              "    .dataframe tbody tr th:only-of-type {\n",
              "        vertical-align: middle;\n",
              "    }\n",
              "\n",
              "    .dataframe tbody tr th {\n",
              "        vertical-align: top;\n",
              "    }\n",
              "\n",
              "    .dataframe thead th {\n",
              "        text-align: right;\n",
              "    }\n",
              "</style>\n",
              "<table border=\"1\" class=\"dataframe\">\n",
              "  <thead>\n",
              "    <tr style=\"text-align: right;\">\n",
              "      <th></th>\n",
              "      <th>id</th>\n",
              "      <th>release_date</th>\n",
              "    </tr>\n",
              "  </thead>\n",
              "  <tbody>\n",
              "    <tr>\n",
              "      <th>29503</th>\n",
              "      <td>2012-09-29</td>\n",
              "      <td>12</td>\n",
              "    </tr>\n",
              "  </tbody>\n",
              "</table>\n",
              "</div>\n",
              "      <button class=\"colab-df-convert\" onclick=\"convertToInteractive('df-6fbfe4e6-1599-4009-b22e-cf9ee3455be4')\"\n",
              "              title=\"Convert this dataframe to an interactive table.\"\n",
              "              style=\"display:none;\">\n",
              "        \n",
              "  <svg xmlns=\"http://www.w3.org/2000/svg\" height=\"24px\"viewBox=\"0 0 24 24\"\n",
              "       width=\"24px\">\n",
              "    <path d=\"M0 0h24v24H0V0z\" fill=\"none\"/>\n",
              "    <path d=\"M18.56 5.44l.94 2.06.94-2.06 2.06-.94-2.06-.94-.94-2.06-.94 2.06-2.06.94zm-11 1L8.5 8.5l.94-2.06 2.06-.94-2.06-.94L8.5 2.5l-.94 2.06-2.06.94zm10 10l.94 2.06.94-2.06 2.06-.94-2.06-.94-.94-2.06-.94 2.06-2.06.94z\"/><path d=\"M17.41 7.96l-1.37-1.37c-.4-.4-.92-.59-1.43-.59-.52 0-1.04.2-1.43.59L10.3 9.45l-7.72 7.72c-.78.78-.78 2.05 0 2.83L4 21.41c.39.39.9.59 1.41.59.51 0 1.02-.2 1.41-.59l7.78-7.78 2.81-2.81c.8-.78.8-2.07 0-2.86zM5.41 20L4 18.59l7.72-7.72 1.47 1.35L5.41 20z\"/>\n",
              "  </svg>\n",
              "      </button>\n",
              "      \n",
              "  <style>\n",
              "    .colab-df-container {\n",
              "      display:flex;\n",
              "      flex-wrap:wrap;\n",
              "      gap: 12px;\n",
              "    }\n",
              "\n",
              "    .colab-df-convert {\n",
              "      background-color: #E8F0FE;\n",
              "      border: none;\n",
              "      border-radius: 50%;\n",
              "      cursor: pointer;\n",
              "      display: none;\n",
              "      fill: #1967D2;\n",
              "      height: 32px;\n",
              "      padding: 0 0 0 0;\n",
              "      width: 32px;\n",
              "    }\n",
              "\n",
              "    .colab-df-convert:hover {\n",
              "      background-color: #E2EBFA;\n",
              "      box-shadow: 0px 1px 2px rgba(60, 64, 67, 0.3), 0px 1px 3px 1px rgba(60, 64, 67, 0.15);\n",
              "      fill: #174EA6;\n",
              "    }\n",
              "\n",
              "    [theme=dark] .colab-df-convert {\n",
              "      background-color: #3B4455;\n",
              "      fill: #D2E3FC;\n",
              "    }\n",
              "\n",
              "    [theme=dark] .colab-df-convert:hover {\n",
              "      background-color: #434B5C;\n",
              "      box-shadow: 0px 1px 3px 1px rgba(0, 0, 0, 0.15);\n",
              "      filter: drop-shadow(0px 1px 2px rgba(0, 0, 0, 0.3));\n",
              "      fill: #FFFFFF;\n",
              "    }\n",
              "  </style>\n",
              "\n",
              "      <script>\n",
              "        const buttonEl =\n",
              "          document.querySelector('#df-6fbfe4e6-1599-4009-b22e-cf9ee3455be4 button.colab-df-convert');\n",
              "        buttonEl.style.display =\n",
              "          google.colab.kernel.accessAllowed ? 'block' : 'none';\n",
              "\n",
              "        async function convertToInteractive(key) {\n",
              "          const element = document.querySelector('#df-6fbfe4e6-1599-4009-b22e-cf9ee3455be4');\n",
              "          const dataTable =\n",
              "            await google.colab.kernel.invokeFunction('convertToInteractive',\n",
              "                                                     [key], {});\n",
              "          if (!dataTable) return;\n",
              "\n",
              "          const docLinkHtml = 'Like what you see? Visit the ' +\n",
              "            '<a target=\"_blank\" href=https://colab.research.google.com/notebooks/data_table.ipynb>data table notebook</a>'\n",
              "            + ' to learn more about interactive tables.';\n",
              "          element.innerHTML = '';\n",
              "          dataTable['output_type'] = 'display_data';\n",
              "          await google.colab.output.renderOutput(dataTable, element);\n",
              "          const docLink = document.createElement('div');\n",
              "          docLink.innerHTML = docLinkHtml;\n",
              "          element.appendChild(docLink);\n",
              "        }\n",
              "      </script>\n",
              "    </div>\n",
              "  </div>\n",
              "  "
            ]
          },
          "metadata": {},
          "execution_count": 100
        }
      ]
    },
    {
      "cell_type": "code",
      "source": [
        "df_movies_filtrado_not_null[df_movies_with_year[\"release_year\"] == \"22\"]"
      ],
      "metadata": {
        "colab": {
          "base_uri": "https://localhost:8080/",
          "height": 145
        },
        "id": "DRejWgygxL0p",
        "outputId": "68836bb3-c249-4cc0-ceb5-0a477b89689a"
      },
      "execution_count": 101,
      "outputs": [
        {
          "output_type": "execute_result",
          "data": {
            "text/plain": [
              "               id release_date\n",
              "35587  2014-01-01           22"
            ],
            "text/html": [
              "\n",
              "  <div id=\"df-5930731b-8612-485f-9e96-2c650aed93f8\">\n",
              "    <div class=\"colab-df-container\">\n",
              "      <div>\n",
              "<style scoped>\n",
              "    .dataframe tbody tr th:only-of-type {\n",
              "        vertical-align: middle;\n",
              "    }\n",
              "\n",
              "    .dataframe tbody tr th {\n",
              "        vertical-align: top;\n",
              "    }\n",
              "\n",
              "    .dataframe thead th {\n",
              "        text-align: right;\n",
              "    }\n",
              "</style>\n",
              "<table border=\"1\" class=\"dataframe\">\n",
              "  <thead>\n",
              "    <tr style=\"text-align: right;\">\n",
              "      <th></th>\n",
              "      <th>id</th>\n",
              "      <th>release_date</th>\n",
              "    </tr>\n",
              "  </thead>\n",
              "  <tbody>\n",
              "    <tr>\n",
              "      <th>35587</th>\n",
              "      <td>2014-01-01</td>\n",
              "      <td>22</td>\n",
              "    </tr>\n",
              "  </tbody>\n",
              "</table>\n",
              "</div>\n",
              "      <button class=\"colab-df-convert\" onclick=\"convertToInteractive('df-5930731b-8612-485f-9e96-2c650aed93f8')\"\n",
              "              title=\"Convert this dataframe to an interactive table.\"\n",
              "              style=\"display:none;\">\n",
              "        \n",
              "  <svg xmlns=\"http://www.w3.org/2000/svg\" height=\"24px\"viewBox=\"0 0 24 24\"\n",
              "       width=\"24px\">\n",
              "    <path d=\"M0 0h24v24H0V0z\" fill=\"none\"/>\n",
              "    <path d=\"M18.56 5.44l.94 2.06.94-2.06 2.06-.94-2.06-.94-.94-2.06-.94 2.06-2.06.94zm-11 1L8.5 8.5l.94-2.06 2.06-.94-2.06-.94L8.5 2.5l-.94 2.06-2.06.94zm10 10l.94 2.06.94-2.06 2.06-.94-2.06-.94-.94-2.06-.94 2.06-2.06.94z\"/><path d=\"M17.41 7.96l-1.37-1.37c-.4-.4-.92-.59-1.43-.59-.52 0-1.04.2-1.43.59L10.3 9.45l-7.72 7.72c-.78.78-.78 2.05 0 2.83L4 21.41c.39.39.9.59 1.41.59.51 0 1.02-.2 1.41-.59l7.78-7.78 2.81-2.81c.8-.78.8-2.07 0-2.86zM5.41 20L4 18.59l7.72-7.72 1.47 1.35L5.41 20z\"/>\n",
              "  </svg>\n",
              "      </button>\n",
              "      \n",
              "  <style>\n",
              "    .colab-df-container {\n",
              "      display:flex;\n",
              "      flex-wrap:wrap;\n",
              "      gap: 12px;\n",
              "    }\n",
              "\n",
              "    .colab-df-convert {\n",
              "      background-color: #E8F0FE;\n",
              "      border: none;\n",
              "      border-radius: 50%;\n",
              "      cursor: pointer;\n",
              "      display: none;\n",
              "      fill: #1967D2;\n",
              "      height: 32px;\n",
              "      padding: 0 0 0 0;\n",
              "      width: 32px;\n",
              "    }\n",
              "\n",
              "    .colab-df-convert:hover {\n",
              "      background-color: #E2EBFA;\n",
              "      box-shadow: 0px 1px 2px rgba(60, 64, 67, 0.3), 0px 1px 3px 1px rgba(60, 64, 67, 0.15);\n",
              "      fill: #174EA6;\n",
              "    }\n",
              "\n",
              "    [theme=dark] .colab-df-convert {\n",
              "      background-color: #3B4455;\n",
              "      fill: #D2E3FC;\n",
              "    }\n",
              "\n",
              "    [theme=dark] .colab-df-convert:hover {\n",
              "      background-color: #434B5C;\n",
              "      box-shadow: 0px 1px 3px 1px rgba(0, 0, 0, 0.15);\n",
              "      filter: drop-shadow(0px 1px 2px rgba(0, 0, 0, 0.3));\n",
              "      fill: #FFFFFF;\n",
              "    }\n",
              "  </style>\n",
              "\n",
              "      <script>\n",
              "        const buttonEl =\n",
              "          document.querySelector('#df-5930731b-8612-485f-9e96-2c650aed93f8 button.colab-df-convert');\n",
              "        buttonEl.style.display =\n",
              "          google.colab.kernel.accessAllowed ? 'block' : 'none';\n",
              "\n",
              "        async function convertToInteractive(key) {\n",
              "          const element = document.querySelector('#df-5930731b-8612-485f-9e96-2c650aed93f8');\n",
              "          const dataTable =\n",
              "            await google.colab.kernel.invokeFunction('convertToInteractive',\n",
              "                                                     [key], {});\n",
              "          if (!dataTable) return;\n",
              "\n",
              "          const docLinkHtml = 'Like what you see? Visit the ' +\n",
              "            '<a target=\"_blank\" href=https://colab.research.google.com/notebooks/data_table.ipynb>data table notebook</a>'\n",
              "            + ' to learn more about interactive tables.';\n",
              "          element.innerHTML = '';\n",
              "          dataTable['output_type'] = 'display_data';\n",
              "          await google.colab.output.renderOutput(dataTable, element);\n",
              "          const docLink = document.createElement('div');\n",
              "          docLink.innerHTML = docLinkHtml;\n",
              "          element.appendChild(docLink);\n",
              "        }\n",
              "      </script>\n",
              "    </div>\n",
              "  </div>\n",
              "  "
            ]
          },
          "metadata": {},
          "execution_count": 101
        }
      ]
    },
    {
      "cell_type": "markdown",
      "source": [
        "En los 3 casos notamos que el id está donde debería estar el release date y viceversa. Arreglamos esto."
      ],
      "metadata": {
        "id": "z8HKKsm7xRAa"
      }
    },
    {
      "cell_type": "code",
      "source": [
        "df_movies_filtrado_not_null.at[df_movies_with_year[\"release_year\"] == \"1\",\"release_date\"] = \"1997-08-20\"\n",
        "df_movies_filtrado_not_null.at[df_movies_with_year[\"id\"] == \"1997-08-20\",\"id\"] = 1\n",
        "df_movies_filtrado_not_null.at[df_movies_with_year[\"release_year\"] == \"12\",\"release_date\"] = \"2012-09-29\"\n",
        "df_movies_filtrado_not_null.at[df_movies_with_year[\"id\"] == \"2012-09-29\",\"id\"] = 12\n",
        "df_movies_filtrado_not_null.at[df_movies_with_year[\"release_year\"] == \"22\",\"release_date\"] = \"2014-01-01\"\n",
        "df_movies_filtrado_not_null.at[df_movies_with_year[\"id\"] == \"2014-01-01\",\"id\"] = 22"
      ],
      "metadata": {
        "id": "9ZCkPa4rxjuu"
      },
      "execution_count": 102,
      "outputs": []
    },
    {
      "cell_type": "code",
      "source": [
        "df_movies_with_year = pd.DataFrame.copy(df_movies_filtrado_not_null)\n",
        "df_movies_with_year[\"release_year\"] = df_movies_filtrado_not_null[\"release_date\"].map(extract_year)\n",
        "df_movies_with_year[\"release_year\"].unique()"
      ],
      "metadata": {
        "colab": {
          "base_uri": "https://localhost:8080/"
        },
        "id": "wMfXYSoZynwU",
        "outputId": "c5ce6026-ce9f-41e8-ccd3-6f3874eeebf9"
      },
      "execution_count": 103,
      "outputs": [
        {
          "output_type": "execute_result",
          "data": {
            "text/plain": [
              "array(['1995', '1996', '1994', '1997', '1976', '1992', '1967', '1993',\n",
              "       '1964', '1977', '1965', '1982', '1985', '1990', '1991', '1989',\n",
              "       '1937', '1940', '1969', '1981', '1974', '1970', '1960', '1955',\n",
              "       '1959', '1968', '1980', '1988', '1975', '2002', '1948', '1943',\n",
              "       '1950', '1987', '1973', '1956', '1958', '1949', '1972', '1953',\n",
              "       '1998', '1933', '2010', '1952', '1951', '1957', '1961', '1954',\n",
              "       '1934', '1944', '1963', '1942', '1941', '1939', '1947', '1946',\n",
              "       '1945', '1938', '1935', '1936', '1926', '1932', '1979', '1971',\n",
              "       '1986', '2013', '1978', '1966', '1962', '1983', '1984', '1931',\n",
              "       '1922', '1999', '1927', '1929', '1930', '1928', '2012', '1925',\n",
              "       '2000', '1919', '1923', '1920', '1918', '1921', '2001', '2011',\n",
              "       '1924', '2003', '2004', '1915', '1916', '1917', '2005', '2006',\n",
              "       '1902', '1903', '2007', '2008', '2009', '1914', '1912', '1913',\n",
              "       '1898', '1899', '1894', '1909', '1910', '1901', '1893', '1896',\n",
              "       '2014', '2016', '2015', '1895', '1911', '1900', '2020', '2017',\n",
              "       '1905', '1904', '1891', '2018', '1892', '1908', '1897', '1887',\n",
              "       '1888', '1890', '1878', '1874', '1906', '1883', '1907'],\n",
              "      dtype=object)"
            ]
          },
          "metadata": {},
          "execution_count": 103
        }
      ]
    },
    {
      "cell_type": "markdown",
      "source": [
        "Notamos también que antes la columna id era de tipo *object* por la presencia de las fechas mezcladas. Habiendo arreglado eso podemos arreglar todo a int"
      ],
      "metadata": {
        "id": "fH_I37O25Oq9"
      }
    },
    {
      "cell_type": "code",
      "source": [
        "df_movies_with_year[\"id\"] = pd.to_numeric(df_movies_with_year[\"id\"], downcast=\"signed\")\n",
        "df_movies_with_year.info()"
      ],
      "metadata": {
        "colab": {
          "base_uri": "https://localhost:8080/"
        },
        "id": "JjjPwe-U3ZZB",
        "outputId": "c5a7d054-7fad-4480-fdfa-53275201f8be"
      },
      "execution_count": 104,
      "outputs": [
        {
          "output_type": "stream",
          "name": "stdout",
          "text": [
            "<class 'pandas.core.frame.DataFrame'>\n",
            "Int64Index: 45379 entries, 0 to 45465\n",
            "Data columns (total 3 columns):\n",
            " #   Column        Non-Null Count  Dtype \n",
            "---  ------        --------------  ----- \n",
            " 0   id            45379 non-null  int32 \n",
            " 1   release_date  45379 non-null  object\n",
            " 2   release_year  45379 non-null  object\n",
            "dtypes: int32(1), object(2)\n",
            "memory usage: 2.2+ MB\n"
          ]
        }
      ]
    },
    {
      "cell_type": "markdown",
      "source": [
        "Por fin estamos en condiciones como para realizar el join. "
      ],
      "metadata": {
        "id": "dxHNRkQi1IyB"
      }
    },
    {
      "cell_type": "code",
      "source": [
        "df_crew_with_years = pd.merge(df_crew_filtrado,df_movies_with_year,on='id', how = \"inner\")\n",
        "df_crew_with_years"
      ],
      "metadata": {
        "colab": {
          "base_uri": "https://localhost:8080/",
          "height": 609
        },
        "id": "XuuvVeeu1mgc",
        "outputId": "6371e747-8638-4e01-8320-3970cd0ca897"
      },
      "execution_count": 105,
      "outputs": [
        {
          "output_type": "execute_result",
          "data": {
            "text/plain": [
              "            id  crew_id       job                 name release_date  \\\n",
              "0          862     7879  Director        John Lasseter   1995-10-30   \n",
              "1          862    12894  Producer        Bonnie Arnold   1995-10-30   \n",
              "2          862    12896  Producer     Ralph Guggenheim   1995-10-30   \n",
              "3         8844     4945  Director         Joe Johnston   1995-12-15   \n",
              "4         8844     9184  Producer         Scott Kroopf   1995-12-15   \n",
              "...        ...      ...       ...                  ...          ...   \n",
              "123161  111109  1051381    Writer             Lav Diaz   2011-11-17   \n",
              "123162   67758    67753  Director       Mark L. Lester   2003-08-01   \n",
              "123163  227506  1085341  Director     Yakov Protazanov   1917-10-21   \n",
              "123164  227506  1195656  Producer  Joseph N. Ermolieff   1917-10-21   \n",
              "123165  461257  1344495  Director        Daisy Asquith   2017-06-09   \n",
              "\n",
              "       release_year  \n",
              "0              1995  \n",
              "1              1995  \n",
              "2              1995  \n",
              "3              1995  \n",
              "4              1995  \n",
              "...             ...  \n",
              "123161         2011  \n",
              "123162         2003  \n",
              "123163         1917  \n",
              "123164         1917  \n",
              "123165         2017  \n",
              "\n",
              "[123166 rows x 6 columns]"
            ],
            "text/html": [
              "\n",
              "  <div id=\"df-5aa5e9b1-6696-4149-a175-9addcaa5914f\">\n",
              "    <div class=\"colab-df-container\">\n",
              "      <div>\n",
              "<style scoped>\n",
              "    .dataframe tbody tr th:only-of-type {\n",
              "        vertical-align: middle;\n",
              "    }\n",
              "\n",
              "    .dataframe tbody tr th {\n",
              "        vertical-align: top;\n",
              "    }\n",
              "\n",
              "    .dataframe thead th {\n",
              "        text-align: right;\n",
              "    }\n",
              "</style>\n",
              "<table border=\"1\" class=\"dataframe\">\n",
              "  <thead>\n",
              "    <tr style=\"text-align: right;\">\n",
              "      <th></th>\n",
              "      <th>id</th>\n",
              "      <th>crew_id</th>\n",
              "      <th>job</th>\n",
              "      <th>name</th>\n",
              "      <th>release_date</th>\n",
              "      <th>release_year</th>\n",
              "    </tr>\n",
              "  </thead>\n",
              "  <tbody>\n",
              "    <tr>\n",
              "      <th>0</th>\n",
              "      <td>862</td>\n",
              "      <td>7879</td>\n",
              "      <td>Director</td>\n",
              "      <td>John Lasseter</td>\n",
              "      <td>1995-10-30</td>\n",
              "      <td>1995</td>\n",
              "    </tr>\n",
              "    <tr>\n",
              "      <th>1</th>\n",
              "      <td>862</td>\n",
              "      <td>12894</td>\n",
              "      <td>Producer</td>\n",
              "      <td>Bonnie Arnold</td>\n",
              "      <td>1995-10-30</td>\n",
              "      <td>1995</td>\n",
              "    </tr>\n",
              "    <tr>\n",
              "      <th>2</th>\n",
              "      <td>862</td>\n",
              "      <td>12896</td>\n",
              "      <td>Producer</td>\n",
              "      <td>Ralph Guggenheim</td>\n",
              "      <td>1995-10-30</td>\n",
              "      <td>1995</td>\n",
              "    </tr>\n",
              "    <tr>\n",
              "      <th>3</th>\n",
              "      <td>8844</td>\n",
              "      <td>4945</td>\n",
              "      <td>Director</td>\n",
              "      <td>Joe Johnston</td>\n",
              "      <td>1995-12-15</td>\n",
              "      <td>1995</td>\n",
              "    </tr>\n",
              "    <tr>\n",
              "      <th>4</th>\n",
              "      <td>8844</td>\n",
              "      <td>9184</td>\n",
              "      <td>Producer</td>\n",
              "      <td>Scott Kroopf</td>\n",
              "      <td>1995-12-15</td>\n",
              "      <td>1995</td>\n",
              "    </tr>\n",
              "    <tr>\n",
              "      <th>...</th>\n",
              "      <td>...</td>\n",
              "      <td>...</td>\n",
              "      <td>...</td>\n",
              "      <td>...</td>\n",
              "      <td>...</td>\n",
              "      <td>...</td>\n",
              "    </tr>\n",
              "    <tr>\n",
              "      <th>123161</th>\n",
              "      <td>111109</td>\n",
              "      <td>1051381</td>\n",
              "      <td>Writer</td>\n",
              "      <td>Lav Diaz</td>\n",
              "      <td>2011-11-17</td>\n",
              "      <td>2011</td>\n",
              "    </tr>\n",
              "    <tr>\n",
              "      <th>123162</th>\n",
              "      <td>67758</td>\n",
              "      <td>67753</td>\n",
              "      <td>Director</td>\n",
              "      <td>Mark L. Lester</td>\n",
              "      <td>2003-08-01</td>\n",
              "      <td>2003</td>\n",
              "    </tr>\n",
              "    <tr>\n",
              "      <th>123163</th>\n",
              "      <td>227506</td>\n",
              "      <td>1085341</td>\n",
              "      <td>Director</td>\n",
              "      <td>Yakov Protazanov</td>\n",
              "      <td>1917-10-21</td>\n",
              "      <td>1917</td>\n",
              "    </tr>\n",
              "    <tr>\n",
              "      <th>123164</th>\n",
              "      <td>227506</td>\n",
              "      <td>1195656</td>\n",
              "      <td>Producer</td>\n",
              "      <td>Joseph N. Ermolieff</td>\n",
              "      <td>1917-10-21</td>\n",
              "      <td>1917</td>\n",
              "    </tr>\n",
              "    <tr>\n",
              "      <th>123165</th>\n",
              "      <td>461257</td>\n",
              "      <td>1344495</td>\n",
              "      <td>Director</td>\n",
              "      <td>Daisy Asquith</td>\n",
              "      <td>2017-06-09</td>\n",
              "      <td>2017</td>\n",
              "    </tr>\n",
              "  </tbody>\n",
              "</table>\n",
              "<p>123166 rows × 6 columns</p>\n",
              "</div>\n",
              "      <button class=\"colab-df-convert\" onclick=\"convertToInteractive('df-5aa5e9b1-6696-4149-a175-9addcaa5914f')\"\n",
              "              title=\"Convert this dataframe to an interactive table.\"\n",
              "              style=\"display:none;\">\n",
              "        \n",
              "  <svg xmlns=\"http://www.w3.org/2000/svg\" height=\"24px\"viewBox=\"0 0 24 24\"\n",
              "       width=\"24px\">\n",
              "    <path d=\"M0 0h24v24H0V0z\" fill=\"none\"/>\n",
              "    <path d=\"M18.56 5.44l.94 2.06.94-2.06 2.06-.94-2.06-.94-.94-2.06-.94 2.06-2.06.94zm-11 1L8.5 8.5l.94-2.06 2.06-.94-2.06-.94L8.5 2.5l-.94 2.06-2.06.94zm10 10l.94 2.06.94-2.06 2.06-.94-2.06-.94-.94-2.06-.94 2.06-2.06.94z\"/><path d=\"M17.41 7.96l-1.37-1.37c-.4-.4-.92-.59-1.43-.59-.52 0-1.04.2-1.43.59L10.3 9.45l-7.72 7.72c-.78.78-.78 2.05 0 2.83L4 21.41c.39.39.9.59 1.41.59.51 0 1.02-.2 1.41-.59l7.78-7.78 2.81-2.81c.8-.78.8-2.07 0-2.86zM5.41 20L4 18.59l7.72-7.72 1.47 1.35L5.41 20z\"/>\n",
              "  </svg>\n",
              "      </button>\n",
              "      \n",
              "  <style>\n",
              "    .colab-df-container {\n",
              "      display:flex;\n",
              "      flex-wrap:wrap;\n",
              "      gap: 12px;\n",
              "    }\n",
              "\n",
              "    .colab-df-convert {\n",
              "      background-color: #E8F0FE;\n",
              "      border: none;\n",
              "      border-radius: 50%;\n",
              "      cursor: pointer;\n",
              "      display: none;\n",
              "      fill: #1967D2;\n",
              "      height: 32px;\n",
              "      padding: 0 0 0 0;\n",
              "      width: 32px;\n",
              "    }\n",
              "\n",
              "    .colab-df-convert:hover {\n",
              "      background-color: #E2EBFA;\n",
              "      box-shadow: 0px 1px 2px rgba(60, 64, 67, 0.3), 0px 1px 3px 1px rgba(60, 64, 67, 0.15);\n",
              "      fill: #174EA6;\n",
              "    }\n",
              "\n",
              "    [theme=dark] .colab-df-convert {\n",
              "      background-color: #3B4455;\n",
              "      fill: #D2E3FC;\n",
              "    }\n",
              "\n",
              "    [theme=dark] .colab-df-convert:hover {\n",
              "      background-color: #434B5C;\n",
              "      box-shadow: 0px 1px 3px 1px rgba(0, 0, 0, 0.15);\n",
              "      filter: drop-shadow(0px 1px 2px rgba(0, 0, 0, 0.3));\n",
              "      fill: #FFFFFF;\n",
              "    }\n",
              "  </style>\n",
              "\n",
              "      <script>\n",
              "        const buttonEl =\n",
              "          document.querySelector('#df-5aa5e9b1-6696-4149-a175-9addcaa5914f button.colab-df-convert');\n",
              "        buttonEl.style.display =\n",
              "          google.colab.kernel.accessAllowed ? 'block' : 'none';\n",
              "\n",
              "        async function convertToInteractive(key) {\n",
              "          const element = document.querySelector('#df-5aa5e9b1-6696-4149-a175-9addcaa5914f');\n",
              "          const dataTable =\n",
              "            await google.colab.kernel.invokeFunction('convertToInteractive',\n",
              "                                                     [key], {});\n",
              "          if (!dataTable) return;\n",
              "\n",
              "          const docLinkHtml = 'Like what you see? Visit the ' +\n",
              "            '<a target=\"_blank\" href=https://colab.research.google.com/notebooks/data_table.ipynb>data table notebook</a>'\n",
              "            + ' to learn more about interactive tables.';\n",
              "          element.innerHTML = '';\n",
              "          dataTable['output_type'] = 'display_data';\n",
              "          await google.colab.output.renderOutput(dataTable, element);\n",
              "          const docLink = document.createElement('div');\n",
              "          docLink.innerHTML = docLinkHtml;\n",
              "          element.appendChild(docLink);\n",
              "        }\n",
              "      </script>\n",
              "    </div>\n",
              "  </div>\n",
              "  "
            ]
          },
          "metadata": {},
          "execution_count": 105
        }
      ]
    },
    {
      "cell_type": "markdown",
      "source": [
        "Agrupamos por actor y por año de estreno:"
      ],
      "metadata": {
        "id": "LQyGoU3d6Zh9"
      }
    },
    {
      "cell_type": "code",
      "source": [
        "df_crew_count_by_year = df_crew_with_years.groupby([\"crew_id\", \"release_year\"]).agg(\n",
        "    appearances = (\"release_year\", \"count\")).reset_index()\n",
        "df_crew_count_by_year.head()"
      ],
      "metadata": {
        "colab": {
          "base_uri": "https://localhost:8080/",
          "height": 270
        },
        "id": "M8yQpWzW6pu7",
        "outputId": "f9de510b-a04a-4ffa-ecca-439d6628ace5"
      },
      "execution_count": 106,
      "outputs": [
        {
          "output_type": "execute_result",
          "data": {
            "text/plain": [
              "   crew_id release_year  appearances\n",
              "0        1         1967            2\n",
              "1        1         1971            1\n",
              "2        1         1973            1\n",
              "3        1         1977            2\n",
              "4        1         1985            1"
            ],
            "text/html": [
              "\n",
              "  <div id=\"df-83c3fd2b-047f-4cd0-a8bc-197d703e78ce\">\n",
              "    <div class=\"colab-df-container\">\n",
              "      <div>\n",
              "<style scoped>\n",
              "    .dataframe tbody tr th:only-of-type {\n",
              "        vertical-align: middle;\n",
              "    }\n",
              "\n",
              "    .dataframe tbody tr th {\n",
              "        vertical-align: top;\n",
              "    }\n",
              "\n",
              "    .dataframe thead th {\n",
              "        text-align: right;\n",
              "    }\n",
              "</style>\n",
              "<table border=\"1\" class=\"dataframe\">\n",
              "  <thead>\n",
              "    <tr style=\"text-align: right;\">\n",
              "      <th></th>\n",
              "      <th>crew_id</th>\n",
              "      <th>release_year</th>\n",
              "      <th>appearances</th>\n",
              "    </tr>\n",
              "  </thead>\n",
              "  <tbody>\n",
              "    <tr>\n",
              "      <th>0</th>\n",
              "      <td>1</td>\n",
              "      <td>1967</td>\n",
              "      <td>2</td>\n",
              "    </tr>\n",
              "    <tr>\n",
              "      <th>1</th>\n",
              "      <td>1</td>\n",
              "      <td>1971</td>\n",
              "      <td>1</td>\n",
              "    </tr>\n",
              "    <tr>\n",
              "      <th>2</th>\n",
              "      <td>1</td>\n",
              "      <td>1973</td>\n",
              "      <td>1</td>\n",
              "    </tr>\n",
              "    <tr>\n",
              "      <th>3</th>\n",
              "      <td>1</td>\n",
              "      <td>1977</td>\n",
              "      <td>2</td>\n",
              "    </tr>\n",
              "    <tr>\n",
              "      <th>4</th>\n",
              "      <td>1</td>\n",
              "      <td>1985</td>\n",
              "      <td>1</td>\n",
              "    </tr>\n",
              "  </tbody>\n",
              "</table>\n",
              "</div>\n",
              "      <button class=\"colab-df-convert\" onclick=\"convertToInteractive('df-83c3fd2b-047f-4cd0-a8bc-197d703e78ce')\"\n",
              "              title=\"Convert this dataframe to an interactive table.\"\n",
              "              style=\"display:none;\">\n",
              "        \n",
              "  <svg xmlns=\"http://www.w3.org/2000/svg\" height=\"24px\"viewBox=\"0 0 24 24\"\n",
              "       width=\"24px\">\n",
              "    <path d=\"M0 0h24v24H0V0z\" fill=\"none\"/>\n",
              "    <path d=\"M18.56 5.44l.94 2.06.94-2.06 2.06-.94-2.06-.94-.94-2.06-.94 2.06-2.06.94zm-11 1L8.5 8.5l.94-2.06 2.06-.94-2.06-.94L8.5 2.5l-.94 2.06-2.06.94zm10 10l.94 2.06.94-2.06 2.06-.94-2.06-.94-.94-2.06-.94 2.06-2.06.94z\"/><path d=\"M17.41 7.96l-1.37-1.37c-.4-.4-.92-.59-1.43-.59-.52 0-1.04.2-1.43.59L10.3 9.45l-7.72 7.72c-.78.78-.78 2.05 0 2.83L4 21.41c.39.39.9.59 1.41.59.51 0 1.02-.2 1.41-.59l7.78-7.78 2.81-2.81c.8-.78.8-2.07 0-2.86zM5.41 20L4 18.59l7.72-7.72 1.47 1.35L5.41 20z\"/>\n",
              "  </svg>\n",
              "      </button>\n",
              "      \n",
              "  <style>\n",
              "    .colab-df-container {\n",
              "      display:flex;\n",
              "      flex-wrap:wrap;\n",
              "      gap: 12px;\n",
              "    }\n",
              "\n",
              "    .colab-df-convert {\n",
              "      background-color: #E8F0FE;\n",
              "      border: none;\n",
              "      border-radius: 50%;\n",
              "      cursor: pointer;\n",
              "      display: none;\n",
              "      fill: #1967D2;\n",
              "      height: 32px;\n",
              "      padding: 0 0 0 0;\n",
              "      width: 32px;\n",
              "    }\n",
              "\n",
              "    .colab-df-convert:hover {\n",
              "      background-color: #E2EBFA;\n",
              "      box-shadow: 0px 1px 2px rgba(60, 64, 67, 0.3), 0px 1px 3px 1px rgba(60, 64, 67, 0.15);\n",
              "      fill: #174EA6;\n",
              "    }\n",
              "\n",
              "    [theme=dark] .colab-df-convert {\n",
              "      background-color: #3B4455;\n",
              "      fill: #D2E3FC;\n",
              "    }\n",
              "\n",
              "    [theme=dark] .colab-df-convert:hover {\n",
              "      background-color: #434B5C;\n",
              "      box-shadow: 0px 1px 3px 1px rgba(0, 0, 0, 0.15);\n",
              "      filter: drop-shadow(0px 1px 2px rgba(0, 0, 0, 0.3));\n",
              "      fill: #FFFFFF;\n",
              "    }\n",
              "  </style>\n",
              "\n",
              "      <script>\n",
              "        const buttonEl =\n",
              "          document.querySelector('#df-83c3fd2b-047f-4cd0-a8bc-197d703e78ce button.colab-df-convert');\n",
              "        buttonEl.style.display =\n",
              "          google.colab.kernel.accessAllowed ? 'block' : 'none';\n",
              "\n",
              "        async function convertToInteractive(key) {\n",
              "          const element = document.querySelector('#df-83c3fd2b-047f-4cd0-a8bc-197d703e78ce');\n",
              "          const dataTable =\n",
              "            await google.colab.kernel.invokeFunction('convertToInteractive',\n",
              "                                                     [key], {});\n",
              "          if (!dataTable) return;\n",
              "\n",
              "          const docLinkHtml = 'Like what you see? Visit the ' +\n",
              "            '<a target=\"_blank\" href=https://colab.research.google.com/notebooks/data_table.ipynb>data table notebook</a>'\n",
              "            + ' to learn more about interactive tables.';\n",
              "          element.innerHTML = '';\n",
              "          dataTable['output_type'] = 'display_data';\n",
              "          await google.colab.output.renderOutput(dataTable, element);\n",
              "          const docLink = document.createElement('div');\n",
              "          docLink.innerHTML = docLinkHtml;\n",
              "          element.appendChild(docLink);\n",
              "        }\n",
              "      </script>\n",
              "    </div>\n",
              "  </div>\n",
              "  "
            ]
          },
          "metadata": {},
          "execution_count": 106
        }
      ]
    },
    {
      "cell_type": "code",
      "source": [
        "#volvemos a agrupar por actor para sacar la máxima cantidad de participaciones que logró en un solo año\n",
        "df_max_crew_appearances_per_year = df_crew_count_by_year.groupby(\"crew_id\").agg(max_appearances=(\"appearances\",max)).reset_index()\n",
        "quantile_95th = df_max_crew_appearances_per_year[\"max_appearances\"].quantile(0.95)\n",
        "df_max_crew_appearances_per_year[df_max_crew_appearances_per_year[\"max_appearances\"] > quantile_95th]"
      ],
      "metadata": {
        "id": "4e8XazPO7n5J",
        "colab": {
          "base_uri": "https://localhost:8080/",
          "height": 488
        },
        "outputId": "6ccd1882-8dcb-4e26-97de-4c1c3834be02"
      },
      "execution_count": 107,
      "outputs": [
        {
          "output_type": "execute_result",
          "data": {
            "text/plain": [
              "       crew_id  max_appearances\n",
              "9           24                4\n",
              "15          32                4\n",
              "19          40                4\n",
              "22          59                7\n",
              "28          67                4\n",
              "...        ...              ...\n",
              "39415  1341689                4\n",
              "40582  1386894                6\n",
              "41011  1410876                4\n",
              "44669  1621038                4\n",
              "46472  1827779                4\n",
              "\n",
              "[639 rows x 2 columns]"
            ],
            "text/html": [
              "\n",
              "  <div id=\"df-ac5c0c01-ba72-402d-b783-922d5b468ba4\">\n",
              "    <div class=\"colab-df-container\">\n",
              "      <div>\n",
              "<style scoped>\n",
              "    .dataframe tbody tr th:only-of-type {\n",
              "        vertical-align: middle;\n",
              "    }\n",
              "\n",
              "    .dataframe tbody tr th {\n",
              "        vertical-align: top;\n",
              "    }\n",
              "\n",
              "    .dataframe thead th {\n",
              "        text-align: right;\n",
              "    }\n",
              "</style>\n",
              "<table border=\"1\" class=\"dataframe\">\n",
              "  <thead>\n",
              "    <tr style=\"text-align: right;\">\n",
              "      <th></th>\n",
              "      <th>crew_id</th>\n",
              "      <th>max_appearances</th>\n",
              "    </tr>\n",
              "  </thead>\n",
              "  <tbody>\n",
              "    <tr>\n",
              "      <th>9</th>\n",
              "      <td>24</td>\n",
              "      <td>4</td>\n",
              "    </tr>\n",
              "    <tr>\n",
              "      <th>15</th>\n",
              "      <td>32</td>\n",
              "      <td>4</td>\n",
              "    </tr>\n",
              "    <tr>\n",
              "      <th>19</th>\n",
              "      <td>40</td>\n",
              "      <td>4</td>\n",
              "    </tr>\n",
              "    <tr>\n",
              "      <th>22</th>\n",
              "      <td>59</td>\n",
              "      <td>7</td>\n",
              "    </tr>\n",
              "    <tr>\n",
              "      <th>28</th>\n",
              "      <td>67</td>\n",
              "      <td>4</td>\n",
              "    </tr>\n",
              "    <tr>\n",
              "      <th>...</th>\n",
              "      <td>...</td>\n",
              "      <td>...</td>\n",
              "    </tr>\n",
              "    <tr>\n",
              "      <th>39415</th>\n",
              "      <td>1341689</td>\n",
              "      <td>4</td>\n",
              "    </tr>\n",
              "    <tr>\n",
              "      <th>40582</th>\n",
              "      <td>1386894</td>\n",
              "      <td>6</td>\n",
              "    </tr>\n",
              "    <tr>\n",
              "      <th>41011</th>\n",
              "      <td>1410876</td>\n",
              "      <td>4</td>\n",
              "    </tr>\n",
              "    <tr>\n",
              "      <th>44669</th>\n",
              "      <td>1621038</td>\n",
              "      <td>4</td>\n",
              "    </tr>\n",
              "    <tr>\n",
              "      <th>46472</th>\n",
              "      <td>1827779</td>\n",
              "      <td>4</td>\n",
              "    </tr>\n",
              "  </tbody>\n",
              "</table>\n",
              "<p>639 rows × 2 columns</p>\n",
              "</div>\n",
              "      <button class=\"colab-df-convert\" onclick=\"convertToInteractive('df-ac5c0c01-ba72-402d-b783-922d5b468ba4')\"\n",
              "              title=\"Convert this dataframe to an interactive table.\"\n",
              "              style=\"display:none;\">\n",
              "        \n",
              "  <svg xmlns=\"http://www.w3.org/2000/svg\" height=\"24px\"viewBox=\"0 0 24 24\"\n",
              "       width=\"24px\">\n",
              "    <path d=\"M0 0h24v24H0V0z\" fill=\"none\"/>\n",
              "    <path d=\"M18.56 5.44l.94 2.06.94-2.06 2.06-.94-2.06-.94-.94-2.06-.94 2.06-2.06.94zm-11 1L8.5 8.5l.94-2.06 2.06-.94-2.06-.94L8.5 2.5l-.94 2.06-2.06.94zm10 10l.94 2.06.94-2.06 2.06-.94-2.06-.94-.94-2.06-.94 2.06-2.06.94z\"/><path d=\"M17.41 7.96l-1.37-1.37c-.4-.4-.92-.59-1.43-.59-.52 0-1.04.2-1.43.59L10.3 9.45l-7.72 7.72c-.78.78-.78 2.05 0 2.83L4 21.41c.39.39.9.59 1.41.59.51 0 1.02-.2 1.41-.59l7.78-7.78 2.81-2.81c.8-.78.8-2.07 0-2.86zM5.41 20L4 18.59l7.72-7.72 1.47 1.35L5.41 20z\"/>\n",
              "  </svg>\n",
              "      </button>\n",
              "      \n",
              "  <style>\n",
              "    .colab-df-container {\n",
              "      display:flex;\n",
              "      flex-wrap:wrap;\n",
              "      gap: 12px;\n",
              "    }\n",
              "\n",
              "    .colab-df-convert {\n",
              "      background-color: #E8F0FE;\n",
              "      border: none;\n",
              "      border-radius: 50%;\n",
              "      cursor: pointer;\n",
              "      display: none;\n",
              "      fill: #1967D2;\n",
              "      height: 32px;\n",
              "      padding: 0 0 0 0;\n",
              "      width: 32px;\n",
              "    }\n",
              "\n",
              "    .colab-df-convert:hover {\n",
              "      background-color: #E2EBFA;\n",
              "      box-shadow: 0px 1px 2px rgba(60, 64, 67, 0.3), 0px 1px 3px 1px rgba(60, 64, 67, 0.15);\n",
              "      fill: #174EA6;\n",
              "    }\n",
              "\n",
              "    [theme=dark] .colab-df-convert {\n",
              "      background-color: #3B4455;\n",
              "      fill: #D2E3FC;\n",
              "    }\n",
              "\n",
              "    [theme=dark] .colab-df-convert:hover {\n",
              "      background-color: #434B5C;\n",
              "      box-shadow: 0px 1px 3px 1px rgba(0, 0, 0, 0.15);\n",
              "      filter: drop-shadow(0px 1px 2px rgba(0, 0, 0, 0.3));\n",
              "      fill: #FFFFFF;\n",
              "    }\n",
              "  </style>\n",
              "\n",
              "      <script>\n",
              "        const buttonEl =\n",
              "          document.querySelector('#df-ac5c0c01-ba72-402d-b783-922d5b468ba4 button.colab-df-convert');\n",
              "        buttonEl.style.display =\n",
              "          google.colab.kernel.accessAllowed ? 'block' : 'none';\n",
              "\n",
              "        async function convertToInteractive(key) {\n",
              "          const element = document.querySelector('#df-ac5c0c01-ba72-402d-b783-922d5b468ba4');\n",
              "          const dataTable =\n",
              "            await google.colab.kernel.invokeFunction('convertToInteractive',\n",
              "                                                     [key], {});\n",
              "          if (!dataTable) return;\n",
              "\n",
              "          const docLinkHtml = 'Like what you see? Visit the ' +\n",
              "            '<a target=\"_blank\" href=https://colab.research.google.com/notebooks/data_table.ipynb>data table notebook</a>'\n",
              "            + ' to learn more about interactive tables.';\n",
              "          element.innerHTML = '';\n",
              "          dataTable['output_type'] = 'display_data';\n",
              "          await google.colab.output.renderOutput(dataTable, element);\n",
              "          const docLink = document.createElement('div');\n",
              "          docLink.innerHTML = docLinkHtml;\n",
              "          element.appendChild(docLink);\n",
              "        }\n",
              "      </script>\n",
              "    </div>\n",
              "  </div>\n",
              "  "
            ]
          },
          "metadata": {},
          "execution_count": 107
        }
      ]
    },
    {
      "cell_type": "markdown",
      "source": [
        "Vemis que hay un total de 3371 miembros de una crew que superan dicho percentil. Podemos encontrar sus nombres fácilmente:"
      ],
      "metadata": {
        "id": "8Pa74-qK-Ewd"
      }
    },
    {
      "cell_type": "code",
      "source": [
        "suspect_crew_members = pd.merge(df_crew_filtrado,\n",
        "                                df_max_crew_appearances_per_year[df_max_crew_appearances_per_year[\"max_appearances\"] > quantile_95th],\n",
        "                                on='crew_id', \n",
        "                                how = \"right\")\n",
        "suspect_crew_members\n"
      ],
      "metadata": {
        "colab": {
          "base_uri": "https://localhost:8080/",
          "height": 661
        },
        "id": "BsqEJYHp-S4z",
        "outputId": "e2257fe3-083b-4342-bc0e-c66c5f40596d"
      },
      "execution_count": 108,
      "outputs": [
        {
          "output_type": "execute_result",
          "data": {
            "text/plain": [
              "           id  crew_id       job             name  max_appearances\n",
              "0          13       24  Director  Robert Zemeckis                4\n",
              "1         105       24  Director  Robert Zemeckis                4\n",
              "2         105       24    Writer  Robert Zemeckis                4\n",
              "3         686       24  Director  Robert Zemeckis                4\n",
              "4         686       24  Producer  Robert Zemeckis                4\n",
              "...       ...      ...       ...              ...              ...\n",
              "13496  429779  1827779  Director  Shannon Hartman                4\n",
              "13497  429779  1827779  Producer  Shannon Hartman                4\n",
              "13498  337405  1827779  Director  Shannon Hartman                4\n",
              "13499  419037  1827779  Director  Shannon Hartman                4\n",
              "13500  446048  1827779  Director  Shannon Hartman                4\n",
              "\n",
              "[13501 rows x 5 columns]"
            ],
            "text/html": [
              "\n",
              "  <div id=\"df-1093010f-e4bb-4eaa-8f1d-b45ae97c12a7\">\n",
              "    <div class=\"colab-df-container\">\n",
              "      <div>\n",
              "<style scoped>\n",
              "    .dataframe tbody tr th:only-of-type {\n",
              "        vertical-align: middle;\n",
              "    }\n",
              "\n",
              "    .dataframe tbody tr th {\n",
              "        vertical-align: top;\n",
              "    }\n",
              "\n",
              "    .dataframe thead th {\n",
              "        text-align: right;\n",
              "    }\n",
              "</style>\n",
              "<table border=\"1\" class=\"dataframe\">\n",
              "  <thead>\n",
              "    <tr style=\"text-align: right;\">\n",
              "      <th></th>\n",
              "      <th>id</th>\n",
              "      <th>crew_id</th>\n",
              "      <th>job</th>\n",
              "      <th>name</th>\n",
              "      <th>max_appearances</th>\n",
              "    </tr>\n",
              "  </thead>\n",
              "  <tbody>\n",
              "    <tr>\n",
              "      <th>0</th>\n",
              "      <td>13</td>\n",
              "      <td>24</td>\n",
              "      <td>Director</td>\n",
              "      <td>Robert Zemeckis</td>\n",
              "      <td>4</td>\n",
              "    </tr>\n",
              "    <tr>\n",
              "      <th>1</th>\n",
              "      <td>105</td>\n",
              "      <td>24</td>\n",
              "      <td>Director</td>\n",
              "      <td>Robert Zemeckis</td>\n",
              "      <td>4</td>\n",
              "    </tr>\n",
              "    <tr>\n",
              "      <th>2</th>\n",
              "      <td>105</td>\n",
              "      <td>24</td>\n",
              "      <td>Writer</td>\n",
              "      <td>Robert Zemeckis</td>\n",
              "      <td>4</td>\n",
              "    </tr>\n",
              "    <tr>\n",
              "      <th>3</th>\n",
              "      <td>686</td>\n",
              "      <td>24</td>\n",
              "      <td>Director</td>\n",
              "      <td>Robert Zemeckis</td>\n",
              "      <td>4</td>\n",
              "    </tr>\n",
              "    <tr>\n",
              "      <th>4</th>\n",
              "      <td>686</td>\n",
              "      <td>24</td>\n",
              "      <td>Producer</td>\n",
              "      <td>Robert Zemeckis</td>\n",
              "      <td>4</td>\n",
              "    </tr>\n",
              "    <tr>\n",
              "      <th>...</th>\n",
              "      <td>...</td>\n",
              "      <td>...</td>\n",
              "      <td>...</td>\n",
              "      <td>...</td>\n",
              "      <td>...</td>\n",
              "    </tr>\n",
              "    <tr>\n",
              "      <th>13496</th>\n",
              "      <td>429779</td>\n",
              "      <td>1827779</td>\n",
              "      <td>Director</td>\n",
              "      <td>Shannon Hartman</td>\n",
              "      <td>4</td>\n",
              "    </tr>\n",
              "    <tr>\n",
              "      <th>13497</th>\n",
              "      <td>429779</td>\n",
              "      <td>1827779</td>\n",
              "      <td>Producer</td>\n",
              "      <td>Shannon Hartman</td>\n",
              "      <td>4</td>\n",
              "    </tr>\n",
              "    <tr>\n",
              "      <th>13498</th>\n",
              "      <td>337405</td>\n",
              "      <td>1827779</td>\n",
              "      <td>Director</td>\n",
              "      <td>Shannon Hartman</td>\n",
              "      <td>4</td>\n",
              "    </tr>\n",
              "    <tr>\n",
              "      <th>13499</th>\n",
              "      <td>419037</td>\n",
              "      <td>1827779</td>\n",
              "      <td>Director</td>\n",
              "      <td>Shannon Hartman</td>\n",
              "      <td>4</td>\n",
              "    </tr>\n",
              "    <tr>\n",
              "      <th>13500</th>\n",
              "      <td>446048</td>\n",
              "      <td>1827779</td>\n",
              "      <td>Director</td>\n",
              "      <td>Shannon Hartman</td>\n",
              "      <td>4</td>\n",
              "    </tr>\n",
              "  </tbody>\n",
              "</table>\n",
              "<p>13501 rows × 5 columns</p>\n",
              "</div>\n",
              "      <button class=\"colab-df-convert\" onclick=\"convertToInteractive('df-1093010f-e4bb-4eaa-8f1d-b45ae97c12a7')\"\n",
              "              title=\"Convert this dataframe to an interactive table.\"\n",
              "              style=\"display:none;\">\n",
              "        \n",
              "  <svg xmlns=\"http://www.w3.org/2000/svg\" height=\"24px\"viewBox=\"0 0 24 24\"\n",
              "       width=\"24px\">\n",
              "    <path d=\"M0 0h24v24H0V0z\" fill=\"none\"/>\n",
              "    <path d=\"M18.56 5.44l.94 2.06.94-2.06 2.06-.94-2.06-.94-.94-2.06-.94 2.06-2.06.94zm-11 1L8.5 8.5l.94-2.06 2.06-.94-2.06-.94L8.5 2.5l-.94 2.06-2.06.94zm10 10l.94 2.06.94-2.06 2.06-.94-2.06-.94-.94-2.06-.94 2.06-2.06.94z\"/><path d=\"M17.41 7.96l-1.37-1.37c-.4-.4-.92-.59-1.43-.59-.52 0-1.04.2-1.43.59L10.3 9.45l-7.72 7.72c-.78.78-.78 2.05 0 2.83L4 21.41c.39.39.9.59 1.41.59.51 0 1.02-.2 1.41-.59l7.78-7.78 2.81-2.81c.8-.78.8-2.07 0-2.86zM5.41 20L4 18.59l7.72-7.72 1.47 1.35L5.41 20z\"/>\n",
              "  </svg>\n",
              "      </button>\n",
              "      \n",
              "  <style>\n",
              "    .colab-df-container {\n",
              "      display:flex;\n",
              "      flex-wrap:wrap;\n",
              "      gap: 12px;\n",
              "    }\n",
              "\n",
              "    .colab-df-convert {\n",
              "      background-color: #E8F0FE;\n",
              "      border: none;\n",
              "      border-radius: 50%;\n",
              "      cursor: pointer;\n",
              "      display: none;\n",
              "      fill: #1967D2;\n",
              "      height: 32px;\n",
              "      padding: 0 0 0 0;\n",
              "      width: 32px;\n",
              "    }\n",
              "\n",
              "    .colab-df-convert:hover {\n",
              "      background-color: #E2EBFA;\n",
              "      box-shadow: 0px 1px 2px rgba(60, 64, 67, 0.3), 0px 1px 3px 1px rgba(60, 64, 67, 0.15);\n",
              "      fill: #174EA6;\n",
              "    }\n",
              "\n",
              "    [theme=dark] .colab-df-convert {\n",
              "      background-color: #3B4455;\n",
              "      fill: #D2E3FC;\n",
              "    }\n",
              "\n",
              "    [theme=dark] .colab-df-convert:hover {\n",
              "      background-color: #434B5C;\n",
              "      box-shadow: 0px 1px 3px 1px rgba(0, 0, 0, 0.15);\n",
              "      filter: drop-shadow(0px 1px 2px rgba(0, 0, 0, 0.3));\n",
              "      fill: #FFFFFF;\n",
              "    }\n",
              "  </style>\n",
              "\n",
              "      <script>\n",
              "        const buttonEl =\n",
              "          document.querySelector('#df-1093010f-e4bb-4eaa-8f1d-b45ae97c12a7 button.colab-df-convert');\n",
              "        buttonEl.style.display =\n",
              "          google.colab.kernel.accessAllowed ? 'block' : 'none';\n",
              "\n",
              "        async function convertToInteractive(key) {\n",
              "          const element = document.querySelector('#df-1093010f-e4bb-4eaa-8f1d-b45ae97c12a7');\n",
              "          const dataTable =\n",
              "            await google.colab.kernel.invokeFunction('convertToInteractive',\n",
              "                                                     [key], {});\n",
              "          if (!dataTable) return;\n",
              "\n",
              "          const docLinkHtml = 'Like what you see? Visit the ' +\n",
              "            '<a target=\"_blank\" href=https://colab.research.google.com/notebooks/data_table.ipynb>data table notebook</a>'\n",
              "            + ' to learn more about interactive tables.';\n",
              "          element.innerHTML = '';\n",
              "          dataTable['output_type'] = 'display_data';\n",
              "          await google.colab.output.renderOutput(dataTable, element);\n",
              "          const docLink = document.createElement('div');\n",
              "          docLink.innerHTML = docLinkHtml;\n",
              "          element.appendChild(docLink);\n",
              "        }\n",
              "      </script>\n",
              "    </div>\n",
              "  </div>\n",
              "  "
            ]
          },
          "metadata": {},
          "execution_count": 108
        }
      ]
    },
    {
      "cell_type": "markdown",
      "source": [
        "Por curiosidad, busco el top 5"
      ],
      "metadata": {
        "id": "gyR_7L3UAcE0"
      }
    },
    {
      "cell_type": "code",
      "source": [
        "really_suspect_crew_members = pd.merge(df_crew_filtrado,\n",
        "                                df_max_crew_appearances_per_year.sort_values(\"max_appearances\", ascending=False).head(5),\n",
        "                                on='crew_id', \n",
        "                                how = \"right\")\n",
        "really_suspect_crew_members[\"name\"].unique()"
      ],
      "metadata": {
        "colab": {
          "base_uri": "https://localhost:8080/"
        },
        "id": "Z6Y8kv_5AfmB",
        "outputId": "47e7fe64-3f60-4f08-fa41-7c5f674e9186"
      },
      "execution_count": 109,
      "outputs": [
        {
          "output_type": "execute_result",
          "data": {
            "text/plain": [
              "array(['Charlie Chaplin', 'JP Siili', 'David Michael Latt',\n",
              "       'Buster Keaton', 'Max Linder'], dtype=object)"
            ]
          },
          "metadata": {},
          "execution_count": 109
        }
      ]
    },
    {
      "cell_type": "markdown",
      "source": [
        "### P20"
      ],
      "metadata": {
        "id": "5evgPfYMDE5g"
      }
    },
    {
      "cell_type": "markdown",
      "source": [
        "- ¿Cuál es la probabilidad de que una película de un género en particular tenga una calificación promedio mayor a 7? Obtenga las probabilidades de cada género posible."
      ],
      "metadata": {
        "id": "jI6hAnC_URIE"
      }
    },
    {
      "cell_type": "code",
      "source": [
        "df_ratings = pd.read_csv(path_a_ratings)\n",
        "df_ratings.info()"
      ],
      "metadata": {
        "colab": {
          "base_uri": "https://localhost:8080/"
        },
        "id": "WX8Wphd-hxM0",
        "outputId": "451a00f8-58c6-4cfb-d7d0-89d2e3ffa26a"
      },
      "execution_count": 110,
      "outputs": [
        {
          "output_type": "stream",
          "name": "stdout",
          "text": [
            "<class 'pandas.core.frame.DataFrame'>\n",
            "RangeIndex: 26024289 entries, 0 to 26024288\n",
            "Data columns (total 4 columns):\n",
            " #   Column     Dtype  \n",
            "---  ------     -----  \n",
            " 0   userId     int64  \n",
            " 1   movieId    int64  \n",
            " 2   rating     float64\n",
            " 3   timestamp  int64  \n",
            "dtypes: float64(1), int64(3)\n",
            "memory usage: 794.2 MB\n"
          ]
        }
      ]
    },
    {
      "cell_type": "code",
      "source": [
        "df_movies.info()"
      ],
      "metadata": {
        "colab": {
          "base_uri": "https://localhost:8080/"
        },
        "id": "4ji7WTY6TQy3",
        "outputId": "0cf20c29-dc7b-4e17-9f2c-ed4a63ce71ba"
      },
      "execution_count": 111,
      "outputs": [
        {
          "output_type": "stream",
          "name": "stdout",
          "text": [
            "<class 'pandas.core.frame.DataFrame'>\n",
            "RangeIndex: 45466 entries, 0 to 45465\n",
            "Data columns (total 24 columns):\n",
            " #   Column                 Non-Null Count  Dtype  \n",
            "---  ------                 --------------  -----  \n",
            " 0   adult                  45466 non-null  object \n",
            " 1   belongs_to_collection  4494 non-null   object \n",
            " 2   budget                 45466 non-null  object \n",
            " 3   genres                 43021 non-null  object \n",
            " 4   homepage               7782 non-null   object \n",
            " 5   id                     45466 non-null  object \n",
            " 6   imdb_id                45449 non-null  object \n",
            " 7   original_language      45455 non-null  object \n",
            " 8   original_title         45466 non-null  object \n",
            " 9   overview               44512 non-null  object \n",
            " 10  popularity             45461 non-null  object \n",
            " 11  poster_path            45080 non-null  object \n",
            " 12  production_companies   33585 non-null  object \n",
            " 13  production_countries   45463 non-null  object \n",
            " 14  release_date           45379 non-null  object \n",
            " 15  revenue                45460 non-null  float64\n",
            " 16  runtime                45203 non-null  float64\n",
            " 17  spoken_languages       45460 non-null  object \n",
            " 18  status                 45379 non-null  object \n",
            " 19  tagline                20412 non-null  object \n",
            " 20  title                  45460 non-null  object \n",
            " 21  video                  45460 non-null  object \n",
            " 22  vote_average           45460 non-null  float64\n",
            " 23  vote_count             45460 non-null  float64\n",
            "dtypes: float64(4), object(20)\n",
            "memory usage: 8.3+ MB\n"
          ]
        }
      ]
    },
    {
      "cell_type": "markdown",
      "source": [
        "Filtramos las columnas importantes: Vamos a necesitar el id y el género para hacer un *join* con la tabla **ratings** y así tener también el nombre de la película. Primero que nada, sería útil conocer que géneros tenemos, y sacarnos de encima las pelis de las que no conocemos el género."
      ],
      "metadata": {
        "id": "lN7DMrCXTf8X"
      }
    },
    {
      "cell_type": "code",
      "source": [
        "df_movies_filtered = df_movies[[\"id\", \"genres\"]]\n",
        "def add_genre(genre_string:str, known_genres:dict)->None:\n",
        "  genres_in_string = genre_string.split(\",\")\n",
        "  for genre in genres_in_string:\n",
        "    if not known_genres.get(genre):\n",
        "      known_genres.update({genre:len(known_genres)})\n",
        "\n",
        "known_genres = {}\n",
        "obtain_existing_genres = lambda genre: add_genre(genre, known_genres)\n",
        "df_movies_filtered = df_movies_filtered[df_movies_filtered[\"genres\"].notnull()]\n",
        "df_movies_filtered[\"genres\"].map(obtain_existing_genres)\n",
        "df_movies_filtered[\"id\"] = pd.to_numeric(df_movies_filtered[\"id\"], errors = \"coerce\")\n",
        "known_genres = sorted(list(known_genres.keys()))\n",
        "known_genres"
      ],
      "metadata": {
        "colab": {
          "base_uri": "https://localhost:8080/"
        },
        "id": "GIKe_0Ehf_Qb",
        "outputId": "b335c278-f96e-42ef-ad20-acea5f13e2a3"
      },
      "execution_count": 112,
      "outputs": [
        {
          "output_type": "execute_result",
          "data": {
            "text/plain": [
              "['Action',\n",
              " 'Adventure',\n",
              " 'Animation',\n",
              " 'Comedy',\n",
              " 'Crime',\n",
              " 'Documentary',\n",
              " 'Drama',\n",
              " 'Family',\n",
              " 'Fantasy',\n",
              " 'Foreign',\n",
              " 'History',\n",
              " 'Horror',\n",
              " 'Music',\n",
              " 'Mystery',\n",
              " 'Romance',\n",
              " 'Science Fiction',\n",
              " 'TV Movie',\n",
              " 'Thriller',\n",
              " 'War',\n",
              " 'Western']"
            ]
          },
          "metadata": {},
          "execution_count": 112
        }
      ]
    },
    {
      "cell_type": "markdown",
      "source": [
        "Realizamos el join de **df_ratings** con **df_movies_filtered**, previamente filtrando las columnas relevantes del primero (movie_id, rating).."
      ],
      "metadata": {
        "id": "v77qXAH0f_wt"
      }
    },
    {
      "cell_type": "code",
      "source": [
        "df_ratings_filtered = df_ratings[[\"movieId\", \"rating\"]]\n",
        "df_ratings_filtered.columns = [\"id\", \"rating\"]\n",
        "df_ratings_and_genres = pd.merge(df_ratings_filtered, df_movies_filtered, on=\"id\", how=\"inner\")\n",
        "df_ratings_and_genres"
      ],
      "metadata": {
        "colab": {
          "base_uri": "https://localhost:8080/",
          "height": 424
        },
        "id": "2O9e5JaFf_0E",
        "outputId": "6a2255ac-79bd-4056-9b88-78c190ae4eb9"
      },
      "execution_count": 113,
      "outputs": [
        {
          "output_type": "execute_result",
          "data": {
            "text/plain": [
              "              id  rating                       genres\n",
              "0            110     1.0        Drama,Mystery,Romance\n",
              "1            110     3.5        Drama,Mystery,Romance\n",
              "2            110     5.0        Drama,Mystery,Romance\n",
              "3            110     5.0        Drama,Mystery,Romance\n",
              "4            110     3.0        Drama,Mystery,Romance\n",
              "...          ...     ...                          ...\n",
              "11382416  125249     3.5                       Action\n",
              "11382417  140222     3.0            Drama,Romance,War\n",
              "11382418  151509     3.0         Comedy,Music,Mystery\n",
              "11382419  159109     1.5  Comedy,Drama,Horror,Mystery\n",
              "11382420  136928     3.0                        Drama\n",
              "\n",
              "[11382421 rows x 3 columns]"
            ],
            "text/html": [
              "\n",
              "  <div id=\"df-e36b5756-27ca-4757-978e-32b60b82d0c8\">\n",
              "    <div class=\"colab-df-container\">\n",
              "      <div>\n",
              "<style scoped>\n",
              "    .dataframe tbody tr th:only-of-type {\n",
              "        vertical-align: middle;\n",
              "    }\n",
              "\n",
              "    .dataframe tbody tr th {\n",
              "        vertical-align: top;\n",
              "    }\n",
              "\n",
              "    .dataframe thead th {\n",
              "        text-align: right;\n",
              "    }\n",
              "</style>\n",
              "<table border=\"1\" class=\"dataframe\">\n",
              "  <thead>\n",
              "    <tr style=\"text-align: right;\">\n",
              "      <th></th>\n",
              "      <th>id</th>\n",
              "      <th>rating</th>\n",
              "      <th>genres</th>\n",
              "    </tr>\n",
              "  </thead>\n",
              "  <tbody>\n",
              "    <tr>\n",
              "      <th>0</th>\n",
              "      <td>110</td>\n",
              "      <td>1.0</td>\n",
              "      <td>Drama,Mystery,Romance</td>\n",
              "    </tr>\n",
              "    <tr>\n",
              "      <th>1</th>\n",
              "      <td>110</td>\n",
              "      <td>3.5</td>\n",
              "      <td>Drama,Mystery,Romance</td>\n",
              "    </tr>\n",
              "    <tr>\n",
              "      <th>2</th>\n",
              "      <td>110</td>\n",
              "      <td>5.0</td>\n",
              "      <td>Drama,Mystery,Romance</td>\n",
              "    </tr>\n",
              "    <tr>\n",
              "      <th>3</th>\n",
              "      <td>110</td>\n",
              "      <td>5.0</td>\n",
              "      <td>Drama,Mystery,Romance</td>\n",
              "    </tr>\n",
              "    <tr>\n",
              "      <th>4</th>\n",
              "      <td>110</td>\n",
              "      <td>3.0</td>\n",
              "      <td>Drama,Mystery,Romance</td>\n",
              "    </tr>\n",
              "    <tr>\n",
              "      <th>...</th>\n",
              "      <td>...</td>\n",
              "      <td>...</td>\n",
              "      <td>...</td>\n",
              "    </tr>\n",
              "    <tr>\n",
              "      <th>11382416</th>\n",
              "      <td>125249</td>\n",
              "      <td>3.5</td>\n",
              "      <td>Action</td>\n",
              "    </tr>\n",
              "    <tr>\n",
              "      <th>11382417</th>\n",
              "      <td>140222</td>\n",
              "      <td>3.0</td>\n",
              "      <td>Drama,Romance,War</td>\n",
              "    </tr>\n",
              "    <tr>\n",
              "      <th>11382418</th>\n",
              "      <td>151509</td>\n",
              "      <td>3.0</td>\n",
              "      <td>Comedy,Music,Mystery</td>\n",
              "    </tr>\n",
              "    <tr>\n",
              "      <th>11382419</th>\n",
              "      <td>159109</td>\n",
              "      <td>1.5</td>\n",
              "      <td>Comedy,Drama,Horror,Mystery</td>\n",
              "    </tr>\n",
              "    <tr>\n",
              "      <th>11382420</th>\n",
              "      <td>136928</td>\n",
              "      <td>3.0</td>\n",
              "      <td>Drama</td>\n",
              "    </tr>\n",
              "  </tbody>\n",
              "</table>\n",
              "<p>11382421 rows × 3 columns</p>\n",
              "</div>\n",
              "      <button class=\"colab-df-convert\" onclick=\"convertToInteractive('df-e36b5756-27ca-4757-978e-32b60b82d0c8')\"\n",
              "              title=\"Convert this dataframe to an interactive table.\"\n",
              "              style=\"display:none;\">\n",
              "        \n",
              "  <svg xmlns=\"http://www.w3.org/2000/svg\" height=\"24px\"viewBox=\"0 0 24 24\"\n",
              "       width=\"24px\">\n",
              "    <path d=\"M0 0h24v24H0V0z\" fill=\"none\"/>\n",
              "    <path d=\"M18.56 5.44l.94 2.06.94-2.06 2.06-.94-2.06-.94-.94-2.06-.94 2.06-2.06.94zm-11 1L8.5 8.5l.94-2.06 2.06-.94-2.06-.94L8.5 2.5l-.94 2.06-2.06.94zm10 10l.94 2.06.94-2.06 2.06-.94-2.06-.94-.94-2.06-.94 2.06-2.06.94z\"/><path d=\"M17.41 7.96l-1.37-1.37c-.4-.4-.92-.59-1.43-.59-.52 0-1.04.2-1.43.59L10.3 9.45l-7.72 7.72c-.78.78-.78 2.05 0 2.83L4 21.41c.39.39.9.59 1.41.59.51 0 1.02-.2 1.41-.59l7.78-7.78 2.81-2.81c.8-.78.8-2.07 0-2.86zM5.41 20L4 18.59l7.72-7.72 1.47 1.35L5.41 20z\"/>\n",
              "  </svg>\n",
              "      </button>\n",
              "      \n",
              "  <style>\n",
              "    .colab-df-container {\n",
              "      display:flex;\n",
              "      flex-wrap:wrap;\n",
              "      gap: 12px;\n",
              "    }\n",
              "\n",
              "    .colab-df-convert {\n",
              "      background-color: #E8F0FE;\n",
              "      border: none;\n",
              "      border-radius: 50%;\n",
              "      cursor: pointer;\n",
              "      display: none;\n",
              "      fill: #1967D2;\n",
              "      height: 32px;\n",
              "      padding: 0 0 0 0;\n",
              "      width: 32px;\n",
              "    }\n",
              "\n",
              "    .colab-df-convert:hover {\n",
              "      background-color: #E2EBFA;\n",
              "      box-shadow: 0px 1px 2px rgba(60, 64, 67, 0.3), 0px 1px 3px 1px rgba(60, 64, 67, 0.15);\n",
              "      fill: #174EA6;\n",
              "    }\n",
              "\n",
              "    [theme=dark] .colab-df-convert {\n",
              "      background-color: #3B4455;\n",
              "      fill: #D2E3FC;\n",
              "    }\n",
              "\n",
              "    [theme=dark] .colab-df-convert:hover {\n",
              "      background-color: #434B5C;\n",
              "      box-shadow: 0px 1px 3px 1px rgba(0, 0, 0, 0.15);\n",
              "      filter: drop-shadow(0px 1px 2px rgba(0, 0, 0, 0.3));\n",
              "      fill: #FFFFFF;\n",
              "    }\n",
              "  </style>\n",
              "\n",
              "      <script>\n",
              "        const buttonEl =\n",
              "          document.querySelector('#df-e36b5756-27ca-4757-978e-32b60b82d0c8 button.colab-df-convert');\n",
              "        buttonEl.style.display =\n",
              "          google.colab.kernel.accessAllowed ? 'block' : 'none';\n",
              "\n",
              "        async function convertToInteractive(key) {\n",
              "          const element = document.querySelector('#df-e36b5756-27ca-4757-978e-32b60b82d0c8');\n",
              "          const dataTable =\n",
              "            await google.colab.kernel.invokeFunction('convertToInteractive',\n",
              "                                                     [key], {});\n",
              "          if (!dataTable) return;\n",
              "\n",
              "          const docLinkHtml = 'Like what you see? Visit the ' +\n",
              "            '<a target=\"_blank\" href=https://colab.research.google.com/notebooks/data_table.ipynb>data table notebook</a>'\n",
              "            + ' to learn more about interactive tables.';\n",
              "          element.innerHTML = '';\n",
              "          dataTable['output_type'] = 'display_data';\n",
              "          await google.colab.output.renderOutput(dataTable, element);\n",
              "          const docLink = document.createElement('div');\n",
              "          docLink.innerHTML = docLinkHtml;\n",
              "          element.appendChild(docLink);\n",
              "        }\n",
              "      </script>\n",
              "    </div>\n",
              "  </div>\n",
              "  "
            ]
          },
          "metadata": {},
          "execution_count": 113
        }
      ]
    },
    {
      "cell_type": "markdown",
      "source": [
        "Para calcular la probabilidad de que una película de cierto género específico supere 3.5 (el equivalente de 7 yendo de 0 a 5) utilizamos la función de probabilidad:\n",
        "- $\\mathbb{P}(A_g) = \\frac{|A_g|}{|D_g|}$"
      ],
      "metadata": {
        "id": "7NLUoZVUf_2t"
      }
    },
    {
      "cell_type": "markdown",
      "source": [
        "Donde \n",
        "- $A_g$ = \"película del género $g$ tiene rating mayor a 7\"\n",
        "- $|A_g| = $ cantidad de ratings mayores a 7 de películas del género $g$ \n",
        "- $|D_g|=$ cantidad de ratings totales del género"
      ],
      "metadata": {
        "id": "t_lNo7nzDYhL"
      }
    },
    {
      "cell_type": "code",
      "source": [
        "total_ratings_by_genre = {genre:0 for genre in known_genres}\n",
        "positive_ratings_by_genre = {genre:0 for genre in known_genres}\n",
        "for genre in known_genres:\n",
        "  total_ratings_by_genre[genre] = np.sum(df_ratings_and_genres[\"genres\"].str.contains(genre))\n",
        "  positive_ratings_by_genre[genre] = np.sum((df_ratings_and_genres[\"genres\"].str.contains(genre)) & \n",
        "                                            (df_ratings_and_genres[\"rating\"] > 3.5))"
      ],
      "metadata": {
        "id": "IS4YcIG1f_5r"
      },
      "execution_count": null,
      "outputs": []
    },
    {
      "cell_type": "code",
      "source": [
        "positive_ratings_by_genre"
      ],
      "metadata": {
        "colab": {
          "base_uri": "https://localhost:8080/"
        },
        "id": "jAJH4bbof_8N",
        "outputId": "42ab9902-a72f-4425-fa55-58b351694b4d"
      },
      "execution_count": 140,
      "outputs": [
        {
          "output_type": "execute_result",
          "data": {
            "text/plain": [
              "{'Action': 3319068,\n",
              " 'Adventure': 3319068,\n",
              " 'Animation': 3319068,\n",
              " 'Comedy': 3319068,\n",
              " 'Crime': 3319068,\n",
              " 'Documentary': 3319068,\n",
              " 'Drama': 3319068,\n",
              " 'Family': 3319068,\n",
              " 'Fantasy': 3319068,\n",
              " 'Foreign': 3319068,\n",
              " 'History': 3319068,\n",
              " 'Horror': 3319068,\n",
              " 'Music': 3319068,\n",
              " 'Mystery': 3319068,\n",
              " 'Romance': 3319068,\n",
              " 'Science Fiction': 3319068,\n",
              " 'TV Movie': 3319068,\n",
              " 'Thriller': 3319068,\n",
              " 'War': 3319068,\n",
              " 'Western': 3319068}"
            ]
          },
          "metadata": {},
          "execution_count": 140
        }
      ]
    },
    {
      "cell_type": "code",
      "source": [
        "total_ratings_by_genre"
      ],
      "metadata": {
        "colab": {
          "base_uri": "https://localhost:8080/"
        },
        "id": "Eoh9ooVdYiB6",
        "outputId": "407ca57b-5da9-4e42-f9bc-307a568b5dec"
      },
      "execution_count": 124,
      "outputs": [
        {
          "output_type": "execute_result",
          "data": {
            "text/plain": [
              "{'Action': 2269380,\n",
              " 'Adventure': 1601072,\n",
              " 'Animation': 243619,\n",
              " 'Comedy': 3247720,\n",
              " 'Crime': 1968948,\n",
              " 'Documentary': 309666,\n",
              " 'Drama': 6592158,\n",
              " 'Family': 581271,\n",
              " 'Fantasy': 860871,\n",
              " 'Foreign': 151722,\n",
              " 'History': 451187,\n",
              " 'Horror': 925560,\n",
              " 'Music': 403901,\n",
              " 'Mystery': 1170306,\n",
              " 'Romance': 2104830,\n",
              " 'Science Fiction': 1388482,\n",
              " 'TV Movie': 74260,\n",
              " 'Thriller': 2894106,\n",
              " 'War': 242783,\n",
              " 'Western': 259836}"
            ]
          },
          "metadata": {},
          "execution_count": 124
        }
      ]
    },
    {
      "cell_type": "markdown",
      "source": [
        "### N7\n"
      ],
      "metadata": {
        "id": "Bfi1gBIIDFh5"
      }
    },
    {
      "cell_type": "markdown",
      "source": [
        "-  Dado el ROI de las películas, para aquellas cuyo ROI (Return of Investment) esté entre -10 y 10. ¿Cúal es el top 10 palabras que aparecen más de 5 veces y no son stopwords que generan mayor ROI promedio según su aparición en las descripciones?"
      ],
      "metadata": {
        "id": "5rDVQKuoUZZQ"
      }
    },
    {
      "cell_type": "markdown",
      "source": [
        "### C5"
      ],
      "metadata": {
        "id": "uDOJmd_SDFmv"
      }
    },
    {
      "cell_type": "markdown",
      "source": [
        "- ¿Cúal es la película cuya entropía de las ratings que recibe es más alta? Esta será la película con opiniones más variadas. Considere sólo películas con más de 30 ratings."
      ],
      "metadata": {
        "id": "RSygLCSSUePw"
      }
    },
    {
      "cell_type": "markdown",
      "source": [
        "### V8"
      ],
      "metadata": {
        "id": "hQ2i_k8EDFre"
      }
    },
    {
      "cell_type": "markdown",
      "source": [
        "- Utilizando la tabla de imdb_actors para estimar los géneros, realice la siguiente visualización. La misma debe tener el mismo estilo y rangos pero puede variar ligeramente debido a supuestos al aproximar valores. "
      ],
      "metadata": {
        "id": "nqJ43PZCUlSp"
      }
    },
    {
      "cell_type": "markdown",
      "source": [
        "### V6"
      ],
      "metadata": {
        "id": "4iVrMIPiDQP2"
      }
    },
    {
      "cell_type": "markdown",
      "source": [
        "- Consiga la probabilidad de que una productora haga una película según el género para cada uno de los géneros. Para las productoras con participación total mayor a 100 en géneros, ¿cuáles son las dos productoras con más distancia coseno respecto de sus probabilidades? Realice este plot reemplazando los nombres de las productoras por los que corresponden "
      ],
      "metadata": {
        "id": "ttvkNOKpUqO-"
      }
    },
    {
      "cell_type": "markdown",
      "source": [
        "## Parte II: Visualización de datos"
      ],
      "metadata": {
        "id": "0_dmdqZhVHJf"
      }
    }
  ]
}